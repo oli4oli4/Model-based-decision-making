{
 "cells": [
  {
   "cell_type": "markdown",
   "metadata": {},
   "source": [
    "# Lake model continued\n",
    "\n",
    "In the previous week you used the lake problem as a means of getting aquinted with the workbench. In this assignment we will continue with the lake problem, focussing explicitly on using it for open exploration. You can use the second part of [this tutorial](https://emaworkbench.readthedocs.io/en/latest/indepth_tutorial/open-exploration.html) for help.\n",
    "\n",
    "**It is paramount that you are using the lake problem with 100 decision variables, rather than the one found on the website with the seperate anthropogenic release decision**\n",
    "\n",
    "## Apply scenario discovery\n",
    "\n",
    "1. Generate 10 policies and 1000 scenarios and evaluate them.\n",
    "2. The experiments array contains the values for each of the 100 decision levers. This might easily mess up the analysis. Remove these columns from the experiment array. *hint: use `experiments.drop`*\n",
    "3. Apply scenario discovery, focussing on the 10 percent of worst outcomes for reliability\n"
   ]
  },
  {
   "cell_type": "code",
   "execution_count": 1,
   "metadata": {},
   "outputs": [
    {
     "name": "stderr",
     "output_type": "stream",
     "text": [
      "[MainProcess/INFO] pool started\n",
      "[MainProcess/INFO] performing 1000 scenarios * 10 policies * 1 model(s) = 10000 experiments\n",
      "[MainProcess/INFO] 1000 cases completed\n",
      "[MainProcess/INFO] 2000 cases completed\n",
      "[MainProcess/INFO] 3000 cases completed\n",
      "[MainProcess/INFO] 4000 cases completed\n",
      "[MainProcess/INFO] 5000 cases completed\n",
      "[MainProcess/INFO] 6000 cases completed\n",
      "[MainProcess/INFO] 7000 cases completed\n",
      "[MainProcess/INFO] 8000 cases completed\n",
      "[MainProcess/INFO] 9000 cases completed\n",
      "[MainProcess/INFO] 10000 cases completed\n",
      "[MainProcess/INFO] experiments finished\n",
      "[MainProcess/INFO] terminating pool\n"
     ]
    }
   ],
   "source": [
    "from ema_workbench import (Model, Policy, RealParameter, ScalarOutcome, perform_experiments) # Policy import toegevoegd\n",
    "from lakemodel_function import lake_problem #andere importfuctie toegevoegd\n",
    "\n",
    "model = Model('LakeModel', function=lake_problem)\n",
    "\n",
    "model.uncertainties = [RealParameter(\"mean\", 0.01, 0.05),\n",
    "                       RealParameter(\"stdev\", 0.001, 0.005),\n",
    "                       RealParameter(\"b\", 0.1, 0.45),\n",
    "                       RealParameter(\"q\", 2, 4.5),\n",
    "                       RealParameter(\"delta\", 0.93, 0.99)]\n",
    "\n",
    "model.levers = [RealParameter((str('l')+str(i)), 0, 0.1) for i in range(100)]# Voor iedere tijdstap een andere value --- Met str(l)\n",
    "# Q&A example: model.levers = [RealParameter(f\"l{i}\", 0, 0.1) for i in range(100)]\n",
    "\n",
    "model.outcomes = [ScalarOutcome('max_P'), #alle vier outcomes uit de py file\n",
    "                       ScalarOutcome('utility'),\n",
    "                       ScalarOutcome('inertia'),\n",
    "                       ScalarOutcome('reliability')]\n",
    "\n",
    "from ema_workbench import (MultiprocessingEvaluator, ema_logging)\n",
    "ema_logging.log_to_stderr(ema_logging.INFO)\n",
    " \n",
    "with MultiprocessingEvaluator(model) as evaluator:\n",
    "    results = evaluator.perform_experiments(scenarios=1000, policies=10)\n",
    "experiments, outcomes = results"
   ]
  },
  {
   "cell_type": "code",
   "execution_count": 2,
   "metadata": {},
   "outputs": [],
   "source": [
    "experiments = experiments.drop([experiments.columns[i] for i in range(5, 105)], axis='columns')"
   ]
  },
  {
   "cell_type": "code",
   "execution_count": 3,
   "metadata": {},
   "outputs": [],
   "source": [
    "import pandas as pd\n",
    "import numpy as np\n",
    "outcomes = pd.DataFrame(outcomes)\n",
    "#outcomes = outcomes.sort_values('reliability')\n",
    "outcomes.loc[outcomes['reliability'] <= np.percentile(outcomes['reliability'],10), '<10'] = 1\n",
    "outcomes.loc[outcomes['reliability'] > np.percentile(outcomes['reliability'],10), '<10'] = 0\n",
    "outcome_interest = outcomes['<10']"
   ]
  },
  {
   "cell_type": "code",
   "execution_count": 5,
   "metadata": {},
   "outputs": [
    {
     "name": "stderr",
     "output_type": "stream",
     "text": [
      "[MainProcess/INFO] model dropped from analysis because only a single category\n",
      "[MainProcess/INFO] 10000 points remaining, containing 796 cases of interest\n",
      "[MainProcess/INFO] mean: 0.7966417910447762, mass: 0.0536, coverage: 0.5364321608040201, density: 0.7966417910447762 restricted_dimensions: 3\n"
     ]
    }
   ],
   "source": [
    "from ema_workbench.analysis import prim\n",
    "\n",
    "prim_alg = prim.Prim(experiments, outcome_interest, threshold=0.7, peel_alpha=0.1)\n",
    "box1 = prim_alg.find_box()"
   ]
  },
  {
   "cell_type": "code",
   "execution_count": 6,
   "metadata": {},
   "outputs": [
    {
     "data": {
      "application/vnd.vegalite.v3+json": {
       "$schema": "https://vega.github.io/schema/vega-lite/v3.4.0.json",
       "config": {
        "mark": {
         "tooltip": null
        },
        "view": {
         "height": 300,
         "width": 400
        }
       },
       "datasets": {
        "data-052dce0515998b56553896d4521f564b": [
         {
          "id": 1,
          "maximum": 0.4499688854251209,
          "minimum": 0.10027762463551498,
          "name": "b",
          "qp_lower": -1,
          "qp_upper": 0.001197546889978749,
          "x1": 0.10027762463551498,
          "x2": 0.41491784554273076
         },
         {
          "id": 2,
          "maximum": 0.4499688854251209,
          "minimum": 0.10027762463551498,
          "name": "b",
          "qp_lower": -1,
          "qp_upper": 1.0321258562922897e-09,
          "x1": 0.10027762463551498,
          "x2": 0.38359387391609906
         },
         {
          "id": 3,
          "maximum": 0.4499688854251209,
          "minimum": 0.10027762463551498,
          "name": "b",
          "qp_lower": -1,
          "qp_upper": 3.934228620753426e-19,
          "x1": 0.10027762463551498,
          "x2": 0.3551445829862245
         },
         {
          "id": 4,
          "maximum": 0.4499688854251209,
          "minimum": 0.10027762463551498,
          "name": "b",
          "qp_lower": -1,
          "qp_upper": 1.0982422432612336e-31,
          "x1": 0.10027762463551498,
          "x2": 0.32949039036665706
         },
         {
          "id": 5,
          "maximum": 0.4499688854251209,
          "minimum": 0.10027762463551498,
          "name": "b",
          "qp_lower": -1,
          "qp_upper": 1.1126502527008571e-31,
          "x1": 0.10027762463551498,
          "x2": 0.32949039036665706
         },
         {
          "id": 5,
          "maximum": 4.497956830811494,
          "minimum": 2.001752100069025,
          "name": "q",
          "qp_lower": -1,
          "qp_upper": 0.0008748126397502297,
          "x1": 2.001752100069025,
          "x2": 4.243423286748656
         },
         {
          "id": 6,
          "maximum": 0.4499688854251209,
          "minimum": 0.10027762463551498,
          "name": "b",
          "qp_lower": -1,
          "qp_upper": 1.6595993798063613e-32,
          "x1": 0.10027762463551498,
          "x2": 0.32949039036665706
         },
         {
          "id": 6,
          "maximum": 4.497956830811494,
          "minimum": 2.001752100069025,
          "name": "q",
          "qp_lower": -1,
          "qp_upper": 3.5435250455055e-10,
          "x1": 2.001752100069025,
          "x2": 4.0252998315631885
         },
         {
          "id": 7,
          "maximum": 0.4499688854251209,
          "minimum": 0.10027762463551498,
          "name": "b",
          "qp_lower": -1,
          "qp_upper": 2.1292066177616952e-33,
          "x1": 0.10027762463551498,
          "x2": 0.32949039036665706
         },
         {
          "id": 7,
          "maximum": 4.497956830811494,
          "minimum": 2.001752100069025,
          "name": "q",
          "qp_lower": -1,
          "qp_upper": 2.4016263851356195e-20,
          "x1": 2.001752100069025,
          "x2": 3.8246067623841205
         },
         {
          "id": 8,
          "maximum": 0.4499688854251209,
          "minimum": 0.10027762463551498,
          "name": "b",
          "qp_lower": -1,
          "qp_upper": 1.967329125453687e-34,
          "x1": 0.10027762463551498,
          "x2": 0.32949039036665706
         },
         {
          "id": 8,
          "maximum": 4.497956830811494,
          "minimum": 2.001752100069025,
          "name": "q",
          "qp_lower": -1,
          "qp_upper": 8.335723730017064e-34,
          "x1": 2.001752100069025,
          "x2": 3.6471702118151654
         },
         {
          "id": 9,
          "maximum": 0.4499688854251209,
          "minimum": 0.10027762463551498,
          "name": "b",
          "qp_lower": -1,
          "qp_upper": 8.180799492734338e-35,
          "x1": 0.10027762463551498,
          "x2": 0.32949039036665706
         },
         {
          "id": 9,
          "maximum": 4.497956830811494,
          "minimum": 2.001752100069025,
          "name": "q",
          "qp_lower": -1,
          "qp_upper": 2.377342144928892e-50,
          "x1": 2.001752100069025,
          "x2": 3.4797894321629954
         },
         {
          "id": 10,
          "maximum": 0.4499688854251209,
          "minimum": 0.10027762463551498,
          "name": "b",
          "qp_lower": -1,
          "qp_upper": 1.2730389036214359e-35,
          "x1": 0.10027762463551498,
          "x2": 0.32949039036665706
         },
         {
          "id": 10,
          "maximum": 4.497956830811494,
          "minimum": 2.001752100069025,
          "name": "q",
          "qp_lower": -1,
          "qp_upper": 4.500812221256941e-69,
          "x1": 2.001752100069025,
          "x2": 3.3328009523784408
         },
         {
          "id": 11,
          "maximum": 0.4499688854251209,
          "minimum": 0.10027762463551498,
          "name": "b",
          "qp_lower": -1,
          "qp_upper": 7.675538932012165e-37,
          "x1": 0.10027762463551498,
          "x2": 0.32949039036665706
         },
         {
          "id": 11,
          "maximum": 4.497956830811494,
          "minimum": 2.001752100069025,
          "name": "q",
          "qp_lower": -1,
          "qp_upper": 1.461886073402997e-88,
          "x1": 2.001752100069025,
          "x2": 3.2052375304003324
         },
         {
          "id": 12,
          "maximum": 0.4499688854251209,
          "minimum": 0.10027762463551498,
          "name": "b",
          "qp_lower": -1,
          "qp_upper": 8.278796399953553e-34,
          "x1": 0.10027762463551498,
          "x2": 0.32949039036665706
         },
         {
          "id": 12,
          "maximum": 4.497956830811494,
          "minimum": 2.001752100069025,
          "name": "q",
          "qp_lower": -1,
          "qp_upper": 5.661754018248829e-110,
          "x1": 2.001752100069025,
          "x2": 3.0543355798888085
         },
         {
          "id": 13,
          "maximum": 0.4499688854251209,
          "minimum": 0.10027762463551498,
          "name": "b",
          "qp_lower": -1,
          "qp_upper": 1.3776682792860686e-48,
          "x1": 0.10027762463551498,
          "x2": 0.3066582703461823
         },
         {
          "id": 13,
          "maximum": 4.497956830811494,
          "minimum": 2.001752100069025,
          "name": "q",
          "qp_lower": -1,
          "qp_upper": 1.0729909113863557e-110,
          "x1": 2.001752100069025,
          "x2": 3.0543355798888085
         },
         {
          "id": 14,
          "maximum": 0.4499688854251209,
          "minimum": 0.10027762463551498,
          "name": "b",
          "qp_lower": -1,
          "qp_upper": 1.2319156079873618e-65,
          "x1": 0.10027762463551498,
          "x2": 0.2862927813878713
         },
         {
          "id": 14,
          "maximum": 4.497956830811494,
          "minimum": 2.001752100069025,
          "name": "q",
          "qp_lower": -1,
          "qp_upper": 9.850464215528164e-113,
          "x1": 2.001752100069025,
          "x2": 3.0543355798888085
         },
         {
          "id": 15,
          "maximum": 0.4499688854251209,
          "minimum": 0.10027762463551498,
          "name": "b",
          "qp_lower": -1,
          "qp_upper": 1.3645335784811887e-85,
          "x1": 0.10027762463551498,
          "x2": 0.2673700071488747
         },
         {
          "id": 15,
          "maximum": 4.497956830811494,
          "minimum": 2.001752100069025,
          "name": "q",
          "qp_lower": -1,
          "qp_upper": 1.6265858691996557e-114,
          "x1": 2.001752100069025,
          "x2": 3.0543355798888085
         },
         {
          "id": 16,
          "maximum": 0.4499688854251209,
          "minimum": 0.10027762463551498,
          "name": "b",
          "qp_lower": -1,
          "qp_upper": 1.5173422486784117e-101,
          "x1": 0.10027762463551498,
          "x2": 0.2517724112225166
         },
         {
          "id": 16,
          "maximum": 4.497956830811494,
          "minimum": 2.001752100069025,
          "name": "q",
          "qp_lower": -1,
          "qp_upper": 1.6413958864674637e-116,
          "x1": 2.001752100069025,
          "x2": 3.0543355798888085
         },
         {
          "id": 17,
          "maximum": 0.4499688854251209,
          "minimum": 0.10027762463551498,
          "name": "b",
          "qp_lower": -1,
          "qp_upper": 4.733457168974506e-116,
          "x1": 0.10027762463551498,
          "x2": 0.23536153091345668
         },
         {
          "id": 17,
          "maximum": 4.497956830811494,
          "minimum": 2.001752100069025,
          "name": "q",
          "qp_lower": -1,
          "qp_upper": 4.160258727758881e-114,
          "x1": 2.001752100069025,
          "x2": 3.0543355798888085
         },
         {
          "id": 18,
          "maximum": 0.4499688854251209,
          "minimum": 0.10027762463551498,
          "name": "b",
          "qp_lower": -1,
          "qp_upper": 1.3197556212755606e-114,
          "x1": 0.10027762463551498,
          "x2": 0.23536153091345668
         },
         {
          "id": 18,
          "maximum": 4.497956830811494,
          "minimum": 2.001752100069025,
          "name": "q",
          "qp_lower": -1,
          "qp_upper": 1.7352056706007883e-129,
          "x1": 2.001752100069025,
          "x2": 2.9455978233498348
         },
         {
          "id": 19,
          "maximum": 0.4499688854251209,
          "minimum": 0.10027762463551498,
          "name": "b",
          "qp_lower": -1,
          "qp_upper": 1.626144868518448e-112,
          "x1": 0.10027762463551498,
          "x2": 0.23536153091345668
         },
         {
          "id": 19,
          "maximum": 4.497956830811494,
          "minimum": 2.001752100069025,
          "name": "q",
          "qp_lower": -1,
          "qp_upper": 2.14777540586386e-127,
          "x1": 2.001752100069025,
          "x2": 2.9455978233498348
         },
         {
          "id": 20,
          "maximum": 0.4499688854251209,
          "minimum": 0.10027762463551498,
          "name": "b",
          "qp_lower": -1,
          "qp_upper": 3.955357849852082e-111,
          "x1": 0.10027762463551498,
          "x2": 0.23536153091345668
         },
         {
          "id": 20,
          "maximum": 4.497956830811494,
          "minimum": 2.001752100069025,
          "name": "q",
          "qp_lower": -1,
          "qp_upper": 1.2274281417930423e-137,
          "x1": 2.001752100069025,
          "x2": 2.854811613757694
         },
         {
          "id": 21,
          "maximum": 0.4499688854251209,
          "minimum": 0.10027762463551498,
          "name": "b",
          "qp_lower": -1,
          "qp_upper": 8.62640841849828e-111,
          "x1": 0.10027762463551498,
          "x2": 0.23536153091345668
         },
         {
          "id": 21,
          "maximum": 4.497956830811494,
          "minimum": 2.001752100069025,
          "name": "q",
          "qp_lower": -1,
          "qp_upper": 1.5792461420642917e-154,
          "x1": 2.001752100069025,
          "x2": 2.762054981136342
         },
         {
          "id": 22,
          "maximum": 0.4499688854251209,
          "minimum": 0.10027762463551498,
          "name": "b",
          "qp_lower": -1,
          "qp_upper": 3.471524783669582e-115,
          "x1": 0.10027762463551498,
          "x2": 0.23536153091345668
         },
         {
          "id": 22,
          "maximum": 4.497956830811494,
          "minimum": 2.001752100069025,
          "name": "q",
          "qp_lower": -1,
          "qp_upper": 3.061335229071423e-165,
          "x1": 2.001752100069025,
          "x2": 2.7068711301771042
         },
         {
          "id": 23,
          "maximum": 0.4499688854251209,
          "minimum": 0.10027762463551498,
          "name": "b",
          "qp_lower": -1,
          "qp_upper": 8.315666637224154e-120,
          "x1": 0.10027762463551498,
          "x2": 0.23536153091345668
         },
         {
          "id": 23,
          "maximum": 4.497956830811494,
          "minimum": 2.001752100069025,
          "name": "q",
          "qp_lower": -1,
          "qp_upper": 4.795347470672243e-173,
          "x1": 2.001752100069025,
          "x2": 2.659106194659821
         },
         {
          "id": 24,
          "maximum": 0.4499688854251209,
          "minimum": 0.10027762463551498,
          "name": "b",
          "qp_lower": -1,
          "qp_upper": 2.2232339599275013e-111,
          "x1": 0.10027762463551498,
          "x2": 0.23536153091345668
         },
         {
          "id": 24,
          "maximum": 4.497956830811494,
          "minimum": 2.001752100069025,
          "name": "q",
          "qp_lower": -1,
          "qp_upper": 9.970936250552517e-181,
          "x1": 2.001752100069025,
          "x2": 2.572825155498135
         },
         {
          "id": 25,
          "maximum": 0.4499688854251209,
          "minimum": 0.10027762463551498,
          "name": "b",
          "qp_lower": -1,
          "qp_upper": 4.4862748664957237e-110,
          "x1": 0.10027762463551498,
          "x2": 0.23536153091345668
         },
         {
          "id": 25,
          "maximum": 4.497956830811494,
          "minimum": 2.001752100069025,
          "name": "q",
          "qp_lower": -1,
          "qp_upper": 4.141978243790632e-190,
          "x1": 2.001752100069025,
          "x2": 2.5132854803325144
         },
         {
          "id": 26,
          "maximum": 0.4499688854251209,
          "minimum": 0.10027762463551498,
          "name": "b",
          "qp_lower": -1,
          "qp_upper": 8.650986707901393e-108,
          "x1": 0.10027762463551498,
          "x2": 0.23536153091345668
         },
         {
          "id": 26,
          "maximum": 4.497956830811494,
          "minimum": 2.001752100069025,
          "name": "q",
          "qp_lower": -1,
          "qp_upper": 8.170336403308715e-183,
          "x1": 2.001752100069025,
          "x2": 2.5132854803325144
         },
         {
          "id": 27,
          "maximum": 0.4499688854251209,
          "minimum": 0.10027762463551498,
          "name": "b",
          "qp_lower": -1,
          "qp_upper": 2.2838261669840054e-108,
          "x1": 0.10027762463551498,
          "x2": 0.23536153091345668
         },
         {
          "id": 27,
          "maximum": 4.497956830811494,
          "minimum": 2.001752100069025,
          "name": "q",
          "qp_lower": -1,
          "qp_upper": 1.7625828067999095e-182,
          "x1": 2.001752100069025,
          "x2": 2.47187669211451
         }
        ],
        "data-5148fb4b123a28473f227c71ad6f5f42": [
         {
          "coverage": 1,
          "density": 0.0796,
          "id": 0,
          "mass": 1,
          "mean": 0.0796,
          "res_dim": 0
         },
         {
          "coverage": 1,
          "density": 0.08844444444444445,
          "id": 1,
          "mass": 0.9,
          "mean": 0.08844444444444445,
          "res_dim": 1
         },
         {
          "coverage": 1,
          "density": 0.09827160493827161,
          "id": 2,
          "mass": 0.81,
          "mean": 0.09827160493827161,
          "res_dim": 1
         },
         {
          "coverage": 1,
          "density": 0.10919067215363512,
          "id": 3,
          "mass": 0.729,
          "mean": 0.10919067215363512,
          "res_dim": 1
         },
         {
          "coverage": 1,
          "density": 0.12134146341463414,
          "id": 4,
          "mass": 0.656,
          "mean": 0.12134146341463414,
          "res_dim": 1
         },
         {
          "coverage": 1,
          "density": 0.13491525423728815,
          "id": 5,
          "mass": 0.59,
          "mean": 0.13491525423728815,
          "res_dim": 2
         },
         {
          "coverage": 1,
          "density": 0.14990583804143126,
          "id": 6,
          "mass": 0.531,
          "mean": 0.14990583804143126,
          "res_dim": 2
         },
         {
          "coverage": 1,
          "density": 0.1668763102725367,
          "id": 7,
          "mass": 0.477,
          "mean": 0.1668763102725367,
          "res_dim": 2
         },
         {
          "coverage": 1,
          "density": 0.18554778554778556,
          "id": 8,
          "mass": 0.429,
          "mean": 0.18554778554778556,
          "res_dim": 2
         },
         {
          "coverage": 1,
          "density": 0.20621761658031088,
          "id": 9,
          "mass": 0.386,
          "mean": 0.20621761658031088,
          "res_dim": 2
         },
         {
          "coverage": 0.9962311557788944,
          "density": 0.22853025936599425,
          "id": 10,
          "mass": 0.347,
          "mean": 0.22853025936599425,
          "res_dim": 2
         },
         {
          "coverage": 0.9874371859296482,
          "density": 0.2519230769230769,
          "id": 11,
          "mass": 0.312,
          "mean": 0.2519230769230769,
          "res_dim": 2
         },
         {
          "coverage": 0.9773869346733668,
          "density": 0.27785714285714286,
          "id": 12,
          "mass": 0.28,
          "mean": 0.27785714285714286,
          "res_dim": 2
         },
         {
          "coverage": 0.9660804020100503,
          "density": 0.3051587301587302,
          "id": 13,
          "mass": 0.252,
          "mean": 0.3051587301587302,
          "res_dim": 2
         },
         {
          "coverage": 0.9522613065326633,
          "density": 0.33539823008849556,
          "id": 14,
          "mass": 0.226,
          "mean": 0.33539823008849556,
          "res_dim": 2
         },
         {
          "coverage": 0.9422110552763819,
          "density": 0.3694581280788177,
          "id": 15,
          "mass": 0.203,
          "mean": 0.3694581280788177,
          "res_dim": 2
         },
         {
          "coverage": 0.914572864321608,
          "density": 0.4,
          "id": 16,
          "mass": 0.182,
          "mean": 0.4,
          "res_dim": 2
         },
         {
          "coverage": 0.8819095477386935,
          "density": 0.4306748466257669,
          "id": 17,
          "mass": 0.163,
          "mean": 0.4306748466257669,
          "res_dim": 2
         },
         {
          "coverage": 0.8517587939698492,
          "density": 0.4643835616438356,
          "id": 18,
          "mass": 0.146,
          "mean": 0.4643835616438356,
          "res_dim": 2
         },
         {
          "coverage": 0.8190954773869347,
          "density": 0.4961948249619482,
          "id": 19,
          "mass": 0.1314,
          "mean": 0.4961948249619482,
          "res_dim": 3
         },
         {
          "coverage": 0.7814070351758794,
          "density": 0.527565733672604,
          "id": 20,
          "mass": 0.1179,
          "mean": 0.527565733672604,
          "res_dim": 3
         },
         {
          "coverage": 0.7550251256281407,
          "density": 0.5707502374169041,
          "id": 21,
          "mass": 0.1053,
          "mean": 0.5707502374169041,
          "res_dim": 3
         },
         {
          "coverage": 0.7211055276381909,
          "density": 0.6074074074074074,
          "id": 22,
          "mass": 0.0945,
          "mean": 0.6074074074074074,
          "res_dim": 3
         },
         {
          "coverage": 0.6834170854271356,
          "density": 0.6430260047281324,
          "id": 23,
          "mass": 0.0846,
          "mean": 0.6430260047281324,
          "res_dim": 3
         },
         {
          "coverage": 0.6469849246231156,
          "density": 0.6812169312169312,
          "id": 24,
          "mass": 0.0756,
          "mean": 0.6812169312169312,
          "res_dim": 3
         },
         {
          "coverage": 0.6155778894472361,
          "density": 0.725925925925926,
          "id": 25,
          "mass": 0.0675,
          "mean": 0.725925925925926,
          "res_dim": 3
         },
         {
          "coverage": 0.5778894472361809,
          "density": 0.7666666666666667,
          "id": 26,
          "mass": 0.06,
          "mean": 0.7666666666666667,
          "res_dim": 3
         },
         {
          "coverage": 0.5364321608040201,
          "density": 0.7966417910447762,
          "id": 27,
          "mass": 0.0536,
          "mean": 0.7966417910447762,
          "res_dim": 3
         }
        ],
        "data-95a37c3e21ee2fc2bb7f047a57569a70": [
         {
          "id": 19,
          "item": 0,
          "n_items": 10,
          "name": "policy,  0.011",
          "x": 0
         },
         {
          "id": 19,
          "item": 1,
          "n_items": 10,
          "name": "policy,  0.011",
          "x": 0.1111111111111111
         },
         {
          "id": 19,
          "item": 2,
          "n_items": 10,
          "name": "policy,  0.011",
          "x": 0.2222222222222222
         },
         {
          "id": 19,
          "item": 3,
          "n_items": 10,
          "name": "policy,  0.011",
          "x": 0.3333333333333333
         },
         {
          "id": 19,
          "item": 5,
          "n_items": 10,
          "name": "policy,  0.011",
          "x": 0.4444444444444444
         },
         {
          "id": 19,
          "item": 6,
          "n_items": 10,
          "name": "policy,  0.011",
          "x": 0.5555555555555556
         },
         {
          "id": 19,
          "item": 7,
          "n_items": 10,
          "name": "policy,  0.011",
          "x": 0.6666666666666666
         },
         {
          "id": 19,
          "item": 8,
          "n_items": 10,
          "name": "policy,  0.011",
          "x": 0.7777777777777778
         },
         {
          "id": 19,
          "item": 9,
          "n_items": 10,
          "name": "policy,  0.011",
          "x": 0.8888888888888888
         },
         {
          "id": 20,
          "item": 0,
          "n_items": 10,
          "name": "policy,  0.013",
          "x": 0
         },
         {
          "id": 20,
          "item": 1,
          "n_items": 10,
          "name": "policy,  0.013",
          "x": 0.1111111111111111
         },
         {
          "id": 20,
          "item": 2,
          "n_items": 10,
          "name": "policy,  0.013",
          "x": 0.2222222222222222
         },
         {
          "id": 20,
          "item": 3,
          "n_items": 10,
          "name": "policy,  0.013",
          "x": 0.3333333333333333
         },
         {
          "id": 20,
          "item": 5,
          "n_items": 10,
          "name": "policy,  0.013",
          "x": 0.4444444444444444
         },
         {
          "id": 20,
          "item": 6,
          "n_items": 10,
          "name": "policy,  0.013",
          "x": 0.5555555555555556
         },
         {
          "id": 20,
          "item": 7,
          "n_items": 10,
          "name": "policy,  0.013",
          "x": 0.6666666666666666
         },
         {
          "id": 20,
          "item": 8,
          "n_items": 10,
          "name": "policy,  0.013",
          "x": 0.7777777777777778
         },
         {
          "id": 20,
          "item": 9,
          "n_items": 10,
          "name": "policy,  0.013",
          "x": 0.8888888888888888
         },
         {
          "id": 21,
          "item": 0,
          "n_items": 10,
          "name": "policy,  0.013",
          "x": 0
         },
         {
          "id": 21,
          "item": 1,
          "n_items": 10,
          "name": "policy,  0.013",
          "x": 0.1111111111111111
         },
         {
          "id": 21,
          "item": 2,
          "n_items": 10,
          "name": "policy,  0.013",
          "x": 0.2222222222222222
         },
         {
          "id": 21,
          "item": 3,
          "n_items": 10,
          "name": "policy,  0.013",
          "x": 0.3333333333333333
         },
         {
          "id": 21,
          "item": 5,
          "n_items": 10,
          "name": "policy,  0.013",
          "x": 0.4444444444444444
         },
         {
          "id": 21,
          "item": 6,
          "n_items": 10,
          "name": "policy,  0.013",
          "x": 0.5555555555555556
         },
         {
          "id": 21,
          "item": 7,
          "n_items": 10,
          "name": "policy,  0.013",
          "x": 0.6666666666666666
         },
         {
          "id": 21,
          "item": 8,
          "n_items": 10,
          "name": "policy,  0.013",
          "x": 0.7777777777777778
         },
         {
          "id": 21,
          "item": 9,
          "n_items": 10,
          "name": "policy,  0.013",
          "x": 0.8888888888888888
         },
         {
          "id": 22,
          "item": 0,
          "n_items": 10,
          "name": "policy,  0.014",
          "x": 0
         },
         {
          "id": 22,
          "item": 1,
          "n_items": 10,
          "name": "policy,  0.014",
          "x": 0.1111111111111111
         },
         {
          "id": 22,
          "item": 2,
          "n_items": 10,
          "name": "policy,  0.014",
          "x": 0.2222222222222222
         },
         {
          "id": 22,
          "item": 3,
          "n_items": 10,
          "name": "policy,  0.014",
          "x": 0.3333333333333333
         },
         {
          "id": 22,
          "item": 5,
          "n_items": 10,
          "name": "policy,  0.014",
          "x": 0.4444444444444444
         },
         {
          "id": 22,
          "item": 6,
          "n_items": 10,
          "name": "policy,  0.014",
          "x": 0.5555555555555556
         },
         {
          "id": 22,
          "item": 7,
          "n_items": 10,
          "name": "policy,  0.014",
          "x": 0.6666666666666666
         },
         {
          "id": 22,
          "item": 8,
          "n_items": 10,
          "name": "policy,  0.014",
          "x": 0.7777777777777778
         },
         {
          "id": 22,
          "item": 9,
          "n_items": 10,
          "name": "policy,  0.014",
          "x": 0.8888888888888888
         },
         {
          "id": 23,
          "item": 0,
          "n_items": 10,
          "name": "policy,  0.016",
          "x": 0
         },
         {
          "id": 23,
          "item": 1,
          "n_items": 10,
          "name": "policy,  0.016",
          "x": 0.1111111111111111
         },
         {
          "id": 23,
          "item": 2,
          "n_items": 10,
          "name": "policy,  0.016",
          "x": 0.2222222222222222
         },
         {
          "id": 23,
          "item": 3,
          "n_items": 10,
          "name": "policy,  0.016",
          "x": 0.3333333333333333
         },
         {
          "id": 23,
          "item": 5,
          "n_items": 10,
          "name": "policy,  0.016",
          "x": 0.4444444444444444
         },
         {
          "id": 23,
          "item": 6,
          "n_items": 10,
          "name": "policy,  0.016",
          "x": 0.5555555555555556
         },
         {
          "id": 23,
          "item": 7,
          "n_items": 10,
          "name": "policy,  0.016",
          "x": 0.6666666666666666
         },
         {
          "id": 23,
          "item": 8,
          "n_items": 10,
          "name": "policy,  0.016",
          "x": 0.7777777777777778
         },
         {
          "id": 23,
          "item": 9,
          "n_items": 10,
          "name": "policy,  0.016",
          "x": 0.8888888888888888
         },
         {
          "id": 24,
          "item": 0,
          "n_items": 10,
          "name": "policy,  0.017",
          "x": 0
         },
         {
          "id": 24,
          "item": 1,
          "n_items": 10,
          "name": "policy,  0.017",
          "x": 0.1111111111111111
         },
         {
          "id": 24,
          "item": 2,
          "n_items": 10,
          "name": "policy,  0.017",
          "x": 0.2222222222222222
         },
         {
          "id": 24,
          "item": 3,
          "n_items": 10,
          "name": "policy,  0.017",
          "x": 0.3333333333333333
         },
         {
          "id": 24,
          "item": 5,
          "n_items": 10,
          "name": "policy,  0.017",
          "x": 0.4444444444444444
         },
         {
          "id": 24,
          "item": 6,
          "n_items": 10,
          "name": "policy,  0.017",
          "x": 0.5555555555555556
         },
         {
          "id": 24,
          "item": 7,
          "n_items": 10,
          "name": "policy,  0.017",
          "x": 0.6666666666666666
         },
         {
          "id": 24,
          "item": 8,
          "n_items": 10,
          "name": "policy,  0.017",
          "x": 0.7777777777777778
         },
         {
          "id": 24,
          "item": 9,
          "n_items": 10,
          "name": "policy,  0.017",
          "x": 0.8888888888888888
         },
         {
          "id": 25,
          "item": 0,
          "n_items": 10,
          "name": "policy,  0.022",
          "x": 0
         },
         {
          "id": 25,
          "item": 1,
          "n_items": 10,
          "name": "policy,  0.022",
          "x": 0.1111111111111111
         },
         {
          "id": 25,
          "item": 2,
          "n_items": 10,
          "name": "policy,  0.022",
          "x": 0.2222222222222222
         },
         {
          "id": 25,
          "item": 3,
          "n_items": 10,
          "name": "policy,  0.022",
          "x": 0.3333333333333333
         },
         {
          "id": 25,
          "item": 5,
          "n_items": 10,
          "name": "policy,  0.022",
          "x": 0.4444444444444444
         },
         {
          "id": 25,
          "item": 6,
          "n_items": 10,
          "name": "policy,  0.022",
          "x": 0.5555555555555556
         },
         {
          "id": 25,
          "item": 7,
          "n_items": 10,
          "name": "policy,  0.022",
          "x": 0.6666666666666666
         },
         {
          "id": 25,
          "item": 8,
          "n_items": 10,
          "name": "policy,  0.022",
          "x": 0.7777777777777778
         },
         {
          "id": 25,
          "item": 9,
          "n_items": 10,
          "name": "policy,  0.022",
          "x": 0.8888888888888888
         },
         {
          "id": 26,
          "item": 0,
          "n_items": 9,
          "name": "policy,  1.8e-05",
          "x": 0
         },
         {
          "id": 26,
          "item": 1,
          "n_items": 9,
          "name": "policy,  1.8e-05",
          "x": 0.125
         },
         {
          "id": 26,
          "item": 2,
          "n_items": 9,
          "name": "policy,  1.8e-05",
          "x": 0.25
         },
         {
          "id": 26,
          "item": 3,
          "n_items": 9,
          "name": "policy,  1.8e-05",
          "x": 0.375
         },
         {
          "id": 26,
          "item": 5,
          "n_items": 9,
          "name": "policy,  1.8e-05",
          "x": 0.5
         },
         {
          "id": 26,
          "item": 6,
          "n_items": 9,
          "name": "policy,  1.8e-05",
          "x": 0.625
         },
         {
          "id": 26,
          "item": 8,
          "n_items": 9,
          "name": "policy,  1.8e-05",
          "x": 0.75
         },
         {
          "id": 26,
          "item": 9,
          "n_items": 9,
          "name": "policy,  1.8e-05",
          "x": 0.875
         },
         {
          "id": 27,
          "item": 0,
          "n_items": 9,
          "name": "policy,  9.5e-06",
          "x": 0
         },
         {
          "id": 27,
          "item": 1,
          "n_items": 9,
          "name": "policy,  9.5e-06",
          "x": 0.125
         },
         {
          "id": 27,
          "item": 2,
          "n_items": 9,
          "name": "policy,  9.5e-06",
          "x": 0.25
         },
         {
          "id": 27,
          "item": 3,
          "n_items": 9,
          "name": "policy,  9.5e-06",
          "x": 0.375
         },
         {
          "id": 27,
          "item": 5,
          "n_items": 9,
          "name": "policy,  9.5e-06",
          "x": 0.5
         },
         {
          "id": 27,
          "item": 6,
          "n_items": 9,
          "name": "policy,  9.5e-06",
          "x": 0.625
         },
         {
          "id": 27,
          "item": 8,
          "n_items": 9,
          "name": "policy,  9.5e-06",
          "x": 0.75
         },
         {
          "id": 27,
          "item": 9,
          "n_items": 9,
          "name": "policy,  9.5e-06",
          "x": 0.875
         }
        ],
        "data-bb8d07f6df3d47a6a475317795287b23": [
         {
          "end": 1,
          "start": 0
         }
        ]
       },
       "vconcat": [
        {
         "data": {
          "name": "data-5148fb4b123a28473f227c71ad6f5f42"
         },
         "encoding": {
          "color": {
           "field": "res_dim",
           "scale": {
            "range": [
             "#eff9b6",
             "#d0edb3",
             "#97d6b9",
             "#5dc0c0",
             "#31a5c2",
             "#1f80b8",
             "#2354a3",
             "#21318d"
            ]
           },
           "type": "ordinal"
          },
          "opacity": {
           "condition": {
            "selection": "selector001",
            "value": 1
           },
           "value": 0.4
          },
          "tooltip": [
           {
            "field": "id",
            "type": "ordinal"
           },
           {
            "field": "coverage",
            "format": ".2",
            "type": "quantitative"
           },
           {
            "field": "density",
            "format": ".2",
            "type": "quantitative"
           },
           {
            "field": "res_dim",
            "type": "ordinal"
           }
          ],
          "x": {
           "field": "coverage",
           "type": "quantitative"
          },
          "y": {
           "field": "density",
           "type": "quantitative"
          }
         },
         "height": 400,
         "mark": {
          "size": 75,
          "type": "circle"
         },
         "selection": {
          "selector001": {
           "fields": [
            "id"
           ],
           "type": "single"
          }
         },
         "width": 400
        },
        {
         "layer": [
          {
           "data": {
            "name": "data-052dce0515998b56553896d4521f564b"
           },
           "encoding": {
            "x": {
             "axis": {
              "grid": false,
              "labels": false,
              "title": "box limits"
             },
             "field": "x_lower",
             "scale": {
              "domain": [
               0,
               1
              ],
              "padding": 0.1
             },
             "type": "quantitative"
            },
            "x2": {
             "field": "x_upper"
            },
            "y": {
             "field": "name",
             "scale": {
              "padding": 1
             },
             "type": "nominal"
            }
           },
           "mark": "rule",
           "transform": [
            {
             "as": "x_lower",
             "calculate": "(datum.x1-datum.minimum)/(datum.maximum-datum.minimum)"
            },
            {
             "as": "x_upper",
             "calculate": "(datum.x2-datum.minimum)/(datum.maximum-datum.minimum)"
            },
            {
             "filter": {
              "selection": "selector001"
             }
            }
           ],
           "width": 400
          },
          {
           "data": {
            "name": "data-052dce0515998b56553896d4521f564b"
           },
           "encoding": {
            "text": {
             "field": "text",
             "type": "ordinal"
            },
            "x": {
             "axis": {
              "grid": false,
              "labels": false,
              "title": "box limits"
             },
             "field": "x_lower",
             "scale": {
              "domain": [
               0,
               1
              ],
              "padding": 0.1
             },
             "type": "quantitative"
            },
            "x2": {
             "field": "x_upper"
            },
            "y": {
             "field": "name",
             "scale": {
              "padding": 1
             },
             "type": "nominal"
            }
           },
           "mark": {
            "align": "left",
            "baseline": "top",
            "dy": 5,
            "type": "text"
           },
           "transform": [
            {
             "as": "x_lower",
             "calculate": "(datum.x1-datum.minimum)/(datum.maximum-datum.minimum)"
            },
            {
             "as": "x_upper",
             "calculate": "(datum.x2-datum.minimum)/(datum.maximum-datum.minimum)"
            },
            {
             "filter": {
              "selection": "selector001"
             }
            },
            {
             "as": "text",
             "calculate": "datum.qp_lower>0?format(datum.x1, \".2\")+\" (\"+format(datum.qp_lower, \".1~g\")+\")\" :format(datum.x1, \".2\")"
            }
           ],
           "width": 400
          },
          {
           "data": {
            "name": "data-052dce0515998b56553896d4521f564b"
           },
           "encoding": {
            "text": {
             "field": "text",
             "type": "ordinal"
            },
            "x": {
             "field": "x_upper",
             "type": "quantitative"
            },
            "x2": {
             "field": "x_upper"
            },
            "y": {
             "field": "name",
             "scale": {
              "padding": 1
             },
             "type": "nominal"
            }
           },
           "mark": {
            "align": "right",
            "baseline": "top",
            "dy": 5,
            "type": "text"
           },
           "transform": [
            {
             "as": "x_lower",
             "calculate": "(datum.x1-datum.minimum)/(datum.maximum-datum.minimum)"
            },
            {
             "as": "x_upper",
             "calculate": "(datum.x2-datum.minimum)/(datum.maximum-datum.minimum)"
            },
            {
             "filter": {
              "selection": "selector001"
             }
            },
            {
             "as": "text",
             "calculate": "datum.qp_upper>0?format(datum.x2, \".2\")+\" (\"+format(datum.qp_upper, \".1\")+\")\" :format(datum.x2, \".2\")"
            }
           ],
           "width": 400
          },
          {
           "data": {
            "name": "data-bb8d07f6df3d47a6a475317795287b23"
           },
           "encoding": {
            "x": {
             "field": "start",
             "type": "quantitative"
            },
            "x2": {
             "field": "end"
            }
           },
           "mark": {
            "opacity": 0.05,
            "type": "rect"
           }
          },
          {
           "data": {
            "name": "data-95a37c3e21ee2fc2bb7f047a57569a70"
           },
           "encoding": {
            "x": {
             "field": "x",
             "type": "quantitative"
            },
            "y": {
             "field": "name",
             "type": "nominal"
            }
           },
           "mark": "point",
           "transform": [
            {
             "filter": {
              "selection": "selector001"
             }
            }
           ],
           "width": 400
          },
          {
           "data": {
            "name": "data-95a37c3e21ee2fc2bb7f047a57569a70"
           },
           "encoding": {
            "text": {
             "field": "item",
             "type": "nominal"
            },
            "x": {
             "field": "x",
             "type": "quantitative"
            },
            "y": {
             "field": "name",
             "type": "nominal"
            }
           },
           "mark": {
            "align": "center",
            "baseline": "top",
            "dy": 5,
            "type": "text"
           },
           "transform": [
            {
             "filter": {
              "selection": "selector001"
             }
            }
           ],
           "width": 400
          }
         ]
        }
       ]
      },
      "image/png": "[encoded data removed]",
      "text/plain": [
       "<VegaLite 3 object>\n",
       "\n",
       "If you see this message, it means the renderer has not been properly enabled\n",
       "for the frontend that you are using. For more information, see\n",
       "https://altair-viz.github.io/user_guide/troubleshooting.html\n"
      ]
     },
     "execution_count": 6,
     "metadata": {},
     "output_type": "execute_result"
    }
   ],
   "source": [
    "box1.inspect_tradeoff()"
   ]
  },
  {
   "cell_type": "code",
   "execution_count": 7,
   "metadata": {},
   "outputs": [
    {
     "name": "stdout",
     "output_type": "stream",
     "text": [
      "coverage    0.536432\n",
      "density     0.796642\n",
      "id                27\n",
      "mass          0.0536\n",
      "mean        0.796642\n",
      "res_dim            3\n",
      "Name: 27, dtype: object\n",
      "\n",
      "                          box 27                            \\\n",
      "                             min                       max   \n",
      "q                        2.00175                   2.47188   \n",
      "b                       0.100278                  0.235362   \n",
      "policy  {0, 1, 2, 3, 5, 6, 8, 9}  {0, 1, 2, 3, 5, 6, 8, 9}   \n",
      "\n",
      "                                         \n",
      "                              qp values  \n",
      "q       [-1.0, 1.7625828067999095e-182]  \n",
      "b       [-1.0, 2.2838261669840054e-108]  \n",
      "policy    [9.537411598743467e-06, -1.0]  \n",
      "\n"
     ]
    },
    {
     "data": {
      "image/png": "[encoded data removed]",
      "text/plain": [
       "<Figure size 432x288 with 1 Axes>"
      ]
     },
     "metadata": {
      "needs_background": "light"
     },
     "output_type": "display_data"
    }
   ],
   "source": [
    "import matplotlib.pyplot as plt\n",
    "\n",
    "box1.inspect(27)\n",
    "box1.inspect(27, style='graph')\n",
    "plt.show()"
   ]
  },
  {
   "cell_type": "code",
   "execution_count": 8,
   "metadata": {},
   "outputs": [
    {
     "name": "stdout",
     "output_type": "stream",
     "text": [
      "policy [0, 1, 2, 3, 5, 6, 8, 9, 4, 7]\n"
     ]
    },
    {
     "data": {
      "image/png": "[encoded data removed]",
      "text/plain": [
       "<Figure size 591.875x540 with 12 Axes>"
      ]
     },
     "metadata": {
      "needs_background": "light"
     },
     "output_type": "display_data"
    }
   ],
   "source": [
    "box1.select(27)\n",
    "fig = box1.show_pairs_scatter()\n",
    "plt.show()"
   ]
  },
  {
   "cell_type": "code",
   "execution_count": 9,
   "metadata": {},
   "outputs": [
    {
     "name": "stderr",
     "output_type": "stream",
     "text": [
      "[MainProcess/INFO] 9464 points remaining, containing 369 cases of interest\n",
      "[MainProcess/INFO] box does not meet threshold criteria, value is 0.3719412724306688, returning dump box\n"
     ]
    }
   ],
   "source": [
    "box2 = prim_alg.find_box()"
   ]
  },
  {
   "cell_type": "markdown",
   "metadata": {},
   "source": [
    "## Visualize the results using Dimensional Stacking\n",
    "Take the classification of outcomes as used in step 3 of scenario discovery, and instead visualize the results using dimensional stacking. How do these results compare to the insights from scenario discovery?"
   ]
  },
  {
   "cell_type": "code",
   "execution_count": null,
   "metadata": {},
   "outputs": [],
   "source": []
  }
 ],
 "metadata": {
  "kernelspec": {
   "display_name": "Python 3",
   "language": "python",
   "name": "python3"
  },
  "language_info": {
   "codemirror_mode": {
    "name": "ipython",
    "version": 3
   },
   "file_extension": ".py",
   "mimetype": "text/x-python",
   "name": "python",
   "nbconvert_exporter": "python",
   "pygments_lexer": "ipython3",
   "version": "3.7.6"
  }
 },
 "nbformat": 4,
 "nbformat_minor": 4
}
