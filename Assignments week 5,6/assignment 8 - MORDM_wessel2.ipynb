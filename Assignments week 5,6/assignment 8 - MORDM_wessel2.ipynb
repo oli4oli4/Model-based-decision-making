{
 "cells": [
  {
   "cell_type": "markdown",
   "metadata": {},
   "source": [
    "# Multi-objective robust decision making (MORDM)\n",
    "\n",
    "\n",
    "This exercise demostrates the application of MORDM on the lake model, which was used in earlier exercises.\n",
    "\n",
    "MORDM has four main steps:\n",
    "\n",
    "(i)\t    **problem formulation** based on a systems analytical problem definition framework \n",
    "\n",
    "(ii)\t**searching** for candidate solutions that optimize multiple objectives by using multi-objective evolutionary algorithms \n",
    "\n",
    "(iii)\tgenerating an ensemble of scenarios to **explore** the effects of uncertainties \n",
    "\n",
    "(iv)\tusing **scenario discovery** to detect the vulnerabilities of candidate solutions and improving thecandidate solutions\n",
    "\n",
    "\n",
    "\n",
    "## Step 1: Problem formulation\n",
    "### Lake Model\n",
    "\n",
    "Remember the lake problem used in the assignments in previous weeks. The lake problem is a hypothetical case where the inhabitants of a lake town decide on the amount of annual pollution they release into a lake. It the pollution in the lake passes a threshold, it will suffer irreversible eutrophication.\n",
    "\n",
    "The lake problem has 4 **outcome indicators**: \n",
    "   - **max_P**: maximum pollution over time, to be minimized\n",
    "   - **utility**: economic benefits obtained from polluting the lake, to be maximized\n",
    "   - **inertia**: the percentage of significant annual changes in the anthropogenic pollution rate, to be maximized\n",
    "   - **reliability**: the percentage of years where the pollution level is below the critical threshold, to be maximized\n",
    "    \n",
    "See the lake model exercise for the formulation of these outcome variables.\n",
    "\n",
    "The lake problem is characterized by both stochastic uncertainty and **deep uncertainty**. The stochastic uncertainty arises from the natural inflow. To reduce this stochastic uncertainty, multiple replications are performed and the average over the replication is taken. Deep uncertainty is presented by uncertainty about the mean $\\mu$ and standard deviation $sigma$ of the lognormal distribution characterizing the natural inflow, the natural removal rate of the lake $\\beta$, the natural recycling rate of the lake $q$, and the discount rate $\\delta$. The table below specifies the ranges for the deeply uncertain factors, as well as their best estimate or default values. \n",
    "\n",
    "|Parameter\t|Range\t        |Default value|\n",
    "|-----------|--------------:|------------:|\n",
    "|$\\mu$    \t|0.01 – 0.05\t|0.02         |\n",
    "|$\\sigma$\t|0.001 – 0.005 \t|0.0017       |\n",
    "|$b$      \t|0.1 – 0.45\t    |0.42         |\n",
    "|$q$\t    |2 – 4.5\t    |2            |\n",
    "|$\\delta$\t|0.93 – 0.99\t|0.98         |\n",
    "\n",
    "\n",
    "The lake problem in previous assignments had 100 decision **levers**, meaning that the decision makers independently decide on the amount of anthropogenic pollution at every time step (100). Then a 'policy' was a set of values for these 100 levers, which you composed by sampling from the range [0, 0.1].   \n",
    "\n",
    "In this exercise, we will use a more advanced way of deciding on the amout of anhtropogenic polution. We will use a **closed loop** version of the lake model, meaning that $a_t$ (anthropogenic pollution) is dependent on $X_t$ (the pollution level at time t). For instance, the rate of anthropogenic pollutions is lowered if the pollution level is approaching a critical threshold. Here, we use \"cubic radial basis functions\" following [Quinn et al. 2017](http://www.sciencedirect.com/science/article/pii/S1364815216302250) and formulate $a_t$ as follows:\n",
    "\n",
    "\\begin{equation}\n",
    "    a_{t} =  min\\Bigg(max\\bigg(\\sum\\limits_{j=1}^{n} w_{j}\\left\\vert{\\frac{X_{t,i}-c_{j}}{r_{j}}}\\right\\vert^3, 0.01\\bigg), 0.1\\Bigg) \\\\\n",
    "    s.t. \\\\\n",
    "    -2 \\leq c_{j} \\leq 2 \\\\\n",
    "    0 \\leq r_{j} \\leq 2 \\\\ \n",
    "    0 \\leq w_{j} \\leq 1 \\\\\n",
    "    \\sum\\limits_{j=1}^{n} w_{j} = 1\n",
    "\\end{equation}\n",
    "\n",
    "\n",
    "The parameters that define this function also define the pollution strategy over time. Hence, the decision **levers** are the five parameters of this functions, namely $c_1$, $c_2$, $r_1$, $r_2$ and $w_1$. ($w_2$ = 1 - $w_1$).\n",
    "\n",
    "Note:: i is index for the realization, given m realizations; j is the index for the radial basis function, given 2 radial basis functions. \n",
    "\n",
    "**To formulate this problem, do the following:**\n",
    "\n",
    "**1) Import the lake model function from dps_lake_model.py**\n",
    "\n",
    "**2) Create an ema_workbench interface for this problem, with corresponding uncertainties, levers and outcomes as specified above**\n",
    "\n"
   ]
  },
  {
   "cell_type": "code",
   "execution_count": 46,
   "metadata": {},
   "outputs": [],
   "source": [
    "import numpy as np\n",
    "import pandas as pd\n",
    "import matplotlib.pyplot as plt\n",
    "from ema_workbench import (Model, RealParameter, ScalarOutcome, perform_experiments, Policy,\n",
    "                           ema_logging, SequentialEvaluator, MultiprocessingEvaluator)\n",
    "import dps_lake_model\n",
    "from ema_workbench.analysis import plotting, plotting_util\n",
    "\n",
    "if __name__ == \"__main__\":\n",
    "    \n",
    "    ema_logging.log_to_stderr(level=ema_logging.INFO)\n",
    "    model = Model('LakeModel', function=dps_lake_model.lake_model)\n",
    "    model.uncertainties = [RealParameter('mean', 0.01, 0.05),\n",
    "                           RealParameter('stdev', 0.001, 0.005),\n",
    "                           RealParameter('b', 0.01, 0.45),\n",
    "                           RealParameter('q', 2, 4.5),\n",
    "                           RealParameter('delta', 0.93, 0.99)\n",
    "                          ]\n",
    "    model.levers = [RealParameter(\"c1\", -2, 2),\n",
    "                    RealParameter(\"c2\", -2, 2),\n",
    "                    RealParameter(\"r1\", 0, 2),\n",
    "                    RealParameter(\"r2\", 0, 2),\n",
    "                    RealParameter(\"w1\", 0, 1)\n",
    "                   ]\n",
    "    model.outcomes = [ScalarOutcome('max_P', ScalarOutcome.MINIMIZE),\n",
    "                      ScalarOutcome('utility', ScalarOutcome.MAXIMIZE),\n",
    "                      ScalarOutcome('inertia', ScalarOutcome.MAXIMIZE),\n",
    "                      ScalarOutcome('reliability', ScalarOutcome.MAXIMIZE)\n",
    "                     ]\n",
    "    \n"
   ]
  },
  {
   "cell_type": "markdown",
   "metadata": {},
   "source": [
    "## Step 2: Searching for candidate solutions\n",
    "\n",
    "In the second step of MORDM, candidate strategies are identified which are pareto optimal conditional on a reference scenario. These candiate strategies are identified through search with multi-objective evolutionary algorithms, that iteratively evaluate a large number of alternatives on multiple objectives until they find the best candidates. For instance, when we optimize the lake model levers, the lake model function will be called for each candidate evaluation, and the corresponding four objective values will be generated. \n",
    "\n",
    "Take the model interface developed in the previous step and use the optimization functionality of the workbench to identify the pareto approximate set of solutions. Try the following:\n",
    "* change the epsilon values between 0.01 and 0.1, what changes, why?\n",
    "* change the number of function evaluations from 1000 to 10.000 (this requires using multiprocessing unless you are very patient). What is the difference? You can use  convergence as explained in assignment 7 for this"
   ]
  },
  {
   "cell_type": "code",
   "execution_count": 3,
   "metadata": {},
   "outputs": [
    {
     "name": "stderr",
     "output_type": "stream",
     "text": [
      "[MainProcess/INFO] pool started\n",
      "[MainProcess/INFO] generation 0: 0/1000 nfe\n",
      "[MainProcess/INFO] generation 5: 492/1000 nfe\n",
      "[MainProcess/INFO] generation 10: 986/1000 nfe\n",
      "[MainProcess/INFO] optimization completed, found 12 solutions\n",
      "[MainProcess/INFO] terminating pool\n"
     ]
    }
   ],
   "source": [
    "with MultiprocessingEvaluator(model) as evaluator:\n",
    "    results_1 = evaluator.optimize(nfe=1000, searchover='levers',\n",
    "                                 epsilons=[0.05,0.05, 0.05, 0.05])\n",
    "\n",
    "    \n",
    "# print(np.mean(results_1))"
   ]
  },
  {
   "cell_type": "markdown",
   "metadata": {},
   "source": [
    "With higher epsilons, less solutions are found, because the grid is coarser, so more outcomes get 'added together' in a solution."
   ]
  },
  {
   "cell_type": "code",
   "execution_count": 3,
   "metadata": {},
   "outputs": [
    {
     "data": {
      "text/plain": [
       "4"
      ]
     },
     "execution_count": 3,
     "metadata": {},
     "output_type": "execute_result"
    }
   ],
   "source": [
    "# Waarom deed Wessel die epsioloncomponenten *len(model.outcomes)]"
   ]
  },
  {
   "cell_type": "markdown",
   "metadata": {},
   "source": [
    "**plot the tradeoffs you have found using a parallel axis plot**\n",
    "\n",
    "We can visualize these tradeoffs on **parallel axis plots**. In these plots, each dimension is shown as a vertical axis. Each solution is represented by a line on this plot, which crosses the objective axes at the corresponsing value. You can use the [parcoords functionality](https://emaworkbench.readthedocs.io/en/latest/ema_documentation/analysis/parcoords.html) for this that comes with the ema_workbench. Ensure that the direction of desirability is the same for the four objectives.|\n",
    "\n"
   ]
  },
  {
   "cell_type": "code",
   "execution_count": 4,
   "metadata": {},
   "outputs": [
    {
     "data": {
      "image/png": "[encoded data removed]",
      "text/plain": [
       "<Figure size 432x288 with 3 Axes>"
      ]
     },
     "metadata": {},
     "output_type": "display_data"
    }
   ],
   "source": [
    "from ema_workbench.analysis import parcoords\n",
    "\n",
    "outcomes = results_1.loc[:, ['max_P', 'inertia', 'utility', 'reliability']]\n",
    "limits = parcoords.get_limits(outcomes)\n",
    "axes = parcoords.ParallelAxes(limits)\n",
    "axes.plot(outcomes)\n",
    "\n",
    "# we invert this axis so direction of desirability is the same \n",
    "axes.invert_axis('max_P') \n",
    "plt.show()"
   ]
  },
  {
   "cell_type": "markdown",
   "metadata": {},
   "source": [
    "**What does this plot tell us about the tradeoffs and conflicting objectives?**\n",
    "\n",
    "The gained utility is inversely proportional to the reliability which leads to 'high risk high reward' type tradeoffs"
   ]
  },
  {
   "cell_type": "markdown",
   "metadata": {},
   "source": [
    "## Step 3 & 4: Re-evaluate candidate solutions under uncertainty, for which we make scenarios\n",
    "\n",
    "We now have a large number of candidate solutions (policies), we can re-evaluate them over the various deeply uncertain factors to assess their robustness against uncertainties.\n",
    "\n",
    "For this robustness evaluation, we need to explore the scenarios for each solution. It means that, if we would like to run for instance 1000 scenarios for each solution, we might have to execute a very large number of runs.\n",
    "\n",
    "Here, to simplify the case, let's suppose that decision makers have a hard constrain on *reliability*. No solution with less than 90% reliability is acceptable for them. Therefore, we can reduce the size of the solution set according to this constraint. \n",
    "\n",
    "**Apply this constraint of reliability on the results, and create a new dataframe named new_results**\n"
   ]
  },
  {
   "cell_type": "code",
   "execution_count": 9,
   "metadata": {},
   "outputs": [
    {
     "data": {
      "text/html": [
       "<div>\n",
       "<style scoped>\n",
       "    .dataframe tbody tr th:only-of-type {\n",
       "        vertical-align: middle;\n",
       "    }\n",
       "\n",
       "    .dataframe tbody tr th {\n",
       "        vertical-align: top;\n",
       "    }\n",
       "\n",
       "    .dataframe thead th {\n",
       "        text-align: right;\n",
       "    }\n",
       "</style>\n",
       "<table border=\"1\" class=\"dataframe\">\n",
       "  <thead>\n",
       "    <tr style=\"text-align: right;\">\n",
       "      <th></th>\n",
       "      <th>c1</th>\n",
       "      <th>c2</th>\n",
       "      <th>r1</th>\n",
       "      <th>r2</th>\n",
       "      <th>w1</th>\n",
       "      <th>max_P</th>\n",
       "      <th>utility</th>\n",
       "      <th>inertia</th>\n",
       "      <th>reliability</th>\n",
       "    </tr>\n",
       "  </thead>\n",
       "  <tbody>\n",
       "    <tr>\n",
       "      <th>0</th>\n",
       "      <td>0.400208</td>\n",
       "      <td>0.612088</td>\n",
       "      <td>0.845865</td>\n",
       "      <td>0.970906</td>\n",
       "      <td>0.600132</td>\n",
       "      <td>0.241252</td>\n",
       "      <td>0.555148</td>\n",
       "      <td>0.99</td>\n",
       "      <td>1.0</td>\n",
       "    </tr>\n",
       "    <tr>\n",
       "      <th>1</th>\n",
       "      <td>0.400208</td>\n",
       "      <td>0.528081</td>\n",
       "      <td>0.835908</td>\n",
       "      <td>1.147693</td>\n",
       "      <td>0.032855</td>\n",
       "      <td>0.191323</td>\n",
       "      <td>0.512167</td>\n",
       "      <td>0.99</td>\n",
       "      <td>1.0</td>\n",
       "    </tr>\n",
       "    <tr>\n",
       "      <th>2</th>\n",
       "      <td>0.402837</td>\n",
       "      <td>-0.562412</td>\n",
       "      <td>1.357862</td>\n",
       "      <td>1.786646</td>\n",
       "      <td>0.985576</td>\n",
       "      <td>0.099042</td>\n",
       "      <td>0.251849</td>\n",
       "      <td>0.99</td>\n",
       "      <td>1.0</td>\n",
       "    </tr>\n",
       "    <tr>\n",
       "      <th>3</th>\n",
       "      <td>0.400208</td>\n",
       "      <td>0.398929</td>\n",
       "      <td>1.059274</td>\n",
       "      <td>0.804597</td>\n",
       "      <td>0.661135</td>\n",
       "      <td>0.144223</td>\n",
       "      <td>0.414496</td>\n",
       "      <td>0.99</td>\n",
       "      <td>1.0</td>\n",
       "    </tr>\n",
       "  </tbody>\n",
       "</table>\n",
       "</div>"
      ],
      "text/plain": [
       "         c1        c2        r1        r2        w1     max_P   utility  \\\n",
       "0  0.400208  0.612088  0.845865  0.970906  0.600132  0.241252  0.555148   \n",
       "1  0.400208  0.528081  0.835908  1.147693  0.032855  0.191323  0.512167   \n",
       "2  0.402837 -0.562412  1.357862  1.786646  0.985576  0.099042  0.251849   \n",
       "3  0.400208  0.398929  1.059274  0.804597  0.661135  0.144223  0.414496   \n",
       "\n",
       "   inertia  reliability  \n",
       "0     0.99          1.0  \n",
       "1     0.99          1.0  \n",
       "2     0.99          1.0  \n",
       "3     0.99          1.0  "
      ]
     },
     "execution_count": 9,
     "metadata": {},
     "output_type": "execute_result"
    }
   ],
   "source": [
    "bool_results = results_1['reliability'] >= 0.9\n",
    "new_results = results_1[bool_results].reset_index()\n",
    "new_results.drop('index', axis=1, inplace=True)\n",
    "new_results.head()"
   ]
  },
  {
   "cell_type": "markdown",
   "metadata": {},
   "source": [
    "\n",
    "**From new_results, which is the reduced dataframe of candidate solutions, make a list of policies in a format that can be inputed to the *perform_experiments* function of the EMA workbench.**\n",
    "\n",
    "*hint: you need to transform each policy to a dict, and then use this dict as input for the Policy class that comes with the workbench*"
   ]
  },
  {
   "cell_type": "markdown",
   "metadata": {},
   "source": []
  },
  {
   "cell_type": "code",
   "execution_count": 47,
   "metadata": {},
   "outputs": [],
   "source": [
    "policies = []\n",
    "for i in range(len(new_results.index)):\n",
    "    this_policy = Policy(str(i), **new_results.loc[i, 'c1':'w1'].to_dict())\n",
    "    policies.append(this_policy)\n"
   ]
  },
  {
   "cell_type": "markdown",
   "metadata": {},
   "source": [
    "**Perform 1000 scenarios for each of the policy options. Depending on how many solutions are left after implementing the constraint, consider using multiprocessing or ipyparallel to speed up calculations.**\n",
    "\n",
    "If you want to use ipyparallel, don't forget to start ipcluster."
   ]
  },
  {
   "cell_type": "code",
   "execution_count": 20,
   "metadata": {},
   "outputs": [
    {
     "name": "stderr",
     "output_type": "stream",
     "text": [
      "[MainProcess/INFO] pool started\n",
      "[MainProcess/INFO] performing 1000 scenarios * 4 policies * 1 model(s) = 4000 experiments\n",
      "[MainProcess/INFO] 400 cases completed\n",
      "[MainProcess/INFO] 800 cases completed\n",
      "[MainProcess/INFO] 1200 cases completed\n",
      "[MainProcess/INFO] 1600 cases completed\n",
      "[MainProcess/INFO] 2000 cases completed\n",
      "[MainProcess/INFO] 2400 cases completed\n",
      "[MainProcess/INFO] 2800 cases completed\n",
      "[MainProcess/INFO] 3200 cases completed\n",
      "[MainProcess/INFO] 3600 cases completed\n",
      "[MainProcess/INFO] 4000 cases completed\n",
      "[MainProcess/INFO] experiments finished\n",
      "[MainProcess/INFO] terminating pool\n"
     ]
    }
   ],
   "source": [
    "with MultiprocessingEvaluator(model) as evaluator:\n",
    "    results = perform_experiments(model, scenarios=1000, policies=policies, reporting_interval=100*len(new_results.index), evaluator=evaluator)\n",
    "    experiments, outcomes = results"
   ]
  },
  {
   "cell_type": "code",
   "execution_count": 42,
   "metadata": {},
   "outputs": [
    {
     "data": {
      "text/html": [
       "<div>\n",
       "<style scoped>\n",
       "    .dataframe tbody tr th:only-of-type {\n",
       "        vertical-align: middle;\n",
       "    }\n",
       "\n",
       "    .dataframe tbody tr th {\n",
       "        vertical-align: top;\n",
       "    }\n",
       "\n",
       "    .dataframe thead th {\n",
       "        text-align: right;\n",
       "    }\n",
       "</style>\n",
       "<table border=\"1\" class=\"dataframe\">\n",
       "  <thead>\n",
       "    <tr style=\"text-align: right;\">\n",
       "      <th></th>\n",
       "      <th>b</th>\n",
       "      <th>delta</th>\n",
       "      <th>mean</th>\n",
       "      <th>q</th>\n",
       "      <th>stdev</th>\n",
       "      <th>c1</th>\n",
       "      <th>c2</th>\n",
       "      <th>r1</th>\n",
       "      <th>r2</th>\n",
       "      <th>w1</th>\n",
       "      <th>scenario</th>\n",
       "      <th>policy</th>\n",
       "      <th>model</th>\n",
       "    </tr>\n",
       "  </thead>\n",
       "  <tbody>\n",
       "    <tr>\n",
       "      <th>0</th>\n",
       "      <td>0.304851</td>\n",
       "      <td>0.975372</td>\n",
       "      <td>0.035821</td>\n",
       "      <td>4.375745</td>\n",
       "      <td>0.001622</td>\n",
       "      <td>0.400208</td>\n",
       "      <td>0.612088</td>\n",
       "      <td>0.845865</td>\n",
       "      <td>0.970906</td>\n",
       "      <td>0.600132</td>\n",
       "      <td>0</td>\n",
       "      <td>0</td>\n",
       "      <td>LakeModel</td>\n",
       "    </tr>\n",
       "    <tr>\n",
       "      <th>1</th>\n",
       "      <td>0.034834</td>\n",
       "      <td>0.941768</td>\n",
       "      <td>0.046400</td>\n",
       "      <td>2.776780</td>\n",
       "      <td>0.001276</td>\n",
       "      <td>0.400208</td>\n",
       "      <td>0.612088</td>\n",
       "      <td>0.845865</td>\n",
       "      <td>0.970906</td>\n",
       "      <td>0.600132</td>\n",
       "      <td>1</td>\n",
       "      <td>0</td>\n",
       "      <td>LakeModel</td>\n",
       "    </tr>\n",
       "    <tr>\n",
       "      <th>2</th>\n",
       "      <td>0.212757</td>\n",
       "      <td>0.933732</td>\n",
       "      <td>0.030913</td>\n",
       "      <td>4.057293</td>\n",
       "      <td>0.001280</td>\n",
       "      <td>0.400208</td>\n",
       "      <td>0.612088</td>\n",
       "      <td>0.845865</td>\n",
       "      <td>0.970906</td>\n",
       "      <td>0.600132</td>\n",
       "      <td>2</td>\n",
       "      <td>0</td>\n",
       "      <td>LakeModel</td>\n",
       "    </tr>\n",
       "    <tr>\n",
       "      <th>3</th>\n",
       "      <td>0.400502</td>\n",
       "      <td>0.946502</td>\n",
       "      <td>0.028582</td>\n",
       "      <td>2.315382</td>\n",
       "      <td>0.003144</td>\n",
       "      <td>0.400208</td>\n",
       "      <td>0.612088</td>\n",
       "      <td>0.845865</td>\n",
       "      <td>0.970906</td>\n",
       "      <td>0.600132</td>\n",
       "      <td>3</td>\n",
       "      <td>0</td>\n",
       "      <td>LakeModel</td>\n",
       "    </tr>\n",
       "    <tr>\n",
       "      <th>4</th>\n",
       "      <td>0.276931</td>\n",
       "      <td>0.957398</td>\n",
       "      <td>0.014950</td>\n",
       "      <td>3.372113</td>\n",
       "      <td>0.001760</td>\n",
       "      <td>0.400208</td>\n",
       "      <td>0.612088</td>\n",
       "      <td>0.845865</td>\n",
       "      <td>0.970906</td>\n",
       "      <td>0.600132</td>\n",
       "      <td>4</td>\n",
       "      <td>0</td>\n",
       "      <td>LakeModel</td>\n",
       "    </tr>\n",
       "    <tr>\n",
       "      <th>...</th>\n",
       "      <td>...</td>\n",
       "      <td>...</td>\n",
       "      <td>...</td>\n",
       "      <td>...</td>\n",
       "      <td>...</td>\n",
       "      <td>...</td>\n",
       "      <td>...</td>\n",
       "      <td>...</td>\n",
       "      <td>...</td>\n",
       "      <td>...</td>\n",
       "      <td>...</td>\n",
       "      <td>...</td>\n",
       "      <td>...</td>\n",
       "    </tr>\n",
       "    <tr>\n",
       "      <th>3995</th>\n",
       "      <td>0.430899</td>\n",
       "      <td>0.953598</td>\n",
       "      <td>0.029921</td>\n",
       "      <td>4.086085</td>\n",
       "      <td>0.001985</td>\n",
       "      <td>0.400208</td>\n",
       "      <td>0.398929</td>\n",
       "      <td>1.059274</td>\n",
       "      <td>0.804597</td>\n",
       "      <td>0.661135</td>\n",
       "      <td>995</td>\n",
       "      <td>3</td>\n",
       "      <td>LakeModel</td>\n",
       "    </tr>\n",
       "    <tr>\n",
       "      <th>3996</th>\n",
       "      <td>0.180899</td>\n",
       "      <td>0.939737</td>\n",
       "      <td>0.010718</td>\n",
       "      <td>3.703132</td>\n",
       "      <td>0.001386</td>\n",
       "      <td>0.400208</td>\n",
       "      <td>0.398929</td>\n",
       "      <td>1.059274</td>\n",
       "      <td>0.804597</td>\n",
       "      <td>0.661135</td>\n",
       "      <td>996</td>\n",
       "      <td>3</td>\n",
       "      <td>LakeModel</td>\n",
       "    </tr>\n",
       "    <tr>\n",
       "      <th>3997</th>\n",
       "      <td>0.211556</td>\n",
       "      <td>0.932182</td>\n",
       "      <td>0.043014</td>\n",
       "      <td>2.482369</td>\n",
       "      <td>0.002342</td>\n",
       "      <td>0.400208</td>\n",
       "      <td>0.398929</td>\n",
       "      <td>1.059274</td>\n",
       "      <td>0.804597</td>\n",
       "      <td>0.661135</td>\n",
       "      <td>997</td>\n",
       "      <td>3</td>\n",
       "      <td>LakeModel</td>\n",
       "    </tr>\n",
       "    <tr>\n",
       "      <th>3998</th>\n",
       "      <td>0.184481</td>\n",
       "      <td>0.931049</td>\n",
       "      <td>0.035364</td>\n",
       "      <td>3.407450</td>\n",
       "      <td>0.003024</td>\n",
       "      <td>0.400208</td>\n",
       "      <td>0.398929</td>\n",
       "      <td>1.059274</td>\n",
       "      <td>0.804597</td>\n",
       "      <td>0.661135</td>\n",
       "      <td>998</td>\n",
       "      <td>3</td>\n",
       "      <td>LakeModel</td>\n",
       "    </tr>\n",
       "    <tr>\n",
       "      <th>3999</th>\n",
       "      <td>0.384876</td>\n",
       "      <td>0.971305</td>\n",
       "      <td>0.045800</td>\n",
       "      <td>4.331578</td>\n",
       "      <td>0.002788</td>\n",
       "      <td>0.400208</td>\n",
       "      <td>0.398929</td>\n",
       "      <td>1.059274</td>\n",
       "      <td>0.804597</td>\n",
       "      <td>0.661135</td>\n",
       "      <td>999</td>\n",
       "      <td>3</td>\n",
       "      <td>LakeModel</td>\n",
       "    </tr>\n",
       "  </tbody>\n",
       "</table>\n",
       "<p>4000 rows × 13 columns</p>\n",
       "</div>"
      ],
      "text/plain": [
       "             b     delta      mean         q     stdev        c1        c2  \\\n",
       "0     0.304851  0.975372  0.035821  4.375745  0.001622  0.400208  0.612088   \n",
       "1     0.034834  0.941768  0.046400  2.776780  0.001276  0.400208  0.612088   \n",
       "2     0.212757  0.933732  0.030913  4.057293  0.001280  0.400208  0.612088   \n",
       "3     0.400502  0.946502  0.028582  2.315382  0.003144  0.400208  0.612088   \n",
       "4     0.276931  0.957398  0.014950  3.372113  0.001760  0.400208  0.612088   \n",
       "...        ...       ...       ...       ...       ...       ...       ...   \n",
       "3995  0.430899  0.953598  0.029921  4.086085  0.001985  0.400208  0.398929   \n",
       "3996  0.180899  0.939737  0.010718  3.703132  0.001386  0.400208  0.398929   \n",
       "3997  0.211556  0.932182  0.043014  2.482369  0.002342  0.400208  0.398929   \n",
       "3998  0.184481  0.931049  0.035364  3.407450  0.003024  0.400208  0.398929   \n",
       "3999  0.384876  0.971305  0.045800  4.331578  0.002788  0.400208  0.398929   \n",
       "\n",
       "            r1        r2        w1 scenario policy      model  \n",
       "0     0.845865  0.970906  0.600132        0      0  LakeModel  \n",
       "1     0.845865  0.970906  0.600132        1      0  LakeModel  \n",
       "2     0.845865  0.970906  0.600132        2      0  LakeModel  \n",
       "3     0.845865  0.970906  0.600132        3      0  LakeModel  \n",
       "4     0.845865  0.970906  0.600132        4      0  LakeModel  \n",
       "...        ...       ...       ...      ...    ...        ...  \n",
       "3995  1.059274  0.804597  0.661135      995      3  LakeModel  \n",
       "3996  1.059274  0.804597  0.661135      996      3  LakeModel  \n",
       "3997  1.059274  0.804597  0.661135      997      3  LakeModel  \n",
       "3998  1.059274  0.804597  0.661135      998      3  LakeModel  \n",
       "3999  1.059274  0.804597  0.661135      999      3  LakeModel  \n",
       "\n",
       "[4000 rows x 13 columns]"
      ]
     },
     "execution_count": 42,
     "metadata": {},
     "output_type": "execute_result"
    }
   ],
   "source": [
    "lelenexperiments"
   ]
  },
  {
   "cell_type": "code",
   "execution_count": 195,
   "metadata": {},
   "outputs": [
    {
     "data": {
      "text/plain": [
       "2"
      ]
     },
     "execution_count": 195,
     "metadata": {},
     "output_type": "execute_result"
    }
   ],
   "source": [
    "outcomes\n"
   ]
  },
  {
   "cell_type": "markdown",
   "metadata": {},
   "source": [
    "We can now evaluate the **robustness** of each of the policy options based on these scenario results. We can calculate the robustness of a policy option in terms of its performance on an outcome indicator across the 1000 scenarios. In other words, we can identify how robust a policy is in terms of each outcome indicator, and investigate the robustness tradeoffs.  \n",
    "\n",
    "There are multiple metrics to quantify robustness. On of them is the *signal to noise ratio*, which is simply the mean of a dataset divided by its standard deviation. For instance, for an outcome indicator to be maximized, we prefer a high average value across the scenarios, and a low standard deviation, implying a narrow uncertaintiy range. Therefore, we want to maximize the signal-to-noise ratio. For an outcome indicator to be minimized, a lower mean and a lower standard deviation is preferred. Therefore the formulation is different.\n",
    "\n",
    "**Write a function to calculate the signal-to-noise ratio for both kinds of outcome indicators. Calculate the signal-to-noise ratios for each outcome and each policy option. Plot the tradeoffs on a parallel axis plot. Which solutions look like a good compromise policy?**"
   ]
  },
  {
   "cell_type": "markdown",
   "metadata": {},
   "source": [
    "Outcomes is a dictionary with 4000 values for each outcome indicator (the keys). Because we have 4 solutions (policy options) with 1000 experiments each, the values of outcomes must be separated into 4 somehow to get to the signal-to-noise ratio for a single policy option (which has 4 outcome indicators, of course).Outcomes is a dictionary with 4000 values for each outcome indicator (the keys). Because we have 4 solutions (policy options) with 1000 experiments each, the values of outcomes must be separated into 4 somehow to get to the signal-to-noise ratio for a single policy option (which has 4 outcome indicators, of course)."
   ]
  },
  {
   "cell_type": "code",
   "execution_count": 218,
   "metadata": {},
   "outputs": [
    {
     "name": "stdout",
     "output_type": "stream",
     "text": [
      "\n",
      "        \n",
      "               start first loop\n",
      "      max_P\n",
      "0  0.619242 end of second loop\n",
      "      max_P   utility\n",
      "0  0.619242  1.551044 end of second loop\n",
      "      max_P   utility     inertia\n",
      "0  0.619242  1.551044  120.577495 end of second loop\n",
      "      max_P   utility     inertia  reliability\n",
      "0  0.619242  1.551044  120.577495     1.214515 end of second loop\n",
      "\n",
      "        \n",
      "               start first loop\n",
      "      max_P\n",
      "1  0.610362 end of second loop\n",
      "      max_P   utility\n",
      "1  0.610362  1.398004 end of second loop\n",
      "      max_P   utility     inertia\n",
      "1  0.610362  1.398004  130.185688 end of second loop\n",
      "      max_P   utility     inertia  reliability\n",
      "1  0.610362  1.398004  130.185688     1.282481 end of second loop\n",
      "\n",
      "        \n",
      "               start first loop\n",
      "      max_P\n",
      "2  0.602987 end of second loop\n",
      "      max_P   utility\n",
      "2  0.602987  1.010432 end of second loop\n",
      "      max_P   utility     inertia\n",
      "2  0.602987  1.010432  118.147558 end of second loop\n",
      "      max_P   utility     inertia  reliability\n",
      "2  0.602987  1.010432  118.147558     1.408958 end of second loop\n",
      "\n",
      "        \n",
      "               start first loop\n",
      "      max_P\n",
      "3  0.602953 end of second loop\n",
      "      max_P  utility\n",
      "3  0.602953  1.21203 end of second loop\n",
      "      max_P  utility     inertia\n",
      "3  0.602953  1.21203  121.827615 end of second loop\n",
      "      max_P  utility     inertia  reliability\n",
      "3  0.602953  1.21203  121.827615     1.346541 end of second loop\n"
     ]
    },
    {
     "data": {
      "text/html": [
       "<div>\n",
       "<style scoped>\n",
       "    .dataframe tbody tr th:only-of-type {\n",
       "        vertical-align: middle;\n",
       "    }\n",
       "\n",
       "    .dataframe tbody tr th {\n",
       "        vertical-align: top;\n",
       "    }\n",
       "\n",
       "    .dataframe thead th {\n",
       "        text-align: right;\n",
       "    }\n",
       "</style>\n",
       "<table border=\"1\" class=\"dataframe\">\n",
       "  <thead>\n",
       "    <tr style=\"text-align: right;\">\n",
       "      <th></th>\n",
       "      <th>max_P</th>\n",
       "      <th>utility</th>\n",
       "      <th>inertia</th>\n",
       "      <th>reliability</th>\n",
       "    </tr>\n",
       "  </thead>\n",
       "  <tbody>\n",
       "    <tr>\n",
       "      <th>0</th>\n",
       "      <td>0.619242</td>\n",
       "      <td>1.551044</td>\n",
       "      <td>120.577495</td>\n",
       "      <td>1.214515</td>\n",
       "    </tr>\n",
       "    <tr>\n",
       "      <th>1</th>\n",
       "      <td>0.610362</td>\n",
       "      <td>1.398004</td>\n",
       "      <td>130.185688</td>\n",
       "      <td>1.282481</td>\n",
       "    </tr>\n",
       "    <tr>\n",
       "      <th>2</th>\n",
       "      <td>0.602987</td>\n",
       "      <td>1.010432</td>\n",
       "      <td>118.147558</td>\n",
       "      <td>1.408958</td>\n",
       "    </tr>\n",
       "    <tr>\n",
       "      <th>3</th>\n",
       "      <td>0.602953</td>\n",
       "      <td>1.212030</td>\n",
       "      <td>121.827615</td>\n",
       "      <td>1.346541</td>\n",
       "    </tr>\n",
       "  </tbody>\n",
       "</table>\n",
       "</div>"
      ],
      "text/plain": [
       "      max_P   utility     inertia  reliability\n",
       "0  0.619242  1.551044  120.577495     1.214515\n",
       "1  0.610362  1.398004  130.185688     1.282481\n",
       "2  0.602987  1.010432  118.147558     1.408958\n",
       "3  0.602953  1.212030  121.827615     1.346541"
      ]
     },
     "execution_count": 218,
     "metadata": {},
     "output_type": "execute_result"
    }
   ],
   "source": [
    "# create an empty dataframe, to later append the ratios per policy option to\n",
    "signal_to_noise = pd.DataFrame(columns = list(outcomes.keys()))\n",
    "\n",
    "# Get the number of experiments per policy option by looking at the outcomes dictionary\n",
    "runs = int(len(experiments)/len(outcomes.keys()))\n",
    "a = 0-runs\n",
    "b = -1\n",
    "\n",
    "for policy in np.unique(experiments['policy']):\n",
    "        signal_single = {}\n",
    "        a = a + runs\n",
    "        b = b + runs\n",
    "        print(\"\"\"\n",
    "        \n",
    "               start first loop\"\"\")\n",
    "#         creëer een regel van een dataframe met daarin de signal-to-noise ratio's van die policy option.\n",
    "        for key in outcomes.keys():\n",
    "            signal_single[key] = np.mean(outcomes[key][a:b])/np.std(outcomes[key][a:b])\n",
    "#             print(key, ', s-to-n ratio: ', np.mean(outcomes[key][a:b])/np.std(outcomes[key][a:b]))\n",
    "#             maak van signal_single een dataframe van één row\n",
    "            signal_single = pd.DataFrame(signal_single, index = [policy])\n",
    "            print(signal_single, 'end of second loop')\n",
    "#         append die vervolgens telkens naar signal_to_noise\n",
    "        signal_to_noise = signal_to_noise.append(signal_single)\n",
    "#         print(signal_to_noise, 'end of first loop')\n",
    "\n",
    "\n",
    "signal_to_noise\n"
   ]
  },
  {
   "cell_type": "code",
   "execution_count": 114,
   "metadata": {},
   "outputs": [
    {
     "data": {
      "text/plain": [
       "array(['0', '1', '2', '3'], dtype=object)"
      ]
     },
     "execution_count": 114,
     "metadata": {},
     "output_type": "execute_result"
    }
   ],
   "source": [
    "np.unique(experiments['policy'])\n"
   ]
  },
  {
   "cell_type": "code",
   "execution_count": null,
   "metadata": {},
   "outputs": [],
   "source": [
    "\n"
   ]
  },
  {
   "cell_type": "code",
   "execution_count": 49,
   "metadata": {},
   "outputs": [
    {
     "data": {
      "text/html": [
       "<div>\n",
       "<style scoped>\n",
       "    .dataframe tbody tr th:only-of-type {\n",
       "        vertical-align: middle;\n",
       "    }\n",
       "\n",
       "    .dataframe tbody tr th {\n",
       "        vertical-align: top;\n",
       "    }\n",
       "\n",
       "    .dataframe thead th {\n",
       "        text-align: right;\n",
       "    }\n",
       "</style>\n",
       "<table border=\"1\" class=\"dataframe\">\n",
       "  <thead>\n",
       "    <tr style=\"text-align: right;\">\n",
       "      <th></th>\n",
       "      <th>max_P</th>\n",
       "      <th>utility</th>\n",
       "      <th>inertia</th>\n",
       "      <th>reliability</th>\n",
       "    </tr>\n",
       "  </thead>\n",
       "  <tbody>\n",
       "    <tr>\n",
       "      <th>0</th>\n",
       "      <td>0.60848</td>\n",
       "      <td>1.265317</td>\n",
       "      <td>122.380443</td>\n",
       "      <td>1.311008</td>\n",
       "    </tr>\n",
       "    <tr>\n",
       "      <th>1</th>\n",
       "      <td>0.60848</td>\n",
       "      <td>1.265317</td>\n",
       "      <td>122.380443</td>\n",
       "      <td>1.311008</td>\n",
       "    </tr>\n",
       "    <tr>\n",
       "      <th>2</th>\n",
       "      <td>0.60848</td>\n",
       "      <td>1.265317</td>\n",
       "      <td>122.380443</td>\n",
       "      <td>1.311008</td>\n",
       "    </tr>\n",
       "    <tr>\n",
       "      <th>3</th>\n",
       "      <td>0.60848</td>\n",
       "      <td>1.265317</td>\n",
       "      <td>122.380443</td>\n",
       "      <td>1.311008</td>\n",
       "    </tr>\n",
       "  </tbody>\n",
       "</table>\n",
       "</div>"
      ],
      "text/plain": [
       "     max_P   utility     inertia  reliability\n",
       "0  0.60848  1.265317  122.380443     1.311008\n",
       "1  0.60848  1.265317  122.380443     1.311008\n",
       "2  0.60848  1.265317  122.380443     1.311008\n",
       "3  0.60848  1.265317  122.380443     1.311008"
      ]
     },
     "execution_count": 49,
     "metadata": {},
     "output_type": "execute_result"
    }
   ],
   "source": [
    "signal_single = {}\n",
    "signal_to_noise = {}\n",
    "for policy in np.unique(experiments['policy']):\n",
    "    for key in outcomes.keys():\n",
    "        signal_single[key] = np.mean(outcomes[key])/np.std(outcomes[key])\n",
    "    signal_to_noise[policy] = signal_single\n",
    "signal_to_noise = pd.DataFrame.from_dict(signal_to_noise).T\n",
    "\n",
    "signal_to_noise\n",
    "\n",
    "#Nog WIP, bovenstaand moet nog gefixt worden dat alleen mean en std van die policy worden genomen"
   ]
  },
  {
   "cell_type": "code",
   "execution_count": 105,
   "metadata": {},
   "outputs": [
    {
     "name": "stdout",
     "output_type": "stream",
     "text": [
      "{'max_P': {0.8068209014815473}, 'utility': {2.21453093091996}, 'inertia': {8917127262193596.0}, 'reliability': {0.571319223728295}}\n"
     ]
    }
   ],
   "source": [
    "signal_to_noise = {}\n",
    "for key in outcomes.keys():\n",
    "    signal_to_noise[key] = {np.mean(outcomes[key])/np.std(outcomes[key])}\n",
    "    \n",
    "    \n",
    "print(signal_to_noise)\n",
    "\n",
    "# Er komt bij mij maar 1 policy uit?"
   ]
  },
  {
   "cell_type": "markdown",
   "metadata": {},
   "source": [
    "Another robustness metric is **maximum regret**, calculated again for each policy and for each outcome indicator. *Regret* is defined for each policy under each scenario, as the difference between the performance of the policy in a specific scenario and the berformance of a no-regret (i.e. best possible result in that scenario) policy. The *maximum regret*  is then the maximum of such regret values across all scenarios. We of course favor policy options with low *maximum regret* values. \n",
    "\n",
    "**Write a function to calculate the maximum regret. Calculate the maximum regret values for each outcome and each policy option. Plot the tradeoffs on a parallel plot. Which solutions look like a good compromise policy?**"
   ]
  },
  {
   "cell_type": "code",
   "execution_count": 50,
   "metadata": {},
   "outputs": [
    {
     "ename": "KeyError",
     "evalue": "\"None of [Index(['max_P', 'inertia', 'utility', 'reliability'], dtype='object')] are in the [columns]\"",
     "output_type": "error",
     "traceback": [
      "\u001b[1;31m---------------------------------------------------------------------------\u001b[0m",
      "\u001b[1;31mKeyError\u001b[0m                                  Traceback (most recent call last)",
      "\u001b[1;32m<ipython-input-50-413f180234e2>\u001b[0m in \u001b[0;36m<module>\u001b[1;34m\u001b[0m\n\u001b[0;32m      3\u001b[0m     \u001b[0mmaximum_regret\u001b[0m\u001b[1;33m[\u001b[0m\u001b[0mkey\u001b[0m\u001b[1;33m]\u001b[0m \u001b[1;33m=\u001b[0m \u001b[1;33m{\u001b[0m\u001b[0mnp\u001b[0m\u001b[1;33m.\u001b[0m\u001b[0mmax\u001b[0m\u001b[1;33m(\u001b[0m\u001b[0moutcomes\u001b[0m\u001b[1;33m[\u001b[0m\u001b[0mkey\u001b[0m\u001b[1;33m]\u001b[0m\u001b[1;33m)\u001b[0m\u001b[1;33m-\u001b[0m\u001b[0mnp\u001b[0m\u001b[1;33m.\u001b[0m\u001b[0mmin\u001b[0m\u001b[1;33m(\u001b[0m\u001b[0moutcomes\u001b[0m\u001b[1;33m[\u001b[0m\u001b[0mkey\u001b[0m\u001b[1;33m]\u001b[0m\u001b[1;33m)\u001b[0m\u001b[1;33m}\u001b[0m\u001b[1;33m\u001b[0m\u001b[1;33m\u001b[0m\u001b[0m\n\u001b[0;32m      4\u001b[0m \u001b[1;33m\u001b[0m\u001b[0m\n\u001b[1;32m----> 5\u001b[1;33m \u001b[0moutcomes\u001b[0m \u001b[1;33m=\u001b[0m \u001b[0mexperiments\u001b[0m\u001b[1;33m.\u001b[0m\u001b[0mloc\u001b[0m\u001b[1;33m[\u001b[0m\u001b[1;33m:\u001b[0m\u001b[1;33m,\u001b[0m \u001b[1;33m[\u001b[0m\u001b[1;34m'max_P'\u001b[0m\u001b[1;33m,\u001b[0m \u001b[1;34m'inertia'\u001b[0m\u001b[1;33m,\u001b[0m \u001b[1;34m'utility'\u001b[0m\u001b[1;33m,\u001b[0m \u001b[1;34m'reliability'\u001b[0m\u001b[1;33m]\u001b[0m\u001b[1;33m]\u001b[0m\u001b[1;33m\u001b[0m\u001b[1;33m\u001b[0m\u001b[0m\n\u001b[0m\u001b[0;32m      6\u001b[0m \u001b[0mlimits\u001b[0m \u001b[1;33m=\u001b[0m \u001b[0mparcoords\u001b[0m\u001b[1;33m.\u001b[0m\u001b[0mget_limits\u001b[0m\u001b[1;33m(\u001b[0m\u001b[0moutcomes\u001b[0m\u001b[1;33m)\u001b[0m\u001b[1;33m\u001b[0m\u001b[1;33m\u001b[0m\u001b[0m\n\u001b[0;32m      7\u001b[0m \u001b[0maxes\u001b[0m \u001b[1;33m=\u001b[0m \u001b[0mparcoords\u001b[0m\u001b[1;33m.\u001b[0m\u001b[0mParallelAxes\u001b[0m\u001b[1;33m(\u001b[0m\u001b[0mlimits\u001b[0m\u001b[1;33m)\u001b[0m\u001b[1;33m\u001b[0m\u001b[1;33m\u001b[0m\u001b[0m\n",
      "\u001b[1;32m~\\anaconda3\\lib\\site-packages\\pandas\\core\\indexing.py\u001b[0m in \u001b[0;36m__getitem__\u001b[1;34m(self, key)\u001b[0m\n\u001b[0;32m   1759\u001b[0m                 \u001b[1;32mexcept\u001b[0m \u001b[1;33m(\u001b[0m\u001b[0mKeyError\u001b[0m\u001b[1;33m,\u001b[0m \u001b[0mIndexError\u001b[0m\u001b[1;33m,\u001b[0m \u001b[0mAttributeError\u001b[0m\u001b[1;33m)\u001b[0m\u001b[1;33m:\u001b[0m\u001b[1;33m\u001b[0m\u001b[1;33m\u001b[0m\u001b[0m\n\u001b[0;32m   1760\u001b[0m                     \u001b[1;32mpass\u001b[0m\u001b[1;33m\u001b[0m\u001b[1;33m\u001b[0m\u001b[0m\n\u001b[1;32m-> 1761\u001b[1;33m             \u001b[1;32mreturn\u001b[0m \u001b[0mself\u001b[0m\u001b[1;33m.\u001b[0m\u001b[0m_getitem_tuple\u001b[0m\u001b[1;33m(\u001b[0m\u001b[0mkey\u001b[0m\u001b[1;33m)\u001b[0m\u001b[1;33m\u001b[0m\u001b[1;33m\u001b[0m\u001b[0m\n\u001b[0m\u001b[0;32m   1762\u001b[0m         \u001b[1;32melse\u001b[0m\u001b[1;33m:\u001b[0m\u001b[1;33m\u001b[0m\u001b[1;33m\u001b[0m\u001b[0m\n\u001b[0;32m   1763\u001b[0m             \u001b[1;31m# we by definition only have the 0th axis\u001b[0m\u001b[1;33m\u001b[0m\u001b[1;33m\u001b[0m\u001b[1;33m\u001b[0m\u001b[0m\n",
      "\u001b[1;32m~\\anaconda3\\lib\\site-packages\\pandas\\core\\indexing.py\u001b[0m in \u001b[0;36m_getitem_tuple\u001b[1;34m(self, tup)\u001b[0m\n\u001b[0;32m   1286\u001b[0m                 \u001b[1;32mcontinue\u001b[0m\u001b[1;33m\u001b[0m\u001b[1;33m\u001b[0m\u001b[0m\n\u001b[0;32m   1287\u001b[0m \u001b[1;33m\u001b[0m\u001b[0m\n\u001b[1;32m-> 1288\u001b[1;33m             \u001b[0mretval\u001b[0m \u001b[1;33m=\u001b[0m \u001b[0mgetattr\u001b[0m\u001b[1;33m(\u001b[0m\u001b[0mretval\u001b[0m\u001b[1;33m,\u001b[0m \u001b[0mself\u001b[0m\u001b[1;33m.\u001b[0m\u001b[0mname\u001b[0m\u001b[1;33m)\u001b[0m\u001b[1;33m.\u001b[0m\u001b[0m_getitem_axis\u001b[0m\u001b[1;33m(\u001b[0m\u001b[0mkey\u001b[0m\u001b[1;33m,\u001b[0m \u001b[0maxis\u001b[0m\u001b[1;33m=\u001b[0m\u001b[0mi\u001b[0m\u001b[1;33m)\u001b[0m\u001b[1;33m\u001b[0m\u001b[1;33m\u001b[0m\u001b[0m\n\u001b[0m\u001b[0;32m   1289\u001b[0m \u001b[1;33m\u001b[0m\u001b[0m\n\u001b[0;32m   1290\u001b[0m         \u001b[1;32mreturn\u001b[0m \u001b[0mretval\u001b[0m\u001b[1;33m\u001b[0m\u001b[1;33m\u001b[0m\u001b[0m\n",
      "\u001b[1;32m~\\anaconda3\\lib\\site-packages\\pandas\\core\\indexing.py\u001b[0m in \u001b[0;36m_getitem_axis\u001b[1;34m(self, key, axis)\u001b[0m\n\u001b[0;32m   1951\u001b[0m                     \u001b[1;32mraise\u001b[0m \u001b[0mValueError\u001b[0m\u001b[1;33m(\u001b[0m\u001b[1;34m\"Cannot index with multidimensional key\"\u001b[0m\u001b[1;33m)\u001b[0m\u001b[1;33m\u001b[0m\u001b[1;33m\u001b[0m\u001b[0m\n\u001b[0;32m   1952\u001b[0m \u001b[1;33m\u001b[0m\u001b[0m\n\u001b[1;32m-> 1953\u001b[1;33m                 \u001b[1;32mreturn\u001b[0m \u001b[0mself\u001b[0m\u001b[1;33m.\u001b[0m\u001b[0m_getitem_iterable\u001b[0m\u001b[1;33m(\u001b[0m\u001b[0mkey\u001b[0m\u001b[1;33m,\u001b[0m \u001b[0maxis\u001b[0m\u001b[1;33m=\u001b[0m\u001b[0maxis\u001b[0m\u001b[1;33m)\u001b[0m\u001b[1;33m\u001b[0m\u001b[1;33m\u001b[0m\u001b[0m\n\u001b[0m\u001b[0;32m   1954\u001b[0m \u001b[1;33m\u001b[0m\u001b[0m\n\u001b[0;32m   1955\u001b[0m             \u001b[1;31m# nested tuple slicing\u001b[0m\u001b[1;33m\u001b[0m\u001b[1;33m\u001b[0m\u001b[1;33m\u001b[0m\u001b[0m\n",
      "\u001b[1;32m~\\anaconda3\\lib\\site-packages\\pandas\\core\\indexing.py\u001b[0m in \u001b[0;36m_getitem_iterable\u001b[1;34m(self, key, axis)\u001b[0m\n\u001b[0;32m   1592\u001b[0m         \u001b[1;32melse\u001b[0m\u001b[1;33m:\u001b[0m\u001b[1;33m\u001b[0m\u001b[1;33m\u001b[0m\u001b[0m\n\u001b[0;32m   1593\u001b[0m             \u001b[1;31m# A collection of keys\u001b[0m\u001b[1;33m\u001b[0m\u001b[1;33m\u001b[0m\u001b[1;33m\u001b[0m\u001b[0m\n\u001b[1;32m-> 1594\u001b[1;33m             \u001b[0mkeyarr\u001b[0m\u001b[1;33m,\u001b[0m \u001b[0mindexer\u001b[0m \u001b[1;33m=\u001b[0m \u001b[0mself\u001b[0m\u001b[1;33m.\u001b[0m\u001b[0m_get_listlike_indexer\u001b[0m\u001b[1;33m(\u001b[0m\u001b[0mkey\u001b[0m\u001b[1;33m,\u001b[0m \u001b[0maxis\u001b[0m\u001b[1;33m,\u001b[0m \u001b[0mraise_missing\u001b[0m\u001b[1;33m=\u001b[0m\u001b[1;32mFalse\u001b[0m\u001b[1;33m)\u001b[0m\u001b[1;33m\u001b[0m\u001b[1;33m\u001b[0m\u001b[0m\n\u001b[0m\u001b[0;32m   1595\u001b[0m             return self.obj._reindex_with_indexers(\n\u001b[0;32m   1596\u001b[0m                 \u001b[1;33m{\u001b[0m\u001b[0maxis\u001b[0m\u001b[1;33m:\u001b[0m \u001b[1;33m[\u001b[0m\u001b[0mkeyarr\u001b[0m\u001b[1;33m,\u001b[0m \u001b[0mindexer\u001b[0m\u001b[1;33m]\u001b[0m\u001b[1;33m}\u001b[0m\u001b[1;33m,\u001b[0m \u001b[0mcopy\u001b[0m\u001b[1;33m=\u001b[0m\u001b[1;32mTrue\u001b[0m\u001b[1;33m,\u001b[0m \u001b[0mallow_dups\u001b[0m\u001b[1;33m=\u001b[0m\u001b[1;32mTrue\u001b[0m\u001b[1;33m\u001b[0m\u001b[1;33m\u001b[0m\u001b[0m\n",
      "\u001b[1;32m~\\anaconda3\\lib\\site-packages\\pandas\\core\\indexing.py\u001b[0m in \u001b[0;36m_get_listlike_indexer\u001b[1;34m(self, key, axis, raise_missing)\u001b[0m\n\u001b[0;32m   1550\u001b[0m \u001b[1;33m\u001b[0m\u001b[0m\n\u001b[0;32m   1551\u001b[0m         self._validate_read_indexer(\n\u001b[1;32m-> 1552\u001b[1;33m             \u001b[0mkeyarr\u001b[0m\u001b[1;33m,\u001b[0m \u001b[0mindexer\u001b[0m\u001b[1;33m,\u001b[0m \u001b[0mo\u001b[0m\u001b[1;33m.\u001b[0m\u001b[0m_get_axis_number\u001b[0m\u001b[1;33m(\u001b[0m\u001b[0maxis\u001b[0m\u001b[1;33m)\u001b[0m\u001b[1;33m,\u001b[0m \u001b[0mraise_missing\u001b[0m\u001b[1;33m=\u001b[0m\u001b[0mraise_missing\u001b[0m\u001b[1;33m\u001b[0m\u001b[1;33m\u001b[0m\u001b[0m\n\u001b[0m\u001b[0;32m   1553\u001b[0m         )\n\u001b[0;32m   1554\u001b[0m         \u001b[1;32mreturn\u001b[0m \u001b[0mkeyarr\u001b[0m\u001b[1;33m,\u001b[0m \u001b[0mindexer\u001b[0m\u001b[1;33m\u001b[0m\u001b[1;33m\u001b[0m\u001b[0m\n",
      "\u001b[1;32m~\\anaconda3\\lib\\site-packages\\pandas\\core\\indexing.py\u001b[0m in \u001b[0;36m_validate_read_indexer\u001b[1;34m(self, key, indexer, axis, raise_missing)\u001b[0m\n\u001b[0;32m   1637\u001b[0m             \u001b[1;32mif\u001b[0m \u001b[0mmissing\u001b[0m \u001b[1;33m==\u001b[0m \u001b[0mlen\u001b[0m\u001b[1;33m(\u001b[0m\u001b[0mindexer\u001b[0m\u001b[1;33m)\u001b[0m\u001b[1;33m:\u001b[0m\u001b[1;33m\u001b[0m\u001b[1;33m\u001b[0m\u001b[0m\n\u001b[0;32m   1638\u001b[0m                 \u001b[0maxis_name\u001b[0m \u001b[1;33m=\u001b[0m \u001b[0mself\u001b[0m\u001b[1;33m.\u001b[0m\u001b[0mobj\u001b[0m\u001b[1;33m.\u001b[0m\u001b[0m_get_axis_name\u001b[0m\u001b[1;33m(\u001b[0m\u001b[0maxis\u001b[0m\u001b[1;33m)\u001b[0m\u001b[1;33m\u001b[0m\u001b[1;33m\u001b[0m\u001b[0m\n\u001b[1;32m-> 1639\u001b[1;33m                 \u001b[1;32mraise\u001b[0m \u001b[0mKeyError\u001b[0m\u001b[1;33m(\u001b[0m\u001b[1;34mf\"None of [{key}] are in the [{axis_name}]\"\u001b[0m\u001b[1;33m)\u001b[0m\u001b[1;33m\u001b[0m\u001b[1;33m\u001b[0m\u001b[0m\n\u001b[0m\u001b[0;32m   1640\u001b[0m \u001b[1;33m\u001b[0m\u001b[0m\n\u001b[0;32m   1641\u001b[0m             \u001b[1;31m# We (temporarily) allow for some missing keys with .loc, except in\u001b[0m\u001b[1;33m\u001b[0m\u001b[1;33m\u001b[0m\u001b[1;33m\u001b[0m\u001b[0m\n",
      "\u001b[1;31mKeyError\u001b[0m: \"None of [Index(['max_P', 'inertia', 'utility', 'reliability'], dtype='object')] are in the [columns]\""
     ]
    }
   ],
   "source": [
    "maximum_regret = {}\n",
    "for key in outcomes.keys():\n",
    "    maximum_regret[key] = {np.max(outcomes[key])-np.min(outcomes[key])}\n",
    "    \n",
    "outcomes = experiments.loc[:, ['max_P', 'inertia', 'utility', 'reliability']]\n",
    "limits = parcoords.get_limits(outcomes)\n",
    "axes = parcoords.ParallelAxes(limits)\n",
    "axes.plot(outcomes)\n",
    "\n",
    "# we invert this axis so direction of desirability is the same \n",
    "axes.invert_axis('max_P') \n",
    "plt.show()"
   ]
  },
  {
   "cell_type": "markdown",
   "metadata": {},
   "source": [
    "We now have an understanding of which solutions have decent robustness using 2 different robustness metrics. A related but different question is to assess the uncertain conditions under which we get poor performance. For this, we can use scenario discovery. Since we want to identify the uncertainties only, we can remove the policy column from the experiments DataFrame. \n",
    "\n",
    "**Perform Scenario Discovery, focussed on understanding the conditions under which utility is lower than 0.25**\n",
    "\n",
    "from the trade off curve between coverage, density and number of restricted dimensions, select a point which balances them. Next, using the `yi` attribute, select from the experiments data frame the rows which are within the box as well as the outcomes associated with these experiments.Save these results. They are the starting point for the next assignment. In pseudo code:\n",
    "\n",
    "```python\n",
    "from ema_workbench import save_results\n",
    "\n",
    "selected_experiments = experiments.iloc[box.yi]\n",
    "selected_outcomes = {k:v[box.yi] for k,v in outcomes.items()}\n",
    "\n",
    "save_results((selected_experiments, selected_outcomes), './results/selected_results.tar.gz')\n",
    "```\n",
    "\n",
    "\n",
    "\n"
   ]
  },
  {
   "cell_type": "code",
   "execution_count": null,
   "metadata": {},
   "outputs": [],
   "source": []
  },
  {
   "cell_type": "code",
   "execution_count": null,
   "metadata": {},
   "outputs": [],
   "source": []
  }
 ],
 "metadata": {
  "anaconda-cloud": {},
  "kernelspec": {
   "display_name": "Python 3",
   "language": "python",
   "name": "python3"
  },
  "language_info": {
   "codemirror_mode": {
    "name": "ipython",
    "version": 3
   },
   "file_extension": ".py",
   "mimetype": "text/x-python",
   "name": "python",
   "nbconvert_exporter": "python",
   "pygments_lexer": "ipython3",
   "version": "3.7.6"
  },
  "latex_envs": {
   "LaTeX_envs_menu_present": true,
   "autocomplete": true,
   "bibliofile": "biblio.bib",
   "cite_by": "apalike",
   "current_citInitial": 1,
   "eqLabelWithNumbers": true,
   "eqNumInitial": 1,
   "hotkeys": {
    "equation": "Ctrl-E",
    "itemize": "Ctrl-I"
   },
   "labels_anchors": false,
   "latex_user_defs": false,
   "report_style_numbering": false,
   "user_envs_cfg": false
  }
 },
 "nbformat": 4,
 "nbformat_minor": 4
}
