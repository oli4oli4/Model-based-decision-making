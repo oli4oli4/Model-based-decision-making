{
 "cells": [
  {
   "cell_type": "markdown",
   "metadata": {},
   "source": [
    "# EPA1361 - Model-Based Decision Making\n",
    "# Week 3 - Sensitivity analysis\n",
    "\n",
    "This exercise uses the same predator-prey model we used for the multi-model exercise, focusing on the Python version. As with the other exercise, define a model object for the function below, with the uncertainty ranges provided:\n",
    "\n",
    "|Parameter\t|Range or value\t        |\n",
    "|-----------|--------------:|\n",
    "|prey_birth_rate    \t|0.015 – 0.035\t|\n",
    "|predation_rate|0.0005 – 0.003 \t|\n",
    "|predator_efficiency     \t|0.001 – 0.004\t    |\n",
    "|predator_loss_rate\t    |0.04 – 0.08\t    |\n",
    "\n",
    "* Sensitivity analysis often focuses on the final values of an outcome at the end of the simulation. However, we can also look at metrics that give us additional information about the behavior of the model over time. Using [the statsmodel library](https://www.statsmodels.org/stable/index.html) and an appropriate sampling design, fit a linear regression model for each of the following indicators. What can we conclude about the behavior of the model, and about the importance of the different inputs?\n",
    "\n",
    "  * The final values of the _prey_ outcome\n",
    "  * The mean values of the _prey_ outcome over time, within each experiment\n",
    "  * The standard deviations of the _prey_ outcome over time, within each experiment\n",
    "  \n",
    "\n",
    "* Use the Sobol sampling functionality included in the Workbench to perform experiments with a sample size of N=50, then analyze the results with SALib for the same three indicators. This requires specifying the keyword argument `'uncertainty_sampling'` of perform_experiments. Note that when using Sobol sampling, the meaning of the keyword argument `scenarios` changes a bit. In order to properly estimate Sobol scores as well as interaction effects, you require N * (2D+2) scenarios, where D is the number of uncertain parameters, and N is the value for scenarios passed to `perform_experiments`. Repeat the analysis for larger sample sizes, with N=250 and N=1000. How can we interpret the first-order and total indices? Are these sample sizes sufficient for a stable estimation of the indices? You'll need to use the [get_SALib_problem](https://emaworkbench.readthedocs.io/en/latest/ema_documentation/em_framework/salib_samplers.html) function to convert your Workbench experiments to a problem definition that you can pass to the SALib analysis function. \n",
    "\n",
    "* *hint*: sobol is a deterministic sequence of quasi random numbers. Thus, you can run with N=1000 and simply slice for 1:50 and 1:250.\n",
    "\n",
    "* Use the [Extra-Trees analysis](https://emaworkbench.readthedocs.io/en/latest/ema_documentation/analysis/feature_scoring.html) included in the Workbench to approximate the Sobol total indices, with a suitable sampling design. As a starting point, use an ensemble of 100 trees and a max_features parameter of 0.6, and set the analysis to regression mode. Are the estimated importances stable relative to the sample size and the analysis parameters? How do the results compare to the Sobol indices? For more details on this analysis see [Jaxa-Rozen & Kwakkel (2018)](https://www.sciencedirect.com/science/article/pii/S1364815217311581)"
   ]
  },
  {
   "cell_type": "code",
   "execution_count": 15,
   "metadata": {
    "collapsed": false,
    "jupyter": {
     "outputs_hidden": false
    }
   },
   "outputs": [],
   "source": [
    "import pandas as pd\n",
    "import numpy as np\n",
    "import matplotlib.pyplot as plt\n",
    "import seaborn as sns\n",
    "\n",
    "from ema_workbench import (Model, RealParameter, TimeSeriesOutcome,ScalarOutcome, perform_experiments, ema_logging, SequentialEvaluator, MultiprocessingEvaluator)\n",
    "ema_logging.log_to_stderr(ema_logging.INFO)\n",
    "\n",
    "from ema_workbench.em_framework.evaluators import LHS, SOBOL, MORRIS\n",
    "\n",
    "from ema_workbench.analysis import feature_scoring\n",
    "from ema_workbench.analysis.scenario_discovery_util import RuleInductionType\n",
    "from ema_workbench.em_framework.salib_samplers import get_SALib_problem\n",
    "from SALib.analyze import sobol\n",
    "\n",
    "def pred_prey(prey_birth_rate=0.025, predation_rate=0.0015, predator_efficiency=0.002,\n",
    "             predator_loss_rate=0.06, initial_prey=50, initial_predators=20, dt=0.25, \n",
    "             final_time=365, reps=1):\n",
    "\n",
    "    #Initial values\n",
    "    predators = np.zeros((reps, int(final_time/dt)+1))\n",
    "    prey = np.zeros((reps, int(final_time/dt)+1))\n",
    "    sim_time = np.zeros((reps, int(final_time/dt)+1))\n",
    "    \n",
    "    for r in range(reps):\n",
    "\n",
    "        predators[r,0] = initial_predators\n",
    "        prey[r,0] = initial_prey\n",
    "\n",
    "    #Calculate the time series\n",
    "    for t in range(0, sim_time.shape[1]-1):\n",
    "\n",
    "        dx = (prey_birth_rate*prey[r,t]) - (predation_rate*prey[r,t]*predators[r,t])\n",
    "        dy = (predator_efficiency*predators[r,t]*prey[r,t]) - (predator_loss_rate*predators[r,t])\n",
    "\n",
    "        prey[r,t+1] = max(prey[r,t] + dx*dt, 0)\n",
    "        predators[r,t+1] = max(predators[r,t] + dy*dt, 0)\n",
    "        sim_time[r,t+1] = (t+1)*dt\n",
    "    \n",
    "    #Return outcomes\n",
    "    return {'TIME':sim_time,\n",
    "            'predators':predators,\n",
    "            'prey':prey}"
   ]
  },
  {
   "cell_type": "code",
   "execution_count": 23,
   "metadata": {},
   "outputs": [
    {
     "name": "stderr",
     "output_type": "stream",
     "text": [
      "[MainProcess/INFO] performing 10000 scenarios * 1 policies * 1 model(s) = 10000 experiments\n",
      "[MainProcess/INFO] performing experiments sequentially\n",
      "[MainProcess/INFO] 1000 cases completed\n",
      "[MainProcess/INFO] 2000 cases completed\n",
      "[MainProcess/INFO] 3000 cases completed\n",
      "[MainProcess/INFO] 4000 cases completed\n",
      "[MainProcess/INFO] 5000 cases completed\n",
      "[MainProcess/INFO] 6000 cases completed\n",
      "[MainProcess/INFO] 7000 cases completed\n",
      "[MainProcess/INFO] 8000 cases completed\n",
      "[MainProcess/INFO] 9000 cases completed\n",
      "[MainProcess/INFO] 10000 cases completed\n",
      "[MainProcess/INFO] experiments finished\n"
     ]
    }
   ],
   "source": [
    "model = Model(\"predprey\", function=pred_prey)\n",
    "model.uncertainties = [RealParameter('prey_birth_rate', 0.015, 0.035),\n",
    "                           RealParameter('predation_rate', 0.0005, 0.003),\n",
    "                           RealParameter('predator_efficiency', 0.001, 0.004),\n",
    "                           RealParameter('predator_loss_rate', 0.04, 0.08)\n",
    "                          ]\n",
    "model.outcomes = [TimeSeriesOutcome('prey'),\n",
    "                      TimeSeriesOutcome('predators')\n",
    "                     ]\n",
    "model.run_length = int(1460)\n",
    "model.replications = 5\n",
    "N = 1000\n",
    "\n",
    "with SequentialEvaluator(model) as evaluator: #MultiprocessingEvaluator does not work for me\n",
    "    results = perform_experiments(model, scenarios=N, evaluator = evaluator, uncertainty_sampling=\"sobol\")\n",
    "experiments, outcomes = results\n",
    "\n",
    "prey_final_sobol = outcomes['prey'][:,0,-1]\n",
    "prey_mean_sobol = np.mean(outcomes['prey'][:,0,:],axis=1)\n",
    "prey_std_sobol = np.std(outcomes['prey'][:,0,:],axis=1)\n"
   ]
  },
  {
   "cell_type": "code",
   "execution_count": 22,
   "metadata": {},
   "outputs": [],
   "source": [
    "import statsmodels.api as sm\n",
    "import statsmodels.formula.api as ols\n",
    "from patsy import dmatrices\n",
    "\n",
    "# Does not work...\n",
    "# mod = sm.OLS(prey_final_sobol, experiments)\n",
    "# res = mod.fit()\n",
    "# print(res.summary())"
   ]
  },
  {
   "cell_type": "code",
   "execution_count": 24,
   "metadata": {},
   "outputs": [
    {
     "data": {
      "image/png": "[encoded data removed]",
      "text/plain": [
       "<Figure size 576x432 with 1 Axes>"
      ]
     },
     "metadata": {},
     "output_type": "display_data"
    }
   ],
   "source": [
    "problem = get_SALib_problem(model.uncertainties)\n",
    "Si = sobol.analyze(problem, prey_final_sobol,\n",
    "                   calc_second_order=True, print_to_console=False)\n",
    "\n",
    "scores_filtered = {k:Si[k] for k in ['ST','ST_conf','S1','S1_conf']}\n",
    "Si_df = pd.DataFrame(scores_filtered, index=problem['names'])\n",
    "\n",
    "sns.set_style('white')\n",
    "fig, ax = plt.subplots(1)\n",
    "\n",
    "indices = Si_df[['S1','ST']]\n",
    "err = Si_df[['S1_conf','ST_conf']]\n",
    "\n",
    "indices.plot.bar(yerr=err.values.T,ax=ax)\n",
    "fig.set_size_inches(8,6)\n",
    "fig.subplots_adjust(bottom=0.3)\n",
    "plt.show()"
   ]
  },
  {
   "cell_type": "code",
   "execution_count": 47,
   "metadata": {},
   "outputs": [],
   "source": [
    "# All does not work for extra-trees analysis\n",
    "\n",
    "from ema_workbench.analysis import feature_scoring\n",
    "# fs = feature_scoring.get_feature_scores_all(experiments, outcomes)\n",
    "# fs = feature_scoring.get_feature_scores_all(experiments, prey_final_sobol)\n",
    "# sns.heatmap(fs, cmap='viridis', annot=True)\n",
    "# plt.show()\n",
    "\n",
    "\n",
    "# ema_workbench.analysis.feature_scoring.F_REGRESSION(experiments, outcomes['prey']) \n",
    "# ema_workbench.analysis.feature_scoring.F_REGRESSION(experiments, prey_final_sobol) "
   ]
  },
  {
   "cell_type": "code",
   "execution_count": null,
   "metadata": {},
   "outputs": [],
   "source": []
  }
 ],
 "metadata": {
  "kernelspec": {
   "display_name": "Python 3",
   "language": "python",
   "name": "python3"
  },
  "language_info": {
   "codemirror_mode": {
    "name": "ipython",
    "version": 3
   },
   "file_extension": ".py",
   "mimetype": "text/x-python",
   "name": "python",
   "nbconvert_exporter": "python",
   "pygments_lexer": "ipython3",
   "version": "3.7.6"
  }
 },
 "nbformat": 4,
 "nbformat_minor": 4
}
