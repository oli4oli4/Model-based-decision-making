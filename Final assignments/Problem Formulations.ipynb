{
 "cells": [
  {
   "cell_type": "code",
   "execution_count": 1,
   "metadata": {},
   "outputs": [],
   "source": [
    "import numpy as np\n",
    "import scipy as sp\n",
    "import pandas as pd\n",
    "import matplotlib.pyplot as plt\n",
    "import seaborn as sns\n",
    "import networkx as nx"
   ]
  },
  {
   "cell_type": "code",
   "execution_count": 2,
   "metadata": {},
   "outputs": [
    {
     "name": "stdout",
     "output_type": "stream",
     "text": [
      "1.0.1\n",
      "2.4\n"
     ]
    }
   ],
   "source": [
    "# make sure pandas is version 1.0 or higher\n",
    "# make sure networkx is verion 2.4 or higher\n",
    "print(pd.__version__)\n",
    "print(nx.__version__)"
   ]
  },
  {
   "cell_type": "code",
   "execution_count": 3,
   "metadata": {
    "scrolled": true
   },
   "outputs": [],
   "source": [
    "from ema_workbench import (Model, CategoricalParameter,\n",
    "                           ScalarOutcome, IntegerParameter, RealParameter)\n",
    "from dike_model_function import DikeNetwork  # @UnresolvedImport\n",
    "\n",
    "\n",
    "def sum_over(*args):\n",
    "    return sum(args)"
   ]
  },
  {
   "cell_type": "code",
   "execution_count": 4,
   "metadata": {},
   "outputs": [],
   "source": [
    "from ema_workbench import (Model, MultiprocessingEvaluator, Policy, Scenario)\n",
    "\n",
    "from ema_workbench.em_framework.evaluators import perform_experiments\n",
    "from ema_workbench.em_framework.samplers import sample_uncertainties\n",
    "from ema_workbench.util import ema_logging\n",
    "import time\n",
    "from problem_formulation import get_model_for_problem_formulation\n",
    "\n",
    "\n",
    "ema_logging.log_to_stderr(ema_logging.INFO)\n",
    "\n",
    "#choose problem formulation number, between 0-5\n",
    "#each problem formulation has its own list of outcomes\n",
    "dike_model, planning_steps = get_model_for_problem_formulation(6)"
   ]
  },
  {
   "cell_type": "code",
   "execution_count": 5,
   "metadata": {},
   "outputs": [
    {
     "data": {
      "text/plain": [
       "<ema_workbench.em_framework.model.Model at 0x2ad1b23fe48>"
      ]
     },
     "execution_count": 5,
     "metadata": {},
     "output_type": "execute_result"
    }
   ],
   "source": [
    "dike_model"
   ]
  },
  {
   "cell_type": "code",
   "execution_count": 6,
   "metadata": {},
   "outputs": [
    {
     "name": "stdout",
     "output_type": "stream",
     "text": [
      "CategoricalParameter('discount rate 0', [0, 1, 2, 3])\n",
      "CategoricalParameter('discount rate 1', [0, 1, 2, 3])\n",
      "CategoricalParameter('discount rate 2', [0, 1, 2, 3])\n",
      "IntegerParameter('A.0_ID flood wave shape', 0, 132)\n",
      "RealParameter('A.1_Bmax', 30, 350)\n",
      "RealParameter('A.1_pfail', 0, 1)\n",
      "CategoricalParameter('A.1_Brate', [0, 1, 2])\n",
      "RealParameter('A.2_Bmax', 30, 350)\n",
      "RealParameter('A.2_pfail', 0, 1)\n",
      "CategoricalParameter('A.2_Brate', [0, 1, 2])\n",
      "RealParameter('A.3_Bmax', 30, 350)\n",
      "RealParameter('A.3_pfail', 0, 1)\n",
      "CategoricalParameter('A.3_Brate', [0, 1, 2])\n",
      "RealParameter('A.4_Bmax', 30, 350)\n",
      "RealParameter('A.4_pfail', 0, 1)\n",
      "CategoricalParameter('A.4_Brate', [0, 1, 2])\n",
      "RealParameter('A.5_Bmax', 30, 350)\n",
      "RealParameter('A.5_pfail', 0, 1)\n",
      "CategoricalParameter('A.5_Brate', [0, 1, 2])\n"
     ]
    }
   ],
   "source": [
    "#enlisting uncertainties, their types (RealParameter/IntegerParameter/CategoricalParameter), lower boundary, and upper boundary\n",
    "for unc in dike_model.uncertainties:\n",
    "    print(repr(unc))\n",
    "    \n",
    "uncertainties = dike_model.uncertainties\n",
    "\n",
    "import copy\n",
    "uncertainties = copy.deepcopy(dike_model.uncertainties)"
   ]
  },
  {
   "cell_type": "code",
   "execution_count": 7,
   "metadata": {},
   "outputs": [
    {
     "name": "stdout",
     "output_type": "stream",
     "text": [
      "IntegerParameter('0_RfR 0', 0, 1)\n",
      "IntegerParameter('0_RfR 1', 0, 1)\n",
      "IntegerParameter('0_RfR 2', 0, 1)\n",
      "IntegerParameter('1_RfR 0', 0, 1)\n",
      "IntegerParameter('1_RfR 1', 0, 1)\n",
      "IntegerParameter('1_RfR 2', 0, 1)\n",
      "IntegerParameter('2_RfR 0', 0, 1)\n",
      "IntegerParameter('2_RfR 1', 0, 1)\n",
      "IntegerParameter('2_RfR 2', 0, 1)\n",
      "IntegerParameter('3_RfR 0', 0, 1)\n",
      "IntegerParameter('3_RfR 1', 0, 1)\n",
      "IntegerParameter('3_RfR 2', 0, 1)\n",
      "IntegerParameter('4_RfR 0', 0, 1)\n",
      "IntegerParameter('4_RfR 1', 0, 1)\n",
      "IntegerParameter('4_RfR 2', 0, 1)\n",
      "IntegerParameter('EWS_DaysToThreat', 0, 4)\n",
      "IntegerParameter('A.1_DikeIncrease 0', 0, 10)\n",
      "IntegerParameter('A.1_DikeIncrease 1', 0, 10)\n",
      "IntegerParameter('A.1_DikeIncrease 2', 0, 10)\n",
      "IntegerParameter('A.2_DikeIncrease 0', 0, 10)\n",
      "IntegerParameter('A.2_DikeIncrease 1', 0, 10)\n",
      "IntegerParameter('A.2_DikeIncrease 2', 0, 10)\n",
      "IntegerParameter('A.3_DikeIncrease 0', 0, 10)\n",
      "IntegerParameter('A.3_DikeIncrease 1', 0, 10)\n",
      "IntegerParameter('A.3_DikeIncrease 2', 0, 10)\n",
      "IntegerParameter('A.4_DikeIncrease 0', 0, 10)\n",
      "IntegerParameter('A.4_DikeIncrease 1', 0, 10)\n",
      "IntegerParameter('A.4_DikeIncrease 2', 0, 10)\n",
      "IntegerParameter('A.5_DikeIncrease 0', 0, 10)\n",
      "IntegerParameter('A.5_DikeIncrease 1', 0, 10)\n",
      "IntegerParameter('A.5_DikeIncrease 2', 0, 10)\n"
     ]
    }
   ],
   "source": [
    "#enlisting policy levers, their types (RealParameter/IntegerParameter), lower boundary, and upper boundary\n",
    "for policy in dike_model.levers:\n",
    "    print(repr(policy))\n",
    "    \n",
    "levers = dike_model.levers \n",
    "\n",
    "import copy\n",
    "levers = copy.deepcopy(dike_model.levers)"
   ]
  },
  {
   "cell_type": "code",
   "execution_count": 8,
   "metadata": {},
   "outputs": [
    {
     "name": "stdout",
     "output_type": "stream",
     "text": [
      "ScalarOutcome('Ring1/2_Expected Annual Damage', variable_name=['A.1_Expected Annual Damage 0', 'A.2_Expected Annual Damage 0', 'A.1_Expected Annual Damage 1', 'A.2_Expected Annual Damage 1', 'A.1_Expected Annual Damage 2', 'A.2_Expected Annual Damage 2'], function=<function sum_over at 0x000002AD1B21CEE8>)\n",
      "ScalarOutcome('Ring1/2_Expected Number of Deaths', variable_name=['A.1_Expected Number of Deaths 0', 'A.2_Expected Number of Deaths 0', 'A.1_Expected Number of Deaths 1', 'A.2_Expected Number of Deaths 1', 'A.1_Expected Number of Deaths 2', 'A.2_Expected Number of Deaths 2'], function=<function sum_over at 0x000002AD1B21CEE8>)\n",
      "ScalarOutcome('Ring3_Expected Annual Damage', variable_name=['A.3_Expected Annual Damage 0', 'A.3_Expected Annual Damage 1', 'A.3_Expected Annual Damage 2'], function=<function sum_over at 0x000002AD1B21CEE8>)\n",
      "ScalarOutcome('Ring3_Expected Number of Deaths', variable_name=['A.3_Expected Number of Deaths 0', 'A.3_Expected Number of Deaths 1', 'A.3_Expected Number of Deaths 2'], function=<function sum_over at 0x000002AD1B21CEE8>)\n",
      "ScalarOutcome('Gelderland Total Investment Costs', variable_name=['A.1_Dike Investment Costs 0', 'A.2_Dike Investment Costs 0', 'A.3_Dike Investment Costs 0', 'A.4_Dike Investment Costs 0', 'A.5_Dike Investment Costs 0', 'RfR Total Costs 0', 'A.1_Dike Investment Costs 1', 'A.2_Dike Investment Costs 1', 'A.3_Dike Investment Costs 1', 'A.4_Dike Investment Costs 1', 'A.5_Dike Investment Costs 1', 'RfR Total Costs 1', 'A.1_Dike Investment Costs 2', 'A.2_Dike Investment Costs 2', 'A.3_Dike Investment Costs 2', 'A.4_Dike Investment Costs 2', 'A.5_Dike Investment Costs 2', 'RfR Total Costs 2'], function=<function sum_over at 0x000002AD1B21CEE8>)\n",
      "ScalarOutcome('Expected Evacuation Costs', variable_name=['Expected Evacuation Costs 0', 'Expected Evacuation Costs 1', 'Expected Evacuation Costs 2'], function=<function sum_over at 0x000002AD1B21CEE8>)\n",
      "ScalarOutcome('Total all costs', variable_name=['A.1_Expected Annual Damage 0', 'A.1_Dike Investment Costs 0', 'A.1_Expected Number of Deaths 0', 'A.2_Expected Annual Damage 0', 'A.2_Dike Investment Costs 0', 'A.2_Expected Number of Deaths 0', 'A.3_Expected Annual Damage 0', 'A.3_Dike Investment Costs 0', 'A.3_Expected Number of Deaths 0', 'A.4_Expected Annual Damage 0', 'A.4_Dike Investment Costs 0', 'A.4_Expected Number of Deaths 0', 'A.5_Expected Annual Damage 0', 'A.5_Dike Investment Costs 0', 'A.5_Expected Number of Deaths 0', 'RfR Total Costs 0', 'Expected Evacuation Costs 0', 'A.1_Expected Annual Damage 1', 'A.1_Dike Investment Costs 1', 'A.1_Expected Number of Deaths 1', 'A.2_Expected Annual Damage 1', 'A.2_Dike Investment Costs 1', 'A.2_Expected Number of Deaths 1', 'A.3_Expected Annual Damage 1', 'A.3_Dike Investment Costs 1', 'A.3_Expected Number of Deaths 1', 'A.4_Expected Annual Damage 1', 'A.4_Dike Investment Costs 1', 'A.4_Expected Number of Deaths 1', 'A.5_Expected Annual Damage 1', 'A.5_Dike Investment Costs 1', 'A.5_Expected Number of Deaths 1', 'RfR Total Costs 1', 'Expected Evacuation Costs 1', 'A.1_Expected Annual Damage 2', 'A.1_Dike Investment Costs 2', 'A.1_Expected Number of Deaths 2', 'A.2_Expected Annual Damage 2', 'A.2_Dike Investment Costs 2', 'A.2_Expected Number of Deaths 2', 'A.3_Expected Annual Damage 2', 'A.3_Dike Investment Costs 2', 'A.3_Expected Number of Deaths 2', 'A.4_Expected Annual Damage 2', 'A.4_Dike Investment Costs 2', 'A.4_Expected Number of Deaths 2', 'A.5_Expected Annual Damage 2', 'A.5_Dike Investment Costs 2', 'A.5_Expected Number of Deaths 2', 'RfR Total Costs 2', 'Expected Evacuation Costs 2'], function=<function sum_over at 0x000002AD1B21CEE8>)\n"
     ]
    }
   ],
   "source": [
    "#enlisting outcomes\n",
    "for outcome in dike_model.outcomes:\n",
    "    print(repr(outcome))"
   ]
  },
  {
   "cell_type": "code",
   "execution_count": 41,
   "metadata": {},
   "outputs": [
    {
     "name": "stderr",
     "output_type": "stream",
     "text": [
      "[MainProcess/INFO] pool started\n",
      "[MainProcess/INFO] performing 100 scenarios * 20 policies * 1 model(s) = 2000 experiments\n",
      "[MainProcess/INFO] 200 cases completed\n",
      "[MainProcess/INFO] 400 cases completed\n",
      "[MainProcess/INFO] 600 cases completed\n",
      "[MainProcess/INFO] 800 cases completed\n",
      "[MainProcess/INFO] 1000 cases completed\n",
      "[MainProcess/INFO] 1200 cases completed\n",
      "[MainProcess/INFO] 1400 cases completed\n",
      "[MainProcess/INFO] 1600 cases completed\n",
      "[MainProcess/INFO] 1800 cases completed\n",
      "[MainProcess/INFO] 2000 cases completed\n",
      "[MainProcess/INFO] experiments finished\n",
      "[MainProcess/INFO] terminating pool\n"
     ]
    },
    {
     "name": "stdout",
     "output_type": "stream",
     "text": [
      "dict_keys(['Ring1/2_Expected Annual Damage', 'Ring1/2_Expected Number of Deaths', 'Ring3_Expected Annual Damage', 'Ring3_Expected Number of Deaths', 'Gelderland Total Investment Costs', 'Expected Evacuation Costs', 'Total all costs'])\n"
     ]
    }
   ],
   "source": [
    "#running the model through EMA workbench\n",
    "from ema_workbench import (MultiprocessingEvaluator, ema_logging,\n",
    "                           perform_experiments, SequentialEvaluator)\n",
    "ema_logging.log_to_stderr(ema_logging.INFO)\n",
    " \n",
    "with MultiprocessingEvaluator(dike_model) as evaluator:\n",
    "    results_random = evaluator.perform_experiments(scenarios=100, policies=20)\n",
    "    \n",
    "experiments, outcomes = results_random\n",
    "print(outcomes.keys())"
   ]
  },
  {
   "cell_type": "code",
   "execution_count": 48,
   "metadata": {
    "scrolled": true
   },
   "outputs": [
    {
     "name": "stderr",
     "output_type": "stream",
     "text": [
      "[MainProcess/INFO] model dropped from analysis because only a single category\n",
      "[MainProcess/INFO] 2000 points remaining, containing 400 cases of interest\n",
      "[MainProcess/INFO] mean: 1.0, mass: 0.15, coverage: 0.75, density: 1.0 restricted_dimensions: 3\n"
     ]
    },
    {
     "data": {
      "application/vnd.vegalite.v3+json": {
       "$schema": "https://vega.github.io/schema/vega-lite/v3.4.0.json",
       "config": {
        "mark": {
         "tooltip": null
        },
        "view": {
         "height": 300,
         "width": 400
        }
       },
       "datasets": {
        "data-3904b3ad8f92642e79e2c851df887415": [
         {
          "id": 1,
          "maximum": 1,
          "minimum": 0,
          "name": "3_RfR 1",
          "qp_lower": 1.46139569921855e-47,
          "qp_upper": -1,
          "x1": 0.5,
          "x2": 1
         },
         {
          "id": 2,
          "maximum": 1,
          "minimum": 0,
          "name": "0_RfR 2",
          "qp_lower": -1,
          "qp_upper": 7.798321456860471e-46,
          "x1": 0,
          "x2": 0.5
         },
         {
          "id": 2,
          "maximum": 1,
          "minimum": 0,
          "name": "3_RfR 1",
          "qp_lower": 1.1570079445297828e-76,
          "qp_upper": -1,
          "x1": 0.5,
          "x2": 1
         },
         {
          "id": 3,
          "maximum": 1,
          "minimum": 0,
          "name": "0_RfR 0",
          "qp_lower": 3.2989749474654967e-38,
          "qp_upper": -1,
          "x1": 0.5,
          "x2": 1
         },
         {
          "id": 3,
          "maximum": 1,
          "minimum": 0,
          "name": "0_RfR 2",
          "qp_lower": -1,
          "qp_upper": 2.7885286769592547e-67,
          "x1": 0,
          "x2": 0.5
         },
         {
          "id": 3,
          "maximum": 1,
          "minimum": 0,
          "name": "3_RfR 1",
          "qp_lower": 4.0454273997525505e-111,
          "qp_upper": -1,
          "x1": 0.5,
          "x2": 1
         }
        ],
        "data-9387419ceeb58a1d0f08e880506aeca3": [
         {
          "coverage": 1,
          "density": 0.2,
          "id": 0,
          "mass": 1,
          "mean": 0.2,
          "res_dim": 0
         },
         {
          "coverage": 1,
          "density": 0.4,
          "id": 1,
          "mass": 0.5,
          "mean": 0.4,
          "res_dim": 1
         },
         {
          "coverage": 0.75,
          "density": 0.75,
          "id": 2,
          "mass": 0.2,
          "mean": 0.75,
          "res_dim": 2
         },
         {
          "coverage": 0.75,
          "density": 1,
          "id": 3,
          "mass": 0.15,
          "mean": 1,
          "res_dim": 3
         }
        ],
        "data-bb8d07f6df3d47a6a475317795287b23": [
         {
          "end": 1,
          "start": 0
         }
        ],
        "data-d751713988987e9331980363e24189ce": []
       },
       "vconcat": [
        {
         "data": {
          "name": "data-9387419ceeb58a1d0f08e880506aeca3"
         },
         "encoding": {
          "color": {
           "field": "res_dim",
           "scale": {
            "range": [
             "#eff9b6",
             "#d0edb3",
             "#97d6b9",
             "#5dc0c0",
             "#31a5c2",
             "#1f80b8",
             "#2354a3",
             "#21318d"
            ]
           },
           "type": "ordinal"
          },
          "opacity": {
           "condition": {
            "selection": "selector007",
            "value": 1
           },
           "value": 0.4
          },
          "tooltip": [
           {
            "field": "id",
            "type": "ordinal"
           },
           {
            "field": "coverage",
            "format": ".2",
            "type": "quantitative"
           },
           {
            "field": "density",
            "format": ".2",
            "type": "quantitative"
           },
           {
            "field": "res_dim",
            "type": "ordinal"
           }
          ],
          "x": {
           "field": "coverage",
           "type": "quantitative"
          },
          "y": {
           "field": "density",
           "type": "quantitative"
          }
         },
         "height": 400,
         "mark": {
          "size": 75,
          "type": "circle"
         },
         "selection": {
          "selector007": {
           "fields": [
            "id"
           ],
           "type": "single"
          }
         },
         "width": 400
        },
        {
         "layer": [
          {
           "data": {
            "name": "data-3904b3ad8f92642e79e2c851df887415"
           },
           "encoding": {
            "x": {
             "axis": {
              "grid": false,
              "labels": false,
              "title": "box limits"
             },
             "field": "x_lower",
             "scale": {
              "domain": [
               0,
               1
              ],
              "padding": 0.1
             },
             "type": "quantitative"
            },
            "x2": {
             "field": "x_upper"
            },
            "y": {
             "field": "name",
             "scale": {
              "padding": 1
             },
             "type": "nominal"
            }
           },
           "mark": "rule",
           "transform": [
            {
             "as": "x_lower",
             "calculate": "(datum.x1-datum.minimum)/(datum.maximum-datum.minimum)"
            },
            {
             "as": "x_upper",
             "calculate": "(datum.x2-datum.minimum)/(datum.maximum-datum.minimum)"
            },
            {
             "filter": {
              "selection": "selector007"
             }
            }
           ],
           "width": 400
          },
          {
           "data": {
            "name": "data-3904b3ad8f92642e79e2c851df887415"
           },
           "encoding": {
            "text": {
             "field": "text",
             "type": "ordinal"
            },
            "x": {
             "axis": {
              "grid": false,
              "labels": false,
              "title": "box limits"
             },
             "field": "x_lower",
             "scale": {
              "domain": [
               0,
               1
              ],
              "padding": 0.1
             },
             "type": "quantitative"
            },
            "x2": {
             "field": "x_upper"
            },
            "y": {
             "field": "name",
             "scale": {
              "padding": 1
             },
             "type": "nominal"
            }
           },
           "mark": {
            "align": "left",
            "baseline": "top",
            "dy": 5,
            "type": "text"
           },
           "transform": [
            {
             "as": "x_lower",
             "calculate": "(datum.x1-datum.minimum)/(datum.maximum-datum.minimum)"
            },
            {
             "as": "x_upper",
             "calculate": "(datum.x2-datum.minimum)/(datum.maximum-datum.minimum)"
            },
            {
             "filter": {
              "selection": "selector007"
             }
            },
            {
             "as": "text",
             "calculate": "datum.qp_lower>0?format(datum.x1, \".2\")+\" (\"+format(datum.qp_lower, \".1~g\")+\")\" :format(datum.x1, \".2\")"
            }
           ],
           "width": 400
          },
          {
           "data": {
            "name": "data-3904b3ad8f92642e79e2c851df887415"
           },
           "encoding": {
            "text": {
             "field": "text",
             "type": "ordinal"
            },
            "x": {
             "field": "x_upper",
             "type": "quantitative"
            },
            "x2": {
             "field": "x_upper"
            },
            "y": {
             "field": "name",
             "scale": {
              "padding": 1
             },
             "type": "nominal"
            }
           },
           "mark": {
            "align": "right",
            "baseline": "top",
            "dy": 5,
            "type": "text"
           },
           "transform": [
            {
             "as": "x_lower",
             "calculate": "(datum.x1-datum.minimum)/(datum.maximum-datum.minimum)"
            },
            {
             "as": "x_upper",
             "calculate": "(datum.x2-datum.minimum)/(datum.maximum-datum.minimum)"
            },
            {
             "filter": {
              "selection": "selector007"
             }
            },
            {
             "as": "text",
             "calculate": "datum.qp_upper>0?format(datum.x2, \".2\")+\" (\"+format(datum.qp_upper, \".1\")+\")\" :format(datum.x2, \".2\")"
            }
           ],
           "width": 400
          },
          {
           "data": {
            "name": "data-bb8d07f6df3d47a6a475317795287b23"
           },
           "encoding": {
            "x": {
             "field": "start",
             "type": "quantitative"
            },
            "x2": {
             "field": "end"
            }
           },
           "mark": {
            "opacity": 0.05,
            "type": "rect"
           }
          },
          {
           "data": {
            "name": "data-d751713988987e9331980363e24189ce"
           },
           "encoding": {
            "x": {
             "field": "x",
             "type": "quantitative"
            },
            "y": {
             "field": "name",
             "type": "nominal"
            }
           },
           "mark": "point",
           "transform": [
            {
             "filter": {
              "selection": "selector007"
             }
            }
           ],
           "width": 400
          },
          {
           "data": {
            "name": "data-d751713988987e9331980363e24189ce"
           },
           "encoding": {
            "text": {
             "field": "item",
             "type": "nominal"
            },
            "x": {
             "field": "x",
             "type": "quantitative"
            },
            "y": {
             "field": "name",
             "type": "nominal"
            }
           },
           "mark": {
            "align": "center",
            "baseline": "top",
            "dy": 5,
            "type": "text"
           },
           "transform": [
            {
             "filter": {
              "selection": "selector007"
             }
            }
           ],
           "width": 400
          }
         ]
        }
       ]
      },
      "image/png": "[encoded data removed]",
      "text/plain": [
       "<VegaLite 3 object>\n",
       "\n",
       "If you see this message, it means the renderer has not been properly enabled\n",
       "for the frontend that you are using. For more information, see\n",
       "https://altair-viz.github.io/user_guide/troubleshooting.html\n"
      ]
     },
     "execution_count": 48,
     "metadata": {},
     "output_type": "execute_result"
    }
   ],
   "source": [
    "outcomes = pd.DataFrame(outcomes)\n",
    "outcomes_interest = outcomes['Gelderland Total Investment Costs'] > np.percentile(outcomes['Gelderland Total Investment Costs'],80)\n",
    "experiments_uncertain = experiments.iloc[:,:19]\n",
    "\n",
    "from ema_workbench.analysis import prim\n",
    "\n",
    "prim_alg = prim.Prim(experiments, outcomes_interest, threshold=0.8, peel_alpha=0.01)\n",
    "box1 = prim_alg.find_box()\n",
    "\n",
    "box1.inspect_tradeoff()"
   ]
  },
  {
   "cell_type": "code",
   "execution_count": 16,
   "metadata": {},
   "outputs": [],
   "source": [
    "#defining specific policies\n",
    "#policy 1 is about building all RFR projects\n",
    "#policy 2 is about maximise all dike hightning\n",
    "#policy 3 is random\n",
    "from ema_workbench import Policy\n",
    "\n",
    "policies = [Policy('full_rfr',       **{str(dike)+str('_RfR ')+str(n):1 for dike in range(5) for n in planning_steps}),\n",
    "           Policy('full_dikeheight', **{str('A.')+str(dike)+str('_DikeIncrease ')+str(n):10 for dike in range(5) for n in planning_steps}),\n",
    "           Policy('random',          **{})]"
   ]
  },
  {
   "cell_type": "code",
   "execution_count": 20,
   "metadata": {},
   "outputs": [
    {
     "name": "stderr",
     "output_type": "stream",
     "text": [
      "[MainProcess/INFO] pool started\n",
      "[MainProcess/INFO] performing 500 scenarios * 3 policies * 1 model(s) = 1500 experiments\n",
      "[MainProcess/INFO] 150 cases completed\n",
      "[MainProcess/INFO] 300 cases completed\n",
      "[MainProcess/INFO] 450 cases completed\n",
      "[MainProcess/INFO] 600 cases completed\n",
      "[MainProcess/INFO] 750 cases completed\n",
      "[MainProcess/INFO] 900 cases completed\n",
      "[MainProcess/INFO] 1050 cases completed\n",
      "[MainProcess/INFO] 1200 cases completed\n",
      "[MainProcess/INFO] 1350 cases completed\n",
      "[MainProcess/INFO] 1500 cases completed\n",
      "[MainProcess/INFO] experiments finished\n",
      "[MainProcess/INFO] terminating pool\n"
     ]
    }
   ],
   "source": [
    "#pass the policies list to EMA workbench experiment runs\n",
    "with MultiprocessingEvaluator(dike_model) as evaluator:\n",
    "    results_policy = evaluator.perform_experiments(500, policies)\n",
    "experiments, outcomes = results_policy"
   ]
  },
  {
   "cell_type": "code",
   "execution_count": 39,
   "metadata": {},
   "outputs": [
    {
     "name": "stderr",
     "output_type": "stream",
     "text": [
      "[MainProcess/INFO] 1500 points remaining, containing 156 cases of interest\n",
      "[MainProcess/INFO] mean: 0.2988505747126437, mass: 0.058, coverage: 0.16666666666666666, density: 0.2988505747126437 restricted_dimensions: 11\n"
     ]
    }
   ],
   "source": [
    "outcomes = pd.DataFrame(outcomes)\n",
    "outcomes_interest = outcomes['Gelderland Total Investment Costs'] > np.percentile(outcomes['Gelderland Total Investment Costs'],80)\n",
    "experiments_uncertain = experiments.iloc[:,:19]\n",
    "\n",
    "from ema_workbench.analysis import prim\n",
    "\n",
    "prim_alg = prim.Prim(experiments_uncertain, outcomes_interest, threshold=0.28, peel_alpha=0.1)\n",
    "box1 = prim_alg.find_box()"
   ]
  },
  {
   "cell_type": "code",
   "execution_count": 40,
   "metadata": {},
   "outputs": [
    {
     "data": {
      "application/vnd.vegalite.v3+json": {
       "$schema": "https://vega.github.io/schema/vega-lite/v3.4.0.json",
       "config": {
        "mark": {
         "tooltip": null
        },
        "view": {
         "height": 300,
         "width": 400
        }
       },
       "datasets": {
        "data-8dbffb3c4e41090c0a647f8ed29610f6": [
         {
          "id": 1,
          "maximum": 349.43029573133646,
          "minimum": 30.25965895769677,
          "name": "A.1_Bmax",
          "qp_lower": 0.2074143619066624,
          "qp_upper": -1,
          "x1": 61.94644328788596,
          "x2": 349.43029573133646
         },
         {
          "id": 2,
          "maximum": 349.43029573133646,
          "minimum": 30.25965895769677,
          "name": "A.1_Bmax",
          "qp_lower": 0.27597072440171705,
          "qp_upper": -1,
          "x1": 61.94644328788596,
          "x2": 349.43029573133646
         },
         {
          "id": 2,
          "maximum": 0.9985197246615385,
          "minimum": 0.0009163057431835191,
          "name": "A.1_pfail",
          "qp_lower": 0.304714347435368,
          "qp_upper": -1,
          "x1": 0.11071436330001574,
          "x2": 0.9985197246615385
         },
         {
          "id": 3,
          "maximum": 349.43029573133646,
          "minimum": 30.25965895769677,
          "name": "A.1_Bmax",
          "qp_lower": 0.3490319649651146,
          "qp_upper": -1,
          "x1": 61.94644328788596,
          "x2": 349.43029573133646
         },
         {
          "id": 3,
          "maximum": 0.9985197246615385,
          "minimum": 0.0009163057431835191,
          "name": "A.1_pfail",
          "qp_lower": 0.32252375061714156,
          "qp_upper": -1,
          "x1": 0.11071436330001574,
          "x2": 0.9985197246615385
         },
         {
          "id": 3,
          "maximum": 349.4038980852715,
          "minimum": 30.042563301086215,
          "name": "A.4_Bmax",
          "qp_lower": 0.32252375061714156,
          "qp_upper": -1,
          "x1": 66.43430275239629,
          "x2": 349.4038980852715
         },
         {
          "id": 4,
          "maximum": 349.43029573133646,
          "minimum": 30.25965895769677,
          "name": "A.1_Bmax",
          "qp_lower": 0.35558229573596556,
          "qp_upper": -1,
          "x1": 61.94644328788596,
          "x2": 349.43029573133646
         },
         {
          "id": 4,
          "maximum": 0.9985197246615385,
          "minimum": 0.0009163057431835191,
          "name": "A.1_pfail",
          "qp_lower": 0.28370336596662943,
          "qp_upper": -1,
          "x1": 0.11071436330001574,
          "x2": 0.9985197246615385
         },
         {
          "id": 4,
          "maximum": 349.4038980852715,
          "minimum": 30.042563301086215,
          "name": "A.4_Bmax",
          "qp_lower": 0.2923491076831221,
          "qp_upper": -1,
          "x1": 66.43430275239629,
          "x2": 349.4038980852715
         },
         {
          "id": 4,
          "maximum": 0.9991318433785732,
          "minimum": 0.0013020641427700884,
          "name": "A.4_pfail",
          "qp_lower": -1,
          "qp_upper": 0.34671787291030637,
          "x1": 0.0013020641427700884,
          "x2": 0.9071339021425504
         },
         {
          "id": 5,
          "maximum": 349.43029573133646,
          "minimum": 30.25965895769677,
          "name": "A.1_Bmax",
          "qp_lower": 0.40985421888940515,
          "qp_upper": -1,
          "x1": 61.94644328788596,
          "x2": 349.43029573133646
         },
         {
          "id": 5,
          "maximum": 0.9985197246615385,
          "minimum": 0.0009163057431835191,
          "name": "A.1_pfail",
          "qp_lower": 0.2900475483223123,
          "qp_upper": -1,
          "x1": 0.11071436330001574,
          "x2": 0.9985197246615385
         },
         {
          "id": 5,
          "maximum": 349.4038980852715,
          "minimum": 30.042563301086215,
          "name": "A.4_Bmax",
          "qp_lower": 0.34409006405778964,
          "qp_upper": -1,
          "x1": 66.43430275239629,
          "x2": 349.4038980852715
         },
         {
          "id": 5,
          "maximum": 0.9991318433785732,
          "minimum": 0.0013020641427700884,
          "name": "A.4_pfail",
          "qp_lower": -1,
          "qp_upper": 0.3583558069124908,
          "x1": 0.0013020641427700884,
          "x2": 0.9071339021425504
         },
         {
          "id": 6,
          "maximum": 349.43029573133646,
          "minimum": 30.25965895769677,
          "name": "A.1_Bmax",
          "qp_lower": 0.39759290780501017,
          "qp_upper": -1,
          "x1": 61.94644328788596,
          "x2": 349.43029573133646
         },
         {
          "id": 6,
          "maximum": 0.9985197246615385,
          "minimum": 0.0009163057431835191,
          "name": "A.1_pfail",
          "qp_lower": 0.33539210566853594,
          "qp_upper": -1,
          "x1": 0.11071436330001574,
          "x2": 0.9985197246615385
         },
         {
          "id": 6,
          "maximum": 349.4038980852715,
          "minimum": 30.042563301086215,
          "name": "A.4_Bmax",
          "qp_lower": 0.37856878420998347,
          "qp_upper": -1,
          "x1": 66.43430275239629,
          "x2": 349.4038980852715
         },
         {
          "id": 6,
          "maximum": 0.9991318433785732,
          "minimum": 0.0013020641427700884,
          "name": "A.4_pfail",
          "qp_lower": -1,
          "qp_upper": 0.31114745379241243,
          "x1": 0.0013020641427700884,
          "x2": 0.9071339021425504
         },
         {
          "id": 7,
          "maximum": 349.43029573133646,
          "minimum": 30.25965895769677,
          "name": "A.1_Bmax",
          "qp_lower": 0.40223167368394525,
          "qp_upper": -1,
          "x1": 61.94644328788596,
          "x2": 349.43029573133646
         },
         {
          "id": 7,
          "maximum": 0.9985197246615385,
          "minimum": 0.0009163057431835191,
          "name": "A.1_pfail",
          "qp_lower": 0.35655022106731055,
          "qp_upper": -1,
          "x1": 0.11071436330001574,
          "x2": 0.9985197246615385
         },
         {
          "id": 7,
          "maximum": 349.4038980852715,
          "minimum": 30.042563301086215,
          "name": "A.4_Bmax",
          "qp_lower": 0.3816435136412673,
          "qp_upper": -1,
          "x1": 66.43430275239629,
          "x2": 349.4038980852715
         },
         {
          "id": 7,
          "maximum": 0.9991318433785732,
          "minimum": 0.0013020641427700884,
          "name": "A.4_pfail",
          "qp_lower": -1,
          "qp_upper": 0.29402444831726876,
          "x1": 0.0013020641427700884,
          "x2": 0.9071339021425504
         },
         {
          "id": 7,
          "maximum": 349.7898673793605,
          "minimum": 30.01793573846867,
          "name": "A.5_Bmax",
          "qp_lower": -1,
          "qp_upper": 0.3664633583336428,
          "x1": 30.01793573846867,
          "x2": 323.08006828909964
         },
         {
          "id": 8,
          "maximum": 349.43029573133646,
          "minimum": 30.25965895769677,
          "name": "A.1_Bmax",
          "qp_lower": 0.3918900826536889,
          "qp_upper": -1,
          "x1": 61.94644328788596,
          "x2": 349.43029573133646
         },
         {
          "id": 8,
          "maximum": 0.9985197246615385,
          "minimum": 0.0009163057431835191,
          "name": "A.1_pfail",
          "qp_lower": 0.36789472333837203,
          "qp_upper": -1,
          "x1": 0.11071436330001574,
          "x2": 0.9985197246615385
         },
         {
          "id": 8,
          "maximum": 349.4038980852715,
          "minimum": 30.042563301086215,
          "name": "A.4_Bmax",
          "qp_lower": 0.37137786474538703,
          "qp_upper": -1,
          "x1": 66.43430275239629,
          "x2": 349.4038980852715
         },
         {
          "id": 8,
          "maximum": 0.9991318433785732,
          "minimum": 0.0013020641427700884,
          "name": "A.4_pfail",
          "qp_lower": -1,
          "qp_upper": 0.31984603574565096,
          "x1": 0.0013020641427700884,
          "x2": 0.9071339021425504
         },
         {
          "id": 8,
          "maximum": 349.7898673793605,
          "minimum": 30.01793573846867,
          "name": "A.5_Bmax",
          "qp_lower": -1,
          "qp_upper": 0.3466994290135847,
          "x1": 30.01793573846867,
          "x2": 323.08006828909964
         },
         {
          "id": 9,
          "maximum": 349.43029573133646,
          "minimum": 30.25965895769677,
          "name": "A.1_Bmax",
          "qp_lower": 0.4048935125547664,
          "qp_upper": -1,
          "x1": 61.94644328788596,
          "x2": 349.43029573133646
         },
         {
          "id": 9,
          "maximum": 0.9985197246615385,
          "minimum": 0.0009163057431835191,
          "name": "A.1_pfail",
          "qp_lower": 0.378632697961229,
          "qp_upper": -1,
          "x1": 0.11071436330001574,
          "x2": 0.9985197246615385
         },
         {
          "id": 9,
          "maximum": 0.9985460891303974,
          "minimum": 0.00015853711352225308,
          "name": "A.2_pfail",
          "qp_lower": 0.37782531332953984,
          "qp_upper": -1,
          "x1": 0.11228256163531332,
          "x2": 0.9985460891303974
         },
         {
          "id": 9,
          "maximum": 349.4038980852715,
          "minimum": 30.042563301086215,
          "name": "A.4_Bmax",
          "qp_lower": 0.45610244157336866,
          "qp_upper": -1,
          "x1": 66.43430275239629,
          "x2": 349.4038980852715
         },
         {
          "id": 9,
          "maximum": 0.9991318433785732,
          "minimum": 0.0013020641427700884,
          "name": "A.4_pfail",
          "qp_lower": -1,
          "qp_upper": 0.32834197649489094,
          "x1": 0.0013020641427700884,
          "x2": 0.9071339021425504
         },
         {
          "id": 9,
          "maximum": 349.7898673793605,
          "minimum": 30.01793573846867,
          "name": "A.5_Bmax",
          "qp_lower": -1,
          "qp_upper": 0.32873532533956296,
          "x1": 30.01793573846867,
          "x2": 323.08006828909964
         },
         {
          "id": 10,
          "maximum": 349.43029573133646,
          "minimum": 30.25965895769677,
          "name": "A.1_Bmax",
          "qp_lower": 0.5326759030818476,
          "qp_upper": -1,
          "x1": 61.94644328788596,
          "x2": 349.43029573133646
         },
         {
          "id": 10,
          "maximum": 0.9985197246615385,
          "minimum": 0.0009163057431835191,
          "name": "A.1_pfail",
          "qp_lower": 0.37920991491627853,
          "qp_upper": -1,
          "x1": 0.11071436330001574,
          "x2": 0.9985197246615385
         },
         {
          "id": 10,
          "maximum": 0.9985460891303974,
          "minimum": 0.00015853711352225308,
          "name": "A.2_pfail",
          "qp_lower": 0.327409648276465,
          "qp_upper": -1,
          "x1": 0.11228256163531332,
          "x2": 0.9985460891303974
         },
         {
          "id": 10,
          "maximum": 349.4038980852715,
          "minimum": 30.042563301086215,
          "name": "A.4_Bmax",
          "qp_lower": 0.4041185686834108,
          "qp_upper": -1,
          "x1": 66.43430275239629,
          "x2": 349.4038980852715
         },
         {
          "id": 10,
          "maximum": 0.9991318433785732,
          "minimum": 0.0013020641427700884,
          "name": "A.4_pfail",
          "qp_lower": -1,
          "qp_upper": 0.46362242880554766,
          "x1": 0.0013020641427700884,
          "x2": 0.9071339021425504
         },
         {
          "id": 10,
          "maximum": 349.7898673793605,
          "minimum": 30.01793573846867,
          "name": "A.5_Bmax",
          "qp_lower": -1,
          "qp_upper": 0.4204640696074042,
          "x1": 30.01793573846867,
          "x2": 323.08006828909964
         },
         {
          "id": 11,
          "maximum": 349.43029573133646,
          "minimum": 30.25965895769677,
          "name": "A.1_Bmax",
          "qp_lower": 0.5038335568480735,
          "qp_upper": -1,
          "x1": 61.94644328788596,
          "x2": 349.43029573133646
         },
         {
          "id": 11,
          "maximum": 0.9985197246615385,
          "minimum": 0.0009163057431835191,
          "name": "A.1_pfail",
          "qp_lower": 0.36495432921565657,
          "qp_upper": -1,
          "x1": 0.11071436330001574,
          "x2": 0.9985197246615385
         },
         {
          "id": 11,
          "maximum": 0.9985460891303974,
          "minimum": 0.00015853711352225308,
          "name": "A.2_pfail",
          "qp_lower": 0.3075644601922967,
          "qp_upper": 0.38836025508737027,
          "x1": 0.11228256163531332,
          "x2": 0.8934721398184461
         },
         {
          "id": 11,
          "maximum": 349.4038980852715,
          "minimum": 30.042563301086215,
          "name": "A.4_Bmax",
          "qp_lower": 0.40902150332975207,
          "qp_upper": -1,
          "x1": 66.43430275239629,
          "x2": 349.4038980852715
         },
         {
          "id": 11,
          "maximum": 0.9991318433785732,
          "minimum": 0.0013020641427700884,
          "name": "A.4_pfail",
          "qp_lower": -1,
          "qp_upper": 0.5038335568480735,
          "x1": 0.0013020641427700884,
          "x2": 0.9071339021425504
         },
         {
          "id": 11,
          "maximum": 349.7898673793605,
          "minimum": 30.01793573846867,
          "name": "A.5_Bmax",
          "qp_lower": -1,
          "qp_upper": 0.40902150332975207,
          "x1": 30.01793573846867,
          "x2": 323.08006828909964
         },
         {
          "id": 12,
          "maximum": 349.43029573133646,
          "minimum": 30.25965895769677,
          "name": "A.1_Bmax",
          "qp_lower": 0.5542024169249582,
          "qp_upper": -1,
          "x1": 61.94644328788596,
          "x2": 349.43029573133646
         },
         {
          "id": 12,
          "maximum": 0.9985197246615385,
          "minimum": 0.0009163057431835191,
          "name": "A.1_pfail",
          "qp_lower": 0.2963455398307033,
          "qp_upper": -1,
          "x1": 0.11071436330001574,
          "x2": 0.9985197246615385
         },
         {
          "id": 12,
          "maximum": 0.9985460891303974,
          "minimum": 0.00015853711352225308,
          "name": "A.2_pfail",
          "qp_lower": 0.3367429351665148,
          "qp_upper": 0.3899053131863281,
          "x1": 0.11228256163531332,
          "x2": 0.8934721398184461
         },
         {
          "id": 12,
          "maximum": 349.4038980852715,
          "minimum": 30.042563301086215,
          "name": "A.4_Bmax",
          "qp_lower": 0.3698844314821972,
          "qp_upper": -1,
          "x1": 66.43430275239629,
          "x2": 349.4038980852715
         },
         {
          "id": 12,
          "maximum": 0.9991318433785732,
          "minimum": 0.0013020641427700884,
          "name": "A.4_pfail",
          "qp_lower": -1,
          "qp_upper": 0.5361851860500066,
          "x1": 0.0013020641427700884,
          "x2": 0.9071339021425504
         },
         {
          "id": 12,
          "maximum": 349.7898673793605,
          "minimum": 30.01793573846867,
          "name": "A.5_Bmax",
          "qp_lower": -1,
          "qp_upper": 0.47003966812646997,
          "x1": 30.01793573846867,
          "x2": 323.08006828909964
         },
         {
          "id": 13,
          "maximum": 349.43029573133646,
          "minimum": 30.25965895769677,
          "name": "A.1_Bmax",
          "qp_lower": 0.5508868439103811,
          "qp_upper": -1,
          "x1": 61.94644328788596,
          "x2": 349.43029573133646
         },
         {
          "id": 13,
          "maximum": 0.9985197246615385,
          "minimum": 0.0009163057431835191,
          "name": "A.1_pfail",
          "qp_lower": 0.45848297514474284,
          "qp_upper": -1,
          "x1": 0.11071436330001574,
          "x2": 0.9985197246615385
         },
         {
          "id": 13,
          "maximum": 0.9985460891303974,
          "minimum": 0.00015853711352225308,
          "name": "A.2_pfail",
          "qp_lower": 0.2832892960456225,
          "qp_upper": 0.3282855343643137,
          "x1": 0.11228256163531332,
          "x2": 0.8934721398184461
         },
         {
          "id": 13,
          "maximum": 349.4038980852715,
          "minimum": 30.042563301086215,
          "name": "A.4_Bmax",
          "qp_lower": 0.3282855343643137,
          "qp_upper": -1,
          "x1": 66.43430275239629,
          "x2": 349.4038980852715
         },
         {
          "id": 13,
          "maximum": 0.9991318433785732,
          "minimum": 0.0013020641427700884,
          "name": "A.4_pfail",
          "qp_lower": -1,
          "qp_upper": 0.541096322592596,
          "x1": 0.0013020641427700884,
          "x2": 0.9071339021425504
         },
         {
          "id": 13,
          "maximum": 349.7898673793605,
          "minimum": 30.01793573846867,
          "name": "A.5_Bmax",
          "qp_lower": -1,
          "qp_upper": 0.45848297514474284,
          "x1": 30.01793573846867,
          "x2": 323.08006828909964
         },
         {
          "id": 14,
          "maximum": 349.43029573133646,
          "minimum": 30.25965895769677,
          "name": "A.1_Bmax",
          "qp_lower": 0.5403745573078373,
          "qp_upper": -1,
          "x1": 45.86328534172855,
          "x2": 349.43029573133646
         },
         {
          "id": 14,
          "maximum": 0.9985197246615385,
          "minimum": 0.0009163057431835191,
          "name": "A.1_pfail",
          "qp_lower": 0.4588829267834967,
          "qp_upper": -1,
          "x1": 0.11071436330001574,
          "x2": 0.9985197246615385
         },
         {
          "id": 14,
          "maximum": 0.9985460891303974,
          "minimum": 0.00015853711352225308,
          "name": "A.2_pfail",
          "qp_lower": 0.2842348147149473,
          "qp_upper": 0.3294754518433662,
          "x1": 0.11228256163531332,
          "x2": 0.8934721398184461
         },
         {
          "id": 14,
          "maximum": 349.4038980852715,
          "minimum": 30.042563301086215,
          "name": "A.4_Bmax",
          "qp_lower": 0.27017160705148313,
          "qp_upper": -1,
          "x1": 66.43430275239629,
          "x2": 349.4038980852715
         },
         {
          "id": 14,
          "maximum": 0.9991318433785732,
          "minimum": 0.0013020641427700884,
          "name": "A.4_pfail",
          "qp_lower": -1,
          "qp_upper": 0.5403745573078373,
          "x1": 0.0013020641427700884,
          "x2": 0.9071339021425504
         },
         {
          "id": 14,
          "maximum": 349.7898673793605,
          "minimum": 30.01793573846867,
          "name": "A.5_Bmax",
          "qp_lower": -1,
          "qp_upper": 0.4588829267834967,
          "x1": 30.01793573846867,
          "x2": 323.08006828909964
         }
        ],
        "data-933826b68bd95459de1c485490e5e531": [
         {
          "id": 5,
          "item": 1.5,
          "n_items": 4,
          "name": "discount rate 2,  0.23",
          "x": 0
         },
         {
          "id": 5,
          "item": 2.5,
          "n_items": 4,
          "name": "discount rate 2,  0.23",
          "x": 0.3333333333333333
         },
         {
          "id": 5,
          "item": 4.5,
          "n_items": 4,
          "name": "discount rate 2,  0.23",
          "x": 0.6666666666666666
         },
         {
          "id": 6,
          "item": 10,
          "n_items": 3,
          "name": "A.2_Brate,  0.2",
          "x": 0
         },
         {
          "id": 6,
          "item": 1.5,
          "n_items": 3,
          "name": "A.2_Brate,  0.2",
          "x": 0.5
         },
         {
          "id": 6,
          "item": 1.5,
          "n_items": 4,
          "name": "discount rate 2,  0.26",
          "x": 0
         },
         {
          "id": 6,
          "item": 2.5,
          "n_items": 4,
          "name": "discount rate 2,  0.26",
          "x": 0.3333333333333333
         },
         {
          "id": 6,
          "item": 4.5,
          "n_items": 4,
          "name": "discount rate 2,  0.26",
          "x": 0.6666666666666666
         },
         {
          "id": 7,
          "item": 10,
          "n_items": 3,
          "name": "A.2_Brate,  0.18",
          "x": 0
         },
         {
          "id": 7,
          "item": 1.5,
          "n_items": 3,
          "name": "A.2_Brate,  0.18",
          "x": 0.5
         },
         {
          "id": 7,
          "item": 1.5,
          "n_items": 4,
          "name": "discount rate 2,  0.22",
          "x": 0
         },
         {
          "id": 7,
          "item": 2.5,
          "n_items": 4,
          "name": "discount rate 2,  0.22",
          "x": 0.3333333333333333
         },
         {
          "id": 7,
          "item": 4.5,
          "n_items": 4,
          "name": "discount rate 2,  0.22",
          "x": 0.6666666666666666
         },
         {
          "id": 8,
          "item": 10,
          "n_items": 3,
          "name": "A.2_Brate,  0.12",
          "x": 0
         },
         {
          "id": 8,
          "item": 1.5,
          "n_items": 3,
          "name": "A.2_Brate,  0.12",
          "x": 0.5
         },
         {
          "id": 8,
          "item": 1.5,
          "n_items": 4,
          "name": "discount rate 1,  0.26",
          "x": 0
         },
         {
          "id": 8,
          "item": 2.5,
          "n_items": 4,
          "name": "discount rate 1,  0.26",
          "x": 0.3333333333333333
         },
         {
          "id": 8,
          "item": 3.5,
          "n_items": 4,
          "name": "discount rate 1,  0.26",
          "x": 0.6666666666666666
         },
         {
          "id": 8,
          "item": 1.5,
          "n_items": 4,
          "name": "discount rate 2,  0.15",
          "x": 0
         },
         {
          "id": 8,
          "item": 2.5,
          "n_items": 4,
          "name": "discount rate 2,  0.15",
          "x": 0.3333333333333333
         },
         {
          "id": 8,
          "item": 4.5,
          "n_items": 4,
          "name": "discount rate 2,  0.15",
          "x": 0.6666666666666666
         },
         {
          "id": 9,
          "item": 10,
          "n_items": 3,
          "name": "A.2_Brate,  0.14",
          "x": 0
         },
         {
          "id": 9,
          "item": 1.5,
          "n_items": 3,
          "name": "A.2_Brate,  0.14",
          "x": 0.5
         },
         {
          "id": 9,
          "item": 1.5,
          "n_items": 4,
          "name": "discount rate 1,  0.23",
          "x": 0
         },
         {
          "id": 9,
          "item": 2.5,
          "n_items": 4,
          "name": "discount rate 1,  0.23",
          "x": 0.3333333333333333
         },
         {
          "id": 9,
          "item": 3.5,
          "n_items": 4,
          "name": "discount rate 1,  0.23",
          "x": 0.6666666666666666
         },
         {
          "id": 9,
          "item": 1.5,
          "n_items": 4,
          "name": "discount rate 2,  0.18",
          "x": 0
         },
         {
          "id": 9,
          "item": 2.5,
          "n_items": 4,
          "name": "discount rate 2,  0.18",
          "x": 0.3333333333333333
         },
         {
          "id": 9,
          "item": 4.5,
          "n_items": 4,
          "name": "discount rate 2,  0.18",
          "x": 0.6666666666666666
         },
         {
          "id": 10,
          "item": 10,
          "n_items": 2,
          "name": "A.2_Brate,  0.014",
          "x": 0
         },
         {
          "id": 10,
          "item": 1.5,
          "n_items": 4,
          "name": "discount rate 1,  0.17",
          "x": 0
         },
         {
          "id": 10,
          "item": 2.5,
          "n_items": 4,
          "name": "discount rate 1,  0.17",
          "x": 0.3333333333333333
         },
         {
          "id": 10,
          "item": 3.5,
          "n_items": 4,
          "name": "discount rate 1,  0.17",
          "x": 0.6666666666666666
         },
         {
          "id": 10,
          "item": 1.5,
          "n_items": 4,
          "name": "discount rate 2,  0.24",
          "x": 0
         },
         {
          "id": 10,
          "item": 2.5,
          "n_items": 4,
          "name": "discount rate 2,  0.24",
          "x": 0.3333333333333333
         },
         {
          "id": 10,
          "item": 4.5,
          "n_items": 4,
          "name": "discount rate 2,  0.24",
          "x": 0.6666666666666666
         },
         {
          "id": 11,
          "item": 10,
          "n_items": 2,
          "name": "A.2_Brate,  0.015",
          "x": 0
         },
         {
          "id": 11,
          "item": 1.5,
          "n_items": 4,
          "name": "discount rate 1,  0.24",
          "x": 0
         },
         {
          "id": 11,
          "item": 2.5,
          "n_items": 4,
          "name": "discount rate 1,  0.24",
          "x": 0.3333333333333333
         },
         {
          "id": 11,
          "item": 3.5,
          "n_items": 4,
          "name": "discount rate 1,  0.24",
          "x": 0.6666666666666666
         },
         {
          "id": 11,
          "item": 1.5,
          "n_items": 4,
          "name": "discount rate 2,  0.21",
          "x": 0
         },
         {
          "id": 11,
          "item": 2.5,
          "n_items": 4,
          "name": "discount rate 2,  0.21",
          "x": 0.3333333333333333
         },
         {
          "id": 11,
          "item": 4.5,
          "n_items": 4,
          "name": "discount rate 2,  0.21",
          "x": 0.6666666666666666
         },
         {
          "id": 12,
          "item": 1.5,
          "n_items": 3,
          "name": "A.1_Brate,  0.24",
          "x": 0
         },
         {
          "id": 12,
          "item": 10,
          "n_items": 3,
          "name": "A.1_Brate,  0.24",
          "x": 0.5
         },
         {
          "id": 12,
          "item": 10,
          "n_items": 2,
          "name": "A.2_Brate,  0.018",
          "x": 0
         },
         {
          "id": 12,
          "item": 1.5,
          "n_items": 4,
          "name": "discount rate 1,  0.21",
          "x": 0
         },
         {
          "id": 12,
          "item": 2.5,
          "n_items": 4,
          "name": "discount rate 1,  0.21",
          "x": 0.3333333333333333
         },
         {
          "id": 12,
          "item": 3.5,
          "n_items": 4,
          "name": "discount rate 1,  0.21",
          "x": 0.6666666666666666
         },
         {
          "id": 12,
          "item": 1.5,
          "n_items": 4,
          "name": "discount rate 2,  0.36",
          "x": 0
         },
         {
          "id": 12,
          "item": 2.5,
          "n_items": 4,
          "name": "discount rate 2,  0.36",
          "x": 0.3333333333333333
         },
         {
          "id": 12,
          "item": 4.5,
          "n_items": 4,
          "name": "discount rate 2,  0.36",
          "x": 0.6666666666666666
         },
         {
          "id": 13,
          "item": 1.5,
          "n_items": 3,
          "name": "A.1_Brate,  0.2",
          "x": 0
         },
         {
          "id": 13,
          "item": 10,
          "n_items": 3,
          "name": "A.1_Brate,  0.2",
          "x": 0.5
         },
         {
          "id": 13,
          "item": 10,
          "n_items": 2,
          "name": "A.2_Brate,  0.0075",
          "x": 0
         },
         {
          "id": 13,
          "item": 1.5,
          "n_items": 4,
          "name": "discount rate 0,  0.26",
          "x": 0
         },
         {
          "id": 13,
          "item": 3.5,
          "n_items": 4,
          "name": "discount rate 0,  0.26",
          "x": 0.3333333333333333
         },
         {
          "id": 13,
          "item": 4.5,
          "n_items": 4,
          "name": "discount rate 0,  0.26",
          "x": 0.6666666666666666
         },
         {
          "id": 13,
          "item": 1.5,
          "n_items": 4,
          "name": "discount rate 1,  0.28",
          "x": 0
         },
         {
          "id": 13,
          "item": 2.5,
          "n_items": 4,
          "name": "discount rate 1,  0.28",
          "x": 0.3333333333333333
         },
         {
          "id": 13,
          "item": 3.5,
          "n_items": 4,
          "name": "discount rate 1,  0.28",
          "x": 0.6666666666666666
         },
         {
          "id": 13,
          "item": 1.5,
          "n_items": 4,
          "name": "discount rate 2,  0.36",
          "x": 0
         },
         {
          "id": 13,
          "item": 2.5,
          "n_items": 4,
          "name": "discount rate 2,  0.36",
          "x": 0.3333333333333333
         },
         {
          "id": 13,
          "item": 4.5,
          "n_items": 4,
          "name": "discount rate 2,  0.36",
          "x": 0.6666666666666666
         },
         {
          "id": 14,
          "item": 1.5,
          "n_items": 3,
          "name": "A.1_Brate,  0.2",
          "x": 0
         },
         {
          "id": 14,
          "item": 10,
          "n_items": 3,
          "name": "A.1_Brate,  0.2",
          "x": 0.5
         },
         {
          "id": 14,
          "item": 10,
          "n_items": 2,
          "name": "A.2_Brate,  0.0057",
          "x": 0
         },
         {
          "id": 14,
          "item": 1.5,
          "n_items": 4,
          "name": "discount rate 0,  0.26",
          "x": 0
         },
         {
          "id": 14,
          "item": 3.5,
          "n_items": 4,
          "name": "discount rate 0,  0.26",
          "x": 0.3333333333333333
         },
         {
          "id": 14,
          "item": 4.5,
          "n_items": 4,
          "name": "discount rate 0,  0.26",
          "x": 0.6666666666666666
         },
         {
          "id": 14,
          "item": 1.5,
          "n_items": 4,
          "name": "discount rate 1,  0.23",
          "x": 0
         },
         {
          "id": 14,
          "item": 2.5,
          "n_items": 4,
          "name": "discount rate 1,  0.23",
          "x": 0.3333333333333333
         },
         {
          "id": 14,
          "item": 3.5,
          "n_items": 4,
          "name": "discount rate 1,  0.23",
          "x": 0.6666666666666666
         },
         {
          "id": 14,
          "item": 1.5,
          "n_items": 4,
          "name": "discount rate 2,  0.36",
          "x": 0
         },
         {
          "id": 14,
          "item": 2.5,
          "n_items": 4,
          "name": "discount rate 2,  0.36",
          "x": 0.3333333333333333
         },
         {
          "id": 14,
          "item": 4.5,
          "n_items": 4,
          "name": "discount rate 2,  0.36",
          "x": 0.6666666666666666
         }
        ],
        "data-99af9a029afcbfb20d5c389b254cded7": [
         {
          "coverage": 1,
          "density": 0.104,
          "id": 0,
          "mass": 1,
          "mean": 0.104,
          "res_dim": 0
         },
         {
          "coverage": 0.9615384615384616,
          "density": 0.1111111111111111,
          "id": 1,
          "mass": 0.9,
          "mean": 0.1111111111111111,
          "res_dim": 1
         },
         {
          "coverage": 0.9038461538461539,
          "density": 0.11604938271604938,
          "id": 2,
          "mass": 0.81,
          "mean": 0.11604938271604938,
          "res_dim": 2
         },
         {
          "coverage": 0.8461538461538461,
          "density": 0.12087912087912088,
          "id": 3,
          "mass": 0.728,
          "mean": 0.12087912087912088,
          "res_dim": 3
         },
         {
          "coverage": 0.7884615384615384,
          "density": 0.12538226299694188,
          "id": 4,
          "mass": 0.654,
          "mean": 0.12538226299694188,
          "res_dim": 4
         },
         {
          "coverage": 0.6538461538461539,
          "density": 0.1349206349206349,
          "id": 5,
          "mass": 0.504,
          "mean": 0.1349206349206349,
          "res_dim": 5
         },
         {
          "coverage": 0.4935897435897436,
          "density": 0.14836223506743737,
          "id": 6,
          "mass": 0.346,
          "mean": 0.14836223506743737,
          "res_dim": 6
         },
         {
          "coverage": 0.46153846153846156,
          "density": 0.15483870967741936,
          "id": 7,
          "mass": 0.31,
          "mean": 0.15483870967741936,
          "res_dim": 7
         },
         {
          "coverage": 0.41025641025641024,
          "density": 0.1679790026246719,
          "id": 8,
          "mass": 0.254,
          "mean": 0.1679790026246719,
          "res_dim": 8
         },
         {
          "coverage": 0.38461538461538464,
          "density": 0.17543859649122806,
          "id": 9,
          "mass": 0.228,
          "mean": 0.17543859649122806,
          "res_dim": 9
         },
         {
          "coverage": 0.25,
          "density": 0.21666666666666667,
          "id": 10,
          "mass": 0.12,
          "mean": 0.21666666666666667,
          "res_dim": 9
         },
         {
          "coverage": 0.23717948717948717,
          "density": 0.22839506172839505,
          "id": 11,
          "mass": 0.108,
          "mean": 0.22839506172839505,
          "res_dim": 9
         },
         {
          "coverage": 0.1858974358974359,
          "density": 0.26126126126126126,
          "id": 12,
          "mass": 0.074,
          "mean": 0.26126126126126126,
          "res_dim": 10
         },
         {
          "coverage": 0.16025641025641027,
          "density": 0.2976190476190476,
          "id": 13,
          "mass": 0.056,
          "mean": 0.2976190476190476,
          "res_dim": 11
         },
         {
          "coverage": 0.16666666666666666,
          "density": 0.2988505747126437,
          "id": 14,
          "mass": 0.058,
          "mean": 0.2988505747126437,
          "res_dim": 11
         }
        ],
        "data-bb8d07f6df3d47a6a475317795287b23": [
         {
          "end": 1,
          "start": 0
         }
        ]
       },
       "vconcat": [
        {
         "data": {
          "name": "data-99af9a029afcbfb20d5c389b254cded7"
         },
         "encoding": {
          "color": {
           "field": "res_dim",
           "scale": {
            "range": [
             "#eff9b6",
             "#d0edb3",
             "#97d6b9",
             "#5dc0c0",
             "#31a5c2",
             "#1f80b8",
             "#2354a3",
             "#21318d"
            ]
           },
           "type": "ordinal"
          },
          "opacity": {
           "condition": {
            "selection": "selector003",
            "value": 1
           },
           "value": 0.4
          },
          "tooltip": [
           {
            "field": "id",
            "type": "ordinal"
           },
           {
            "field": "coverage",
            "format": ".2",
            "type": "quantitative"
           },
           {
            "field": "density",
            "format": ".2",
            "type": "quantitative"
           },
           {
            "field": "res_dim",
            "type": "ordinal"
           }
          ],
          "x": {
           "field": "coverage",
           "type": "quantitative"
          },
          "y": {
           "field": "density",
           "type": "quantitative"
          }
         },
         "height": 400,
         "mark": {
          "size": 75,
          "type": "circle"
         },
         "selection": {
          "selector003": {
           "fields": [
            "id"
           ],
           "type": "single"
          }
         },
         "width": 400
        },
        {
         "layer": [
          {
           "data": {
            "name": "data-8dbffb3c4e41090c0a647f8ed29610f6"
           },
           "encoding": {
            "x": {
             "axis": {
              "grid": false,
              "labels": false,
              "title": "box limits"
             },
             "field": "x_lower",
             "scale": {
              "domain": [
               0,
               1
              ],
              "padding": 0.1
             },
             "type": "quantitative"
            },
            "x2": {
             "field": "x_upper"
            },
            "y": {
             "field": "name",
             "scale": {
              "padding": 1
             },
             "type": "nominal"
            }
           },
           "mark": "rule",
           "transform": [
            {
             "as": "x_lower",
             "calculate": "(datum.x1-datum.minimum)/(datum.maximum-datum.minimum)"
            },
            {
             "as": "x_upper",
             "calculate": "(datum.x2-datum.minimum)/(datum.maximum-datum.minimum)"
            },
            {
             "filter": {
              "selection": "selector003"
             }
            }
           ],
           "width": 400
          },
          {
           "data": {
            "name": "data-8dbffb3c4e41090c0a647f8ed29610f6"
           },
           "encoding": {
            "text": {
             "field": "text",
             "type": "ordinal"
            },
            "x": {
             "axis": {
              "grid": false,
              "labels": false,
              "title": "box limits"
             },
             "field": "x_lower",
             "scale": {
              "domain": [
               0,
               1
              ],
              "padding": 0.1
             },
             "type": "quantitative"
            },
            "x2": {
             "field": "x_upper"
            },
            "y": {
             "field": "name",
             "scale": {
              "padding": 1
             },
             "type": "nominal"
            }
           },
           "mark": {
            "align": "left",
            "baseline": "top",
            "dy": 5,
            "type": "text"
           },
           "transform": [
            {
             "as": "x_lower",
             "calculate": "(datum.x1-datum.minimum)/(datum.maximum-datum.minimum)"
            },
            {
             "as": "x_upper",
             "calculate": "(datum.x2-datum.minimum)/(datum.maximum-datum.minimum)"
            },
            {
             "filter": {
              "selection": "selector003"
             }
            },
            {
             "as": "text",
             "calculate": "datum.qp_lower>0?format(datum.x1, \".2\")+\" (\"+format(datum.qp_lower, \".1~g\")+\")\" :format(datum.x1, \".2\")"
            }
           ],
           "width": 400
          },
          {
           "data": {
            "name": "data-8dbffb3c4e41090c0a647f8ed29610f6"
           },
           "encoding": {
            "text": {
             "field": "text",
             "type": "ordinal"
            },
            "x": {
             "field": "x_upper",
             "type": "quantitative"
            },
            "x2": {
             "field": "x_upper"
            },
            "y": {
             "field": "name",
             "scale": {
              "padding": 1
             },
             "type": "nominal"
            }
           },
           "mark": {
            "align": "right",
            "baseline": "top",
            "dy": 5,
            "type": "text"
           },
           "transform": [
            {
             "as": "x_lower",
             "calculate": "(datum.x1-datum.minimum)/(datum.maximum-datum.minimum)"
            },
            {
             "as": "x_upper",
             "calculate": "(datum.x2-datum.minimum)/(datum.maximum-datum.minimum)"
            },
            {
             "filter": {
              "selection": "selector003"
             }
            },
            {
             "as": "text",
             "calculate": "datum.qp_upper>0?format(datum.x2, \".2\")+\" (\"+format(datum.qp_upper, \".1\")+\")\" :format(datum.x2, \".2\")"
            }
           ],
           "width": 400
          },
          {
           "data": {
            "name": "data-bb8d07f6df3d47a6a475317795287b23"
           },
           "encoding": {
            "x": {
             "field": "start",
             "type": "quantitative"
            },
            "x2": {
             "field": "end"
            }
           },
           "mark": {
            "opacity": 0.05,
            "type": "rect"
           }
          },
          {
           "data": {
            "name": "data-933826b68bd95459de1c485490e5e531"
           },
           "encoding": {
            "x": {
             "field": "x",
             "type": "quantitative"
            },
            "y": {
             "field": "name",
             "type": "nominal"
            }
           },
           "mark": "point",
           "transform": [
            {
             "filter": {
              "selection": "selector003"
             }
            }
           ],
           "width": 400
          },
          {
           "data": {
            "name": "data-933826b68bd95459de1c485490e5e531"
           },
           "encoding": {
            "text": {
             "field": "item",
             "type": "nominal"
            },
            "x": {
             "field": "x",
             "type": "quantitative"
            },
            "y": {
             "field": "name",
             "type": "nominal"
            }
           },
           "mark": {
            "align": "center",
            "baseline": "top",
            "dy": 5,
            "type": "text"
           },
           "transform": [
            {
             "filter": {
              "selection": "selector003"
             }
            }
           ],
           "width": 400
          }
         ]
        }
       ]
      },
      "image/png": "[encoded data removed]",
      "text/plain": [
       "<VegaLite 3 object>\n",
       "\n",
       "If you see this message, it means the renderer has not been properly enabled\n",
       "for the frontend that you are using. For more information, see\n",
       "https://altair-viz.github.io/user_guide/troubleshooting.html\n"
      ]
     },
     "execution_count": 40,
     "metadata": {},
     "output_type": "execute_result"
    }
   ],
   "source": [
    "box1.inspect_tradeoff()"
   ]
  },
  {
   "cell_type": "code",
   "execution_count": null,
   "metadata": {},
   "outputs": [],
   "source": []
  }
 ],
 "metadata": {
  "kernelspec": {
   "display_name": "Python 3",
   "language": "python",
   "name": "python3"
  },
  "language_info": {
   "codemirror_mode": {
    "name": "ipython",
    "version": 3
   },
   "file_extension": ".py",
   "mimetype": "text/x-python",
   "name": "python",
   "nbconvert_exporter": "python",
   "pygments_lexer": "ipython3",
   "version": "3.7.6"
  }
 },
 "nbformat": 4,
 "nbformat_minor": 4
}
