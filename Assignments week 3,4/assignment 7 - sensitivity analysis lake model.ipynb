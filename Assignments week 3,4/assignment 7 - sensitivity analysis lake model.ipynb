{
 "cells": [
  {
   "cell_type": "markdown",
   "metadata": {},
   "source": [
    "# Lake model continued\n",
    "\n",
    "In the previous week you used the lake problem as a means of getting aquinted with the workbench. In this assignment we will continue with the lake problem, focussing explicitly on using it for open exploration. You can use the second part of [this tutoria](https://emaworkbench.readthedocs.io/en/latest/indepth_tutorial/open-exploration.html) for help.\n",
    "\n",
    "**It is paramount that you are using the lake problem with 100 decision variables, rather than the one found on the website with the seperate anthropogenic release decision**\n",
    "\n",
    "## Apply sensitivity analysis\n",
    "There is substantial support in the ema_workbench for global sensitivity. For this, the workbench relies on [SALib](https://salib.readthedocs.io/en/latest/) and feature scoring which is a machine learning alternative for global sensitivity analysis. \n",
    "\n",
    "\n",
    "1. Apply Sobol with 3 seperate release policies (0, 0.05, and 0.1) and analyse the results for each release policy seperately focusing on the reliability objective. Do the sensitivities change depending on the release policy? Can you explain why or why not?\n",
    "\n",
    "*hint: you can use sobol sampling for the uncertainties, and set policies to a list with the 3 different release policies. Next, for the analysis using logical indexing on the experiment.policy column you can select the results for each seperate release policy and apply sobol to each of the three seperate release policies. If this sounds too complicated, just do it on each release policy seperately.*\n",
    "\n"
   ]
  },
  {
   "cell_type": "code",
   "execution_count": 17,
   "metadata": {},
   "outputs": [
    {
     "name": "stderr",
     "output_type": "stream",
     "text": [
      "[MainProcess/INFO] pool started\n",
      "[MainProcess/INFO] performing 12000 scenarios * 3 policies * 1 model(s) = 36000 experiments\n",
      "[MainProcess/INFO] 3600 cases completed\n",
      "[MainProcess/INFO] 7200 cases completed\n",
      "[MainProcess/INFO] 10800 cases completed\n",
      "[MainProcess/INFO] 14400 cases completed\n",
      "[MainProcess/INFO] 18000 cases completed\n",
      "[MainProcess/INFO] 21600 cases completed\n",
      "[MainProcess/INFO] 25200 cases completed\n",
      "[MainProcess/INFO] 28800 cases completed\n",
      "[MainProcess/INFO] 32400 cases completed\n",
      "[MainProcess/INFO] 36000 cases completed\n",
      "[MainProcess/INFO] experiments finished\n",
      "[MainProcess/INFO] terminating pool\n"
     ]
    }
   ],
   "source": [
    "import pandas as pd\n",
    "import numpy as np\n",
    "import matplotlib.pyplot as plt\n",
    "import seaborn as sns\n",
    "\n",
    "from ema_workbench import (Model, Policy, RealParameter, TimeSeriesOutcome,ScalarOutcome, perform_experiments, ema_logging, SequentialEvaluator, MultiprocessingEvaluator)\n",
    "ema_logging.log_to_stderr(ema_logging.INFO)\n",
    "\n",
    "from ema_workbench.em_framework.evaluators import LHS, SOBOL, MORRIS\n",
    "\n",
    "from ema_workbench.analysis import feature_scoring\n",
    "from ema_workbench.analysis.scenario_discovery_util import RuleInductionType\n",
    "from ema_workbench.em_framework.salib_samplers import get_SALib_problem\n",
    "from SALib.analyze import sobol\n",
    "\n",
    "from lakemodel_function import lake_problem #andere importfuctie toegevoegd\n",
    "\n",
    "model = Model('LakeModel', function=lake_problem)\n",
    "\n",
    "model.uncertainties = [RealParameter(\"mean\", 0.01, 0.05),\n",
    "                       RealParameter(\"stdev\", 0.001, 0.005),\n",
    "                       RealParameter(\"b\", 0.1, 0.45),\n",
    "                       RealParameter(\"q\", 2, 4.5),\n",
    "                       RealParameter(\"delta\", 0.93, 0.99)]\n",
    "\n",
    "model.levers = [RealParameter((str('l')+str(i)), 0, 0.1) for i in range(100)]# Voor iedere tijdstap een andere value --- Met str(l)\n",
    "# Q&A example: model.levers = [RealParameter(f\"l{i}\", 0, 0.1) for i in range(100)]\n",
    "\n",
    "model.outcomes = [ScalarOutcome('max_P'), #alle vier outcomes uit de py file\n",
    "                       ScalarOutcome('utility'),\n",
    "                       ScalarOutcome('inertia'),\n",
    "                       ScalarOutcome('reliability')]\n",
    "\n",
    "policies = [Policy(\"no release\", **{l.name:0 for l in model.levers}),\n",
    "    Policy(\"max release\", **{l.name:0.1 for l in model.levers}),\n",
    "    Policy(\"half release\", **{l.name:0.05 for l in model.levers}),\n",
    "    ]\n",
    "\n",
    "from ema_workbench import (MultiprocessingEvaluator, ema_logging)\n",
    "ema_logging.log_to_stderr(ema_logging.INFO)\n",
    "    \n",
    "with MultiprocessingEvaluator(model) as evaluator: #MultiprocessingEvaluator\n",
    "    results = evaluator.perform_experiments(scenarios=1000, policies=policies, uncertainty_sampling=SOBOL)\n",
    "experiments, outcomes = results\n",
    "experiments = experiments.drop([experiments.columns[i] for i in range(5, 105)], axis='columns')\n",
    "outcomes_interest = outcomes['reliability'] <= np.percentile(outcomes['reliability'],10)"
   ]
  },
  {
   "cell_type": "code",
   "execution_count": 28,
   "metadata": {},
   "outputs": [
    {
     "data": {
      "image/png": "[encoded data removed]",
      "text/plain": [
       "<Figure size 576x432 with 1 Axes>"
      ]
     },
     "metadata": {},
     "output_type": "display_data"
    },
    {
     "data": {
      "image/png": "[encoded data removed]",
      "text/plain": [
       "<Figure size 576x432 with 1 Axes>"
      ]
     },
     "metadata": {},
     "output_type": "display_data"
    },
    {
     "data": {
      "image/png": "[encoded data removed]",
      "text/plain": [
       "<Figure size 576x432 with 1 Axes>"
      ]
     },
     "metadata": {},
     "output_type": "display_data"
    }
   ],
   "source": [
    "from SALib.analyze.sobol import analyze\n",
    "sobol_results = {}\n",
    "for policy in experiments.policy.unique():\n",
    "    logical = experiments.policy == policy\n",
    "    y = outcomes['reliability'][logical]\n",
    "    Si = analyze(problem, y)\n",
    "    sobol_results[policy] = Si\n",
    "    \n",
    "    \n",
    "    scores_filtered = {k:Si[k] for k in ['ST','ST_conf','S1','S1_conf']}\n",
    "    Si_df = pd.DataFrame(scores_filtered, index=problem['names'])\n",
    "\n",
    "    sns.set_style('white')\n",
    "    fig, ax = plt.subplots(1)\n",
    "\n",
    "    indices = Si_df[['S1','ST']]\n",
    "    err = Si_df[['S1_conf','ST_conf']]\n",
    "\n",
    "    indices.plot.bar(yerr=err.values.T,ax=ax)\n",
    "    fig.set_size_inches(8,6)\n",
    "    fig.subplots_adjust(bottom=0.3)\n",
    "    plt.show()"
   ]
  },
  {
   "cell_type": "markdown",
   "metadata": {},
   "source": [
    "2. Repeat the above analysis for the 3 release policies but now with extra trees feature scoring and for all outcomes of interest. As a bonus, use the sobol experiment results as input for extra trees, and compare the results with those resulting from latin hypercube sampling.\n",
    "\n",
    "*hint: you can use [seaborn heatmaps](https://seaborn.pydata.org/generated/seaborn.heatmap.html) for a nice figure of the results*\n"
   ]
  },
  {
   "cell_type": "code",
   "execution_count": null,
   "metadata": {},
   "outputs": [],
   "source": []
  }
 ],
 "metadata": {
  "kernelspec": {
   "display_name": "Python 3",
   "language": "python",
   "name": "python3"
  },
  "language_info": {
   "codemirror_mode": {
    "name": "ipython",
    "version": 3
   },
   "file_extension": ".py",
   "mimetype": "text/x-python",
   "name": "python",
   "nbconvert_exporter": "python",
   "pygments_lexer": "ipython3",
   "version": "3.7.6"
  }
 },
 "nbformat": 4,
 "nbformat_minor": 4
}
