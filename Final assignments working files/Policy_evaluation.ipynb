{
 "cells": [
  {
   "cell_type": "code",
   "execution_count": 1,
   "metadata": {},
   "outputs": [],
   "source": [
    "import numpy as np\n",
    "import scipy as sp\n",
    "import pandas as pd\n",
    "import matplotlib.pyplot as plt\n",
    "import seaborn as sns\n",
    "import networkx as nx\n",
    "from ema_workbench import (Model, CategoricalParameter, ScalarOutcome, IntegerParameter, RealParameter)\n",
    "from ema_workbench import (Model, MultiprocessingEvaluator, SequentialEvaluator, Policy, Scenario, Constant)\n",
    "from dike_model_function import DikeNetwork \n",
    "\n",
    "from ema_workbench.em_framework.evaluators import perform_experiments\n",
    "from ema_workbench.em_framework.samplers import sample_uncertainties\n",
    "from ema_workbench.util import ema_logging\n",
    "import time\n",
    "from problem_formulation import get_model_for_problem_formulation\n",
    "\n",
    "ema_logging.log_to_stderr(ema_logging.INFO)\n",
    "\n",
    "#choose problem formulation number, between 0-5\n",
    "#each problem formulation has its own list of outcomes\n",
    "dike_model, planning_steps = get_model_for_problem_formulation(9)\n"
   ]
  },
  {
   "cell_type": "code",
   "execution_count": 2,
   "metadata": {},
   "outputs": [],
   "source": [
    "policies = [\n",
    "Policy('final', **{'0_RfR 0': 0, '0_RfR 1': 0, '0_RfR 2': 0, '1_RfR 0': 0, '1_RfR 1': 0, '1_RfR 2': 0, '2_RfR 0': 0, '2_RfR 1': 0, '2_RfR 2': 0, \n",
    "                      '3_RfR 0': 0, '3_RfR 1': 0, '3_RfR 2': 0, '4_RfR 0': 0, '4_RfR 1': 0, '4_RfR 2': 0, 'EWS_DaysToThreat': 2, \n",
    "                    'A.1_DikeIncrease 0': 3, 'A.1_DikeIncrease 1': 0, 'A.1_DikeIncrease 2': 0, 'A.2_DikeIncrease 0': 2, 'A.2_DikeIncrease 1': 0, \n",
    "                    'A.2_DikeIncrease 2': 0, 'A.3_DikeIncrease 0': 5, 'A.3_DikeIncrease 1': 0, 'A.3_DikeIncrease 2': 0, 'A.4_DikeIncrease 0': 8, \n",
    "                    'A.4_DikeIncrease 1': 0, 'A.4_DikeIncrease 2': 0, 'A.5_DikeIncrease 0': 2, 'A.5_DikeIncrease 1': 0, 'A.5_DikeIncrease 2': 0})\n",
    "]"
   ]
  },
  {
   "cell_type": "code",
   "execution_count": 3,
   "metadata": {},
   "outputs": [],
   "source": [
    "from ema_workbench.util import ema_logging\n",
    "ema_logging.log_to_stderr(ema_logging.INFO)\n",
    "from SALib.analyze import sobol\n",
    "\n",
    "dike_model, planning_steps = get_model_for_problem_formulation(9)\n",
    "\n",
    "# with MultiprocessingEvaluator(dike_model) as evaluator:\n",
    "#     results = evaluator.perform_experiments(scenarios=1000, policies=policies, uncertainty_sampling='sobol')\n",
    "    \n",
    "# experiments, outcomes = results\n",
    "\n",
    "# outcomes_df = pd.DataFrame(outcomes)\n",
    "# experiments.to_excel('./export/final_policy_pf9_experiments.xlsx')\n",
    "# outcomes_df.to_excel('./export/final_policy_pf9_outcomes.xlsx')\n",
    "\n",
    "experiments = pd.read_excel('./export/final_policy_pf9_experiments.xlsx', index_col=0, )\n",
    "outcomes_df = pd.read_excel('./export/final_policy_pf9_outcomes.xlsx', index_col=0, )"
   ]
  },
  {
   "cell_type": "code",
   "execution_count": 4,
   "metadata": {},
   "outputs": [],
   "source": [
    "outcomes_statistics = pd.DataFrame()\n",
    "single_mean = {}\n",
    "single_std = {}\n",
    "single_min = {}\n",
    "single_max = {}\n",
    "single_90th = {}\n",
    "\n",
    "for key in outcomes_df.keys(): #loop x times for each key in outcomes\n",
    "    single_mean[key] = np.mean(outcomes_df[key])\n",
    "    single_std[key] = np.std(outcomes_df[key])\n",
    "    single_min[key] = np.min(outcomes_df[key])\n",
    "    single_max[key] = np.max(outcomes_df[key])\n",
    "    single_90th[key] = np.percentile(outcomes_df[key],90)\n",
    "outcomes_statistics = outcomes_statistics.append(pd.DataFrame(single_mean, index = ['mean']))\n",
    "outcomes_statistics = outcomes_statistics.append(pd.DataFrame(single_std, index = ['std']))\n",
    "outcomes_statistics = outcomes_statistics.append(pd.DataFrame(single_min, index = ['min']))\n",
    "outcomes_statistics = outcomes_statistics.append(pd.DataFrame(single_max, index = ['max']))\n",
    "outcomes_statistics = outcomes_statistics.append(pd.DataFrame(single_90th, index = ['90th']))\n"
   ]
  },
  {
   "cell_type": "code",
   "execution_count": 5,
   "metadata": {},
   "outputs": [
    {
     "data": {
      "text/html": [
       "<div>\n",
       "<style scoped>\n",
       "    .dataframe tbody tr th:only-of-type {\n",
       "        vertical-align: middle;\n",
       "    }\n",
       "\n",
       "    .dataframe tbody tr th {\n",
       "        vertical-align: top;\n",
       "    }\n",
       "\n",
       "    .dataframe thead th {\n",
       "        text-align: right;\n",
       "    }\n",
       "</style>\n",
       "<table border=\"1\" class=\"dataframe\">\n",
       "  <thead>\n",
       "    <tr style=\"text-align: right;\">\n",
       "      <th></th>\n",
       "      <th>EAD</th>\n",
       "      <th>END</th>\n",
       "      <th>TIC</th>\n",
       "      <th>EEC</th>\n",
       "      <th>A1/2_EAD</th>\n",
       "      <th>A1/2_END</th>\n",
       "      <th>A3_EAD</th>\n",
       "      <th>A3_END</th>\n",
       "      <th>G_TIC</th>\n",
       "      <th>A.1 Total Costs</th>\n",
       "      <th>A.1_Expected Number of Deaths</th>\n",
       "      <th>A.2 Total Costs</th>\n",
       "      <th>A.2_Expected Number of Deaths</th>\n",
       "      <th>A.3 Total Costs</th>\n",
       "      <th>A.3_Expected Number of Deaths</th>\n",
       "      <th>A.4 Total Costs</th>\n",
       "      <th>A.4_Expected Number of Deaths</th>\n",
       "      <th>A.5 Total Costs</th>\n",
       "      <th>A.5_Expected Number of Deaths</th>\n",
       "    </tr>\n",
       "  </thead>\n",
       "  <tbody>\n",
       "    <tr>\n",
       "      <th>mean</th>\n",
       "      <td>2.631337e+08</td>\n",
       "      <td>0.056366</td>\n",
       "      <td>1.575955e+08</td>\n",
       "      <td>11523.296678</td>\n",
       "      <td>1.935832e+08</td>\n",
       "      <td>0.035948</td>\n",
       "      <td>2.005995e+07</td>\n",
       "      <td>0.008970</td>\n",
       "      <td>1.139083e+08</td>\n",
       "      <td>1.919574e+08</td>\n",
       "      <td>0.025726</td>\n",
       "      <td>8.673573e+07</td>\n",
       "      <td>0.010222</td>\n",
       "      <td>4.885834e+07</td>\n",
       "      <td>0.008970</td>\n",
       "      <td>1.626165e+07</td>\n",
       "      <td>0.000020</td>\n",
       "      <td>7.691606e+07</td>\n",
       "      <td>0.011428</td>\n",
       "    </tr>\n",
       "    <tr>\n",
       "      <th>std</th>\n",
       "      <td>4.200970e+08</td>\n",
       "      <td>0.082038</td>\n",
       "      <td>2.384186e-05</td>\n",
       "      <td>13570.248058</td>\n",
       "      <td>4.184680e+08</td>\n",
       "      <td>0.072050</td>\n",
       "      <td>1.075731e+08</td>\n",
       "      <td>0.046585</td>\n",
       "      <td>3.564358e-05</td>\n",
       "      <td>4.169280e+08</td>\n",
       "      <td>0.070960</td>\n",
       "      <td>9.903182e+07</td>\n",
       "      <td>0.022148</td>\n",
       "      <td>1.075731e+08</td>\n",
       "      <td>0.046585</td>\n",
       "      <td>1.762303e+06</td>\n",
       "      <td>0.000212</td>\n",
       "      <td>1.045061e+08</td>\n",
       "      <td>0.023674</td>\n",
       "    </tr>\n",
       "    <tr>\n",
       "      <th>min</th>\n",
       "      <td>0.000000e+00</td>\n",
       "      <td>0.000000</td>\n",
       "      <td>1.575955e+08</td>\n",
       "      <td>0.000000</td>\n",
       "      <td>0.000000e+00</td>\n",
       "      <td>0.000000</td>\n",
       "      <td>0.000000e+00</td>\n",
       "      <td>0.000000</td>\n",
       "      <td>1.139083e+08</td>\n",
       "      <td>4.229151e+07</td>\n",
       "      <td>0.000000</td>\n",
       "      <td>4.281842e+07</td>\n",
       "      <td>0.000000</td>\n",
       "      <td>2.879840e+07</td>\n",
       "      <td>0.000000</td>\n",
       "      <td>1.610892e+07</td>\n",
       "      <td>0.000000</td>\n",
       "      <td>2.757823e+07</td>\n",
       "      <td>0.000000</td>\n",
       "    </tr>\n",
       "    <tr>\n",
       "      <th>max</th>\n",
       "      <td>2.361779e+09</td>\n",
       "      <td>0.600913</td>\n",
       "      <td>1.575955e+08</td>\n",
       "      <td>87575.990757</td>\n",
       "      <td>1.975214e+09</td>\n",
       "      <td>0.330451</td>\n",
       "      <td>1.249873e+09</td>\n",
       "      <td>0.473526</td>\n",
       "      <td>1.139083e+08</td>\n",
       "      <td>1.828889e+09</td>\n",
       "      <td>0.258975</td>\n",
       "      <td>6.531271e+08</td>\n",
       "      <td>0.116927</td>\n",
       "      <td>1.278671e+09</td>\n",
       "      <td>0.473526</td>\n",
       "      <td>6.351493e+07</td>\n",
       "      <td>0.005118</td>\n",
       "      <td>7.962591e+08</td>\n",
       "      <td>0.160155</td>\n",
       "    </tr>\n",
       "    <tr>\n",
       "      <th>90th</th>\n",
       "      <td>8.822443e+08</td>\n",
       "      <td>0.174869</td>\n",
       "      <td>1.575955e+08</td>\n",
       "      <td>28457.827141</td>\n",
       "      <td>5.829275e+08</td>\n",
       "      <td>0.116599</td>\n",
       "      <td>1.745582e+07</td>\n",
       "      <td>0.007924</td>\n",
       "      <td>1.139083e+08</td>\n",
       "      <td>5.362480e+08</td>\n",
       "      <td>0.095131</td>\n",
       "      <td>1.645492e+08</td>\n",
       "      <td>0.029083</td>\n",
       "      <td>4.625422e+07</td>\n",
       "      <td>0.007924</td>\n",
       "      <td>1.610892e+07</td>\n",
       "      <td>0.000000</td>\n",
       "      <td>1.761360e+08</td>\n",
       "      <td>0.035660</td>\n",
       "    </tr>\n",
       "  </tbody>\n",
       "</table>\n",
       "</div>"
      ],
      "text/plain": [
       "               EAD       END           TIC           EEC      A1/2_EAD  \\\n",
       "mean  2.631337e+08  0.056366  1.575955e+08  11523.296678  1.935832e+08   \n",
       "std   4.200970e+08  0.082038  2.384186e-05  13570.248058  4.184680e+08   \n",
       "min   0.000000e+00  0.000000  1.575955e+08      0.000000  0.000000e+00   \n",
       "max   2.361779e+09  0.600913  1.575955e+08  87575.990757  1.975214e+09   \n",
       "90th  8.822443e+08  0.174869  1.575955e+08  28457.827141  5.829275e+08   \n",
       "\n",
       "      A1/2_END        A3_EAD    A3_END         G_TIC  A.1 Total Costs  \\\n",
       "mean  0.035948  2.005995e+07  0.008970  1.139083e+08     1.919574e+08   \n",
       "std   0.072050  1.075731e+08  0.046585  3.564358e-05     4.169280e+08   \n",
       "min   0.000000  0.000000e+00  0.000000  1.139083e+08     4.229151e+07   \n",
       "max   0.330451  1.249873e+09  0.473526  1.139083e+08     1.828889e+09   \n",
       "90th  0.116599  1.745582e+07  0.007924  1.139083e+08     5.362480e+08   \n",
       "\n",
       "      A.1_Expected Number of Deaths  A.2 Total Costs  \\\n",
       "mean                       0.025726     8.673573e+07   \n",
       "std                        0.070960     9.903182e+07   \n",
       "min                        0.000000     4.281842e+07   \n",
       "max                        0.258975     6.531271e+08   \n",
       "90th                       0.095131     1.645492e+08   \n",
       "\n",
       "      A.2_Expected Number of Deaths  A.3 Total Costs  \\\n",
       "mean                       0.010222     4.885834e+07   \n",
       "std                        0.022148     1.075731e+08   \n",
       "min                        0.000000     2.879840e+07   \n",
       "max                        0.116927     1.278671e+09   \n",
       "90th                       0.029083     4.625422e+07   \n",
       "\n",
       "      A.3_Expected Number of Deaths  A.4 Total Costs  \\\n",
       "mean                       0.008970     1.626165e+07   \n",
       "std                        0.046585     1.762303e+06   \n",
       "min                        0.000000     1.610892e+07   \n",
       "max                        0.473526     6.351493e+07   \n",
       "90th                       0.007924     1.610892e+07   \n",
       "\n",
       "      A.4_Expected Number of Deaths  A.5 Total Costs  \\\n",
       "mean                       0.000020     7.691606e+07   \n",
       "std                        0.000212     1.045061e+08   \n",
       "min                        0.000000     2.757823e+07   \n",
       "max                        0.005118     7.962591e+08   \n",
       "90th                       0.000000     1.761360e+08   \n",
       "\n",
       "      A.5_Expected Number of Deaths  \n",
       "mean                       0.011428  \n",
       "std                        0.023674  \n",
       "min                        0.000000  \n",
       "max                        0.160155  \n",
       "90th                       0.035660  "
      ]
     },
     "execution_count": 5,
     "metadata": {},
     "output_type": "execute_result"
    }
   ],
   "source": [
    "outcomes_statistics"
   ]
  },
  {
   "cell_type": "code",
   "execution_count": 38,
   "metadata": {},
   "outputs": [
    {
     "data": {
      "image/png": "[encoded data removed]",
      "text/plain": [
       "<Figure size 432x288 with 1 Axes>"
      ]
     },
     "metadata": {},
     "output_type": "display_data"
    }
   ],
   "source": [
    "# Pie chart, where the slices will be ordered and plotted counter-clockwise:\n",
    "labels = 'Dike 1', 'Dike 2', 'Dike 3', 'Dike 4', 'Dike 5'\n",
    "sizes = [ outcomes_statistics['A.1_Expected Number of Deaths']['mean']*100,\n",
    "    outcomes_statistics['A.2_Expected Number of Deaths']['mean']*100, \n",
    "    outcomes_statistics['A.3_Expected Number of Deaths']['mean']*100, \n",
    "    outcomes_statistics['A.4_Expected Number of Deaths']['mean']*100, \n",
    "    outcomes_statistics['A.5_Expected Number of Deaths']['mean']*100 ]\n",
    "\n",
    "fig1, ax1 = plt.subplots()\n",
    "ax1.pie(sizes, labels=labels, autopct='%1.1f%%',\n",
    "        shadow=False, startangle=90)\n",
    "ax1.axis('equal')  # Equal aspect ratio ensures that pie is drawn as a circle.\n",
    "plt.rc('font', size=18) \n",
    "plt.savefig('export/images/pie_deaths')\n",
    "plt.show()"
   ]
  },
  {
   "cell_type": "code",
   "execution_count": 37,
   "metadata": {},
   "outputs": [
    {
     "data": {
      "image/png": "[encoded data removed]",
      "text/plain": [
       "<Figure size 432x288 with 1 Axes>"
      ]
     },
     "metadata": {},
     "output_type": "display_data"
    }
   ],
   "source": [
    "# Pie chart, where the slices will be ordered and plotted counter-clockwise:\n",
    "labels = 'Dike 1', 'Dike 2', 'Dike 3', 'Dike 4', 'Dike 5'\n",
    "sizes = [ outcomes_statistics['A.1 Total Costs']['mean']*100,\n",
    "    outcomes_statistics['A.2 Total Costs']['mean']*100, \n",
    "    outcomes_statistics['A.3 Total Costs']['mean']*100, \n",
    "    outcomes_statistics['A.4 Total Costs']['mean']*100, \n",
    "    outcomes_statistics['A.5 Total Costs']['mean']*100 ]\n",
    "\n",
    "fig1, ax1 = plt.subplots()\n",
    "ax1.pie(sizes, labels=labels, autopct='%1.1f%%',\n",
    "        shadow=False, startangle=90)\n",
    "ax1.axis('equal')  # Equal aspect ratio ensures that pie is drawn as a circle.\n",
    "plt.rc('font', size=18) \n",
    "plt.savefig('export/images/pie_damage')\n",
    "plt.show()"
   ]
  },
  {
   "cell_type": "code",
   "execution_count": 46,
   "metadata": {},
   "outputs": [],
   "source": [
    "policies = [\n",
    "Policy('Base', **{'0_RfR 0': 0, '0_RfR 1': 0, '0_RfR 2': 0, '1_RfR 0': 0, '1_RfR 1': 0, '1_RfR 2': 0, '2_RfR 0': 0, '2_RfR 1': 0, '2_RfR 2': 0, \n",
    "                      '3_RfR 0': 0, '3_RfR 1': 0, '3_RfR 2': 0, '4_RfR 0': 0, '4_RfR 1': 0, '4_RfR 2': 0, 'EWS_DaysToThreat': 2, \n",
    "                    'A.1_DikeIncrease 0': 0, 'A.1_DikeIncrease 1': 0, 'A.1_DikeIncrease 2': 0, 'A.2_DikeIncrease 0': 0, 'A.2_DikeIncrease 1': 0, \n",
    "                    'A.2_DikeIncrease 2': 0, 'A.3_DikeIncrease 0': 0, 'A.3_DikeIncrease 1': 0, 'A.3_DikeIncrease 2': 0, 'A.4_DikeIncrease 0': 0, \n",
    "                    'A.4_DikeIncrease 1': 0, 'A.4_DikeIncrease 2': 0, 'A.5_DikeIncrease 0': 0, 'A.5_DikeIncrease 1': 0, 'A.5_DikeIncrease 2': 0})\n",
    "]"
   ]
  },
  {
   "cell_type": "code",
   "execution_count": 47,
   "metadata": {},
   "outputs": [
    {
     "name": "stderr",
     "output_type": "stream",
     "text": [
      "[MainProcess/INFO] pool started\n",
      "[MainProcess/INFO] performing 4000 scenarios * 1 policies * 1 model(s) = 4000 experiments\n",
      "[MainProcess/INFO] 400 cases completed\n",
      "[MainProcess/INFO] 800 cases completed\n",
      "[MainProcess/INFO] 1200 cases completed\n",
      "[MainProcess/INFO] 1600 cases completed\n",
      "[MainProcess/INFO] 2000 cases completed\n",
      "[MainProcess/INFO] 2400 cases completed\n",
      "[MainProcess/INFO] 2800 cases completed\n",
      "[MainProcess/INFO] 3200 cases completed\n",
      "[MainProcess/INFO] 3600 cases completed\n",
      "[MainProcess/INFO] 4000 cases completed\n",
      "[MainProcess/INFO] experiments finished\n",
      "[MainProcess/INFO] terminating pool\n"
     ]
    }
   ],
   "source": [
    "# with MultiprocessingEvaluator(dike_model) as evaluator:\n",
    "#     results = evaluator.perform_experiments(scenarios=100, policies=policies, uncertainty_sampling='sobol')\n",
    "    \n",
    "# experiments_base, outcomes_base = results\n",
    "\n",
    "# outcomes_base_df = pd.DataFrame(outcomes_base)\n",
    "# experiments_base.to_excel('./export/base_case_9_experiments.xlsx')\n",
    "# outcomes_base_df.to_excel('./export/base_case_9_outcomes.xlsx')\n",
    "\n",
    "experiments_base = pd.read_excel('./export/base_case_9_experiments.xlsx', index_col=0, )\n",
    "outcomes_base_df = pd.read_excel('./export/base_case_9_outcomes.xlsx', index_col=0, )"
   ]
  },
  {
   "cell_type": "code",
   "execution_count": 48,
   "metadata": {},
   "outputs": [],
   "source": [
    "outcomes_statistics_base = pd.DataFrame()\n",
    "single_mean = {}\n",
    "single_std = {}\n",
    "single_min = {}\n",
    "single_max = {}\n",
    "single_90th = {}\n",
    "\n",
    "for key in outcomes_base_df.keys(): #loop x times for each key in outcomes\n",
    "    single_mean[key] = np.mean(outcomes_base_df[key])\n",
    "    single_std[key] = np.std(outcomes_base_df[key])\n",
    "    single_min[key] = np.min(outcomes_base_df[key])\n",
    "    single_max[key] = np.max(outcomes_base_df[key])\n",
    "    single_90th[key] = np.percentile(outcomes_base_df[key],90)\n",
    "outcomes_statistics_base = outcomes_statistics_base.append(pd.DataFrame(single_mean, index = ['mean']))\n",
    "outcomes_statistics_base = outcomes_statistics_base.append(pd.DataFrame(single_std, index = ['std']))\n",
    "outcomes_statistics_base = outcomes_statistics_base.append(pd.DataFrame(single_min, index = ['min']))\n",
    "outcomes_statistics_base = outcomes_statistics_base.append(pd.DataFrame(single_max, index = ['max']))\n",
    "outcomes_statistics_base = outcomes_statistics_base.append(pd.DataFrame(single_90th, index = ['90th']))\n"
   ]
  },
  {
   "cell_type": "code",
   "execution_count": 53,
   "metadata": {},
   "outputs": [
    {
     "name": "stdout",
     "output_type": "stream",
     "text": [
      "               EAD       END           TIC           EEC      A1/2_EAD  \\\n",
      "mean  2.631337e+08  0.056366  1.575955e+08  11523.296678  1.935832e+08   \n",
      "mean  6.222588e+08  0.154367  0.000000e+00  24237.002297  4.286634e+08   \n",
      "\n",
      "      A1/2_END        A3_EAD    A3_END         G_TIC  \n",
      "mean  0.035948  2.005995e+07  0.008970  1.139083e+08  \n",
      "mean  0.078067  1.545163e+08  0.068517  0.000000e+00  \n"
     ]
    },
    {
     "name": "stderr",
     "output_type": "stream",
     "text": [
      "C:\\Program Files (x86)\\Anaconda\\lib\\site-packages\\ema_workbench\\analysis\\parcoords.py:198: UserWarning: Tight layout not applied. tight_layout cannot make axes width small enough to accommodate all axes decorations\n",
      "  plt.tight_layout(h_pad=0, w_pad=0)\n"
     ]
    },
    {
     "data": {
      "image/png": "[encoded data removed]",
      "text/plain": [
       "<Figure size 1728x576 with 8 Axes>"
      ]
     },
     "metadata": {},
     "output_type": "display_data"
    }
   ],
   "source": [
    "from ema_workbench.analysis import parcoords\n",
    "\n",
    "parcoords_data = outcomes_statistics.append(outcomes_statistics_base)\n",
    "\n",
    "data = parcoords_data.iloc[[0, 5],0:9]\n",
    "print(data)\n",
    "data['EAD'] = data['EAD'].apply(lambda x: x/1000000)\n",
    "data['TIC'] = data['TIC'].apply(lambda x: x/1000000)\n",
    "data['A1/2_EAD'] = data['A1/2_EAD'].apply(lambda x: x/1000000)\n",
    "data['A3_EAD'] = data['A3_EAD'].apply(lambda x: x/1000000)\n",
    "data['G_TIC'] = data['G_TIC'].apply(lambda x: x/1000000)\n",
    "data['EEC'] = data['EEC'].apply(lambda x: x/1000000)\n",
    "\n",
    "data.rename(columns={'EAD': 'Total\\nExpected\\nAnnual\\nDamage\\n(million €)',\n",
    "                     'END': 'Total\\nExpected\\nAnnual\\nNumber of\\nDeaths',\n",
    "                     'TIC':'Total\\nInvestment\\nCost\\n(million €)',\n",
    "                     'A1/2_EAD':'A1/2:\\nExpected\\nAnnual\\nDamage\\n(million €)',\n",
    "                     'A1/2_END':'A1/2\\nExpected\\nAnnual\\nNumber of\\nDeaths',\n",
    "                     'A3_EAD':'A3:\\nExpected\\nAnnual\\nDamage\\n(million €)',\n",
    "                     'A3_END':'A3\\nExpected\\nAnnual\\nNumber of\\nDeaths',\n",
    "                     'G_TIC':'Gelderland\\nInvestment\\nCost\\n(million €)',\n",
    "                     'EEC':'Expected\\nEvacuation\\nCost\\n(million €)'}\n",
    "            , inplace=True)\n",
    "\n",
    "limits = parcoords.get_limits(data)\n",
    "limits.loc[0, ['Total\\nExpected\\nAnnual\\nDamage\\n(million €)',\n",
    "               'Total\\nExpected\\nAnnual\\nNumber of\\nDeaths',\n",
    "               'Total\\nInvestment\\nCost\\n(million €)', \n",
    "               'Expected\\nEvacuation\\nCost\\n(million €)', \n",
    "               'A1/2:\\nExpected\\nAnnual\\nDamage\\n(million €)', \n",
    "               'A1/2\\nExpected\\nAnnual\\nNumber of\\nDeaths', \n",
    "               'A3:\\nExpected\\nAnnual\\nDamage\\n(million €)', \n",
    "               'A3\\nExpected\\nAnnual\\nNumber of\\nDeaths', \n",
    "               'Gelderland\\nInvestment\\nCost\\n(million €)', ]] = 0\n",
    "\n",
    "paraxes = parcoords.ParallelAxes(limits, fontsize=24)\n",
    "paraxes.plot(data)\n",
    "fig = plt.gcf()\n",
    "fig.set_size_inches(24,8)\n",
    "plt.savefig(\"export/images/parcoords_base_vs_final\", bbox_inches='tight')\n",
    "plt.show()"
   ]
  },
  {
   "cell_type": "code",
   "execution_count": 6,
   "metadata": {},
   "outputs": [
    {
     "name": "stderr",
     "output_type": "stream",
     "text": [
      "[MainProcess/INFO] policy dropped from analysis because only a single category\n",
      "[MainProcess/INFO] model dropped from analysis because only a single category\n",
      "[MainProcess/INFO] 40000 points remaining, containing 3999 cases of interest\n",
      "[MainProcess/INFO] mean: 1.0, mass: 0.084, coverage: 0.8402100525131283, density: 1.0 restricted_dimensions: 1\n"
     ]
    },
    {
     "data": {
      "application/vnd.vegalite.v3+json": {
       "$schema": "https://vega.github.io/schema/vega-lite/v3.4.0.json",
       "config": {
        "mark": {
         "tooltip": null
        },
        "view": {
         "height": 300,
         "width": 400
        }
       },
       "datasets": {
        "data-7dbb7cec7db51085fd838dffcb11c43d": [
         {
          "coverage": 1,
          "density": 0.099975,
          "id": 0,
          "mass": 1,
          "mean": 0.099975,
          "res_dim": 0
         },
         {
          "coverage": 0.994748687171793,
          "density": 0.11056142301278488,
          "id": 1,
          "mass": 0.8995,
          "mean": 0.11056142301278488,
          "res_dim": 1
         },
         {
          "coverage": 0.994748687171793,
          "density": 0.12285361334156887,
          "id": 2,
          "mass": 0.8095,
          "mean": 0.12285361334156887,
          "res_dim": 1
         },
         {
          "coverage": 0.9897474368592148,
          "density": 0.13582704186684968,
          "id": 3,
          "mass": 0.7285,
          "mean": 0.13582704186684968,
          "res_dim": 1
         },
         {
          "coverage": 0.9804951237809453,
          "density": 0.14954233409610984,
          "id": 4,
          "mass": 0.6555,
          "mean": 0.14954233409610984,
          "res_dim": 1
         },
         {
          "coverage": 0.970492623155789,
          "density": 0.1645886344359627,
          "id": 5,
          "mass": 0.5895,
          "mean": 0.1645886344359627,
          "res_dim": 1
         },
         {
          "coverage": 0.9657414353588397,
          "density": 0.18199811498586238,
          "id": 6,
          "mass": 0.5305,
          "mean": 0.18199811498586238,
          "res_dim": 1
         },
         {
          "coverage": 0.9552388097024256,
          "density": 0.20041972717733472,
          "id": 7,
          "mass": 0.4765,
          "mean": 0.20041972717733472,
          "res_dim": 1
         },
         {
          "coverage": 0.9552388097024256,
          "density": 0.22287047841306884,
          "id": 8,
          "mass": 0.4285,
          "mean": 0.22287047841306884,
          "res_dim": 1
         },
         {
          "coverage": 0.9504876219054764,
          "density": 0.24681818181818183,
          "id": 9,
          "mass": 0.385,
          "mean": 0.24681818181818183,
          "res_dim": 1
         },
         {
          "coverage": 0.9404851212803201,
          "density": 0.2717485549132948,
          "id": 10,
          "mass": 0.346,
          "mean": 0.2717485549132948,
          "res_dim": 1
         },
         {
          "coverage": 0.9404851212803201,
          "density": 0.3028180354267311,
          "id": 11,
          "mass": 0.3105,
          "mean": 0.3028180354267311,
          "res_dim": 1
         },
         {
          "coverage": 0.9404851212803201,
          "density": 0.33761220825852784,
          "id": 12,
          "mass": 0.2785,
          "mean": 0.33761220825852784,
          "res_dim": 1
         },
         {
          "coverage": 0.9307326831707927,
          "density": 0.3714570858283433,
          "id": 13,
          "mass": 0.2505,
          "mean": 0.3714570858283433,
          "res_dim": 1
         },
         {
          "coverage": 0.9307326831707927,
          "density": 0.41355555555555557,
          "id": 14,
          "mass": 0.225,
          "mean": 0.41355555555555557,
          "res_dim": 1
         },
         {
          "coverage": 0.9307326831707927,
          "density": 0.46064356435643566,
          "id": 15,
          "mass": 0.202,
          "mean": 0.46064356435643566,
          "res_dim": 1
         },
         {
          "coverage": 0.9302325581395349,
          "density": 0.512396694214876,
          "id": 16,
          "mass": 0.1815,
          "mean": 0.512396694214876,
          "res_dim": 1
         },
         {
          "coverage": 0.9292323080770193,
          "density": 0.5716923076923077,
          "id": 17,
          "mass": 0.1625,
          "mean": 0.5716923076923077,
          "res_dim": 1
         },
         {
          "coverage": 0.9292323080770193,
          "density": 0.6363013698630137,
          "id": 18,
          "mass": 0.146,
          "mean": 0.6363013698630137,
          "res_dim": 1
         },
         {
          "coverage": 0.9292323080770193,
          "density": 0.7118773946360153,
          "id": 19,
          "mass": 0.1305,
          "mean": 0.7118773946360153,
          "res_dim": 1
         },
         {
          "coverage": 0.9247311827956989,
          "density": 0.7901709401709401,
          "id": 20,
          "mass": 0.117,
          "mean": 0.7901709401709401,
          "res_dim": 1
         },
         {
          "coverage": 0.9204801200300075,
          "density": 0.880622009569378,
          "id": 21,
          "mass": 0.1045,
          "mean": 0.880622009569378,
          "res_dim": 1
         },
         {
          "coverage": 0.916229057264316,
          "density": 0.9744680851063829,
          "id": 22,
          "mass": 0.094,
          "mean": 0.9744680851063829,
          "res_dim": 1
         },
         {
          "coverage": 0.8402100525131283,
          "density": 1,
          "id": 23,
          "mass": 0.084,
          "mean": 1,
          "res_dim": 1
         }
        ],
        "data-bb8d07f6df3d47a6a475317795287b23": [
         {
          "end": 1,
          "start": 0
         }
        ],
        "data-d751713988987e9331980363e24189ce": [],
        "data-d8805f6d8a4afcb919ec8050df89c271": [
         {
          "id": 1,
          "maximum": 0.99951171875,
          "minimum": 0.00048828125,
          "name": "A.1_pfail",
          "qp_lower": -1,
          "qp_upper": 2.234693410312174e-11,
          "x1": 0.00048828125,
          "x2": 0.900390625
         },
         {
          "id": 2,
          "maximum": 0.99951171875,
          "minimum": 0.00048828125,
          "name": "A.1_pfail",
          "qp_lower": -1,
          "qp_upper": 1.2576825288258872e-40,
          "x1": 0.00048828125,
          "x2": 0.8095703125
         },
         {
          "id": 3,
          "maximum": 0.99951171875,
          "minimum": 0.00048828125,
          "name": "A.1_pfail",
          "qp_lower": -1,
          "qp_upper": 1.3702185470379385e-84,
          "x1": 0.00048828125,
          "x2": 0.7294921875
         },
         {
          "id": 4,
          "maximum": 0.99951171875,
          "minimum": 0.00048828125,
          "name": "A.1_pfail",
          "qp_lower": -1,
          "qp_upper": 1.5623151646294113e-139,
          "x1": 0.00048828125,
          "x2": 0.65625
         },
         {
          "id": 5,
          "maximum": 0.99951171875,
          "minimum": 0.00048828125,
          "name": "A.1_pfail",
          "qp_lower": -1,
          "qp_upper": 1.911995020249459e-205,
          "x1": 0.00048828125,
          "x2": 0.58984375
         },
         {
          "id": 6,
          "maximum": 0.99951171875,
          "minimum": 0.00048828125,
          "name": "A.1_pfail",
          "qp_lower": -1,
          "qp_upper": 5.190663176610436e-287,
          "x1": 0.00048828125,
          "x2": 0.53125
         },
         {
          "id": 7,
          "maximum": 0.99951171875,
          "minimum": 0.00048828125,
          "name": "A.1_pfail",
          "qp_lower": -1,
          "qp_upper": 0,
          "x1": 0.00048828125,
          "x2": 0.4775390625
         },
         {
          "id": 8,
          "maximum": 0.99951171875,
          "minimum": 0.00048828125,
          "name": "A.1_pfail",
          "qp_lower": -1,
          "qp_upper": 0,
          "x1": 0.00048828125,
          "x2": 0.4287109375
         },
         {
          "id": 9,
          "maximum": 0.99951171875,
          "minimum": 0.00048828125,
          "name": "A.1_pfail",
          "qp_lower": -1,
          "qp_upper": 0,
          "x1": 0.00048828125,
          "x2": 0.3857421875
         },
         {
          "id": 10,
          "maximum": 0.99951171875,
          "minimum": 0.00048828125,
          "name": "A.1_pfail",
          "qp_lower": -1,
          "qp_upper": 0,
          "x1": 0.00048828125,
          "x2": 0.3466796875
         },
         {
          "id": 11,
          "maximum": 0.99951171875,
          "minimum": 0.00048828125,
          "name": "A.1_pfail",
          "qp_lower": -1,
          "qp_upper": 0,
          "x1": 0.00048828125,
          "x2": 0.310546875
         },
         {
          "id": 12,
          "maximum": 0.99951171875,
          "minimum": 0.00048828125,
          "name": "A.1_pfail",
          "qp_lower": -1,
          "qp_upper": 0,
          "x1": 0.00048828125,
          "x2": 0.279296875
         },
         {
          "id": 13,
          "maximum": 0.99951171875,
          "minimum": 0.00048828125,
          "name": "A.1_pfail",
          "qp_lower": -1,
          "qp_upper": 0,
          "x1": 0.00048828125,
          "x2": 0.2509765625
         },
         {
          "id": 14,
          "maximum": 0.99951171875,
          "minimum": 0.00048828125,
          "name": "A.1_pfail",
          "qp_lower": -1,
          "qp_upper": 0,
          "x1": 0.00048828125,
          "x2": 0.2255859375
         },
         {
          "id": 15,
          "maximum": 0.99951171875,
          "minimum": 0.00048828125,
          "name": "A.1_pfail",
          "qp_lower": -1,
          "qp_upper": 0,
          "x1": 0.00048828125,
          "x2": 0.2021484375
         },
         {
          "id": 16,
          "maximum": 0.99951171875,
          "minimum": 0.00048828125,
          "name": "A.1_pfail",
          "qp_lower": -1,
          "qp_upper": 0,
          "x1": 0.00048828125,
          "x2": 0.181640625
         },
         {
          "id": 17,
          "maximum": 0.99951171875,
          "minimum": 0.00048828125,
          "name": "A.1_pfail",
          "qp_lower": -1,
          "qp_upper": 0,
          "x1": 0.00048828125,
          "x2": 0.1640625
         },
         {
          "id": 18,
          "maximum": 0.99951171875,
          "minimum": 0.00048828125,
          "name": "A.1_pfail",
          "qp_lower": -1,
          "qp_upper": 0,
          "x1": 0.00048828125,
          "x2": 0.146484375
         },
         {
          "id": 19,
          "maximum": 0.99951171875,
          "minimum": 0.00048828125,
          "name": "A.1_pfail",
          "qp_lower": -1,
          "qp_upper": 0,
          "x1": 0.00048828125,
          "x2": 0.130859375
         },
         {
          "id": 20,
          "maximum": 0.99951171875,
          "minimum": 0.00048828125,
          "name": "A.1_pfail",
          "qp_lower": -1,
          "qp_upper": 0,
          "x1": 0.00048828125,
          "x2": 0.1171875
         },
         {
          "id": 21,
          "maximum": 0.99951171875,
          "minimum": 0.00048828125,
          "name": "A.1_pfail",
          "qp_lower": -1,
          "qp_upper": 0,
          "x1": 0.00048828125,
          "x2": 0.10546875
         },
         {
          "id": 22,
          "maximum": 0.99951171875,
          "minimum": 0.00048828125,
          "name": "A.1_pfail",
          "qp_lower": -1,
          "qp_upper": 0,
          "x1": 0.00048828125,
          "x2": 0.0947265625
         },
         {
          "id": 23,
          "maximum": 0.99951171875,
          "minimum": 0.00048828125,
          "name": "A.1_pfail",
          "qp_lower": -1,
          "qp_upper": 0,
          "x1": 0.00048828125,
          "x2": 0.083984375
         }
        ]
       },
       "vconcat": [
        {
         "data": {
          "name": "data-7dbb7cec7db51085fd838dffcb11c43d"
         },
         "encoding": {
          "color": {
           "field": "res_dim",
           "scale": {
            "range": [
             "#eff9b6",
             "#d0edb3",
             "#97d6b9",
             "#5dc0c0",
             "#31a5c2",
             "#1f80b8",
             "#2354a3",
             "#21318d"
            ]
           },
           "type": "ordinal"
          },
          "opacity": {
           "condition": {
            "selection": "selector001",
            "value": 1
           },
           "value": 0.4
          },
          "tooltip": [
           {
            "field": "id",
            "type": "ordinal"
           },
           {
            "field": "coverage",
            "format": ".2",
            "type": "quantitative"
           },
           {
            "field": "density",
            "format": ".2",
            "type": "quantitative"
           },
           {
            "field": "res_dim",
            "type": "ordinal"
           }
          ],
          "x": {
           "field": "coverage",
           "type": "quantitative"
          },
          "y": {
           "field": "density",
           "type": "quantitative"
          }
         },
         "height": 400,
         "mark": {
          "size": 75,
          "type": "circle"
         },
         "selection": {
          "selector001": {
           "fields": [
            "id"
           ],
           "type": "single"
          }
         },
         "width": 400
        },
        {
         "layer": [
          {
           "data": {
            "name": "data-d8805f6d8a4afcb919ec8050df89c271"
           },
           "encoding": {
            "x": {
             "axis": {
              "grid": false,
              "labels": false,
              "title": "box limits"
             },
             "field": "x_lower",
             "scale": {
              "domain": [
               0,
               1
              ],
              "padding": 0.1
             },
             "type": "quantitative"
            },
            "x2": {
             "field": "x_upper"
            },
            "y": {
             "field": "name",
             "scale": {
              "padding": 1
             },
             "type": "nominal"
            }
           },
           "mark": "rule",
           "transform": [
            {
             "as": "x_lower",
             "calculate": "(datum.x1-datum.minimum)/(datum.maximum-datum.minimum)"
            },
            {
             "as": "x_upper",
             "calculate": "(datum.x2-datum.minimum)/(datum.maximum-datum.minimum)"
            },
            {
             "filter": {
              "selection": "selector001"
             }
            }
           ],
           "width": 400
          },
          {
           "data": {
            "name": "data-d8805f6d8a4afcb919ec8050df89c271"
           },
           "encoding": {
            "text": {
             "field": "text",
             "type": "ordinal"
            },
            "x": {
             "axis": {
              "grid": false,
              "labels": false,
              "title": "box limits"
             },
             "field": "x_lower",
             "scale": {
              "domain": [
               0,
               1
              ],
              "padding": 0.1
             },
             "type": "quantitative"
            },
            "x2": {
             "field": "x_upper"
            },
            "y": {
             "field": "name",
             "scale": {
              "padding": 1
             },
             "type": "nominal"
            }
           },
           "mark": {
            "align": "left",
            "baseline": "top",
            "dy": 5,
            "type": "text"
           },
           "transform": [
            {
             "as": "x_lower",
             "calculate": "(datum.x1-datum.minimum)/(datum.maximum-datum.minimum)"
            },
            {
             "as": "x_upper",
             "calculate": "(datum.x2-datum.minimum)/(datum.maximum-datum.minimum)"
            },
            {
             "filter": {
              "selection": "selector001"
             }
            },
            {
             "as": "text",
             "calculate": "datum.qp_lower>0?format(datum.x1, \".2\")+\" (\"+format(datum.qp_lower, \".1~g\")+\")\" :format(datum.x1, \".2\")"
            }
           ],
           "width": 400
          },
          {
           "data": {
            "name": "data-d8805f6d8a4afcb919ec8050df89c271"
           },
           "encoding": {
            "text": {
             "field": "text",
             "type": "ordinal"
            },
            "x": {
             "field": "x_upper",
             "type": "quantitative"
            },
            "x2": {
             "field": "x_upper"
            },
            "y": {
             "field": "name",
             "scale": {
              "padding": 1
             },
             "type": "nominal"
            }
           },
           "mark": {
            "align": "right",
            "baseline": "top",
            "dy": 5,
            "type": "text"
           },
           "transform": [
            {
             "as": "x_lower",
             "calculate": "(datum.x1-datum.minimum)/(datum.maximum-datum.minimum)"
            },
            {
             "as": "x_upper",
             "calculate": "(datum.x2-datum.minimum)/(datum.maximum-datum.minimum)"
            },
            {
             "filter": {
              "selection": "selector001"
             }
            },
            {
             "as": "text",
             "calculate": "datum.qp_upper>0?format(datum.x2, \".2\")+\" (\"+format(datum.qp_upper, \".1\")+\")\" :format(datum.x2, \".2\")"
            }
           ],
           "width": 400
          },
          {
           "data": {
            "name": "data-bb8d07f6df3d47a6a475317795287b23"
           },
           "encoding": {
            "x": {
             "field": "start",
             "type": "quantitative"
            },
            "x2": {
             "field": "end"
            }
           },
           "mark": {
            "opacity": 0.05,
            "type": "rect"
           }
          },
          {
           "data": {
            "name": "data-d751713988987e9331980363e24189ce"
           },
           "encoding": {
            "x": {
             "field": "x",
             "type": "quantitative"
            },
            "y": {
             "field": "name",
             "type": "nominal"
            }
           },
           "mark": "point",
           "transform": [
            {
             "filter": {
              "selection": "selector001"
             }
            }
           ],
           "width": 400
          },
          {
           "data": {
            "name": "data-d751713988987e9331980363e24189ce"
           },
           "encoding": {
            "text": {
             "field": "item",
             "type": "nominal"
            },
            "x": {
             "field": "x",
             "type": "quantitative"
            },
            "y": {
             "field": "name",
             "type": "nominal"
            }
           },
           "mark": {
            "align": "center",
            "baseline": "top",
            "dy": 5,
            "type": "text"
           },
           "transform": [
            {
             "filter": {
              "selection": "selector001"
             }
            }
           ],
           "width": 400
          }
         ]
        }
       ]
      },
      "image/png": "[encoded data removed]",
      "text/plain": [
       "<VegaLite 3 object>\n",
       "\n",
       "If you see this message, it means the renderer has not been properly enabled\n",
       "for the frontend that you are using. For more information, see\n",
       "https://altair-viz.github.io/user_guide/troubleshooting.html\n"
      ]
     },
     "execution_count": 6,
     "metadata": {},
     "output_type": "execute_result"
    }
   ],
   "source": [
    "from ema_workbench.analysis import prim\n",
    "\n",
    "outcomes_interest = outcomes_df['EAD'] > np.percentile(outcomes_df['EAD'],90)\n",
    "outcomes_interest\n",
    "\n",
    "prim_alg = prim.Prim(experiments, outcomes_interest, threshold=0.7, peel_alpha=0.1)\n",
    "box1 = prim_alg.find_box()\n",
    "box1.inspect_tradeoff()"
   ]
  },
  {
   "cell_type": "code",
   "execution_count": 7,
   "metadata": {},
   "outputs": [
    {
     "name": "stdout",
     "output_type": "stream",
     "text": [
      "coverage    0.84021\n",
      "density           1\n",
      "id               23\n",
      "mass          0.084\n",
      "mean              1\n",
      "res_dim           1\n",
      "Name: 23, dtype: object\n",
      "\n",
      "             box 23                       \n",
      "                min       max    qp values\n",
      "A.1_pfail  0.000488  0.083984  [-1.0, 0.0]\n",
      "\n"
     ]
    },
    {
     "data": {
      "image/png": "[encoded data removed]",
      "text/plain": [
       "<Figure size 242.125x180 with 2 Axes>"
      ]
     },
     "metadata": {
      "needs_background": "light"
     },
     "output_type": "display_data"
    }
   ],
   "source": [
    "box1.inspect(23)\n",
    "plt.show()\n",
    "\n",
    "box1.select(23)\n",
    "fig = box1.show_pairs_scatter()\n",
    "plt.show()"
   ]
  },
  {
   "cell_type": "code",
   "execution_count": 8,
   "metadata": {},
   "outputs": [
    {
     "name": "stderr",
     "output_type": "stream",
     "text": [
      "[MainProcess/INFO] policy dropped from analysis because only a single category\n",
      "[MainProcess/INFO] model dropped from analysis because only a single category\n",
      "[MainProcess/INFO] 40000 points remaining, containing 4000 cases of interest\n",
      "[MainProcess/INFO] mean: 1.0, mass: 0.075, coverage: 0.75, density: 1.0 restricted_dimensions: 1\n"
     ]
    },
    {
     "data": {
      "application/vnd.vegalite.v3+json": {
       "$schema": "https://vega.github.io/schema/vega-lite/v3.4.0.json",
       "config": {
        "mark": {
         "tooltip": null
        },
        "view": {
         "height": 300,
         "width": 400
        }
       },
       "datasets": {
        "data-0a784f96e624c90c4390abe2d0a24a61": [
         {
          "id": 1,
          "maximum": 0.99951171875,
          "minimum": 0.00048828125,
          "name": "A.1_pfail",
          "qp_lower": -1,
          "qp_upper": 2.3300709651759755e-10,
          "x1": 0.00048828125,
          "x2": 0.900390625
         },
         {
          "id": 2,
          "maximum": 0.99951171875,
          "minimum": 0.00048828125,
          "name": "A.1_pfail",
          "qp_lower": -1,
          "qp_upper": 3.2858095593189725e-36,
          "x1": 0.00048828125,
          "x2": 0.8095703125
         },
         {
          "id": 3,
          "maximum": 0.99951171875,
          "minimum": 0.00048828125,
          "name": "A.1_pfail",
          "qp_lower": -1,
          "qp_upper": 2.268462084602313e-72,
          "x1": 0.00048828125,
          "x2": 0.7294921875
         },
         {
          "id": 4,
          "maximum": 0.99951171875,
          "minimum": 0.00048828125,
          "name": "A.1_pfail",
          "qp_lower": -1,
          "qp_upper": 1.5054296330057435e-116,
          "x1": 0.00048828125,
          "x2": 0.65625
         },
         {
          "id": 5,
          "maximum": 0.99951171875,
          "minimum": 0.00048828125,
          "name": "A.1_pfail",
          "qp_lower": -1,
          "qp_upper": 1.1664014236366834e-175,
          "x1": 0.00048828125,
          "x2": 0.58984375
         },
         {
          "id": 6,
          "maximum": 0.99951171875,
          "minimum": 0.00048828125,
          "name": "A.1_pfail",
          "qp_lower": -1,
          "qp_upper": 1.6553226663549995e-244,
          "x1": 0.00048828125,
          "x2": 0.53125
         },
         {
          "id": 7,
          "maximum": 0.99951171875,
          "minimum": 0.00048828125,
          "name": "A.1_pfail",
          "qp_lower": -1,
          "qp_upper": 3e-322,
          "x1": 0.00048828125,
          "x2": 0.4775390625
         },
         {
          "id": 8,
          "maximum": 0.99951171875,
          "minimum": 0.00048828125,
          "name": "A.1_pfail",
          "qp_lower": -1,
          "qp_upper": 0,
          "x1": 0.00048828125,
          "x2": 0.4287109375
         },
         {
          "id": 9,
          "maximum": 0.99951171875,
          "minimum": 0.00048828125,
          "name": "A.1_pfail",
          "qp_lower": -1,
          "qp_upper": 0,
          "x1": 0.00048828125,
          "x2": 0.3857421875
         },
         {
          "id": 10,
          "maximum": 0.99951171875,
          "minimum": 0.00048828125,
          "name": "A.1_pfail",
          "qp_lower": -1,
          "qp_upper": 0,
          "x1": 0.00048828125,
          "x2": 0.3466796875
         },
         {
          "id": 11,
          "maximum": 0.99951171875,
          "minimum": 0.00048828125,
          "name": "A.1_pfail",
          "qp_lower": -1,
          "qp_upper": 0,
          "x1": 0.00048828125,
          "x2": 0.310546875
         },
         {
          "id": 12,
          "maximum": 0.99951171875,
          "minimum": 0.00048828125,
          "name": "A.1_pfail",
          "qp_lower": -1,
          "qp_upper": 0,
          "x1": 0.00048828125,
          "x2": 0.279296875
         },
         {
          "id": 13,
          "maximum": 0.99951171875,
          "minimum": 0.00048828125,
          "name": "A.1_pfail",
          "qp_lower": -1,
          "qp_upper": 0,
          "x1": 0.00048828125,
          "x2": 0.2509765625
         },
         {
          "id": 14,
          "maximum": 0.99951171875,
          "minimum": 0.00048828125,
          "name": "A.1_pfail",
          "qp_lower": -1,
          "qp_upper": 0,
          "x1": 0.00048828125,
          "x2": 0.2255859375
         },
         {
          "id": 15,
          "maximum": 0.99951171875,
          "minimum": 0.00048828125,
          "name": "A.1_pfail",
          "qp_lower": -1,
          "qp_upper": 0,
          "x1": 0.00048828125,
          "x2": 0.2021484375
         },
         {
          "id": 16,
          "maximum": 0.99951171875,
          "minimum": 0.00048828125,
          "name": "A.1_pfail",
          "qp_lower": -1,
          "qp_upper": 0,
          "x1": 0.00048828125,
          "x2": 0.181640625
         },
         {
          "id": 17,
          "maximum": 0.99951171875,
          "minimum": 0.00048828125,
          "name": "A.1_pfail",
          "qp_lower": -1,
          "qp_upper": 0,
          "x1": 0.00048828125,
          "x2": 0.1640625
         },
         {
          "id": 18,
          "maximum": 0.99951171875,
          "minimum": 0.00048828125,
          "name": "A.1_pfail",
          "qp_lower": -1,
          "qp_upper": 0,
          "x1": 0.00048828125,
          "x2": 0.146484375
         },
         {
          "id": 19,
          "maximum": 0.99951171875,
          "minimum": 0.00048828125,
          "name": "A.1_pfail",
          "qp_lower": -1,
          "qp_upper": 0,
          "x1": 0.00048828125,
          "x2": 0.130859375
         },
         {
          "id": 20,
          "maximum": 0.99951171875,
          "minimum": 0.00048828125,
          "name": "A.1_pfail",
          "qp_lower": -1,
          "qp_upper": 0,
          "x1": 0.00048828125,
          "x2": 0.1171875
         },
         {
          "id": 21,
          "maximum": 0.99951171875,
          "minimum": 0.00048828125,
          "name": "A.1_pfail",
          "qp_lower": -1,
          "qp_upper": 0,
          "x1": 0.00048828125,
          "x2": 0.10546875
         },
         {
          "id": 22,
          "maximum": 0.99951171875,
          "minimum": 0.00048828125,
          "name": "A.1_pfail",
          "qp_lower": -1,
          "qp_upper": 0,
          "x1": 0.00048828125,
          "x2": 0.0947265625
         },
         {
          "id": 23,
          "maximum": 0.99951171875,
          "minimum": 0.00048828125,
          "name": "A.1_pfail",
          "qp_lower": -1,
          "qp_upper": 0,
          "x1": 0.00048828125,
          "x2": 0.083984375
         },
         {
          "id": 24,
          "maximum": 0.99951171875,
          "minimum": 0.00048828125,
          "name": "A.1_pfail",
          "qp_lower": -1,
          "qp_upper": 0,
          "x1": 0.00048828125,
          "x2": 0.075439453125
         }
        ],
        "data-6930bcacb34237d9b2ce30c82edd22a2": [
         {
          "coverage": 1,
          "density": 0.1,
          "id": 0,
          "mass": 1,
          "mean": 0.1,
          "res_dim": 0
         },
         {
          "coverage": 0.9895,
          "density": 0.11000555864369094,
          "id": 1,
          "mass": 0.8995,
          "mean": 0.11000555864369094,
          "res_dim": 1
         },
         {
          "coverage": 0.9835,
          "density": 0.1214947498455837,
          "id": 2,
          "mass": 0.8095,
          "mean": 0.1214947498455837,
          "res_dim": 1
         },
         {
          "coverage": 0.96875,
          "density": 0.13297872340425532,
          "id": 3,
          "mass": 0.7285,
          "mean": 0.13297872340425532,
          "res_dim": 1
         },
         {
          "coverage": 0.9505,
          "density": 0.14500381388253242,
          "id": 4,
          "mass": 0.6555,
          "mean": 0.14500381388253242,
          "res_dim": 1
         },
         {
          "coverage": 0.9395,
          "density": 0.15937234944868534,
          "id": 5,
          "mass": 0.5895,
          "mean": 0.15937234944868534,
          "res_dim": 1
         },
         {
          "coverage": 0.92925,
          "density": 0.17516493873704053,
          "id": 6,
          "mass": 0.5305,
          "mean": 0.17516493873704053,
          "res_dim": 1
         },
         {
          "coverage": 0.918,
          "density": 0.1926547743966422,
          "id": 7,
          "mass": 0.4765,
          "mean": 0.1926547743966422,
          "res_dim": 1
         },
         {
          "coverage": 0.909,
          "density": 0.21213535589264879,
          "id": 8,
          "mass": 0.4285,
          "mean": 0.21213535589264879,
          "res_dim": 1
         },
         {
          "coverage": 0.8995,
          "density": 0.23363636363636364,
          "id": 9,
          "mass": 0.385,
          "mean": 0.23363636363636364,
          "res_dim": 1
         },
         {
          "coverage": 0.885,
          "density": 0.25578034682080925,
          "id": 10,
          "mass": 0.346,
          "mean": 0.25578034682080925,
          "res_dim": 1
         },
         {
          "coverage": 0.8845,
          "density": 0.2848631239935588,
          "id": 11,
          "mass": 0.3105,
          "mean": 0.2848631239935588,
          "res_dim": 1
         },
         {
          "coverage": 0.8845,
          "density": 0.31759425493716337,
          "id": 12,
          "mass": 0.2785,
          "mean": 0.31759425493716337,
          "res_dim": 1
         },
         {
          "coverage": 0.87425,
          "density": 0.34900199600798404,
          "id": 13,
          "mass": 0.2505,
          "mean": 0.34900199600798404,
          "res_dim": 1
         },
         {
          "coverage": 0.86875,
          "density": 0.3861111111111111,
          "id": 14,
          "mass": 0.225,
          "mean": 0.3861111111111111,
          "res_dim": 1
         },
         {
          "coverage": 0.86875,
          "density": 0.43007425742574257,
          "id": 15,
          "mass": 0.202,
          "mean": 0.43007425742574257,
          "res_dim": 1
         },
         {
          "coverage": 0.86825,
          "density": 0.4783746556473829,
          "id": 16,
          "mass": 0.1815,
          "mean": 0.4783746556473829,
          "res_dim": 1
         },
         {
          "coverage": 0.86275,
          "density": 0.5309230769230769,
          "id": 17,
          "mass": 0.1625,
          "mean": 0.5309230769230769,
          "res_dim": 1
         },
         {
          "coverage": 0.85825,
          "density": 0.5878424657534247,
          "id": 18,
          "mass": 0.146,
          "mean": 0.5878424657534247,
          "res_dim": 1
         },
         {
          "coverage": 0.85825,
          "density": 0.6576628352490421,
          "id": 19,
          "mass": 0.1305,
          "mean": 0.6576628352490421,
          "res_dim": 1
         },
         {
          "coverage": 0.85325,
          "density": 0.7292735042735042,
          "id": 20,
          "mass": 0.117,
          "mean": 0.7292735042735042,
          "res_dim": 1
         },
         {
          "coverage": 0.84825,
          "density": 0.8117224880382775,
          "id": 21,
          "mass": 0.1045,
          "mean": 0.8117224880382775,
          "res_dim": 1
         },
         {
          "coverage": 0.848,
          "density": 0.902127659574468,
          "id": 22,
          "mass": 0.094,
          "mean": 0.902127659574468,
          "res_dim": 1
         },
         {
          "coverage": 0.83125,
          "density": 0.9895833333333334,
          "id": 23,
          "mass": 0.084,
          "mean": 0.9895833333333334,
          "res_dim": 1
         },
         {
          "coverage": 0.75,
          "density": 1,
          "id": 24,
          "mass": 0.075,
          "mean": 1,
          "res_dim": 1
         }
        ],
        "data-bb8d07f6df3d47a6a475317795287b23": [
         {
          "end": 1,
          "start": 0
         }
        ],
        "data-d751713988987e9331980363e24189ce": []
       },
       "vconcat": [
        {
         "data": {
          "name": "data-6930bcacb34237d9b2ce30c82edd22a2"
         },
         "encoding": {
          "color": {
           "field": "res_dim",
           "scale": {
            "range": [
             "#eff9b6",
             "#d0edb3",
             "#97d6b9",
             "#5dc0c0",
             "#31a5c2",
             "#1f80b8",
             "#2354a3",
             "#21318d"
            ]
           },
           "type": "ordinal"
          },
          "opacity": {
           "condition": {
            "selection": "selector002",
            "value": 1
           },
           "value": 0.4
          },
          "tooltip": [
           {
            "field": "id",
            "type": "ordinal"
           },
           {
            "field": "coverage",
            "format": ".2",
            "type": "quantitative"
           },
           {
            "field": "density",
            "format": ".2",
            "type": "quantitative"
           },
           {
            "field": "res_dim",
            "type": "ordinal"
           }
          ],
          "x": {
           "field": "coverage",
           "type": "quantitative"
          },
          "y": {
           "field": "density",
           "type": "quantitative"
          }
         },
         "height": 400,
         "mark": {
          "size": 75,
          "type": "circle"
         },
         "selection": {
          "selector002": {
           "fields": [
            "id"
           ],
           "type": "single"
          }
         },
         "width": 400
        },
        {
         "layer": [
          {
           "data": {
            "name": "data-0a784f96e624c90c4390abe2d0a24a61"
           },
           "encoding": {
            "x": {
             "axis": {
              "grid": false,
              "labels": false,
              "title": "box limits"
             },
             "field": "x_lower",
             "scale": {
              "domain": [
               0,
               1
              ],
              "padding": 0.1
             },
             "type": "quantitative"
            },
            "x2": {
             "field": "x_upper"
            },
            "y": {
             "field": "name",
             "scale": {
              "padding": 1
             },
             "type": "nominal"
            }
           },
           "mark": "rule",
           "transform": [
            {
             "as": "x_lower",
             "calculate": "(datum.x1-datum.minimum)/(datum.maximum-datum.minimum)"
            },
            {
             "as": "x_upper",
             "calculate": "(datum.x2-datum.minimum)/(datum.maximum-datum.minimum)"
            },
            {
             "filter": {
              "selection": "selector002"
             }
            }
           ],
           "width": 400
          },
          {
           "data": {
            "name": "data-0a784f96e624c90c4390abe2d0a24a61"
           },
           "encoding": {
            "text": {
             "field": "text",
             "type": "ordinal"
            },
            "x": {
             "axis": {
              "grid": false,
              "labels": false,
              "title": "box limits"
             },
             "field": "x_lower",
             "scale": {
              "domain": [
               0,
               1
              ],
              "padding": 0.1
             },
             "type": "quantitative"
            },
            "x2": {
             "field": "x_upper"
            },
            "y": {
             "field": "name",
             "scale": {
              "padding": 1
             },
             "type": "nominal"
            }
           },
           "mark": {
            "align": "left",
            "baseline": "top",
            "dy": 5,
            "type": "text"
           },
           "transform": [
            {
             "as": "x_lower",
             "calculate": "(datum.x1-datum.minimum)/(datum.maximum-datum.minimum)"
            },
            {
             "as": "x_upper",
             "calculate": "(datum.x2-datum.minimum)/(datum.maximum-datum.minimum)"
            },
            {
             "filter": {
              "selection": "selector002"
             }
            },
            {
             "as": "text",
             "calculate": "datum.qp_lower>0?format(datum.x1, \".2\")+\" (\"+format(datum.qp_lower, \".1~g\")+\")\" :format(datum.x1, \".2\")"
            }
           ],
           "width": 400
          },
          {
           "data": {
            "name": "data-0a784f96e624c90c4390abe2d0a24a61"
           },
           "encoding": {
            "text": {
             "field": "text",
             "type": "ordinal"
            },
            "x": {
             "field": "x_upper",
             "type": "quantitative"
            },
            "x2": {
             "field": "x_upper"
            },
            "y": {
             "field": "name",
             "scale": {
              "padding": 1
             },
             "type": "nominal"
            }
           },
           "mark": {
            "align": "right",
            "baseline": "top",
            "dy": 5,
            "type": "text"
           },
           "transform": [
            {
             "as": "x_lower",
             "calculate": "(datum.x1-datum.minimum)/(datum.maximum-datum.minimum)"
            },
            {
             "as": "x_upper",
             "calculate": "(datum.x2-datum.minimum)/(datum.maximum-datum.minimum)"
            },
            {
             "filter": {
              "selection": "selector002"
             }
            },
            {
             "as": "text",
             "calculate": "datum.qp_upper>0?format(datum.x2, \".2\")+\" (\"+format(datum.qp_upper, \".1\")+\")\" :format(datum.x2, \".2\")"
            }
           ],
           "width": 400
          },
          {
           "data": {
            "name": "data-bb8d07f6df3d47a6a475317795287b23"
           },
           "encoding": {
            "x": {
             "field": "start",
             "type": "quantitative"
            },
            "x2": {
             "field": "end"
            }
           },
           "mark": {
            "opacity": 0.05,
            "type": "rect"
           }
          },
          {
           "data": {
            "name": "data-d751713988987e9331980363e24189ce"
           },
           "encoding": {
            "x": {
             "field": "x",
             "type": "quantitative"
            },
            "y": {
             "field": "name",
             "type": "nominal"
            }
           },
           "mark": "point",
           "transform": [
            {
             "filter": {
              "selection": "selector002"
             }
            }
           ],
           "width": 400
          },
          {
           "data": {
            "name": "data-d751713988987e9331980363e24189ce"
           },
           "encoding": {
            "text": {
             "field": "item",
             "type": "nominal"
            },
            "x": {
             "field": "x",
             "type": "quantitative"
            },
            "y": {
             "field": "name",
             "type": "nominal"
            }
           },
           "mark": {
            "align": "center",
            "baseline": "top",
            "dy": 5,
            "type": "text"
           },
           "transform": [
            {
             "filter": {
              "selection": "selector002"
             }
            }
           ],
           "width": 400
          }
         ]
        }
       ]
      },
      "image/png": "[encoded data removed]",
      "text/plain": [
       "<VegaLite 3 object>\n",
       "\n",
       "If you see this message, it means the renderer has not been properly enabled\n",
       "for the frontend that you are using. For more information, see\n",
       "https://altair-viz.github.io/user_guide/troubleshooting.html\n"
      ]
     },
     "execution_count": 8,
     "metadata": {},
     "output_type": "execute_result"
    }
   ],
   "source": [
    "outcomes_interest = outcomes_df['END'] > np.percentile(outcomes_df['END'],90)\n",
    "outcomes_interest\n",
    "\n",
    "prim_alg = prim.Prim(experiments, outcomes_interest, threshold=0.7, peel_alpha=0.1)\n",
    "box1 = prim_alg.find_box()\n",
    "box1.inspect_tradeoff()"
   ]
  },
  {
   "cell_type": "code",
   "execution_count": 9,
   "metadata": {},
   "outputs": [
    {
     "name": "stdout",
     "output_type": "stream",
     "text": [
      "coverage     0.75\n",
      "density         1\n",
      "id             24\n",
      "mass        0.075\n",
      "mean            1\n",
      "res_dim         1\n",
      "Name: 24, dtype: object\n",
      "\n",
      "             box 24                       \n",
      "                min       max    qp values\n",
      "A.1_pfail  0.000488  0.075439  [-1.0, 0.0]\n",
      "\n"
     ]
    },
    {
     "data": {
      "image/png": "[encoded data removed]",
      "text/plain": [
       "<Figure size 242.125x180 with 2 Axes>"
      ]
     },
     "metadata": {
      "needs_background": "light"
     },
     "output_type": "display_data"
    }
   ],
   "source": [
    "box1.inspect(24)\n",
    "plt.show()\n",
    "\n",
    "box1.select(24)\n",
    "fig = box1.show_pairs_scatter()\n",
    "plt.show()"
   ]
  },
  {
   "cell_type": "code",
   "execution_count": 10,
   "metadata": {},
   "outputs": [
    {
     "name": "stderr",
     "output_type": "stream",
     "text": [
      "[MainProcess/INFO] 37000 points remaining, containing 1000 cases of interest\n",
      "[MainProcess/INFO] box does not meet threshold criteria, value is 0.17540060632308357, returning dump box\n"
     ]
    }
   ],
   "source": [
    "box2 = prim_alg.find_box()"
   ]
  },
  {
   "cell_type": "code",
   "execution_count": 18,
   "metadata": {},
   "outputs": [
    {
     "data": {
      "image/png": "[encoded data removed]",
      "text/plain": [
       "<Figure size 432x288 with 1 Axes>"
      ]
     },
     "metadata": {
      "needs_background": "light"
     },
     "output_type": "display_data"
    }
   ],
   "source": [
    "import seaborn as sns\n",
    "sns.distplot(outcomes_df['A.1_Expected Number of Deaths'], hist = False, kde = True,\n",
    "                 kde_kws = {'shade': False, 'linewidth': 2, 'bw': 0.005},\n",
    "                 label = 'A.1')\n",
    "sns.distplot(outcomes_df['A.2_Expected Number of Deaths'], hist = False, kde = True,\n",
    "                 kde_kws = {'shade': False, 'linewidth': 2, 'bw': 0.005},\n",
    "                 label = 'A.2')\n",
    "sns.distplot(outcomes_df['A.3_Expected Number of Deaths'], hist = False, kde = True,\n",
    "                 kde_kws = {'shade': False, 'linewidth': 2, 'bw': 0.005},\n",
    "                 label = 'A.3')\n",
    "sns.distplot(outcomes_df['A.4_Expected Number of Deaths'], hist = False, kde = True,\n",
    "                 kde_kws = {'shade': False, 'linewidth': 2, 'bw': 0.005},\n",
    "                 label = 'A.4')\n",
    "sns.distplot(outcomes_df['A.5_Expected Number of Deaths'], hist = False, kde = True,\n",
    "                 kde_kws = {'shade': False, 'linewidth': 2, 'bw': 0.005},\n",
    "                 label = 'A.5')\n",
    "\n",
    "plt.legend(prop={'size': 12}, title = 'Dike ring')\n",
    "plt.title('Density Plot Expected Number of Deaths')\n",
    "plt.xlabel('Deaths (#)')\n",
    "plt.ylabel('Density')\n",
    "plt.savefig('export/images/density_deaths')"
   ]
  },
  {
   "cell_type": "code",
   "execution_count": 21,
   "metadata": {},
   "outputs": [
    {
     "data": {
      "image/png": "[encoded data removed]",
      "text/plain": [
       "<Figure size 432x288 with 2 Axes>"
      ]
     },
     "metadata": {
      "needs_background": "light"
     },
     "output_type": "display_data"
    }
   ],
   "source": [
    "from ema_workbench.analysis import feature_scoring\n",
    "\n",
    "x = experiments.iloc[:,0:19]\n",
    "y = outcomes_df.iloc[:,9:]\n",
    "\n",
    "fs = feature_scoring.get_feature_scores_all(x, y)\n",
    "sns.heatmap(fs, cmap='viridis', annot=False)\n",
    "plt.savefig('export/images/scoring.png')\n",
    "plt.show()"
   ]
  },
  {
   "cell_type": "code",
   "execution_count": 25,
   "metadata": {},
   "outputs": [
    {
     "name": "stderr",
     "output_type": "stream",
     "text": [
      "[MainProcess/INFO] 40000 points remaining, containing 8000 cases of interest\n",
      "[MainProcess/INFO] mean: 0.35043988269794724, mass: 0.05115, coverage: 0.089625, density: 0.35043988269794724 restricted_dimensions: 9\n"
     ]
    },
    {
     "data": {
      "application/vnd.vegalite.v3+json": {
       "$schema": "https://vega.github.io/schema/vega-lite/v3.4.0.json",
       "config": {
        "mark": {
         "tooltip": null
        },
        "view": {
         "height": 300,
         "width": 400
        }
       },
       "datasets": {
        "data-b34169c0b88b8099afe65b8a0944920f": [
         {
          "id": 1,
          "maximum": 349.84375,
          "minimum": 30.15625,
          "name": "A.4_Bmax",
          "qp_lower": -1,
          "qp_upper": 0.1384965508202817,
          "x1": 30.15625,
          "x2": 317.8125
         },
         {
          "id": 2,
          "maximum": 349.84375,
          "minimum": 30.15625,
          "name": "A.2_Bmax",
          "qp_lower": -1,
          "qp_upper": 0.07467970569589079,
          "x1": 30.15625,
          "x2": 317.8125
         },
         {
          "id": 2,
          "maximum": 349.84375,
          "minimum": 30.15625,
          "name": "A.4_Bmax",
          "qp_lower": -1,
          "qp_upper": 0.031029969316202756,
          "x1": 30.15625,
          "x2": 317.8125
         },
         {
          "id": 3,
          "maximum": 132,
          "minimum": 0,
          "name": "A.0_ID flood wave shape",
          "qp_lower": -1,
          "qp_upper": 0.11492168749176457,
          "x1": 0,
          "x2": 118
         },
         {
          "id": 3,
          "maximum": 349.84375,
          "minimum": 30.15625,
          "name": "A.2_Bmax",
          "qp_lower": -1,
          "qp_upper": 0.06986289573463621,
          "x1": 30.15625,
          "x2": 317.8125
         },
         {
          "id": 3,
          "maximum": 349.84375,
          "minimum": 30.15625,
          "name": "A.4_Bmax",
          "qp_lower": -1,
          "qp_upper": 0.009887979441515446,
          "x1": 30.15625,
          "x2": 317.8125
         },
         {
          "id": 4,
          "maximum": 132,
          "minimum": 0,
          "name": "A.0_ID flood wave shape",
          "qp_lower": 0.11851524247097313,
          "qp_upper": 0.0838181103253587,
          "x1": 11,
          "x2": 118
         },
         {
          "id": 4,
          "maximum": 349.84375,
          "minimum": 30.15625,
          "name": "A.2_Bmax",
          "qp_lower": -1,
          "qp_upper": 0.042028012673639634,
          "x1": 30.15625,
          "x2": 317.8125
         },
         {
          "id": 4,
          "maximum": 349.84375,
          "minimum": 30.15625,
          "name": "A.4_Bmax",
          "qp_lower": -1,
          "qp_upper": 0.005510472761749163,
          "x1": 30.15625,
          "x2": 317.8125
         },
         {
          "id": 5,
          "maximum": 132,
          "minimum": 0,
          "name": "A.0_ID flood wave shape",
          "qp_lower": 0.20543934628710175,
          "qp_upper": 0.07392463882821505,
          "x1": 11,
          "x2": 118
         },
         {
          "id": 5,
          "maximum": 349.84375,
          "minimum": 30.15625,
          "name": "A.2_Bmax",
          "qp_lower": -1,
          "qp_upper": 0.06984322267016588,
          "x1": 30.15625,
          "x2": 317.8125
         },
         {
          "id": 5,
          "maximum": 349.84375,
          "minimum": 30.15625,
          "name": "A.4_Bmax",
          "qp_lower": -1,
          "qp_upper": 0.0021803167750156474,
          "x1": 30.15625,
          "x2": 317.8125
         },
         {
          "id": 5,
          "maximum": 4.5,
          "minimum": 1.5,
          "name": "discount rate 1",
          "qp_lower": -1,
          "qp_upper": 0.016007997644961865,
          "x1": 1.5,
          "x2": 4
         },
         {
          "id": 6,
          "maximum": 132,
          "minimum": 0,
          "name": "A.0_ID flood wave shape",
          "qp_lower": 0.0971704825054322,
          "qp_upper": 0.007717715402593604,
          "x1": 11,
          "x2": 118
         },
         {
          "id": 6,
          "maximum": 349.84375,
          "minimum": 30.15625,
          "name": "A.2_Bmax",
          "qp_lower": -1,
          "qp_upper": 0.029261707954376003,
          "x1": 30.15625,
          "x2": 317.8125
         },
         {
          "id": 6,
          "maximum": 349.84375,
          "minimum": 30.15625,
          "name": "A.4_Bmax",
          "qp_lower": -1,
          "qp_upper": 0.0037361884646980124,
          "x1": 30.15625,
          "x2": 317.8125
         },
         {
          "id": 6,
          "maximum": 349.84375,
          "minimum": 30.15625,
          "name": "A.5_Bmax",
          "qp_lower": 0.0315524081804402,
          "qp_upper": -1,
          "x1": 61.09375,
          "x2": 349.84375
         },
         {
          "id": 6,
          "maximum": 4.5,
          "minimum": 1.5,
          "name": "discount rate 1",
          "qp_lower": -1,
          "qp_upper": 0.0004249967890380734,
          "x1": 1.5,
          "x2": 4
         },
         {
          "id": 7,
          "maximum": 132,
          "minimum": 0,
          "name": "A.0_ID flood wave shape",
          "qp_lower": 0.15392603102645744,
          "qp_upper": 0.006182418247772024,
          "x1": 11,
          "x2": 118
         },
         {
          "id": 7,
          "maximum": 349.84375,
          "minimum": 30.15625,
          "name": "A.2_Bmax",
          "qp_lower": -1,
          "qp_upper": 0.005257048564302551,
          "x1": 30.15625,
          "x2": 317.8125
         },
         {
          "id": 7,
          "maximum": 349.84375,
          "minimum": 30.15625,
          "name": "A.4_Bmax",
          "qp_lower": -1,
          "qp_upper": 0.00020095315531963232,
          "x1": 30.15625,
          "x2": 317.8125
         },
         {
          "id": 7,
          "maximum": 349.84375,
          "minimum": 30.15625,
          "name": "A.5_Bmax",
          "qp_lower": 0.0009537836242242516,
          "qp_upper": -1,
          "x1": 61.09375,
          "x2": 349.84375
         },
         {
          "id": 7,
          "maximum": 4.5,
          "minimum": 1.5,
          "name": "discount rate 1",
          "qp_lower": 9.817103627456335e-07,
          "qp_upper": 1.3220234551797948e-07,
          "x1": 2,
          "x2": 4
         },
         {
          "id": 8,
          "maximum": 132,
          "minimum": 0,
          "name": "A.0_ID flood wave shape",
          "qp_lower": 0.08281611112586691,
          "qp_upper": 0.006098768363965579,
          "x1": 11,
          "x2": 118
         },
         {
          "id": 8,
          "maximum": 349.84375,
          "minimum": 30.15625,
          "name": "A.2_Bmax",
          "qp_lower": -1,
          "qp_upper": 0.0009416642454844812,
          "x1": 30.15625,
          "x2": 317.8125
         },
         {
          "id": 8,
          "maximum": 349.84375,
          "minimum": 30.15625,
          "name": "A.4_Bmax",
          "qp_lower": -1,
          "qp_upper": 0.0007701166460567327,
          "x1": 30.15625,
          "x2": 317.8125
         },
         {
          "id": 8,
          "maximum": 349.84375,
          "minimum": 30.15625,
          "name": "A.5_Bmax",
          "qp_lower": 0.008528787880779352,
          "qp_upper": -1,
          "x1": 61.09375,
          "x2": 349.84375
         },
         {
          "id": 8,
          "maximum": 4.5,
          "minimum": 1.5,
          "name": "discount rate 0",
          "qp_lower": 0.005055326414399279,
          "qp_upper": -1,
          "x1": 2,
          "x2": 4.5
         },
         {
          "id": 8,
          "maximum": 4.5,
          "minimum": 1.5,
          "name": "discount rate 1",
          "qp_lower": 9.003794946443655e-09,
          "qp_upper": 2.446699639223462e-09,
          "x1": 2,
          "x2": 4
         },
         {
          "id": 9,
          "maximum": 132,
          "minimum": 0,
          "name": "A.0_ID flood wave shape",
          "qp_lower": 0.047896917550565674,
          "qp_upper": 0.01819478970756271,
          "x1": 11,
          "x2": 118
         },
         {
          "id": 9,
          "maximum": 349.84375,
          "minimum": 30.15625,
          "name": "A.2_Bmax",
          "qp_lower": -1,
          "qp_upper": 0.00045953391095893527,
          "x1": 30.15625,
          "x2": 317.8125
         },
         {
          "id": 9,
          "maximum": 349.84375,
          "minimum": 30.15625,
          "name": "A.3_Bmax",
          "qp_lower": -1,
          "qp_upper": 0.09712079463131132,
          "x1": 30.15625,
          "x2": 319.375
         },
         {
          "id": 9,
          "maximum": 349.84375,
          "minimum": 30.15625,
          "name": "A.4_Bmax",
          "qp_lower": -1,
          "qp_upper": 0.0007629990877720383,
          "x1": 30.15625,
          "x2": 317.8125
         },
         {
          "id": 9,
          "maximum": 349.84375,
          "minimum": 30.15625,
          "name": "A.5_Bmax",
          "qp_lower": 0.008695336193716994,
          "qp_upper": -1,
          "x1": 61.09375,
          "x2": 349.84375
         },
         {
          "id": 9,
          "maximum": 4.5,
          "minimum": 1.5,
          "name": "discount rate 0",
          "qp_lower": 0.002463063279223502,
          "qp_upper": -1,
          "x1": 2,
          "x2": 4.5
         },
         {
          "id": 9,
          "maximum": 4.5,
          "minimum": 1.5,
          "name": "discount rate 1",
          "qp_lower": 5.335897435450324e-09,
          "qp_upper": 4.018690679243378e-08,
          "x1": 2,
          "x2": 4
         },
         {
          "id": 10,
          "maximum": 132,
          "minimum": 0,
          "name": "A.0_ID flood wave shape",
          "qp_lower": 0.055833526043716754,
          "qp_upper": 0.014743305704447342,
          "x1": 11,
          "x2": 118
         },
         {
          "id": 10,
          "maximum": 349.84375,
          "minimum": 30.15625,
          "name": "A.2_Bmax",
          "qp_lower": -1,
          "qp_upper": 0.005584181371305347,
          "x1": 30.15625,
          "x2": 317.8125
         },
         {
          "id": 10,
          "maximum": 10,
          "minimum": 1,
          "name": "A.2_Brate",
          "qp_lower": -1,
          "qp_upper": 6.580385342547777e-05,
          "x1": 1,
          "x2": 5.75
         },
         {
          "id": 10,
          "maximum": 349.84375,
          "minimum": 30.15625,
          "name": "A.3_Bmax",
          "qp_lower": -1,
          "qp_upper": 0.012342473147121237,
          "x1": 30.15625,
          "x2": 319.375
         },
         {
          "id": 10,
          "maximum": 349.84375,
          "minimum": 30.15625,
          "name": "A.4_Bmax",
          "qp_lower": -1,
          "qp_upper": 0.00316331292377824,
          "x1": 30.15625,
          "x2": 317.8125
         },
         {
          "id": 10,
          "maximum": 349.84375,
          "minimum": 30.15625,
          "name": "A.5_Bmax",
          "qp_lower": 0.020953913409753264,
          "qp_upper": -1,
          "x1": 61.09375,
          "x2": 349.84375
         },
         {
          "id": 10,
          "maximum": 4.5,
          "minimum": 1.5,
          "name": "discount rate 0",
          "qp_lower": 0.0023554914275066815,
          "qp_upper": -1,
          "x1": 2,
          "x2": 4.5
         },
         {
          "id": 10,
          "maximum": 4.5,
          "minimum": 1.5,
          "name": "discount rate 1",
          "qp_lower": 3.475503314934001e-08,
          "qp_upper": 8.553817576211624e-10,
          "x1": 2,
          "x2": 4
         },
         {
          "id": 11,
          "maximum": 132,
          "minimum": 0,
          "name": "A.0_ID flood wave shape",
          "qp_lower": 0.021422900401489385,
          "qp_upper": 0.013893826570821598,
          "x1": 11,
          "x2": 118
         },
         {
          "id": 11,
          "maximum": 349.84375,
          "minimum": 30.15625,
          "name": "A.1_Bmax",
          "qp_lower": -1,
          "qp_upper": 0.03451980418327387,
          "x1": 30.15625,
          "x2": 322.1875
         },
         {
          "id": 11,
          "maximum": 349.84375,
          "minimum": 30.15625,
          "name": "A.2_Bmax",
          "qp_lower": -1,
          "qp_upper": 0.006989687950906765,
          "x1": 30.15625,
          "x2": 317.8125
         },
         {
          "id": 11,
          "maximum": 10,
          "minimum": 1,
          "name": "A.2_Brate",
          "qp_lower": -1,
          "qp_upper": 3.200503248350692e-07,
          "x1": 1,
          "x2": 5.75
         },
         {
          "id": 11,
          "maximum": 349.84375,
          "minimum": 30.15625,
          "name": "A.3_Bmax",
          "qp_lower": -1,
          "qp_upper": 0.004016530330216118,
          "x1": 30.15625,
          "x2": 319.375
         },
         {
          "id": 11,
          "maximum": 349.84375,
          "minimum": 30.15625,
          "name": "A.4_Bmax",
          "qp_lower": -1,
          "qp_upper": 0.00040920413657642626,
          "x1": 30.15625,
          "x2": 317.8125
         },
         {
          "id": 11,
          "maximum": 349.84375,
          "minimum": 30.15625,
          "name": "A.5_Bmax",
          "qp_lower": 0.015769727722569814,
          "qp_upper": -1,
          "x1": 61.09375,
          "x2": 349.84375
         },
         {
          "id": 11,
          "maximum": 4.5,
          "minimum": 1.5,
          "name": "discount rate 0",
          "qp_lower": 0.000582387384120934,
          "qp_upper": -1,
          "x1": 2,
          "x2": 4.5
         },
         {
          "id": 11,
          "maximum": 4.5,
          "minimum": 1.5,
          "name": "discount rate 1",
          "qp_lower": 4.472877370159468e-09,
          "qp_upper": 1.8921234698230775e-09,
          "x1": 2,
          "x2": 4
         },
         {
          "id": 12,
          "maximum": 132,
          "minimum": 0,
          "name": "A.0_ID flood wave shape",
          "qp_lower": 0.047577380854975086,
          "qp_upper": 0.025514959193549666,
          "x1": 11,
          "x2": 118
         },
         {
          "id": 12,
          "maximum": 349.84375,
          "minimum": 30.15625,
          "name": "A.1_Bmax",
          "qp_lower": 0.06907589347713707,
          "qp_upper": 0.020444378659082784,
          "x1": 59.0625,
          "x2": 322.1875
         },
         {
          "id": 12,
          "maximum": 349.84375,
          "minimum": 30.15625,
          "name": "A.2_Bmax",
          "qp_lower": -1,
          "qp_upper": 0.00206210671868261,
          "x1": 30.15625,
          "x2": 317.8125
         },
         {
          "id": 12,
          "maximum": 10,
          "minimum": 1,
          "name": "A.2_Brate",
          "qp_lower": -1,
          "qp_upper": 1.360643385807161e-07,
          "x1": 1,
          "x2": 5.75
         },
         {
          "id": 12,
          "maximum": 349.84375,
          "minimum": 30.15625,
          "name": "A.3_Bmax",
          "qp_lower": -1,
          "qp_upper": 0.004605839210579934,
          "x1": 30.15625,
          "x2": 319.375
         },
         {
          "id": 12,
          "maximum": 349.84375,
          "minimum": 30.15625,
          "name": "A.4_Bmax",
          "qp_lower": -1,
          "qp_upper": 0.0011185455038109377,
          "x1": 30.15625,
          "x2": 317.8125
         },
         {
          "id": 12,
          "maximum": 349.84375,
          "minimum": 30.15625,
          "name": "A.5_Bmax",
          "qp_lower": 0.006033579342962757,
          "qp_upper": -1,
          "x1": 61.09375,
          "x2": 349.84375
         },
         {
          "id": 12,
          "maximum": 4.5,
          "minimum": 1.5,
          "name": "discount rate 0",
          "qp_lower": 0.002413984373238099,
          "qp_upper": -1,
          "x1": 2,
          "x2": 4.5
         },
         {
          "id": 12,
          "maximum": 4.5,
          "minimum": 1.5,
          "name": "discount rate 1",
          "qp_lower": 3.795456630315986e-11,
          "qp_upper": 1.4845394865386883e-12,
          "x1": 2,
          "x2": 4
         },
         {
          "id": 13,
          "maximum": 132,
          "minimum": 0,
          "name": "A.0_ID flood wave shape",
          "qp_lower": 0.07067098536616136,
          "qp_upper": 0.0021234311111446623,
          "x1": 11,
          "x2": 118
         },
         {
          "id": 13,
          "maximum": 349.84375,
          "minimum": 30.15625,
          "name": "A.1_Bmax",
          "qp_lower": 0.003804222401621994,
          "qp_upper": 0.011653369829480368,
          "x1": 82.8125,
          "x2": 322.1875
         },
         {
          "id": 13,
          "maximum": 349.84375,
          "minimum": 30.15625,
          "name": "A.2_Bmax",
          "qp_lower": -1,
          "qp_upper": 0.0004839180328383931,
          "x1": 30.15625,
          "x2": 317.8125
         },
         {
          "id": 13,
          "maximum": 10,
          "minimum": 1,
          "name": "A.2_Brate",
          "qp_lower": -1,
          "qp_upper": 5.911953637065774e-07,
          "x1": 1,
          "x2": 5.75
         },
         {
          "id": 13,
          "maximum": 349.84375,
          "minimum": 30.15625,
          "name": "A.3_Bmax",
          "qp_lower": -1,
          "qp_upper": 0.005736004880179387,
          "x1": 30.15625,
          "x2": 319.375
         },
         {
          "id": 13,
          "maximum": 349.84375,
          "minimum": 30.15625,
          "name": "A.4_Bmax",
          "qp_lower": -1,
          "qp_upper": 0.0007743008520943077,
          "x1": 30.15625,
          "x2": 317.8125
         },
         {
          "id": 13,
          "maximum": 349.84375,
          "minimum": 30.15625,
          "name": "A.5_Bmax",
          "qp_lower": 0.00983240153234507,
          "qp_upper": -1,
          "x1": 61.09375,
          "x2": 349.84375
         },
         {
          "id": 13,
          "maximum": 4.5,
          "minimum": 1.5,
          "name": "discount rate 0",
          "qp_lower": 0.0034577229006791305,
          "qp_upper": -1,
          "x1": 2,
          "x2": 4.5
         },
         {
          "id": 13,
          "maximum": 4.5,
          "minimum": 1.5,
          "name": "discount rate 1",
          "qp_lower": 3.5437736641187144e-10,
          "qp_upper": 7.744682639005214e-13,
          "x1": 2,
          "x2": 4
         },
         {
          "id": 14,
          "maximum": 132,
          "minimum": 0,
          "name": "A.0_ID flood wave shape",
          "qp_lower": 0.18658897305545186,
          "qp_upper": 0.03507632397409409,
          "x1": 11,
          "x2": 118
         },
         {
          "id": 14,
          "maximum": 349.84375,
          "minimum": 30.15625,
          "name": "A.1_Bmax",
          "qp_lower": 0.001371611433799385,
          "qp_upper": 0.05788760001634901,
          "x1": 82.8125,
          "x2": 322.1875
         },
         {
          "id": 14,
          "maximum": 349.84375,
          "minimum": 30.15625,
          "name": "A.2_Bmax",
          "qp_lower": -1,
          "qp_upper": 0.03816209383188307,
          "x1": 30.15625,
          "x2": 317.8125
         },
         {
          "id": 14,
          "maximum": 10,
          "minimum": 1,
          "name": "A.2_Brate",
          "qp_lower": -1,
          "qp_upper": 1.0369738711501935e-09,
          "x1": 1,
          "x2": 5.75
         },
         {
          "id": 14,
          "maximum": 349.84375,
          "minimum": 30.15625,
          "name": "A.3_Bmax",
          "qp_lower": -1,
          "qp_upper": 0.03481207122959813,
          "x1": 30.15625,
          "x2": 319.375
         },
         {
          "id": 14,
          "maximum": 349.84375,
          "minimum": 30.15625,
          "name": "A.4_Bmax",
          "qp_lower": -1,
          "qp_upper": 0.0012746343076817635,
          "x1": 30.15625,
          "x2": 317.8125
         },
         {
          "id": 14,
          "maximum": 349.84375,
          "minimum": 30.15625,
          "name": "A.5_Bmax",
          "qp_lower": 0.012143788574303638,
          "qp_upper": -1,
          "x1": 61.09375,
          "x2": 349.84375
         },
         {
          "id": 14,
          "maximum": 4.5,
          "minimum": 1.5,
          "name": "discount rate 0",
          "qp_lower": 0.0003241427949300192,
          "qp_upper": -1,
          "x1": 2,
          "x2": 4.5
         },
         {
          "id": 14,
          "maximum": 4.5,
          "minimum": 1.5,
          "name": "discount rate 1",
          "qp_lower": 1.415868795815667e-16,
          "qp_upper": 4.317660050130605e-18,
          "x1": 2,
          "x2": 3
         }
        ],
        "data-b6b7991054505a238586832fdefe2d97": [
         {
          "coverage": 1,
          "density": 0.2,
          "id": 0,
          "mass": 1,
          "mean": 0.2,
          "res_dim": 0
         },
         {
          "coverage": 0.909875,
          "density": 0.20230683713173986,
          "id": 1,
          "mass": 0.8995,
          "mean": 0.20230683713173986,
          "res_dim": 1
         },
         {
          "coverage": 0.831125,
          "density": 0.20554593792506493,
          "id": 2,
          "mass": 0.8087,
          "mean": 0.20554593792506493,
          "res_dim": 2
         },
         {
          "coverage": 0.75325,
          "density": 0.2084183585238474,
          "id": 3,
          "mass": 0.722825,
          "mean": 0.2084183585238474,
          "res_dim": 3
         },
         {
          "coverage": 0.69225,
          "density": 0.2114063215758131,
          "id": 4,
          "mass": 0.6549,
          "mean": 0.2114063215758131,
          "res_dim": 3
         },
         {
          "coverage": 0.536,
          "density": 0.21768707482993196,
          "id": 5,
          "mass": 0.49245,
          "mean": 0.21768707482993196,
          "res_dim": 4
         },
         {
          "coverage": 0.49525,
          "density": 0.22348826714801445,
          "id": 6,
          "mass": 0.4432,
          "mean": 0.22348826714801445,
          "res_dim": 5
         },
         {
          "coverage": 0.35625,
          "density": 0.2419560234315307,
          "id": 7,
          "mass": 0.294475,
          "mean": 0.2419560234315307,
          "res_dim": 5
         },
         {
          "coverage": 0.283,
          "density": 0.2537263252269416,
          "id": 8,
          "mass": 0.223075,
          "mean": 0.2537263252269416,
          "res_dim": 6
         },
         {
          "coverage": 0.260625,
          "density": 0.2601047904191617,
          "id": 9,
          "mass": 0.2004,
          "mean": 0.2601047904191617,
          "res_dim": 7
         },
         {
          "coverage": 0.189,
          "density": 0.28330522765598654,
          "id": 10,
          "mass": 0.133425,
          "mean": 0.28330522765598654,
          "res_dim": 8
         },
         {
          "coverage": 0.177125,
          "density": 0.295269847884976,
          "id": 11,
          "mass": 0.119975,
          "mean": 0.295269847884976,
          "res_dim": 9
         },
         {
          "coverage": 0.165,
          "density": 0.30569708198239925,
          "id": 12,
          "mass": 0.10795,
          "mean": 0.30569708198239925,
          "res_dim": 9
         },
         {
          "coverage": 0.152875,
          "density": 0.31504379185986603,
          "id": 13,
          "mass": 0.09705,
          "mean": 0.31504379185986603,
          "res_dim": 9
         },
         {
          "coverage": 0.089625,
          "density": 0.35043988269794724,
          "id": 14,
          "mass": 0.05115,
          "mean": 0.35043988269794724,
          "res_dim": 9
         }
        ],
        "data-bb8d07f6df3d47a6a475317795287b23": [
         {
          "end": 1,
          "start": 0
         }
        ],
        "data-d751713988987e9331980363e24189ce": []
       },
       "vconcat": [
        {
         "data": {
          "name": "data-b6b7991054505a238586832fdefe2d97"
         },
         "encoding": {
          "color": {
           "field": "res_dim",
           "scale": {
            "range": [
             "#eff9b6",
             "#d0edb3",
             "#97d6b9",
             "#5dc0c0",
             "#31a5c2",
             "#1f80b8",
             "#2354a3",
             "#21318d"
            ]
           },
           "type": "ordinal"
          },
          "opacity": {
           "condition": {
            "selection": "selector005",
            "value": 1
           },
           "value": 0.4
          },
          "tooltip": [
           {
            "field": "id",
            "type": "ordinal"
           },
           {
            "field": "coverage",
            "format": ".2",
            "type": "quantitative"
           },
           {
            "field": "density",
            "format": ".2",
            "type": "quantitative"
           },
           {
            "field": "res_dim",
            "type": "ordinal"
           }
          ],
          "x": {
           "field": "coverage",
           "type": "quantitative"
          },
          "y": {
           "field": "density",
           "type": "quantitative"
          }
         },
         "height": 400,
         "mark": {
          "size": 75,
          "type": "circle"
         },
         "selection": {
          "selector005": {
           "fields": [
            "id"
           ],
           "type": "single"
          }
         },
         "width": 400
        },
        {
         "layer": [
          {
           "data": {
            "name": "data-b34169c0b88b8099afe65b8a0944920f"
           },
           "encoding": {
            "x": {
             "axis": {
              "grid": false,
              "labels": false,
              "title": "box limits"
             },
             "field": "x_lower",
             "scale": {
              "domain": [
               0,
               1
              ],
              "padding": 0.1
             },
             "type": "quantitative"
            },
            "x2": {
             "field": "x_upper"
            },
            "y": {
             "field": "name",
             "scale": {
              "padding": 1
             },
             "type": "nominal"
            }
           },
           "mark": "rule",
           "transform": [
            {
             "as": "x_lower",
             "calculate": "(datum.x1-datum.minimum)/(datum.maximum-datum.minimum)"
            },
            {
             "as": "x_upper",
             "calculate": "(datum.x2-datum.minimum)/(datum.maximum-datum.minimum)"
            },
            {
             "filter": {
              "selection": "selector005"
             }
            }
           ],
           "width": 400
          },
          {
           "data": {
            "name": "data-b34169c0b88b8099afe65b8a0944920f"
           },
           "encoding": {
            "text": {
             "field": "text",
             "type": "ordinal"
            },
            "x": {
             "axis": {
              "grid": false,
              "labels": false,
              "title": "box limits"
             },
             "field": "x_lower",
             "scale": {
              "domain": [
               0,
               1
              ],
              "padding": 0.1
             },
             "type": "quantitative"
            },
            "x2": {
             "field": "x_upper"
            },
            "y": {
             "field": "name",
             "scale": {
              "padding": 1
             },
             "type": "nominal"
            }
           },
           "mark": {
            "align": "left",
            "baseline": "top",
            "dy": 5,
            "type": "text"
           },
           "transform": [
            {
             "as": "x_lower",
             "calculate": "(datum.x1-datum.minimum)/(datum.maximum-datum.minimum)"
            },
            {
             "as": "x_upper",
             "calculate": "(datum.x2-datum.minimum)/(datum.maximum-datum.minimum)"
            },
            {
             "filter": {
              "selection": "selector005"
             }
            },
            {
             "as": "text",
             "calculate": "datum.qp_lower>0?format(datum.x1, \".2\")+\" (\"+format(datum.qp_lower, \".1~g\")+\")\" :format(datum.x1, \".2\")"
            }
           ],
           "width": 400
          },
          {
           "data": {
            "name": "data-b34169c0b88b8099afe65b8a0944920f"
           },
           "encoding": {
            "text": {
             "field": "text",
             "type": "ordinal"
            },
            "x": {
             "field": "x_upper",
             "type": "quantitative"
            },
            "x2": {
             "field": "x_upper"
            },
            "y": {
             "field": "name",
             "scale": {
              "padding": 1
             },
             "type": "nominal"
            }
           },
           "mark": {
            "align": "right",
            "baseline": "top",
            "dy": 5,
            "type": "text"
           },
           "transform": [
            {
             "as": "x_lower",
             "calculate": "(datum.x1-datum.minimum)/(datum.maximum-datum.minimum)"
            },
            {
             "as": "x_upper",
             "calculate": "(datum.x2-datum.minimum)/(datum.maximum-datum.minimum)"
            },
            {
             "filter": {
              "selection": "selector005"
             }
            },
            {
             "as": "text",
             "calculate": "datum.qp_upper>0?format(datum.x2, \".2\")+\" (\"+format(datum.qp_upper, \".1\")+\")\" :format(datum.x2, \".2\")"
            }
           ],
           "width": 400
          },
          {
           "data": {
            "name": "data-bb8d07f6df3d47a6a475317795287b23"
           },
           "encoding": {
            "x": {
             "field": "start",
             "type": "quantitative"
            },
            "x2": {
             "field": "end"
            }
           },
           "mark": {
            "opacity": 0.05,
            "type": "rect"
           }
          },
          {
           "data": {
            "name": "data-d751713988987e9331980363e24189ce"
           },
           "encoding": {
            "x": {
             "field": "x",
             "type": "quantitative"
            },
            "y": {
             "field": "name",
             "type": "nominal"
            }
           },
           "mark": "point",
           "transform": [
            {
             "filter": {
              "selection": "selector005"
             }
            }
           ],
           "width": 400
          },
          {
           "data": {
            "name": "data-d751713988987e9331980363e24189ce"
           },
           "encoding": {
            "text": {
             "field": "item",
             "type": "nominal"
            },
            "x": {
             "field": "x",
             "type": "quantitative"
            },
            "y": {
             "field": "name",
             "type": "nominal"
            }
           },
           "mark": {
            "align": "center",
            "baseline": "top",
            "dy": 5,
            "type": "text"
           },
           "transform": [
            {
             "filter": {
              "selection": "selector005"
             }
            }
           ],
           "width": 400
          }
         ]
        }
       ]
      },
      "image/png": "[encoded data removed]",
      "text/plain": [
       "<VegaLite 3 object>\n",
       "\n",
       "If you see this message, it means the renderer has not been properly enabled\n",
       "for the frontend that you are using. For more information, see\n",
       "https://altair-viz.github.io/user_guide/troubleshooting.html\n"
      ]
     },
     "execution_count": 25,
     "metadata": {},
     "output_type": "execute_result"
    }
   ],
   "source": [
    "experiments_no_pfail = experiments.iloc[:,[0,1,2,4,5,7,8,10,11,13,14,16,17,18]]\n",
    "\n",
    "outcomes_interest = outcomes_df['END'] > np.percentile(outcomes_df['END'],80)\n",
    "outcomes_interest\n",
    "\n",
    "prim_alg = prim.Prim(experiments_no_pfail, outcomes_interest, threshold=0.3, peel_alpha=0.1)\n",
    "box1 = prim_alg.find_box()\n",
    "box1.inspect_tradeoff()"
   ]
  },
  {
   "cell_type": "code",
   "execution_count": 26,
   "metadata": {},
   "outputs": [
    {
     "data": {
      "image/png": "[encoded data removed]",
      "text/plain": [
       "<Figure size 432x288 with 2 Axes>"
      ]
     },
     "metadata": {
      "needs_background": "light"
     },
     "output_type": "display_data"
    }
   ],
   "source": [
    "x = experiments_no_pfail\n",
    "y = outcomes_df.iloc[:,10:]\n",
    "\n",
    "fs = feature_scoring.get_feature_scores_all(x, y)\n",
    "sns.heatmap(fs, cmap='viridis', annot=False)\n",
    "plt.savefig('export/images/scoring_no_pfail.png')\n",
    "plt.show()"
   ]
  }
 ],
 "metadata": {
  "kernelspec": {
   "display_name": "Python 3",
   "language": "python",
   "name": "python3"
  },
  "language_info": {
   "codemirror_mode": {
    "name": "ipython",
    "version": 3
   },
   "file_extension": ".py",
   "mimetype": "text/x-python",
   "name": "python",
   "nbconvert_exporter": "python",
   "pygments_lexer": "ipython3",
   "version": "3.7.6"
  }
 },
 "nbformat": 4,
 "nbformat_minor": 4
}
