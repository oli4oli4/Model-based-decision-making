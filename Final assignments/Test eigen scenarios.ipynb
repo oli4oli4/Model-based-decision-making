{
 "cells": [
  {
   "cell_type": "code",
   "execution_count": 1,
   "metadata": {},
   "outputs": [],
   "source": [
    "import numpy as np\n",
    "import scipy as sp\n",
    "import pandas as pd\n",
    "import matplotlib.pyplot as plt\n",
    "import seaborn as sns\n",
    "import networkx as nx\n",
    "from ema_workbench import (Model, CategoricalParameter, ScalarOutcome, IntegerParameter, RealParameter)\n",
    "from ema_workbench import (Model, MultiprocessingEvaluator, SequentialEvaluator, Policy, Scenario, Constant)\n",
    "from dike_model_function import DikeNetwork \n",
    "\n",
    "from ema_workbench.em_framework.evaluators import perform_experiments\n",
    "from ema_workbench.em_framework.samplers import sample_uncertainties\n",
    "from ema_workbench.util import ema_logging\n",
    "import time\n",
    "from problem_formulation import get_model_for_problem_formulation\n",
    "\n",
    "ema_logging.log_to_stderr(ema_logging.INFO)\n",
    "\n",
    "#choose problem formulation number, between 0-5\n",
    "#each problem formulation has its own list of outcomes\n",
    "dike_model, planning_steps = get_model_for_problem_formulation(9)\n",
    "\n",
    "def sum_over(*args):\n",
    "    return sum(args)"
   ]
  },
  {
   "cell_type": "code",
   "execution_count": 2,
   "metadata": {},
   "outputs": [],
   "source": [
    "policies = [\n",
    "Policy('final', **{'0_RfR 0': 0, '0_RfR 1': 0, '0_RfR 2': 0, '1_RfR 0': 0, '1_RfR 1': 0, '1_RfR 2': 0, '2_RfR 0': 0, '2_RfR 1': 0, '2_RfR 2': 0, \n",
    "                      '3_RfR 0': 0, '3_RfR 1': 0, '3_RfR 2': 0, '4_RfR 0': 0, '4_RfR 1': 0, '4_RfR 2': 0, 'EWS_DaysToThreat': 2, \n",
    "                    'A.1_DikeIncrease 0': 3, 'A.1_DikeIncrease 1': 0, 'A.1_DikeIncrease 2': 0, 'A.2_DikeIncrease 0': 2, 'A.2_DikeIncrease 1': 0, \n",
    "                    'A.2_DikeIncrease 2': 0, 'A.3_DikeIncrease 0': 5, 'A.3_DikeIncrease 1': 0, 'A.3_DikeIncrease 2': 0, 'A.4_DikeIncrease 0': 8, \n",
    "                    'A.4_DikeIncrease 1': 0, 'A.4_DikeIncrease 2': 0, 'A.5_DikeIncrease 0': 2, 'A.5_DikeIncrease 1': 0, 'A.5_DikeIncrease 2': 0})\n",
    "]\n",
    "\n"
   ]
  },
  {
   "cell_type": "code",
   "execution_count": 3,
   "metadata": {},
   "outputs": [],
   "source": [
    "from ema_workbench.util import ema_logging\n",
    "ema_logging.log_to_stderr(ema_logging.INFO)\n",
    "from SALib.analyze import sobol\n",
    "\n",
    "dike_model, planning_steps = get_model_for_problem_formulation(9)\n",
    "\n",
    "# with MultiprocessingEvaluator(dike_model) as evaluator:\n",
    "#     results = evaluator.perform_experiments(scenarios=1000, policies=policies, uncertainty_sampling='sobol')\n",
    "    \n",
    "# experiments, outcomes = results\n",
    "\n",
    "# outcomes_df = pd.DataFrame(outcomes)\n",
    "# experiments.to_excel('./export/final_policy_pf9_experiments.xlsx')\n",
    "# outcomes_df.to_excel('./export/final_policy_pf9_outcomes.xlsx')\n",
    "\n",
    "experiments = pd.read_excel('./export/final_policy_pf9_experiments.xlsx', index_col=0, )\n",
    "outcomes_df = pd.read_excel('./export/final_policy_pf9_outcomes.xlsx', index_col=0, )"
   ]
  },
  {
   "cell_type": "code",
   "execution_count": 13,
   "metadata": {},
   "outputs": [
    {
     "name": "stderr",
     "output_type": "stream",
     "text": [
      "[MainProcess/INFO] policy dropped from analysis because only a single category\n",
      "[MainProcess/INFO] model dropped from analysis because only a single category\n",
      "[MainProcess/INFO] 40000 points remaining, containing 4000 cases of interest\n",
      "[MainProcess/INFO] mean: 1.0, mass: 0.075, coverage: 0.75, density: 1.0 restricted_dimensions: 1\n"
     ]
    }
   ],
   "source": [
    "from ema_workbench.analysis import prim\n",
    "\n",
    "outcomes_interest = outcomes_df['END'] > np.percentile(outcomes_df['END'],90)\n",
    "outcomes_interest\n",
    "\n",
    "prim_alg = prim.Prim(experiments, outcomes_interest, threshold=0.7, peel_alpha=0.1)\n",
    "box1 = prim_alg.find_box()"
   ]
  },
  {
   "cell_type": "code",
   "execution_count": 14,
   "metadata": {},
   "outputs": [
    {
     "data": {
      "application/vnd.vegalite.v3+json": {
       "$schema": "https://vega.github.io/schema/vega-lite/v3.4.0.json",
       "config": {
        "mark": {
         "tooltip": null
        },
        "view": {
         "height": 300,
         "width": 400
        }
       },
       "datasets": {
        "data-0a784f96e624c90c4390abe2d0a24a61": [
         {
          "id": 1,
          "maximum": 0.99951171875,
          "minimum": 0.00048828125,
          "name": "A.1_pfail",
          "qp_lower": -1,
          "qp_upper": 2.3300709651759755e-10,
          "x1": 0.00048828125,
          "x2": 0.900390625
         },
         {
          "id": 2,
          "maximum": 0.99951171875,
          "minimum": 0.00048828125,
          "name": "A.1_pfail",
          "qp_lower": -1,
          "qp_upper": 3.2858095593189725e-36,
          "x1": 0.00048828125,
          "x2": 0.8095703125
         },
         {
          "id": 3,
          "maximum": 0.99951171875,
          "minimum": 0.00048828125,
          "name": "A.1_pfail",
          "qp_lower": -1,
          "qp_upper": 2.268462084602313e-72,
          "x1": 0.00048828125,
          "x2": 0.7294921875
         },
         {
          "id": 4,
          "maximum": 0.99951171875,
          "minimum": 0.00048828125,
          "name": "A.1_pfail",
          "qp_lower": -1,
          "qp_upper": 1.5054296330057435e-116,
          "x1": 0.00048828125,
          "x2": 0.65625
         },
         {
          "id": 5,
          "maximum": 0.99951171875,
          "minimum": 0.00048828125,
          "name": "A.1_pfail",
          "qp_lower": -1,
          "qp_upper": 1.1664014236366834e-175,
          "x1": 0.00048828125,
          "x2": 0.58984375
         },
         {
          "id": 6,
          "maximum": 0.99951171875,
          "minimum": 0.00048828125,
          "name": "A.1_pfail",
          "qp_lower": -1,
          "qp_upper": 1.6553226663549995e-244,
          "x1": 0.00048828125,
          "x2": 0.53125
         },
         {
          "id": 7,
          "maximum": 0.99951171875,
          "minimum": 0.00048828125,
          "name": "A.1_pfail",
          "qp_lower": -1,
          "qp_upper": 3e-322,
          "x1": 0.00048828125,
          "x2": 0.4775390625
         },
         {
          "id": 8,
          "maximum": 0.99951171875,
          "minimum": 0.00048828125,
          "name": "A.1_pfail",
          "qp_lower": -1,
          "qp_upper": 0,
          "x1": 0.00048828125,
          "x2": 0.4287109375
         },
         {
          "id": 9,
          "maximum": 0.99951171875,
          "minimum": 0.00048828125,
          "name": "A.1_pfail",
          "qp_lower": -1,
          "qp_upper": 0,
          "x1": 0.00048828125,
          "x2": 0.3857421875
         },
         {
          "id": 10,
          "maximum": 0.99951171875,
          "minimum": 0.00048828125,
          "name": "A.1_pfail",
          "qp_lower": -1,
          "qp_upper": 0,
          "x1": 0.00048828125,
          "x2": 0.3466796875
         },
         {
          "id": 11,
          "maximum": 0.99951171875,
          "minimum": 0.00048828125,
          "name": "A.1_pfail",
          "qp_lower": -1,
          "qp_upper": 0,
          "x1": 0.00048828125,
          "x2": 0.310546875
         },
         {
          "id": 12,
          "maximum": 0.99951171875,
          "minimum": 0.00048828125,
          "name": "A.1_pfail",
          "qp_lower": -1,
          "qp_upper": 0,
          "x1": 0.00048828125,
          "x2": 0.279296875
         },
         {
          "id": 13,
          "maximum": 0.99951171875,
          "minimum": 0.00048828125,
          "name": "A.1_pfail",
          "qp_lower": -1,
          "qp_upper": 0,
          "x1": 0.00048828125,
          "x2": 0.2509765625
         },
         {
          "id": 14,
          "maximum": 0.99951171875,
          "minimum": 0.00048828125,
          "name": "A.1_pfail",
          "qp_lower": -1,
          "qp_upper": 0,
          "x1": 0.00048828125,
          "x2": 0.2255859375
         },
         {
          "id": 15,
          "maximum": 0.99951171875,
          "minimum": 0.00048828125,
          "name": "A.1_pfail",
          "qp_lower": -1,
          "qp_upper": 0,
          "x1": 0.00048828125,
          "x2": 0.2021484375
         },
         {
          "id": 16,
          "maximum": 0.99951171875,
          "minimum": 0.00048828125,
          "name": "A.1_pfail",
          "qp_lower": -1,
          "qp_upper": 0,
          "x1": 0.00048828125,
          "x2": 0.181640625
         },
         {
          "id": 17,
          "maximum": 0.99951171875,
          "minimum": 0.00048828125,
          "name": "A.1_pfail",
          "qp_lower": -1,
          "qp_upper": 0,
          "x1": 0.00048828125,
          "x2": 0.1640625
         },
         {
          "id": 18,
          "maximum": 0.99951171875,
          "minimum": 0.00048828125,
          "name": "A.1_pfail",
          "qp_lower": -1,
          "qp_upper": 0,
          "x1": 0.00048828125,
          "x2": 0.146484375
         },
         {
          "id": 19,
          "maximum": 0.99951171875,
          "minimum": 0.00048828125,
          "name": "A.1_pfail",
          "qp_lower": -1,
          "qp_upper": 0,
          "x1": 0.00048828125,
          "x2": 0.130859375
         },
         {
          "id": 20,
          "maximum": 0.99951171875,
          "minimum": 0.00048828125,
          "name": "A.1_pfail",
          "qp_lower": -1,
          "qp_upper": 0,
          "x1": 0.00048828125,
          "x2": 0.1171875
         },
         {
          "id": 21,
          "maximum": 0.99951171875,
          "minimum": 0.00048828125,
          "name": "A.1_pfail",
          "qp_lower": -1,
          "qp_upper": 0,
          "x1": 0.00048828125,
          "x2": 0.10546875
         },
         {
          "id": 22,
          "maximum": 0.99951171875,
          "minimum": 0.00048828125,
          "name": "A.1_pfail",
          "qp_lower": -1,
          "qp_upper": 0,
          "x1": 0.00048828125,
          "x2": 0.0947265625
         },
         {
          "id": 23,
          "maximum": 0.99951171875,
          "minimum": 0.00048828125,
          "name": "A.1_pfail",
          "qp_lower": -1,
          "qp_upper": 0,
          "x1": 0.00048828125,
          "x2": 0.083984375
         },
         {
          "id": 24,
          "maximum": 0.99951171875,
          "minimum": 0.00048828125,
          "name": "A.1_pfail",
          "qp_lower": -1,
          "qp_upper": 0,
          "x1": 0.00048828125,
          "x2": 0.075439453125
         }
        ],
        "data-6930bcacb34237d9b2ce30c82edd22a2": [
         {
          "coverage": 1,
          "density": 0.1,
          "id": 0,
          "mass": 1,
          "mean": 0.1,
          "res_dim": 0
         },
         {
          "coverage": 0.9895,
          "density": 0.11000555864369094,
          "id": 1,
          "mass": 0.8995,
          "mean": 0.11000555864369094,
          "res_dim": 1
         },
         {
          "coverage": 0.9835,
          "density": 0.1214947498455837,
          "id": 2,
          "mass": 0.8095,
          "mean": 0.1214947498455837,
          "res_dim": 1
         },
         {
          "coverage": 0.96875,
          "density": 0.13297872340425532,
          "id": 3,
          "mass": 0.7285,
          "mean": 0.13297872340425532,
          "res_dim": 1
         },
         {
          "coverage": 0.9505,
          "density": 0.14500381388253242,
          "id": 4,
          "mass": 0.6555,
          "mean": 0.14500381388253242,
          "res_dim": 1
         },
         {
          "coverage": 0.9395,
          "density": 0.15937234944868534,
          "id": 5,
          "mass": 0.5895,
          "mean": 0.15937234944868534,
          "res_dim": 1
         },
         {
          "coverage": 0.92925,
          "density": 0.17516493873704053,
          "id": 6,
          "mass": 0.5305,
          "mean": 0.17516493873704053,
          "res_dim": 1
         },
         {
          "coverage": 0.918,
          "density": 0.1926547743966422,
          "id": 7,
          "mass": 0.4765,
          "mean": 0.1926547743966422,
          "res_dim": 1
         },
         {
          "coverage": 0.909,
          "density": 0.21213535589264879,
          "id": 8,
          "mass": 0.4285,
          "mean": 0.21213535589264879,
          "res_dim": 1
         },
         {
          "coverage": 0.8995,
          "density": 0.23363636363636364,
          "id": 9,
          "mass": 0.385,
          "mean": 0.23363636363636364,
          "res_dim": 1
         },
         {
          "coverage": 0.885,
          "density": 0.25578034682080925,
          "id": 10,
          "mass": 0.346,
          "mean": 0.25578034682080925,
          "res_dim": 1
         },
         {
          "coverage": 0.8845,
          "density": 0.2848631239935588,
          "id": 11,
          "mass": 0.3105,
          "mean": 0.2848631239935588,
          "res_dim": 1
         },
         {
          "coverage": 0.8845,
          "density": 0.31759425493716337,
          "id": 12,
          "mass": 0.2785,
          "mean": 0.31759425493716337,
          "res_dim": 1
         },
         {
          "coverage": 0.87425,
          "density": 0.34900199600798404,
          "id": 13,
          "mass": 0.2505,
          "mean": 0.34900199600798404,
          "res_dim": 1
         },
         {
          "coverage": 0.86875,
          "density": 0.3861111111111111,
          "id": 14,
          "mass": 0.225,
          "mean": 0.3861111111111111,
          "res_dim": 1
         },
         {
          "coverage": 0.86875,
          "density": 0.43007425742574257,
          "id": 15,
          "mass": 0.202,
          "mean": 0.43007425742574257,
          "res_dim": 1
         },
         {
          "coverage": 0.86825,
          "density": 0.4783746556473829,
          "id": 16,
          "mass": 0.1815,
          "mean": 0.4783746556473829,
          "res_dim": 1
         },
         {
          "coverage": 0.86275,
          "density": 0.5309230769230769,
          "id": 17,
          "mass": 0.1625,
          "mean": 0.5309230769230769,
          "res_dim": 1
         },
         {
          "coverage": 0.85825,
          "density": 0.5878424657534247,
          "id": 18,
          "mass": 0.146,
          "mean": 0.5878424657534247,
          "res_dim": 1
         },
         {
          "coverage": 0.85825,
          "density": 0.6576628352490421,
          "id": 19,
          "mass": 0.1305,
          "mean": 0.6576628352490421,
          "res_dim": 1
         },
         {
          "coverage": 0.85325,
          "density": 0.7292735042735042,
          "id": 20,
          "mass": 0.117,
          "mean": 0.7292735042735042,
          "res_dim": 1
         },
         {
          "coverage": 0.84825,
          "density": 0.8117224880382775,
          "id": 21,
          "mass": 0.1045,
          "mean": 0.8117224880382775,
          "res_dim": 1
         },
         {
          "coverage": 0.848,
          "density": 0.902127659574468,
          "id": 22,
          "mass": 0.094,
          "mean": 0.902127659574468,
          "res_dim": 1
         },
         {
          "coverage": 0.83125,
          "density": 0.9895833333333334,
          "id": 23,
          "mass": 0.084,
          "mean": 0.9895833333333334,
          "res_dim": 1
         },
         {
          "coverage": 0.75,
          "density": 1,
          "id": 24,
          "mass": 0.075,
          "mean": 1,
          "res_dim": 1
         }
        ],
        "data-bb8d07f6df3d47a6a475317795287b23": [
         {
          "end": 1,
          "start": 0
         }
        ],
        "data-d751713988987e9331980363e24189ce": []
       },
       "vconcat": [
        {
         "data": {
          "name": "data-6930bcacb34237d9b2ce30c82edd22a2"
         },
         "encoding": {
          "color": {
           "field": "res_dim",
           "scale": {
            "range": [
             "#eff9b6",
             "#d0edb3",
             "#97d6b9",
             "#5dc0c0",
             "#31a5c2",
             "#1f80b8",
             "#2354a3",
             "#21318d"
            ]
           },
           "type": "ordinal"
          },
          "opacity": {
           "condition": {
            "selection": "selector002",
            "value": 1
           },
           "value": 0.4
          },
          "tooltip": [
           {
            "field": "id",
            "type": "ordinal"
           },
           {
            "field": "coverage",
            "format": ".2",
            "type": "quantitative"
           },
           {
            "field": "density",
            "format": ".2",
            "type": "quantitative"
           },
           {
            "field": "res_dim",
            "type": "ordinal"
           }
          ],
          "x": {
           "field": "coverage",
           "type": "quantitative"
          },
          "y": {
           "field": "density",
           "type": "quantitative"
          }
         },
         "height": 400,
         "mark": {
          "size": 75,
          "type": "circle"
         },
         "selection": {
          "selector002": {
           "fields": [
            "id"
           ],
           "type": "single"
          }
         },
         "width": 400
        },
        {
         "layer": [
          {
           "data": {
            "name": "data-0a784f96e624c90c4390abe2d0a24a61"
           },
           "encoding": {
            "x": {
             "axis": {
              "grid": false,
              "labels": false,
              "title": "box limits"
             },
             "field": "x_lower",
             "scale": {
              "domain": [
               0,
               1
              ],
              "padding": 0.1
             },
             "type": "quantitative"
            },
            "x2": {
             "field": "x_upper"
            },
            "y": {
             "field": "name",
             "scale": {
              "padding": 1
             },
             "type": "nominal"
            }
           },
           "mark": "rule",
           "transform": [
            {
             "as": "x_lower",
             "calculate": "(datum.x1-datum.minimum)/(datum.maximum-datum.minimum)"
            },
            {
             "as": "x_upper",
             "calculate": "(datum.x2-datum.minimum)/(datum.maximum-datum.minimum)"
            },
            {
             "filter": {
              "selection": "selector002"
             }
            }
           ],
           "width": 400
          },
          {
           "data": {
            "name": "data-0a784f96e624c90c4390abe2d0a24a61"
           },
           "encoding": {
            "text": {
             "field": "text",
             "type": "ordinal"
            },
            "x": {
             "axis": {
              "grid": false,
              "labels": false,
              "title": "box limits"
             },
             "field": "x_lower",
             "scale": {
              "domain": [
               0,
               1
              ],
              "padding": 0.1
             },
             "type": "quantitative"
            },
            "x2": {
             "field": "x_upper"
            },
            "y": {
             "field": "name",
             "scale": {
              "padding": 1
             },
             "type": "nominal"
            }
           },
           "mark": {
            "align": "left",
            "baseline": "top",
            "dy": 5,
            "type": "text"
           },
           "transform": [
            {
             "as": "x_lower",
             "calculate": "(datum.x1-datum.minimum)/(datum.maximum-datum.minimum)"
            },
            {
             "as": "x_upper",
             "calculate": "(datum.x2-datum.minimum)/(datum.maximum-datum.minimum)"
            },
            {
             "filter": {
              "selection": "selector002"
             }
            },
            {
             "as": "text",
             "calculate": "datum.qp_lower>0?format(datum.x1, \".2\")+\" (\"+format(datum.qp_lower, \".1~g\")+\")\" :format(datum.x1, \".2\")"
            }
           ],
           "width": 400
          },
          {
           "data": {
            "name": "data-0a784f96e624c90c4390abe2d0a24a61"
           },
           "encoding": {
            "text": {
             "field": "text",
             "type": "ordinal"
            },
            "x": {
             "field": "x_upper",
             "type": "quantitative"
            },
            "x2": {
             "field": "x_upper"
            },
            "y": {
             "field": "name",
             "scale": {
              "padding": 1
             },
             "type": "nominal"
            }
           },
           "mark": {
            "align": "right",
            "baseline": "top",
            "dy": 5,
            "type": "text"
           },
           "transform": [
            {
             "as": "x_lower",
             "calculate": "(datum.x1-datum.minimum)/(datum.maximum-datum.minimum)"
            },
            {
             "as": "x_upper",
             "calculate": "(datum.x2-datum.minimum)/(datum.maximum-datum.minimum)"
            },
            {
             "filter": {
              "selection": "selector002"
             }
            },
            {
             "as": "text",
             "calculate": "datum.qp_upper>0?format(datum.x2, \".2\")+\" (\"+format(datum.qp_upper, \".1\")+\")\" :format(datum.x2, \".2\")"
            }
           ],
           "width": 400
          },
          {
           "data": {
            "name": "data-bb8d07f6df3d47a6a475317795287b23"
           },
           "encoding": {
            "x": {
             "field": "start",
             "type": "quantitative"
            },
            "x2": {
             "field": "end"
            }
           },
           "mark": {
            "opacity": 0.05,
            "type": "rect"
           }
          },
          {
           "data": {
            "name": "data-d751713988987e9331980363e24189ce"
           },
           "encoding": {
            "x": {
             "field": "x",
             "type": "quantitative"
            },
            "y": {
             "field": "name",
             "type": "nominal"
            }
           },
           "mark": "point",
           "transform": [
            {
             "filter": {
              "selection": "selector002"
             }
            }
           ],
           "width": 400
          },
          {
           "data": {
            "name": "data-d751713988987e9331980363e24189ce"
           },
           "encoding": {
            "text": {
             "field": "item",
             "type": "nominal"
            },
            "x": {
             "field": "x",
             "type": "quantitative"
            },
            "y": {
             "field": "name",
             "type": "nominal"
            }
           },
           "mark": {
            "align": "center",
            "baseline": "top",
            "dy": 5,
            "type": "text"
           },
           "transform": [
            {
             "filter": {
              "selection": "selector002"
             }
            }
           ],
           "width": 400
          }
         ]
        }
       ]
      },
      "image/png": "[encoded data removed]",
      "text/plain": [
       "<VegaLite 3 object>\n",
       "\n",
       "If you see this message, it means the renderer has not been properly enabled\n",
       "for the frontend that you are using. For more information, see\n",
       "https://altair-viz.github.io/user_guide/troubleshooting.html\n"
      ]
     },
     "execution_count": 14,
     "metadata": {},
     "output_type": "execute_result"
    }
   ],
   "source": [
    "box1.inspect_tradeoff()"
   ]
  },
  {
   "cell_type": "code",
   "execution_count": 12,
   "metadata": {},
   "outputs": [
    {
     "name": "stdout",
     "output_type": "stream",
     "text": [
      "coverage    0.84021\n",
      "density           1\n",
      "id               23\n",
      "mass          0.084\n",
      "mean              1\n",
      "res_dim           1\n",
      "Name: 23, dtype: object\n",
      "\n",
      "             box 23                       \n",
      "                min       max    qp values\n",
      "A.1_pfail  0.000488  0.083984  [-1.0, 0.0]\n",
      "\n"
     ]
    },
    {
     "data": {
      "image/png": "[encoded data removed]",
      "text/plain": [
       "<Figure size 432x288 with 1 Axes>"
      ]
     },
     "metadata": {
      "needs_background": "light"
     },
     "output_type": "display_data"
    },
    {
     "data": {
      "image/png": "[encoded data removed]",
      "text/plain": [
       "<Figure size 242.125x180 with 2 Axes>"
      ]
     },
     "metadata": {
      "needs_background": "light"
     },
     "output_type": "display_data"
    }
   ],
   "source": [
    "import matplotlib.pyplot as plt\n",
    "\n",
    "box1.inspect(23)\n",
    "box1.inspect(23, style='graph')\n",
    "plt.show()\n",
    "\n",
    "box1.select(23)\n",
    "fig = box1.show_pairs_scatter()\n",
    "plt.show()"
   ]
  },
  {
   "cell_type": "code",
   "execution_count": 15,
   "metadata": {},
   "outputs": [
    {
     "name": "stderr",
     "output_type": "stream",
     "text": [
      "[MainProcess/INFO] 37000 points remaining, containing 1000 cases of interest\n",
      "[MainProcess/INFO] box does not meet threshold criteria, value is 0.17540060632308357, returning dump box\n"
     ]
    }
   ],
   "source": [
    "box2 = prim_alg.find_box()"
   ]
  },
  {
   "cell_type": "code",
   "execution_count": 37,
   "metadata": {},
   "outputs": [
    {
     "data": {
      "image/png": "[encoded data removed]",
      "text/plain": [
       "<Figure size 432x288 with 2 Axes>"
      ]
     },
     "metadata": {
      "needs_background": "light"
     },
     "output_type": "display_data"
    }
   ],
   "source": [
    "from ema_workbench.analysis import feature_scoring\n",
    "\n",
    "x = experiments.iloc[:,1:17]\n",
    "y = outcomes_df.iloc[:,9:]\n",
    "\n",
    "fs = feature_scoring.get_feature_scores_all(x, y)\n",
    "sns.heatmap(fs, cmap='viridis', annot=False)\n",
    "plt.savefig('export/images/scoring.png')\n",
    "plt.show()"
   ]
  },
  {
   "cell_type": "code",
   "execution_count": 36,
   "metadata": {},
   "outputs": [
    {
     "data": {
      "image/png": "[encoded data removed]",
      "text/plain": [
       "<Figure size 432x288 with 1 Axes>"
      ]
     },
     "metadata": {
      "needs_background": "light"
     },
     "output_type": "display_data"
    }
   ],
   "source": [
    "\n",
    "import seaborn as sns\n",
    "sns.distplot(outcomes_df['A.1_Expected Number of Deaths'], hist = False, kde = True,\n",
    "                 kde_kws = {'shade': False, 'linewidth': 2},\n",
    "                 label = 'A.1')\n",
    "sns.distplot(outcomes_df['A.2_Expected Number of Deaths'], hist = False, kde = True,\n",
    "                 kde_kws = {'shade': False, 'linewidth': 2},\n",
    "                 label = 'A.2')\n",
    "sns.distplot(outcomes_df['A.3_Expected Number of Deaths'], hist = False, kde = True,\n",
    "                 kde_kws = {'shade': False, 'linewidth': 2, 'bw': 0.001},\n",
    "                 label = 'A.3')\n",
    "sns.distplot(outcomes_df['A.4_Expected Number of Deaths'], hist = False, kde = True,\n",
    "                 kde_kws = {'shade': False, 'linewidth': 2, 'bw': 0.001},\n",
    "                 label = 'A.4')\n",
    "sns.distplot(outcomes_df['A.5_Expected Number of Deaths'], hist = False, kde = True,\n",
    "                 kde_kws = {'shade': False, 'linewidth': 2},\n",
    "                 label = 'A.5')\n",
    "\n",
    "plt.legend(prop={'size': 12}, title = 'Dike ring')\n",
    "plt.title('Density Plot Expected Number of Deaths')\n",
    "plt.xlabel('Deaths (#)')\n",
    "plt.ylabel('Density')\n",
    "plt.savefig('export/images/density_deaths')"
   ]
  },
  {
   "cell_type": "code",
   "execution_count": 30,
   "metadata": {},
   "outputs": [
    {
     "data": {
      "image/png": "[encoded data removed]",
      "text/plain": [
       "<Figure size 432x288 with 1 Axes>"
      ]
     },
     "metadata": {
      "needs_background": "light"
     },
     "output_type": "display_data"
    }
   ],
   "source": [
    "\n",
    "import seaborn as sns\n",
    "sns.distplot(outcomes_df['A.1 Total Costs'], hist = False, kde = True,\n",
    "                 kde_kws = {'shade': False, 'linewidth': 2},\n",
    "                 label = 'A.1')\n",
    "sns.distplot(outcomes_df['A.2 Total Costs'], hist = False, kde = True,\n",
    "                 kde_kws = {'shade': False, 'linewidth': 2},\n",
    "                 label = 'A.2')\n",
    "sns.distplot(outcomes_df['A.3 Total Costs'], hist = False, kde = True,\n",
    "                 kde_kws = {'shade': False, 'linewidth': 2},\n",
    "                 label = 'A.3')\n",
    "# sns.distplot(outcomes_df['A.4 Total Costs'], hist = False, kde = True,\n",
    "#                  kde_kws = {'shade': False, 'linewidth': 2},\n",
    "#                  label = 'A.4')\n",
    "sns.distplot(outcomes_df['A.5 Total Costs'], hist = False, kde = True,\n",
    "                 kde_kws = {'shade': False, 'linewidth': 2},\n",
    "                 label = 'A.5')\n",
    "\n",
    "plt.legend(prop={'size': 12}, title = 'Dike ring')\n",
    "plt.title('Density Plot Expected Number of Deaths')\n",
    "plt.xlabel('Damage (€)')\n",
    "plt.ylabel('Density')\n",
    "plt.savefig('export/images/density_deaths')"
   ]
  },
  {
   "cell_type": "code",
   "execution_count": 81,
   "metadata": {},
   "outputs": [],
   "source": [
    "from ema_workbench.util import ema_logging\n",
    "ema_logging.log_to_stderr(ema_logging.INFO)\n",
    "\n",
    "# dike_model, planning_steps = get_model_for_problem_formulation(6)\n",
    "\n",
    "# with MultiprocessingEvaluator(dike_model) as evaluator:\n",
    "#     results = evaluator.perform_experiments(scenarios=15000, policies=policies)\n",
    "    \n",
    "# experiments, outcomes = results\n",
    "\n",
    "# outcomes_df = pd.DataFrame(outcomes)\n",
    "# experiments.to_excel('./export/final_policy_pf6_experiments.xlsx')\n",
    "# outcomes_df.to_excel('./export/final_policy_pf6_outcomes.xlsx')\n",
    "\n",
    "experiments = pd.read_excel('./export/final_policy_pf6_experiments.xlsx', index_col=0, )\n",
    "outcomes_df = pd.read_excel('./export/final_policy_pf6_outcomes.xlsx', index_col=0, )"
   ]
  },
  {
   "cell_type": "code",
   "execution_count": 83,
   "metadata": {},
   "outputs": [
    {
     "name": "stderr",
     "output_type": "stream",
     "text": [
      "[MainProcess/INFO] policy dropped from analysis because only a single category\n",
      "[MainProcess/INFO] model dropped from analysis because only a single category\n",
      "[MainProcess/INFO] 15000 points remaining, containing 3000 cases of interest\n",
      "[MainProcess/INFO] mean: 1.0, mass: 0.10973333333333334, coverage: 0.5486666666666666, density: 1.0 restricted_dimensions: 2\n"
     ]
    },
    {
     "data": {
      "application/vnd.vegalite.v3+json": {
       "$schema": "https://vega.github.io/schema/vega-lite/v3.4.0.json",
       "config": {
        "mark": {
         "tooltip": null
        },
        "view": {
         "height": 300,
         "width": 400
        }
       },
       "datasets": {
        "data-09b6c0670762c8186513711188549811": [
         {
          "id": 1,
          "maximum": 0.999950842056103,
          "minimum": 4.340559676482088e-06,
          "name": "A.1_pfail",
          "qp_lower": -1,
          "qp_upper": 1.99247808824308e-05,
          "x1": 4.340559676482088e-06,
          "x2": 0.9000042070103891
         },
         {
          "id": 2,
          "maximum": 0.999950842056103,
          "minimum": 4.340559676482088e-06,
          "name": "A.1_pfail",
          "qp_lower": -1,
          "qp_upper": 3.204907278872488e-15,
          "x1": 4.340559676482088e-06,
          "x2": 0.810008268569875
         },
         {
          "id": 3,
          "maximum": 0.999950842056103,
          "minimum": 4.340559676482088e-06,
          "name": "A.1_pfail",
          "qp_lower": -1,
          "qp_upper": 6.606377951469973e-31,
          "x1": 4.340559676482088e-06,
          "x2": 0.7289943402731139
         },
         {
          "id": 4,
          "maximum": 0.999950842056103,
          "minimum": 4.340559676482088e-06,
          "name": "A.1_pfail",
          "qp_lower": -1,
          "qp_upper": 2.823735571305382e-52,
          "x1": 4.340559676482088e-06,
          "x2": 0.6560888131605861
         },
         {
          "id": 5,
          "maximum": 0.999950842056103,
          "minimum": 4.340559676482088e-06,
          "name": "A.1_pfail",
          "qp_lower": -1,
          "qp_upper": 3.024593198365447e-77,
          "x1": 4.340559676482088e-06,
          "x2": 0.5903998698453352
         },
         {
          "id": 6,
          "maximum": 0.999950842056103,
          "minimum": 4.340559676482088e-06,
          "name": "A.1_pfail",
          "qp_lower": -1,
          "qp_upper": 1.2050749608148628e-112,
          "x1": 4.340559676482088e-06,
          "x2": 0.5313273269543164
         },
         {
          "id": 7,
          "maximum": 0.999950842056103,
          "minimum": 4.340559676482088e-06,
          "name": "A.1_pfail",
          "qp_lower": -1,
          "qp_upper": 1.1702724126242333e-147,
          "x1": 4.340559676482088e-06,
          "x2": 0.4781858746407147
         },
         {
          "id": 8,
          "maximum": 0.999950842056103,
          "minimum": 4.340559676482088e-06,
          "name": "A.1_pfail",
          "qp_lower": -1,
          "qp_upper": 1.4531838047154886e-192,
          "x1": 4.340559676482088e-06,
          "x2": 0.43031554442053394
         },
         {
          "id": 9,
          "maximum": 0.999950842056103,
          "minimum": 4.340559676482088e-06,
          "name": "A.1_pfail",
          "qp_lower": -1,
          "qp_upper": 2.181980408899193e-236,
          "x1": 4.340559676482088e-06,
          "x2": 0.387267459697186
         },
         {
          "id": 10,
          "maximum": 0.999950842056103,
          "minimum": 4.340559676482088e-06,
          "name": "A.1_pfail",
          "qp_lower": -1,
          "qp_upper": 3.334867600951928e-292,
          "x1": 4.340559676482088e-06,
          "x2": 0.34851794990016816
         },
         {
          "id": 11,
          "maximum": 0.999950842056103,
          "minimum": 4.340559676482088e-06,
          "name": "A.1_pfail",
          "qp_lower": -1,
          "qp_upper": 0,
          "x1": 4.340559676482088e-06,
          "x2": 0.3136777866895396
         },
         {
          "id": 12,
          "maximum": 0.999950842056103,
          "minimum": 4.340559676482088e-06,
          "name": "A.1_pfail",
          "qp_lower": -1,
          "qp_upper": 0,
          "x1": 4.340559676482088e-06,
          "x2": 0.2822551802225044
         },
         {
          "id": 13,
          "maximum": 0.999950842056103,
          "minimum": 4.340559676482088e-06,
          "name": "A.1_pfail",
          "qp_lower": -1,
          "qp_upper": 0,
          "x1": 4.340559676482088e-06,
          "x2": 0.25399442520900517
         },
         {
          "id": 14,
          "maximum": 0.999950842056103,
          "minimum": 4.340559676482088e-06,
          "name": "A.1_pfail",
          "qp_lower": -1,
          "qp_upper": 0,
          "x1": 4.340559676482088e-06,
          "x2": 0.22860140445636415
         },
         {
          "id": 15,
          "maximum": 0.999950842056103,
          "minimum": 4.340559676482088e-06,
          "name": "A.1_pfail",
          "qp_lower": -1,
          "qp_upper": 0,
          "x1": 4.340559676482088e-06,
          "x2": 0.20571432134155182
         },
         {
          "id": 16,
          "maximum": 0.999950842056103,
          "minimum": 4.340559676482088e-06,
          "name": "A.1_pfail",
          "qp_lower": -1,
          "qp_upper": 0,
          "x1": 4.340559676482088e-06,
          "x2": 0.1851352738372177
         },
         {
          "id": 17,
          "maximum": 0.999950842056103,
          "minimum": 4.340559676482088e-06,
          "name": "A.1_pfail",
          "qp_lower": -1,
          "qp_upper": 0,
          "x1": 4.340559676482088e-06,
          "x2": 0.16658228351053725
         },
         {
          "id": 18,
          "maximum": 0.999950842056103,
          "minimum": 4.340559676482088e-06,
          "name": "A.1_pfail",
          "qp_lower": -1,
          "qp_upper": 0,
          "x1": 4.340559676482088e-06,
          "x2": 0.14993969402685858
         },
         {
          "id": 19,
          "maximum": 0.999950842056103,
          "minimum": 4.340559676482088e-06,
          "name": "A.1_pfail",
          "qp_lower": -1,
          "qp_upper": 0,
          "x1": 4.340559676482088e-06,
          "x2": 0.1349445572689088
         },
         {
          "id": 20,
          "maximum": 0.999950842056103,
          "minimum": 4.340559676482088e-06,
          "name": "A.1_pfail",
          "qp_lower": -1,
          "qp_upper": 0,
          "x1": 4.340559676482088e-06,
          "x2": 0.12137824782261389
         },
         {
          "id": 21,
          "maximum": 132,
          "minimum": 0,
          "name": "A.0_ID flood wave shape",
          "qp_lower": 0.4048870113837463,
          "qp_upper": -1,
          "x1": 14,
          "x2": 132
         },
         {
          "id": 21,
          "maximum": 0.999950842056103,
          "minimum": 4.340559676482088e-06,
          "name": "A.1_pfail",
          "qp_lower": -1,
          "qp_upper": 0,
          "x1": 4.340559676482088e-06,
          "x2": 0.12137824782261389
         }
        ],
        "data-7907f8d51a42a8237a722f966fb3d144": [
         {
          "coverage": 1,
          "density": 0.2,
          "id": 0,
          "mass": 1,
          "mean": 0.2,
          "res_dim": 0
         },
         {
          "coverage": 0.9643333333333334,
          "density": 0.2142962962962963,
          "id": 1,
          "mass": 0.9,
          "mean": 0.2142962962962963,
          "res_dim": 1
         },
         {
          "coverage": 0.9266666666666666,
          "density": 0.2288065843621399,
          "id": 2,
          "mass": 0.81,
          "mean": 0.2288065843621399,
          "res_dim": 1
         },
         {
          "coverage": 0.8936666666666667,
          "density": 0.24517604023776862,
          "id": 3,
          "mass": 0.729,
          "mean": 0.24517604023776862,
          "res_dim": 1
         },
         {
          "coverage": 0.864,
          "density": 0.26338786708667816,
          "id": 4,
          "mass": 0.6560666666666667,
          "mean": 0.26338786708667816,
          "res_dim": 1
         },
         {
          "coverage": 0.834,
          "density": 0.28252032520325204,
          "id": 5,
          "mass": 0.5904,
          "mean": 0.28252032520325204,
          "res_dim": 1
         },
         {
          "coverage": 0.8146666666666667,
          "density": 0.30664993726474277,
          "id": 6,
          "mass": 0.5313333333333333,
          "mean": 0.30664993726474277,
          "res_dim": 1
         },
         {
          "coverage": 0.7896666666666666,
          "density": 0.3302662763139551,
          "id": 7,
          "mass": 0.4782,
          "mean": 0.3302662763139551,
          "res_dim": 1
         },
         {
          "coverage": 0.772,
          "density": 0.3587916343919442,
          "id": 8,
          "mass": 0.43033333333333335,
          "mean": 0.3587916343919442,
          "res_dim": 1
         },
         {
          "coverage": 0.7503333333333333,
          "density": 0.387502151833362,
          "id": 9,
          "mass": 0.38726666666666665,
          "mean": 0.387502151833362,
          "res_dim": 1
         },
         {
          "coverage": 0.736,
          "density": 0.4223412394797246,
          "id": 10,
          "mass": 0.3485333333333333,
          "mean": 0.4223412394797246,
          "res_dim": 1
         },
         {
          "coverage": 0.7213333333333334,
          "density": 0.45993623804463335,
          "id": 11,
          "mass": 0.31366666666666665,
          "mean": 0.45993623804463335,
          "res_dim": 1
         },
         {
          "coverage": 0.7073333333333334,
          "density": 0.5011809163911195,
          "id": 12,
          "mass": 0.28226666666666667,
          "mean": 0.5011809163911195,
          "res_dim": 1
         },
         {
          "coverage": 0.6966666666666667,
          "density": 0.5485564304461942,
          "id": 13,
          "mass": 0.254,
          "mean": 0.5485564304461942,
          "res_dim": 1
         },
         {
          "coverage": 0.6853333333333333,
          "density": 0.599591717701954,
          "id": 14,
          "mass": 0.2286,
          "mean": 0.599591717701954,
          "res_dim": 1
         },
         {
          "coverage": 0.6753333333333333,
          "density": 0.6565132858068697,
          "id": 15,
          "mass": 0.20573333333333332,
          "mean": 0.6565132858068697,
          "res_dim": 1
         },
         {
          "coverage": 0.6676666666666666,
          "density": 0.7212819589485056,
          "id": 16,
          "mass": 0.18513333333333334,
          "mean": 0.7212819589485056,
          "res_dim": 1
         },
         {
          "coverage": 0.6593333333333333,
          "density": 0.7915166066426571,
          "id": 17,
          "mass": 0.1666,
          "mean": 0.7915166066426571,
          "res_dim": 1
         },
         {
          "coverage": 0.649,
          "density": 0.8657180969319698,
          "id": 18,
          "mass": 0.14993333333333334,
          "mean": 0.8657180969319698,
          "res_dim": 1
         },
         {
          "coverage": 0.637,
          "density": 0.9441699604743083,
          "id": 19,
          "mass": 0.13493333333333332,
          "mean": 0.9441699604743083,
          "res_dim": 1
         },
         {
          "coverage": 0.6066666666666667,
          "density": 0.99945085118067,
          "id": 20,
          "mass": 0.1214,
          "mean": 0.99945085118067,
          "res_dim": 1
         },
         {
          "coverage": 0.5486666666666666,
          "density": 1,
          "id": 21,
          "mass": 0.10973333333333334,
          "mean": 1,
          "res_dim": 2
         }
        ],
        "data-bb8d07f6df3d47a6a475317795287b23": [
         {
          "end": 1,
          "start": 0
         }
        ],
        "data-d751713988987e9331980363e24189ce": []
       },
       "vconcat": [
        {
         "data": {
          "name": "data-7907f8d51a42a8237a722f966fb3d144"
         },
         "encoding": {
          "color": {
           "field": "res_dim",
           "scale": {
            "range": [
             "#eff9b6",
             "#d0edb3",
             "#97d6b9",
             "#5dc0c0",
             "#31a5c2",
             "#1f80b8",
             "#2354a3",
             "#21318d"
            ]
           },
           "type": "ordinal"
          },
          "opacity": {
           "condition": {
            "selection": "selector003",
            "value": 1
           },
           "value": 0.4
          },
          "tooltip": [
           {
            "field": "id",
            "type": "ordinal"
           },
           {
            "field": "coverage",
            "format": ".2",
            "type": "quantitative"
           },
           {
            "field": "density",
            "format": ".2",
            "type": "quantitative"
           },
           {
            "field": "res_dim",
            "type": "ordinal"
           }
          ],
          "x": {
           "field": "coverage",
           "type": "quantitative"
          },
          "y": {
           "field": "density",
           "type": "quantitative"
          }
         },
         "height": 400,
         "mark": {
          "size": 75,
          "type": "circle"
         },
         "selection": {
          "selector003": {
           "fields": [
            "id"
           ],
           "type": "single"
          }
         },
         "width": 400
        },
        {
         "layer": [
          {
           "data": {
            "name": "data-09b6c0670762c8186513711188549811"
           },
           "encoding": {
            "x": {
             "axis": {
              "grid": false,
              "labels": false,
              "title": "box limits"
             },
             "field": "x_lower",
             "scale": {
              "domain": [
               0,
               1
              ],
              "padding": 0.1
             },
             "type": "quantitative"
            },
            "x2": {
             "field": "x_upper"
            },
            "y": {
             "field": "name",
             "scale": {
              "padding": 1
             },
             "type": "nominal"
            }
           },
           "mark": "rule",
           "transform": [
            {
             "as": "x_lower",
             "calculate": "(datum.x1-datum.minimum)/(datum.maximum-datum.minimum)"
            },
            {
             "as": "x_upper",
             "calculate": "(datum.x2-datum.minimum)/(datum.maximum-datum.minimum)"
            },
            {
             "filter": {
              "selection": "selector003"
             }
            }
           ],
           "width": 400
          },
          {
           "data": {
            "name": "data-09b6c0670762c8186513711188549811"
           },
           "encoding": {
            "text": {
             "field": "text",
             "type": "ordinal"
            },
            "x": {
             "axis": {
              "grid": false,
              "labels": false,
              "title": "box limits"
             },
             "field": "x_lower",
             "scale": {
              "domain": [
               0,
               1
              ],
              "padding": 0.1
             },
             "type": "quantitative"
            },
            "x2": {
             "field": "x_upper"
            },
            "y": {
             "field": "name",
             "scale": {
              "padding": 1
             },
             "type": "nominal"
            }
           },
           "mark": {
            "align": "left",
            "baseline": "top",
            "dy": 5,
            "type": "text"
           },
           "transform": [
            {
             "as": "x_lower",
             "calculate": "(datum.x1-datum.minimum)/(datum.maximum-datum.minimum)"
            },
            {
             "as": "x_upper",
             "calculate": "(datum.x2-datum.minimum)/(datum.maximum-datum.minimum)"
            },
            {
             "filter": {
              "selection": "selector003"
             }
            },
            {
             "as": "text",
             "calculate": "datum.qp_lower>0?format(datum.x1, \".2\")+\" (\"+format(datum.qp_lower, \".1~g\")+\")\" :format(datum.x1, \".2\")"
            }
           ],
           "width": 400
          },
          {
           "data": {
            "name": "data-09b6c0670762c8186513711188549811"
           },
           "encoding": {
            "text": {
             "field": "text",
             "type": "ordinal"
            },
            "x": {
             "field": "x_upper",
             "type": "quantitative"
            },
            "x2": {
             "field": "x_upper"
            },
            "y": {
             "field": "name",
             "scale": {
              "padding": 1
             },
             "type": "nominal"
            }
           },
           "mark": {
            "align": "right",
            "baseline": "top",
            "dy": 5,
            "type": "text"
           },
           "transform": [
            {
             "as": "x_lower",
             "calculate": "(datum.x1-datum.minimum)/(datum.maximum-datum.minimum)"
            },
            {
             "as": "x_upper",
             "calculate": "(datum.x2-datum.minimum)/(datum.maximum-datum.minimum)"
            },
            {
             "filter": {
              "selection": "selector003"
             }
            },
            {
             "as": "text",
             "calculate": "datum.qp_upper>0?format(datum.x2, \".2\")+\" (\"+format(datum.qp_upper, \".1\")+\")\" :format(datum.x2, \".2\")"
            }
           ],
           "width": 400
          },
          {
           "data": {
            "name": "data-bb8d07f6df3d47a6a475317795287b23"
           },
           "encoding": {
            "x": {
             "field": "start",
             "type": "quantitative"
            },
            "x2": {
             "field": "end"
            }
           },
           "mark": {
            "opacity": 0.05,
            "type": "rect"
           }
          },
          {
           "data": {
            "name": "data-d751713988987e9331980363e24189ce"
           },
           "encoding": {
            "x": {
             "field": "x",
             "type": "quantitative"
            },
            "y": {
             "field": "name",
             "type": "nominal"
            }
           },
           "mark": "point",
           "transform": [
            {
             "filter": {
              "selection": "selector003"
             }
            }
           ],
           "width": 400
          },
          {
           "data": {
            "name": "data-d751713988987e9331980363e24189ce"
           },
           "encoding": {
            "text": {
             "field": "item",
             "type": "nominal"
            },
            "x": {
             "field": "x",
             "type": "quantitative"
            },
            "y": {
             "field": "name",
             "type": "nominal"
            }
           },
           "mark": {
            "align": "center",
            "baseline": "top",
            "dy": 5,
            "type": "text"
           },
           "transform": [
            {
             "filter": {
              "selection": "selector003"
             }
            }
           ],
           "width": 400
          }
         ]
        }
       ]
      },
      "image/png": "[encoded data removed]",
      "text/plain": [
       "<VegaLite 3 object>\n",
       "\n",
       "If you see this message, it means the renderer has not been properly enabled\n",
       "for the frontend that you are using. For more information, see\n",
       "https://altair-viz.github.io/user_guide/troubleshooting.html\n"
      ]
     },
     "execution_count": 83,
     "metadata": {},
     "output_type": "execute_result"
    }
   ],
   "source": [
    "from ema_workbench.analysis import prim\n",
    "outcomes_interest = outcomes_df['A1/2_EAD'] > np.percentile(outcomes_df['A1/2_EAD'],80)\n",
    "outcomes_interest\n",
    "\n",
    "prim_alg = prim.Prim(experiments, outcomes_interest, threshold=0.7, peel_alpha=0.1)\n",
    "box1 = prim_alg.find_box()\n",
    "box1.inspect_tradeoff()"
   ]
  },
  {
   "cell_type": "code",
   "execution_count": 60,
   "metadata": {},
   "outputs": [
    {
     "name": "stderr",
     "output_type": "stream",
     "text": [
      "[MainProcess/INFO] 40000 points remaining, containing 8000 cases of interest\n",
      "[MainProcess/INFO] mean: 0.329482242190843, mass: 0.058425, coverage: 0.09625, density: 0.329482242190843 restricted_dimensions: 9\n"
     ]
    },
    {
     "data": {
      "application/vnd.vegalite.v3+json": {
       "$schema": "https://vega.github.io/schema/vega-lite/v3.4.0.json",
       "config": {
        "mark": {
         "tooltip": null
        },
        "view": {
         "height": 300,
         "width": 400
        }
       },
       "datasets": {
        "data-2da73b71cb9e64b07f097d3338e3909c": [
         {
          "id": 1,
          "maximum": 349.84375,
          "minimum": 30.15625,
          "name": "A.4_Bmax",
          "qp_lower": -1,
          "qp_upper": 0.1384965508202817,
          "x1": 30.15625,
          "x2": 317.8125
         },
         {
          "id": 2,
          "maximum": 349.84375,
          "minimum": 30.15625,
          "name": "A.2_Bmax",
          "qp_lower": -1,
          "qp_upper": 0.07467970569589079,
          "x1": 30.15625,
          "x2": 317.8125
         },
         {
          "id": 2,
          "maximum": 349.84375,
          "minimum": 30.15625,
          "name": "A.4_Bmax",
          "qp_lower": -1,
          "qp_upper": 0.031029969316202756,
          "x1": 30.15625,
          "x2": 317.8125
         },
         {
          "id": 3,
          "maximum": 132,
          "minimum": 0,
          "name": "A.0_ID flood wave shape",
          "qp_lower": -1,
          "qp_upper": 0.11492168749176457,
          "x1": 0,
          "x2": 118
         },
         {
          "id": 3,
          "maximum": 349.84375,
          "minimum": 30.15625,
          "name": "A.2_Bmax",
          "qp_lower": -1,
          "qp_upper": 0.06986289573463621,
          "x1": 30.15625,
          "x2": 317.8125
         },
         {
          "id": 3,
          "maximum": 349.84375,
          "minimum": 30.15625,
          "name": "A.4_Bmax",
          "qp_lower": -1,
          "qp_upper": 0.009887979441515446,
          "x1": 30.15625,
          "x2": 317.8125
         },
         {
          "id": 4,
          "maximum": 132,
          "minimum": 0,
          "name": "A.0_ID flood wave shape",
          "qp_lower": 0.11851524247097313,
          "qp_upper": 0.0838181103253587,
          "x1": 11,
          "x2": 118
         },
         {
          "id": 4,
          "maximum": 349.84375,
          "minimum": 30.15625,
          "name": "A.2_Bmax",
          "qp_lower": -1,
          "qp_upper": 0.042028012673639634,
          "x1": 30.15625,
          "x2": 317.8125
         },
         {
          "id": 4,
          "maximum": 349.84375,
          "minimum": 30.15625,
          "name": "A.4_Bmax",
          "qp_lower": -1,
          "qp_upper": 0.005510472761749163,
          "x1": 30.15625,
          "x2": 317.8125
         },
         {
          "id": 5,
          "maximum": 132,
          "minimum": 0,
          "name": "A.0_ID flood wave shape",
          "qp_lower": 0.1736281372125238,
          "qp_upper": 0.15190719243562237,
          "x1": 11,
          "x2": 118
         },
         {
          "id": 5,
          "maximum": 349.84375,
          "minimum": 30.15625,
          "name": "A.2_Bmax",
          "qp_lower": -1,
          "qp_upper": 0.003167247212381533,
          "x1": 30.15625,
          "x2": 317.8125
         },
         {
          "id": 5,
          "maximum": 349.84375,
          "minimum": 30.15625,
          "name": "A.4_Bmax",
          "qp_lower": -1,
          "qp_upper": 0.012609521634728187,
          "x1": 30.15625,
          "x2": 317.8125
         },
         {
          "id": 5,
          "maximum": 4.5,
          "minimum": 1.5,
          "name": "discount rate 0",
          "qp_lower": 0.025965067171152576,
          "qp_upper": -1,
          "x1": 2,
          "x2": 4.5
         },
         {
          "id": 6,
          "maximum": 132,
          "minimum": 0,
          "name": "A.0_ID flood wave shape",
          "qp_lower": 0.132561090507709,
          "qp_upper": 0.4132375712553362,
          "x1": 11,
          "x2": 118
         },
         {
          "id": 6,
          "maximum": 349.84375,
          "minimum": 30.15625,
          "name": "A.2_Bmax",
          "qp_lower": -1,
          "qp_upper": 0.007335251956662681,
          "x1": 30.15625,
          "x2": 317.8125
         },
         {
          "id": 6,
          "maximum": 349.84375,
          "minimum": 30.15625,
          "name": "A.3_Bmax",
          "qp_lower": -1,
          "qp_upper": 0.1927843168143749,
          "x1": 30.15625,
          "x2": 316.5625
         },
         {
          "id": 6,
          "maximum": 349.84375,
          "minimum": 30.15625,
          "name": "A.4_Bmax",
          "qp_lower": -1,
          "qp_upper": 0.013489065665355088,
          "x1": 30.15625,
          "x2": 317.8125
         },
         {
          "id": 6,
          "maximum": 4.5,
          "minimum": 1.5,
          "name": "discount rate 0",
          "qp_lower": 0.0105042763450932,
          "qp_upper": -1,
          "x1": 2,
          "x2": 4.5
         },
         {
          "id": 7,
          "maximum": 132,
          "minimum": 0,
          "name": "A.0_ID flood wave shape",
          "qp_lower": 0.033494249659938,
          "qp_upper": 0.41476638160997453,
          "x1": 11,
          "x2": 118
         },
         {
          "id": 7,
          "maximum": 349.84375,
          "minimum": 30.15625,
          "name": "A.2_Bmax",
          "qp_lower": -1,
          "qp_upper": 0.09203853677180902,
          "x1": 30.15625,
          "x2": 317.8125
         },
         {
          "id": 7,
          "maximum": 10,
          "minimum": 1,
          "name": "A.2_Brate",
          "qp_lower": -1,
          "qp_upper": 0.00039561259396586477,
          "x1": 1,
          "x2": 5.75
         },
         {
          "id": 7,
          "maximum": 349.84375,
          "minimum": 30.15625,
          "name": "A.3_Bmax",
          "qp_lower": -1,
          "qp_upper": 0.024534964325506847,
          "x1": 30.15625,
          "x2": 316.5625
         },
         {
          "id": 7,
          "maximum": 349.84375,
          "minimum": 30.15625,
          "name": "A.4_Bmax",
          "qp_lower": -1,
          "qp_upper": 0.029611456564895288,
          "x1": 30.15625,
          "x2": 317.8125
         },
         {
          "id": 7,
          "maximum": 4.5,
          "minimum": 1.5,
          "name": "discount rate 0",
          "qp_lower": 0.007258800483084027,
          "qp_upper": -1,
          "x1": 2,
          "x2": 4.5
         },
         {
          "id": 8,
          "maximum": 132,
          "minimum": 0,
          "name": "A.0_ID flood wave shape",
          "qp_lower": 0.0033736392471146112,
          "qp_upper": 0.29824877169789116,
          "x1": 11,
          "x2": 118
         },
         {
          "id": 8,
          "maximum": 349.84375,
          "minimum": 30.15625,
          "name": "A.1_Bmax",
          "qp_lower": -1,
          "qp_upper": 0.07861114198034447,
          "x1": 30.15625,
          "x2": 318.4375
         },
         {
          "id": 8,
          "maximum": 349.84375,
          "minimum": 30.15625,
          "name": "A.2_Bmax",
          "qp_lower": -1,
          "qp_upper": 0.18666394998824723,
          "x1": 30.15625,
          "x2": 317.8125
         },
         {
          "id": 8,
          "maximum": 10,
          "minimum": 1,
          "name": "A.2_Brate",
          "qp_lower": -1,
          "qp_upper": 1.798635145341345e-05,
          "x1": 1,
          "x2": 5.75
         },
         {
          "id": 8,
          "maximum": 349.84375,
          "minimum": 30.15625,
          "name": "A.3_Bmax",
          "qp_lower": -1,
          "qp_upper": 0.014745741752252508,
          "x1": 30.15625,
          "x2": 316.5625
         },
         {
          "id": 8,
          "maximum": 349.84375,
          "minimum": 30.15625,
          "name": "A.4_Bmax",
          "qp_lower": -1,
          "qp_upper": 0.013828221786461804,
          "x1": 30.15625,
          "x2": 317.8125
         },
         {
          "id": 8,
          "maximum": 4.5,
          "minimum": 1.5,
          "name": "discount rate 0",
          "qp_lower": 0.005446757616794185,
          "qp_upper": -1,
          "x1": 2,
          "x2": 4.5
         },
         {
          "id": 9,
          "maximum": 132,
          "minimum": 0,
          "name": "A.0_ID flood wave shape",
          "qp_lower": 0.009998862575937588,
          "qp_upper": 0.13926610047068616,
          "x1": 11,
          "x2": 118
         },
         {
          "id": 9,
          "maximum": 349.84375,
          "minimum": 30.15625,
          "name": "A.1_Bmax",
          "qp_lower": -1,
          "qp_upper": 0.018779127283075382,
          "x1": 30.15625,
          "x2": 318.4375
         },
         {
          "id": 9,
          "maximum": 349.84375,
          "minimum": 30.15625,
          "name": "A.2_Bmax",
          "qp_lower": -1,
          "qp_upper": 0.010128532861948685,
          "x1": 30.15625,
          "x2": 288.75
         },
         {
          "id": 9,
          "maximum": 10,
          "minimum": 1,
          "name": "A.2_Brate",
          "qp_lower": -1,
          "qp_upper": 6.4009788570749845e-06,
          "x1": 1,
          "x2": 5.75
         },
         {
          "id": 9,
          "maximum": 349.84375,
          "minimum": 30.15625,
          "name": "A.3_Bmax",
          "qp_lower": -1,
          "qp_upper": 0.021052016317551568,
          "x1": 30.15625,
          "x2": 316.5625
         },
         {
          "id": 9,
          "maximum": 349.84375,
          "minimum": 30.15625,
          "name": "A.4_Bmax",
          "qp_lower": -1,
          "qp_upper": 0.007177493608378733,
          "x1": 30.15625,
          "x2": 317.8125
         },
         {
          "id": 9,
          "maximum": 4.5,
          "minimum": 1.5,
          "name": "discount rate 0",
          "qp_lower": 0.00044910183008734514,
          "qp_upper": -1,
          "x1": 2,
          "x2": 4.5
         },
         {
          "id": 10,
          "maximum": 132,
          "minimum": 0,
          "name": "A.0_ID flood wave shape",
          "qp_lower": 0.00787130757518898,
          "qp_upper": 0.12758919236707947,
          "x1": 11,
          "x2": 118
         },
         {
          "id": 10,
          "maximum": 349.84375,
          "minimum": 30.15625,
          "name": "A.1_Bmax",
          "qp_lower": -1,
          "qp_upper": 0.017333611959551524,
          "x1": 30.15625,
          "x2": 318.4375
         },
         {
          "id": 10,
          "maximum": 349.84375,
          "minimum": 30.15625,
          "name": "A.2_Bmax",
          "qp_lower": -1,
          "qp_upper": 0.037748041704828955,
          "x1": 30.15625,
          "x2": 288.75
         },
         {
          "id": 10,
          "maximum": 10,
          "minimum": 1,
          "name": "A.2_Brate",
          "qp_lower": -1,
          "qp_upper": 1.5437735091318173e-06,
          "x1": 1,
          "x2": 5.75
         },
         {
          "id": 10,
          "maximum": 349.84375,
          "minimum": 30.15625,
          "name": "A.3_Bmax",
          "qp_lower": -1,
          "qp_upper": 0.033190983266960676,
          "x1": 30.15625,
          "x2": 316.5625
         },
         {
          "id": 10,
          "maximum": 349.84375,
          "minimum": 30.15625,
          "name": "A.4_Bmax",
          "qp_lower": -1,
          "qp_upper": 0.0007404562235832483,
          "x1": 30.15625,
          "x2": 285
         },
         {
          "id": 10,
          "maximum": 4.5,
          "minimum": 1.5,
          "name": "discount rate 0",
          "qp_lower": 2.3618066120433903e-07,
          "qp_upper": -1,
          "x1": 2,
          "x2": 4.5
         },
         {
          "id": 11,
          "maximum": 132,
          "minimum": 0,
          "name": "A.0_ID flood wave shape",
          "qp_lower": 0.001657844631860167,
          "qp_upper": 0.2918926168077584,
          "x1": 11,
          "x2": 118
         },
         {
          "id": 11,
          "maximum": 349.84375,
          "minimum": 30.15625,
          "name": "A.1_Bmax",
          "qp_lower": -1,
          "qp_upper": 0.039020686619393334,
          "x1": 30.15625,
          "x2": 318.4375
         },
         {
          "id": 11,
          "maximum": 349.84375,
          "minimum": 30.15625,
          "name": "A.2_Bmax",
          "qp_lower": -1,
          "qp_upper": 0.003419598948568923,
          "x1": 30.15625,
          "x2": 261.71875
         },
         {
          "id": 11,
          "maximum": 10,
          "minimum": 1,
          "name": "A.2_Brate",
          "qp_lower": -1,
          "qp_upper": 2.4269272260865134e-07,
          "x1": 1,
          "x2": 5.75
         },
         {
          "id": 11,
          "maximum": 349.84375,
          "minimum": 30.15625,
          "name": "A.3_Bmax",
          "qp_lower": -1,
          "qp_upper": 0.050785270524324924,
          "x1": 30.15625,
          "x2": 316.5625
         },
         {
          "id": 11,
          "maximum": 349.84375,
          "minimum": 30.15625,
          "name": "A.4_Bmax",
          "qp_lower": -1,
          "qp_upper": 2.8926726418848072e-05,
          "x1": 30.15625,
          "x2": 285
         },
         {
          "id": 11,
          "maximum": 4.5,
          "minimum": 1.5,
          "name": "discount rate 0",
          "qp_lower": 3.0949298715707107e-06,
          "qp_upper": -1,
          "x1": 2,
          "x2": 4.5
         },
         {
          "id": 12,
          "maximum": 132,
          "minimum": 0,
          "name": "A.0_ID flood wave shape",
          "qp_lower": 0.000814255132910552,
          "qp_upper": 0.40034215611642193,
          "x1": 11,
          "x2": 118
         },
         {
          "id": 12,
          "maximum": 349.84375,
          "minimum": 30.15625,
          "name": "A.1_Bmax",
          "qp_lower": -1,
          "qp_upper": 0.07966665212485513,
          "x1": 30.15625,
          "x2": 318.4375
         },
         {
          "id": 12,
          "maximum": 349.84375,
          "minimum": 30.15625,
          "name": "A.2_Bmax",
          "qp_lower": -1,
          "qp_upper": 0.0007642922357242137,
          "x1": 30.15625,
          "x2": 261.71875
         },
         {
          "id": 12,
          "maximum": 10,
          "minimum": 1,
          "name": "A.2_Brate",
          "qp_lower": -1,
          "qp_upper": 6.366817036389562e-08,
          "x1": 1,
          "x2": 5.75
         },
         {
          "id": 12,
          "maximum": 349.84375,
          "minimum": 30.15625,
          "name": "A.3_Bmax",
          "qp_lower": -1,
          "qp_upper": 0.008494163298663475,
          "x1": 30.15625,
          "x2": 316.5625
         },
         {
          "id": 12,
          "maximum": 349.84375,
          "minimum": 30.15625,
          "name": "A.4_Bmax",
          "qp_lower": -1,
          "qp_upper": 0.0002437925227564206,
          "x1": 30.15625,
          "x2": 285
         },
         {
          "id": 12,
          "maximum": 10,
          "minimum": 1,
          "name": "A.5_Brate",
          "qp_lower": -1,
          "qp_upper": 0.004978073505088793,
          "x1": 1,
          "x2": 5.75
         },
         {
          "id": 12,
          "maximum": 4.5,
          "minimum": 1.5,
          "name": "discount rate 0",
          "qp_lower": 1.0637874143239494e-05,
          "qp_upper": -1,
          "x1": 2,
          "x2": 4.5
         },
         {
          "id": 13,
          "maximum": 132,
          "minimum": 0,
          "name": "A.0_ID flood wave shape",
          "qp_lower": 0.0010738627320253478,
          "qp_upper": 0.3785947015089245,
          "x1": 11,
          "x2": 118
         },
         {
          "id": 13,
          "maximum": 349.84375,
          "minimum": 30.15625,
          "name": "A.1_Bmax",
          "qp_lower": -1,
          "qp_upper": 0.005134799236176655,
          "x1": 30.15625,
          "x2": 293.125
         },
         {
          "id": 13,
          "maximum": 349.84375,
          "minimum": 30.15625,
          "name": "A.2_Bmax",
          "qp_lower": -1,
          "qp_upper": 1.5357865009417893e-05,
          "x1": 30.15625,
          "x2": 261.71875
         },
         {
          "id": 13,
          "maximum": 10,
          "minimum": 1,
          "name": "A.2_Brate",
          "qp_lower": -1,
          "qp_upper": 1.4588716588992106e-07,
          "x1": 1,
          "x2": 5.75
         },
         {
          "id": 13,
          "maximum": 349.84375,
          "minimum": 30.15625,
          "name": "A.3_Bmax",
          "qp_lower": -1,
          "qp_upper": 0.02799892252021562,
          "x1": 30.15625,
          "x2": 316.5625
         },
         {
          "id": 13,
          "maximum": 349.84375,
          "minimum": 30.15625,
          "name": "A.4_Bmax",
          "qp_lower": -1,
          "qp_upper": 0.00029456871859874213,
          "x1": 30.15625,
          "x2": 285
         },
         {
          "id": 13,
          "maximum": 10,
          "minimum": 1,
          "name": "A.5_Brate",
          "qp_lower": -1,
          "qp_upper": 0.001036501949134832,
          "x1": 1,
          "x2": 5.75
         },
         {
          "id": 13,
          "maximum": 4.5,
          "minimum": 1.5,
          "name": "discount rate 0",
          "qp_lower": 8.084164883477618e-06,
          "qp_upper": -1,
          "x1": 2,
          "x2": 4.5
         },
         {
          "id": 14,
          "maximum": 132,
          "minimum": 0,
          "name": "A.0_ID flood wave shape",
          "qp_lower": 0.004850498367869645,
          "qp_upper": 0.4435558031172705,
          "x1": 11,
          "x2": 118
         },
         {
          "id": 14,
          "maximum": 349.84375,
          "minimum": 30.15625,
          "name": "A.1_Bmax",
          "qp_lower": -1,
          "qp_upper": 0.00033513566635244097,
          "x1": 30.15625,
          "x2": 261.171875
         },
         {
          "id": 14,
          "maximum": 349.84375,
          "minimum": 30.15625,
          "name": "A.2_Bmax",
          "qp_lower": -1,
          "qp_upper": 2.5180629730293528e-05,
          "x1": 30.15625,
          "x2": 261.71875
         },
         {
          "id": 14,
          "maximum": 10,
          "minimum": 1,
          "name": "A.2_Brate",
          "qp_lower": -1,
          "qp_upper": 4.1933091865479606e-08,
          "x1": 1,
          "x2": 5.75
         },
         {
          "id": 14,
          "maximum": 349.84375,
          "minimum": 30.15625,
          "name": "A.3_Bmax",
          "qp_lower": -1,
          "qp_upper": 0.045081724905036875,
          "x1": 30.15625,
          "x2": 316.5625
         },
         {
          "id": 14,
          "maximum": 349.84375,
          "minimum": 30.15625,
          "name": "A.4_Bmax",
          "qp_lower": -1,
          "qp_upper": 9.405457613987743e-06,
          "x1": 30.15625,
          "x2": 285
         },
         {
          "id": 14,
          "maximum": 10,
          "minimum": 1,
          "name": "A.5_Brate",
          "qp_lower": -1,
          "qp_upper": 0.029473133772349055,
          "x1": 1,
          "x2": 5.75
         },
         {
          "id": 14,
          "maximum": 4.5,
          "minimum": 1.5,
          "name": "discount rate 0",
          "qp_lower": 4.3366859914414303e-07,
          "qp_upper": -1,
          "x1": 2,
          "x2": 4.5
         },
         {
          "id": 15,
          "maximum": 132,
          "minimum": 0,
          "name": "A.0_ID flood wave shape",
          "qp_lower": 0.004753431033869496,
          "qp_upper": 0.6046513406492198,
          "x1": 11,
          "x2": 118
         },
         {
          "id": 15,
          "maximum": 349.84375,
          "minimum": 30.15625,
          "name": "A.1_Bmax",
          "qp_lower": -1,
          "qp_upper": 2.9356263469286916e-05,
          "x1": 30.15625,
          "x2": 261.171875
         },
         {
          "id": 15,
          "maximum": 349.84375,
          "minimum": 30.15625,
          "name": "A.2_Bmax",
          "qp_lower": -1,
          "qp_upper": 3.4878705727044836e-07,
          "x1": 30.15625,
          "x2": 238.125
         },
         {
          "id": 15,
          "maximum": 10,
          "minimum": 1,
          "name": "A.2_Brate",
          "qp_lower": -1,
          "qp_upper": 5.8430362389092873e-08,
          "x1": 1,
          "x2": 5.75
         },
         {
          "id": 15,
          "maximum": 349.84375,
          "minimum": 30.15625,
          "name": "A.3_Bmax",
          "qp_lower": -1,
          "qp_upper": 0.018745158734187545,
          "x1": 30.15625,
          "x2": 316.5625
         },
         {
          "id": 15,
          "maximum": 349.84375,
          "minimum": 30.15625,
          "name": "A.4_Bmax",
          "qp_lower": -1,
          "qp_upper": 3.4950549648982076e-06,
          "x1": 30.15625,
          "x2": 285
         },
         {
          "id": 15,
          "maximum": 10,
          "minimum": 1,
          "name": "A.5_Brate",
          "qp_lower": -1,
          "qp_upper": 0.01520585415650066,
          "x1": 1,
          "x2": 5.75
         },
         {
          "id": 15,
          "maximum": 4.5,
          "minimum": 1.5,
          "name": "discount rate 0",
          "qp_lower": 1.2705192247090455e-07,
          "qp_upper": -1,
          "x1": 2,
          "x2": 4.5
         },
         {
          "id": 16,
          "maximum": 132,
          "minimum": 0,
          "name": "A.0_ID flood wave shape",
          "qp_lower": 0.014655909400597638,
          "qp_upper": 0.456707080288379,
          "x1": 11,
          "x2": 118
         },
         {
          "id": 16,
          "maximum": 349.84375,
          "minimum": 30.15625,
          "name": "A.1_Bmax",
          "qp_lower": -1,
          "qp_upper": 2.3849500571982824e-06,
          "x1": 30.15625,
          "x2": 261.171875
         },
         {
          "id": 16,
          "maximum": 10,
          "minimum": 1,
          "name": "A.1_Brate",
          "qp_lower": -1,
          "qp_upper": 0.0021016632519621184,
          "x1": 1,
          "x2": 5.75
         },
         {
          "id": 16,
          "maximum": 349.84375,
          "minimum": 30.15625,
          "name": "A.2_Bmax",
          "qp_lower": -1,
          "qp_upper": 1.591564742512688e-08,
          "x1": 30.15625,
          "x2": 238.125
         },
         {
          "id": 16,
          "maximum": 10,
          "minimum": 1,
          "name": "A.2_Brate",
          "qp_lower": -1,
          "qp_upper": 2.9883124990432977e-06,
          "x1": 1,
          "x2": 5.75
         },
         {
          "id": 16,
          "maximum": 349.84375,
          "minimum": 30.15625,
          "name": "A.3_Bmax",
          "qp_lower": -1,
          "qp_upper": 0.04598083177387363,
          "x1": 30.15625,
          "x2": 316.5625
         },
         {
          "id": 16,
          "maximum": 349.84375,
          "minimum": 30.15625,
          "name": "A.4_Bmax",
          "qp_lower": -1,
          "qp_upper": 5.913904425623187e-07,
          "x1": 30.15625,
          "x2": 285
         },
         {
          "id": 16,
          "maximum": 10,
          "minimum": 1,
          "name": "A.5_Brate",
          "qp_lower": -1,
          "qp_upper": 0.07162095702112403,
          "x1": 1,
          "x2": 5.75
         },
         {
          "id": 16,
          "maximum": 4.5,
          "minimum": 1.5,
          "name": "discount rate 0",
          "qp_lower": 5.267722201287626e-09,
          "qp_upper": -1,
          "x1": 2,
          "x2": 4.5
         },
         {
          "id": 17,
          "maximum": 132,
          "minimum": 0,
          "name": "A.0_ID flood wave shape",
          "qp_lower": 0.02637122637742708,
          "qp_upper": 0.4936143723439455,
          "x1": 11,
          "x2": 118
         },
         {
          "id": 17,
          "maximum": 349.84375,
          "minimum": 30.15625,
          "name": "A.1_Bmax",
          "qp_lower": -1,
          "qp_upper": 2.5019618713966195e-05,
          "x1": 30.15625,
          "x2": 261.171875
         },
         {
          "id": 17,
          "maximum": 10,
          "minimum": 1,
          "name": "A.1_Brate",
          "qp_lower": -1,
          "qp_upper": 0.0007772525401403582,
          "x1": 1,
          "x2": 5.75
         },
         {
          "id": 17,
          "maximum": 349.84375,
          "minimum": 30.15625,
          "name": "A.2_Bmax",
          "qp_lower": -1,
          "qp_upper": 3.9267483766608586e-10,
          "x1": 30.15625,
          "x2": 238.125
         },
         {
          "id": 17,
          "maximum": 10,
          "minimum": 1,
          "name": "A.2_Brate",
          "qp_lower": -1,
          "qp_upper": 5.540819791712441e-05,
          "x1": 1,
          "x2": 5.75
         },
         {
          "id": 17,
          "maximum": 349.84375,
          "minimum": 30.15625,
          "name": "A.3_Bmax",
          "qp_lower": -1,
          "qp_upper": 0.010455288071927275,
          "x1": 30.15625,
          "x2": 289.0625
         },
         {
          "id": 17,
          "maximum": 349.84375,
          "minimum": 30.15625,
          "name": "A.4_Bmax",
          "qp_lower": -1,
          "qp_upper": 4.487035844684527e-07,
          "x1": 30.15625,
          "x2": 285
         },
         {
          "id": 17,
          "maximum": 10,
          "minimum": 1,
          "name": "A.5_Brate",
          "qp_lower": -1,
          "qp_upper": 0.03153801117154533,
          "x1": 1,
          "x2": 5.75
         },
         {
          "id": 17,
          "maximum": 4.5,
          "minimum": 1.5,
          "name": "discount rate 0",
          "qp_lower": 1.5552753886293806e-08,
          "qp_upper": -1,
          "x1": 2,
          "x2": 4.5
         },
         {
          "id": 18,
          "maximum": 132,
          "minimum": 0,
          "name": "A.0_ID flood wave shape",
          "qp_lower": 0.008616024326116328,
          "qp_upper": 0.4738602641415233,
          "x1": 11,
          "x2": 118
         },
         {
          "id": 18,
          "maximum": 349.84375,
          "minimum": 30.15625,
          "name": "A.1_Bmax",
          "qp_lower": -1,
          "qp_upper": 7.397202750380187e-06,
          "x1": 30.15625,
          "x2": 272.8125
         },
         {
          "id": 18,
          "maximum": 10,
          "minimum": 1,
          "name": "A.1_Brate",
          "qp_lower": -1,
          "qp_upper": 0.0007006115470548261,
          "x1": 1,
          "x2": 5.75
         },
         {
          "id": 18,
          "maximum": 349.84375,
          "minimum": 30.15625,
          "name": "A.2_Bmax",
          "qp_lower": -1,
          "qp_upper": 3.0046160464060913e-10,
          "x1": 30.15625,
          "x2": 238.125
         },
         {
          "id": 18,
          "maximum": 10,
          "minimum": 1,
          "name": "A.2_Brate",
          "qp_lower": -1,
          "qp_upper": 2.5620202234700705e-05,
          "x1": 1,
          "x2": 5.75
         },
         {
          "id": 18,
          "maximum": 349.84375,
          "minimum": 30.15625,
          "name": "A.3_Bmax",
          "qp_lower": -1,
          "qp_upper": 0.0033619259456612437,
          "x1": 30.15625,
          "x2": 289.0625
         },
         {
          "id": 18,
          "maximum": 349.84375,
          "minimum": 30.15625,
          "name": "A.4_Bmax",
          "qp_lower": -1,
          "qp_upper": 1.4343523609283589e-06,
          "x1": 30.15625,
          "x2": 285
         },
         {
          "id": 18,
          "maximum": 10,
          "minimum": 1,
          "name": "A.5_Brate",
          "qp_lower": -1,
          "qp_upper": 0.0037173663369294745,
          "x1": 1,
          "x2": 5.75
         },
         {
          "id": 18,
          "maximum": 4.5,
          "minimum": 1.5,
          "name": "discount rate 0",
          "qp_lower": 8.427458901329315e-08,
          "qp_upper": -1,
          "x1": 2,
          "x2": 4.5
         },
         {
          "id": 19,
          "maximum": 132,
          "minimum": 0,
          "name": "A.0_ID flood wave shape",
          "qp_lower": 0.006121062075795079,
          "qp_upper": 0.4612209039631626,
          "x1": 11,
          "x2": 118
         },
         {
          "id": 19,
          "maximum": 349.84375,
          "minimum": 30.15625,
          "name": "A.1_Bmax",
          "qp_lower": -1,
          "qp_upper": 2.464517741234835e-06,
          "x1": 30.15625,
          "x2": 278.4375
         },
         {
          "id": 19,
          "maximum": 10,
          "minimum": 1,
          "name": "A.1_Brate",
          "qp_lower": -1,
          "qp_upper": 0.0003554453967137745,
          "x1": 1,
          "x2": 5.75
         },
         {
          "id": 19,
          "maximum": 349.84375,
          "minimum": 30.15625,
          "name": "A.2_Bmax",
          "qp_lower": -1,
          "qp_upper": 2.2369676735538583e-10,
          "x1": 30.15625,
          "x2": 238.125
         },
         {
          "id": 19,
          "maximum": 10,
          "minimum": 1,
          "name": "A.2_Brate",
          "qp_lower": -1,
          "qp_upper": 3.0988239000445338e-06,
          "x1": 1,
          "x2": 5.75
         },
         {
          "id": 19,
          "maximum": 349.84375,
          "minimum": 30.15625,
          "name": "A.3_Bmax",
          "qp_lower": -1,
          "qp_upper": 0.0017886600869691893,
          "x1": 30.15625,
          "x2": 289.0625
         },
         {
          "id": 19,
          "maximum": 349.84375,
          "minimum": 30.15625,
          "name": "A.4_Bmax",
          "qp_lower": -1,
          "qp_upper": 1.2335972098657001e-06,
          "x1": 30.15625,
          "x2": 285
         },
         {
          "id": 19,
          "maximum": 10,
          "minimum": 1,
          "name": "A.5_Brate",
          "qp_lower": -1,
          "qp_upper": 0.0020531555819304705,
          "x1": 1,
          "x2": 5.75
         },
         {
          "id": 19,
          "maximum": 4.5,
          "minimum": 1.5,
          "name": "discount rate 0",
          "qp_lower": 1.2952901239818013e-08,
          "qp_upper": -1,
          "x1": 2,
          "x2": 4.5
         }
        ],
        "data-bb8d07f6df3d47a6a475317795287b23": [
         {
          "end": 1,
          "start": 0
         }
        ],
        "data-d751713988987e9331980363e24189ce": [],
        "data-f9a04e2d87339ceb354b0016eac57417": [
         {
          "coverage": 1,
          "density": 0.2,
          "id": 0,
          "mass": 1,
          "mean": 0.2,
          "res_dim": 0
         },
         {
          "coverage": 0.909875,
          "density": 0.20230683713173986,
          "id": 1,
          "mass": 0.8995,
          "mean": 0.20230683713173986,
          "res_dim": 1
         },
         {
          "coverage": 0.831125,
          "density": 0.20554593792506493,
          "id": 2,
          "mass": 0.8087,
          "mean": 0.20554593792506493,
          "res_dim": 2
         },
         {
          "coverage": 0.75325,
          "density": 0.2084183585238474,
          "id": 3,
          "mass": 0.722825,
          "mean": 0.2084183585238474,
          "res_dim": 3
         },
         {
          "coverage": 0.69225,
          "density": 0.2114063215758131,
          "id": 4,
          "mass": 0.6549,
          "mean": 0.2114063215758131,
          "res_dim": 3
         },
         {
          "coverage": 0.536375,
          "density": 0.21708995244359,
          "id": 5,
          "mass": 0.49415,
          "mean": 0.21708995244359,
          "res_dim": 4
         },
         {
          "coverage": 0.48875,
          "density": 0.21979875203777616,
          "id": 6,
          "mass": 0.444725,
          "mean": 0.21979875203777616,
          "res_dim": 5
         },
         {
          "coverage": 0.348625,
          "density": 0.23261050875729775,
          "id": 7,
          "mass": 0.29975,
          "mean": 0.23261050875729775,
          "res_dim": 6
         },
         {
          "coverage": 0.321125,
          "density": 0.23840014847809948,
          "id": 8,
          "mass": 0.2694,
          "mean": 0.23840014847809948,
          "res_dim": 7
         },
         {
          "coverage": 0.29625,
          "density": 0.24483471074380164,
          "id": 9,
          "mass": 0.242,
          "mean": 0.24483471074380164,
          "res_dim": 7
         },
         {
          "coverage": 0.270125,
          "density": 0.248791158185586,
          "id": 10,
          "mass": 0.21715,
          "mean": 0.248791158185586,
          "res_dim": 7
         },
         {
          "coverage": 0.2475,
          "density": 0.2537810817739041,
          "id": 11,
          "mass": 0.19505,
          "mean": 0.2537810817739041,
          "res_dim": 7
         },
         {
          "coverage": 0.17875,
          "density": 0.26935392729327556,
          "id": 12,
          "mass": 0.132725,
          "mean": 0.26935392729327556,
          "res_dim": 8
         },
         {
          "coverage": 0.165125,
          "density": 0.2772879932829555,
          "id": 13,
          "mass": 0.1191,
          "mean": 0.2772879932829555,
          "res_dim": 8
         },
         {
          "coverage": 0.152125,
          "density": 0.2838815022160019,
          "id": 14,
          "mass": 0.107175,
          "mean": 0.2838815022160019,
          "res_dim": 8
         },
         {
          "coverage": 0.140375,
          "density": 0.2919916796671867,
          "id": 15,
          "mass": 0.09615,
          "mean": 0.2919916796671867,
          "res_dim": 8
         },
         {
          "coverage": 0.1,
          "density": 0.31834460803820136,
          "id": 16,
          "mass": 0.062825,
          "mean": 0.31834460803820136,
          "res_dim": 9
         },
         {
          "coverage": 0.091,
          "density": 0.3254358515869468,
          "id": 17,
          "mass": 0.055925,
          "mean": 0.3254358515869468,
          "res_dim": 9
         },
         {
          "coverage": 0.09375,
          "density": 0.32765399737876805,
          "id": 18,
          "mass": 0.057225,
          "mean": 0.32765399737876805,
          "res_dim": 9
         },
         {
          "coverage": 0.09625,
          "density": 0.329482242190843,
          "id": 19,
          "mass": 0.058425,
          "mean": 0.329482242190843,
          "res_dim": 9
         }
        ]
       },
       "vconcat": [
        {
         "data": {
          "name": "data-f9a04e2d87339ceb354b0016eac57417"
         },
         "encoding": {
          "color": {
           "field": "res_dim",
           "scale": {
            "range": [
             "#eff9b6",
             "#d0edb3",
             "#97d6b9",
             "#5dc0c0",
             "#31a5c2",
             "#1f80b8",
             "#2354a3",
             "#21318d"
            ]
           },
           "type": "ordinal"
          },
          "opacity": {
           "condition": {
            "selection": "selector005",
            "value": 1
           },
           "value": 0.4
          },
          "tooltip": [
           {
            "field": "id",
            "type": "ordinal"
           },
           {
            "field": "coverage",
            "format": ".2",
            "type": "quantitative"
           },
           {
            "field": "density",
            "format": ".2",
            "type": "quantitative"
           },
           {
            "field": "res_dim",
            "type": "ordinal"
           }
          ],
          "x": {
           "field": "coverage",
           "type": "quantitative"
          },
          "y": {
           "field": "density",
           "type": "quantitative"
          }
         },
         "height": 400,
         "mark": {
          "size": 75,
          "type": "circle"
         },
         "selection": {
          "selector005": {
           "fields": [
            "id"
           ],
           "type": "single"
          }
         },
         "width": 400
        },
        {
         "layer": [
          {
           "data": {
            "name": "data-2da73b71cb9e64b07f097d3338e3909c"
           },
           "encoding": {
            "x": {
             "axis": {
              "grid": false,
              "labels": false,
              "title": "box limits"
             },
             "field": "x_lower",
             "scale": {
              "domain": [
               0,
               1
              ],
              "padding": 0.1
             },
             "type": "quantitative"
            },
            "x2": {
             "field": "x_upper"
            },
            "y": {
             "field": "name",
             "scale": {
              "padding": 1
             },
             "type": "nominal"
            }
           },
           "mark": "rule",
           "transform": [
            {
             "as": "x_lower",
             "calculate": "(datum.x1-datum.minimum)/(datum.maximum-datum.minimum)"
            },
            {
             "as": "x_upper",
             "calculate": "(datum.x2-datum.minimum)/(datum.maximum-datum.minimum)"
            },
            {
             "filter": {
              "selection": "selector005"
             }
            }
           ],
           "width": 400
          },
          {
           "data": {
            "name": "data-2da73b71cb9e64b07f097d3338e3909c"
           },
           "encoding": {
            "text": {
             "field": "text",
             "type": "ordinal"
            },
            "x": {
             "axis": {
              "grid": false,
              "labels": false,
              "title": "box limits"
             },
             "field": "x_lower",
             "scale": {
              "domain": [
               0,
               1
              ],
              "padding": 0.1
             },
             "type": "quantitative"
            },
            "x2": {
             "field": "x_upper"
            },
            "y": {
             "field": "name",
             "scale": {
              "padding": 1
             },
             "type": "nominal"
            }
           },
           "mark": {
            "align": "left",
            "baseline": "top",
            "dy": 5,
            "type": "text"
           },
           "transform": [
            {
             "as": "x_lower",
             "calculate": "(datum.x1-datum.minimum)/(datum.maximum-datum.minimum)"
            },
            {
             "as": "x_upper",
             "calculate": "(datum.x2-datum.minimum)/(datum.maximum-datum.minimum)"
            },
            {
             "filter": {
              "selection": "selector005"
             }
            },
            {
             "as": "text",
             "calculate": "datum.qp_lower>0?format(datum.x1, \".2\")+\" (\"+format(datum.qp_lower, \".1~g\")+\")\" :format(datum.x1, \".2\")"
            }
           ],
           "width": 400
          },
          {
           "data": {
            "name": "data-2da73b71cb9e64b07f097d3338e3909c"
           },
           "encoding": {
            "text": {
             "field": "text",
             "type": "ordinal"
            },
            "x": {
             "field": "x_upper",
             "type": "quantitative"
            },
            "x2": {
             "field": "x_upper"
            },
            "y": {
             "field": "name",
             "scale": {
              "padding": 1
             },
             "type": "nominal"
            }
           },
           "mark": {
            "align": "right",
            "baseline": "top",
            "dy": 5,
            "type": "text"
           },
           "transform": [
            {
             "as": "x_lower",
             "calculate": "(datum.x1-datum.minimum)/(datum.maximum-datum.minimum)"
            },
            {
             "as": "x_upper",
             "calculate": "(datum.x2-datum.minimum)/(datum.maximum-datum.minimum)"
            },
            {
             "filter": {
              "selection": "selector005"
             }
            },
            {
             "as": "text",
             "calculate": "datum.qp_upper>0?format(datum.x2, \".2\")+\" (\"+format(datum.qp_upper, \".1\")+\")\" :format(datum.x2, \".2\")"
            }
           ],
           "width": 400
          },
          {
           "data": {
            "name": "data-bb8d07f6df3d47a6a475317795287b23"
           },
           "encoding": {
            "x": {
             "field": "start",
             "type": "quantitative"
            },
            "x2": {
             "field": "end"
            }
           },
           "mark": {
            "opacity": 0.05,
            "type": "rect"
           }
          },
          {
           "data": {
            "name": "data-d751713988987e9331980363e24189ce"
           },
           "encoding": {
            "x": {
             "field": "x",
             "type": "quantitative"
            },
            "y": {
             "field": "name",
             "type": "nominal"
            }
           },
           "mark": "point",
           "transform": [
            {
             "filter": {
              "selection": "selector005"
             }
            }
           ],
           "width": 400
          },
          {
           "data": {
            "name": "data-d751713988987e9331980363e24189ce"
           },
           "encoding": {
            "text": {
             "field": "item",
             "type": "nominal"
            },
            "x": {
             "field": "x",
             "type": "quantitative"
            },
            "y": {
             "field": "name",
             "type": "nominal"
            }
           },
           "mark": {
            "align": "center",
            "baseline": "top",
            "dy": 5,
            "type": "text"
           },
           "transform": [
            {
             "filter": {
              "selection": "selector005"
             }
            }
           ],
           "width": 400
          }
         ]
        }
       ]
      },
      "image/png": "[encoded data removed]",
      "text/plain": [
       "<VegaLite 3 object>\n",
       "\n",
       "If you see this message, it means the renderer has not been properly enabled\n",
       "for the frontend that you are using. For more information, see\n",
       "https://altair-viz.github.io/user_guide/troubleshooting.html\n"
      ]
     },
     "execution_count": 60,
     "metadata": {},
     "output_type": "execute_result"
    }
   ],
   "source": [
    "experiments_no_pfail = experiments.iloc[:,[0,1,2,4,5,7,8,10,11,13,14,16]]\n",
    "\n",
    "from ema_workbench.analysis import prim\n",
    "outcomes_interest = outcomes_df['END'] > np.percentile(outcomes_df['END'],80)\n",
    "outcomes_interest\n",
    "\n",
    "prim_alg = prim.Prim(experiments_no_pfail, outcomes_interest, threshold=0.3, peel_alpha=0.1)\n",
    "box1 = prim_alg.find_box()\n",
    "box1.inspect_tradeoff()"
   ]
  },
  {
   "cell_type": "code",
   "execution_count": 56,
   "metadata": {},
   "outputs": [
    {
     "data": {
      "text/html": [
       "<div>\n",
       "<style scoped>\n",
       "    .dataframe tbody tr th:only-of-type {\n",
       "        vertical-align: middle;\n",
       "    }\n",
       "\n",
       "    .dataframe tbody tr th {\n",
       "        vertical-align: top;\n",
       "    }\n",
       "\n",
       "    .dataframe thead th {\n",
       "        text-align: right;\n",
       "    }\n",
       "</style>\n",
       "<table border=\"1\" class=\"dataframe\">\n",
       "  <thead>\n",
       "    <tr style=\"text-align: right;\">\n",
       "      <th></th>\n",
       "      <th>A.1_Expected Number of Deaths</th>\n",
       "      <th>A.2 Total Costs</th>\n",
       "      <th>A.2_Expected Number of Deaths</th>\n",
       "      <th>A.3 Total Costs</th>\n",
       "      <th>A.3_Expected Number of Deaths</th>\n",
       "      <th>A.4 Total Costs</th>\n",
       "      <th>A.4_Expected Number of Deaths</th>\n",
       "      <th>A.5 Total Costs</th>\n",
       "      <th>A.5_Expected Number of Deaths</th>\n",
       "    </tr>\n",
       "  </thead>\n",
       "  <tbody>\n",
       "    <tr>\n",
       "      <th>0</th>\n",
       "      <td>0.0</td>\n",
       "      <td>3.443926e+08</td>\n",
       "      <td>0.073227</td>\n",
       "      <td>2.879840e+07</td>\n",
       "      <td>0.0</td>\n",
       "      <td>1.610892e+07</td>\n",
       "      <td>0.0</td>\n",
       "      <td>2.757823e+07</td>\n",
       "      <td>0.0</td>\n",
       "    </tr>\n",
       "    <tr>\n",
       "      <th>1</th>\n",
       "      <td>0.0</td>\n",
       "      <td>3.467889e+08</td>\n",
       "      <td>0.074090</td>\n",
       "      <td>2.879840e+07</td>\n",
       "      <td>0.0</td>\n",
       "      <td>1.610892e+07</td>\n",
       "      <td>0.0</td>\n",
       "      <td>2.757823e+07</td>\n",
       "      <td>0.0</td>\n",
       "    </tr>\n",
       "    <tr>\n",
       "      <th>2</th>\n",
       "      <td>0.0</td>\n",
       "      <td>3.443926e+08</td>\n",
       "      <td>0.073227</td>\n",
       "      <td>2.879840e+07</td>\n",
       "      <td>0.0</td>\n",
       "      <td>1.610892e+07</td>\n",
       "      <td>0.0</td>\n",
       "      <td>2.757823e+07</td>\n",
       "      <td>0.0</td>\n",
       "    </tr>\n",
       "    <tr>\n",
       "      <th>3</th>\n",
       "      <td>0.0</td>\n",
       "      <td>3.443926e+08</td>\n",
       "      <td>0.073227</td>\n",
       "      <td>2.879840e+07</td>\n",
       "      <td>0.0</td>\n",
       "      <td>1.610892e+07</td>\n",
       "      <td>0.0</td>\n",
       "      <td>2.757823e+07</td>\n",
       "      <td>0.0</td>\n",
       "    </tr>\n",
       "    <tr>\n",
       "      <th>4</th>\n",
       "      <td>0.0</td>\n",
       "      <td>3.443926e+08</td>\n",
       "      <td>0.073227</td>\n",
       "      <td>2.879840e+07</td>\n",
       "      <td>0.0</td>\n",
       "      <td>1.610892e+07</td>\n",
       "      <td>0.0</td>\n",
       "      <td>2.757823e+07</td>\n",
       "      <td>0.0</td>\n",
       "    </tr>\n",
       "    <tr>\n",
       "      <th>...</th>\n",
       "      <td>...</td>\n",
       "      <td>...</td>\n",
       "      <td>...</td>\n",
       "      <td>...</td>\n",
       "      <td>...</td>\n",
       "      <td>...</td>\n",
       "      <td>...</td>\n",
       "      <td>...</td>\n",
       "      <td>...</td>\n",
       "    </tr>\n",
       "    <tr>\n",
       "      <th>39995</th>\n",
       "      <td>0.0</td>\n",
       "      <td>6.844891e+07</td>\n",
       "      <td>0.006120</td>\n",
       "      <td>2.879840e+07</td>\n",
       "      <td>0.0</td>\n",
       "      <td>1.610892e+07</td>\n",
       "      <td>0.0</td>\n",
       "      <td>2.757823e+07</td>\n",
       "      <td>0.0</td>\n",
       "    </tr>\n",
       "    <tr>\n",
       "      <th>39996</th>\n",
       "      <td>0.0</td>\n",
       "      <td>6.735275e+07</td>\n",
       "      <td>0.006120</td>\n",
       "      <td>2.879840e+07</td>\n",
       "      <td>0.0</td>\n",
       "      <td>1.610892e+07</td>\n",
       "      <td>0.0</td>\n",
       "      <td>2.757823e+07</td>\n",
       "      <td>0.0</td>\n",
       "    </tr>\n",
       "    <tr>\n",
       "      <th>39997</th>\n",
       "      <td>0.0</td>\n",
       "      <td>6.937144e+07</td>\n",
       "      <td>0.006120</td>\n",
       "      <td>2.879840e+07</td>\n",
       "      <td>0.0</td>\n",
       "      <td>1.610892e+07</td>\n",
       "      <td>0.0</td>\n",
       "      <td>2.757823e+07</td>\n",
       "      <td>0.0</td>\n",
       "    </tr>\n",
       "    <tr>\n",
       "      <th>39998</th>\n",
       "      <td>0.0</td>\n",
       "      <td>6.752638e+07</td>\n",
       "      <td>0.006120</td>\n",
       "      <td>2.879840e+07</td>\n",
       "      <td>0.0</td>\n",
       "      <td>1.610892e+07</td>\n",
       "      <td>0.0</td>\n",
       "      <td>2.757823e+07</td>\n",
       "      <td>0.0</td>\n",
       "    </tr>\n",
       "    <tr>\n",
       "      <th>39999</th>\n",
       "      <td>0.0</td>\n",
       "      <td>6.844891e+07</td>\n",
       "      <td>0.006120</td>\n",
       "      <td>2.879840e+07</td>\n",
       "      <td>0.0</td>\n",
       "      <td>1.610892e+07</td>\n",
       "      <td>0.0</td>\n",
       "      <td>2.757823e+07</td>\n",
       "      <td>0.0</td>\n",
       "    </tr>\n",
       "  </tbody>\n",
       "</table>\n",
       "<p>40000 rows × 9 columns</p>\n",
       "</div>"
      ],
      "text/plain": [
       "       A.1_Expected Number of Deaths  A.2 Total Costs  \\\n",
       "0                                0.0     3.443926e+08   \n",
       "1                                0.0     3.467889e+08   \n",
       "2                                0.0     3.443926e+08   \n",
       "3                                0.0     3.443926e+08   \n",
       "4                                0.0     3.443926e+08   \n",
       "...                              ...              ...   \n",
       "39995                            0.0     6.844891e+07   \n",
       "39996                            0.0     6.735275e+07   \n",
       "39997                            0.0     6.937144e+07   \n",
       "39998                            0.0     6.752638e+07   \n",
       "39999                            0.0     6.844891e+07   \n",
       "\n",
       "       A.2_Expected Number of Deaths  A.3 Total Costs  \\\n",
       "0                           0.073227     2.879840e+07   \n",
       "1                           0.074090     2.879840e+07   \n",
       "2                           0.073227     2.879840e+07   \n",
       "3                           0.073227     2.879840e+07   \n",
       "4                           0.073227     2.879840e+07   \n",
       "...                              ...              ...   \n",
       "39995                       0.006120     2.879840e+07   \n",
       "39996                       0.006120     2.879840e+07   \n",
       "39997                       0.006120     2.879840e+07   \n",
       "39998                       0.006120     2.879840e+07   \n",
       "39999                       0.006120     2.879840e+07   \n",
       "\n",
       "       A.3_Expected Number of Deaths  A.4 Total Costs  \\\n",
       "0                                0.0     1.610892e+07   \n",
       "1                                0.0     1.610892e+07   \n",
       "2                                0.0     1.610892e+07   \n",
       "3                                0.0     1.610892e+07   \n",
       "4                                0.0     1.610892e+07   \n",
       "...                              ...              ...   \n",
       "39995                            0.0     1.610892e+07   \n",
       "39996                            0.0     1.610892e+07   \n",
       "39997                            0.0     1.610892e+07   \n",
       "39998                            0.0     1.610892e+07   \n",
       "39999                            0.0     1.610892e+07   \n",
       "\n",
       "       A.4_Expected Number of Deaths  A.5 Total Costs  \\\n",
       "0                                0.0     2.757823e+07   \n",
       "1                                0.0     2.757823e+07   \n",
       "2                                0.0     2.757823e+07   \n",
       "3                                0.0     2.757823e+07   \n",
       "4                                0.0     2.757823e+07   \n",
       "...                              ...              ...   \n",
       "39995                            0.0     2.757823e+07   \n",
       "39996                            0.0     2.757823e+07   \n",
       "39997                            0.0     2.757823e+07   \n",
       "39998                            0.0     2.757823e+07   \n",
       "39999                            0.0     2.757823e+07   \n",
       "\n",
       "       A.5_Expected Number of Deaths  \n",
       "0                                0.0  \n",
       "1                                0.0  \n",
       "2                                0.0  \n",
       "3                                0.0  \n",
       "4                                0.0  \n",
       "...                              ...  \n",
       "39995                            0.0  \n",
       "39996                            0.0  \n",
       "39997                            0.0  \n",
       "39998                            0.0  \n",
       "39999                            0.0  \n",
       "\n",
       "[40000 rows x 9 columns]"
      ]
     },
     "execution_count": 56,
     "metadata": {},
     "output_type": "execute_result"
    }
   ],
   "source": [
    "outcooutcomes_df.iloc[:,10:]"
   ]
  },
  {
   "cell_type": "code",
   "execution_count": 70,
   "metadata": {},
   "outputs": [
    {
     "data": {
      "image/png": "[encoded data removed]",
      "text/plain": [
       "<Figure size 432x288 with 2 Axes>"
      ]
     },
     "metadata": {
      "needs_background": "light"
     },
     "output_type": "display_data"
    }
   ],
   "source": [
    "from ema_workbench.analysis import feature_scoring\n",
    "\n",
    "x = experiments.iloc[:,[0,1,2,4,5,7,8,10,11,13,14,16,17,18]]\n",
    "y = outcomes_df.iloc[:,10:]\n",
    "\n",
    "fs = feature_scoring.get_feature_scores_all(x, y)\n",
    "sns.heatmap(fs, cmap='viridis', annot=False)\n",
    "plt.savefig('export/images/scoring.png')\n",
    "plt.show()"
   ]
  },
  {
   "cell_type": "code",
   "execution_count": 72,
   "metadata": {},
   "outputs": [
    {
     "ename": "ValueError",
     "evalue": "Cannot index with multidimensional key",
     "output_type": "error",
     "traceback": [
      "\u001b[1;31m---------------------------------------------------------------------------\u001b[0m",
      "\u001b[1;31mValueError\u001b[0m                                Traceback (most recent call last)",
      "\u001b[1;32m<ipython-input-72-088f03f803ba>\u001b[0m in \u001b[0;36m<module>\u001b[1;34m\u001b[0m\n\u001b[0;32m      3\u001b[0m \u001b[0mproblem\u001b[0m \u001b[1;33m=\u001b[0m \u001b[0mget_SALib_problem\u001b[0m\u001b[1;33m(\u001b[0m\u001b[0mdike_model\u001b[0m\u001b[1;33m.\u001b[0m\u001b[0muncertainties\u001b[0m\u001b[1;33m)\u001b[0m\u001b[1;33m\u001b[0m\u001b[1;33m\u001b[0m\u001b[0m\n\u001b[0;32m      4\u001b[0m Si = sobol.analyze(problem, outcomes_df['A.1_Expected Number of Deaths'],\n\u001b[1;32m----> 5\u001b[1;33m                    calc_second_order=True, print_to_console=False)\n\u001b[0m",
      "\u001b[1;32mC:\\Program Files (x86)\\Anaconda\\lib\\site-packages\\SALib\\analyze\\sobol.py\u001b[0m in \u001b[0;36manalyze\u001b[1;34m(problem, Y, calc_second_order, num_resamples, conf_level, print_to_console, parallel, n_processors, seed)\u001b[0m\n\u001b[0;32m    102\u001b[0m         \u001b[1;32mfor\u001b[0m \u001b[0mj\u001b[0m \u001b[1;32min\u001b[0m \u001b[0mrange\u001b[0m\u001b[1;33m(\u001b[0m\u001b[0mD\u001b[0m\u001b[1;33m)\u001b[0m\u001b[1;33m:\u001b[0m\u001b[1;33m\u001b[0m\u001b[1;33m\u001b[0m\u001b[0m\n\u001b[0;32m    103\u001b[0m             \u001b[0mS\u001b[0m\u001b[1;33m[\u001b[0m\u001b[1;34m'S1'\u001b[0m\u001b[1;33m]\u001b[0m\u001b[1;33m[\u001b[0m\u001b[0mj\u001b[0m\u001b[1;33m]\u001b[0m \u001b[1;33m=\u001b[0m \u001b[0mfirst_order\u001b[0m\u001b[1;33m(\u001b[0m\u001b[0mA\u001b[0m\u001b[1;33m,\u001b[0m \u001b[0mAB\u001b[0m\u001b[1;33m[\u001b[0m\u001b[1;33m:\u001b[0m\u001b[1;33m,\u001b[0m \u001b[0mj\u001b[0m\u001b[1;33m]\u001b[0m\u001b[1;33m,\u001b[0m \u001b[0mB\u001b[0m\u001b[1;33m)\u001b[0m\u001b[1;33m\u001b[0m\u001b[1;33m\u001b[0m\u001b[0m\n\u001b[1;32m--> 104\u001b[1;33m             \u001b[0mS\u001b[0m\u001b[1;33m[\u001b[0m\u001b[1;34m'S1_conf'\u001b[0m\u001b[1;33m]\u001b[0m\u001b[1;33m[\u001b[0m\u001b[0mj\u001b[0m\u001b[1;33m]\u001b[0m \u001b[1;33m=\u001b[0m \u001b[0mZ\u001b[0m \u001b[1;33m*\u001b[0m \u001b[0mfirst_order\u001b[0m\u001b[1;33m(\u001b[0m\u001b[0mA\u001b[0m\u001b[1;33m[\u001b[0m\u001b[0mr\u001b[0m\u001b[1;33m]\u001b[0m\u001b[1;33m,\u001b[0m \u001b[0mAB\u001b[0m\u001b[1;33m[\u001b[0m\u001b[0mr\u001b[0m\u001b[1;33m,\u001b[0m \u001b[0mj\u001b[0m\u001b[1;33m]\u001b[0m\u001b[1;33m,\u001b[0m \u001b[0mB\u001b[0m\u001b[1;33m[\u001b[0m\u001b[0mr\u001b[0m\u001b[1;33m]\u001b[0m\u001b[1;33m)\u001b[0m\u001b[1;33m.\u001b[0m\u001b[0mstd\u001b[0m\u001b[1;33m(\u001b[0m\u001b[0mddof\u001b[0m\u001b[1;33m=\u001b[0m\u001b[1;36m1\u001b[0m\u001b[1;33m)\u001b[0m\u001b[1;33m\u001b[0m\u001b[1;33m\u001b[0m\u001b[0m\n\u001b[0m\u001b[0;32m    105\u001b[0m             \u001b[0mS\u001b[0m\u001b[1;33m[\u001b[0m\u001b[1;34m'ST'\u001b[0m\u001b[1;33m]\u001b[0m\u001b[1;33m[\u001b[0m\u001b[0mj\u001b[0m\u001b[1;33m]\u001b[0m \u001b[1;33m=\u001b[0m \u001b[0mtotal_order\u001b[0m\u001b[1;33m(\u001b[0m\u001b[0mA\u001b[0m\u001b[1;33m,\u001b[0m \u001b[0mAB\u001b[0m\u001b[1;33m[\u001b[0m\u001b[1;33m:\u001b[0m\u001b[1;33m,\u001b[0m \u001b[0mj\u001b[0m\u001b[1;33m]\u001b[0m\u001b[1;33m,\u001b[0m \u001b[0mB\u001b[0m\u001b[1;33m)\u001b[0m\u001b[1;33m\u001b[0m\u001b[1;33m\u001b[0m\u001b[0m\n\u001b[0;32m    106\u001b[0m             \u001b[0mS\u001b[0m\u001b[1;33m[\u001b[0m\u001b[1;34m'ST_conf'\u001b[0m\u001b[1;33m]\u001b[0m\u001b[1;33m[\u001b[0m\u001b[0mj\u001b[0m\u001b[1;33m]\u001b[0m \u001b[1;33m=\u001b[0m \u001b[0mZ\u001b[0m \u001b[1;33m*\u001b[0m \u001b[0mtotal_order\u001b[0m\u001b[1;33m(\u001b[0m\u001b[0mA\u001b[0m\u001b[1;33m[\u001b[0m\u001b[0mr\u001b[0m\u001b[1;33m]\u001b[0m\u001b[1;33m,\u001b[0m \u001b[0mAB\u001b[0m\u001b[1;33m[\u001b[0m\u001b[0mr\u001b[0m\u001b[1;33m,\u001b[0m \u001b[0mj\u001b[0m\u001b[1;33m]\u001b[0m\u001b[1;33m,\u001b[0m \u001b[0mB\u001b[0m\u001b[1;33m[\u001b[0m\u001b[0mr\u001b[0m\u001b[1;33m]\u001b[0m\u001b[1;33m)\u001b[0m\u001b[1;33m.\u001b[0m\u001b[0mstd\u001b[0m\u001b[1;33m(\u001b[0m\u001b[0mddof\u001b[0m\u001b[1;33m=\u001b[0m\u001b[1;36m1\u001b[0m\u001b[1;33m)\u001b[0m\u001b[1;33m\u001b[0m\u001b[1;33m\u001b[0m\u001b[0m\n",
      "\u001b[1;32mC:\\Program Files (x86)\\Anaconda\\lib\\site-packages\\pandas\\core\\series.py\u001b[0m in \u001b[0;36m__getitem__\u001b[1;34m(self, key)\u001b[0m\n\u001b[0;32m    908\u001b[0m             \u001b[0mkey\u001b[0m \u001b[1;33m=\u001b[0m \u001b[0mcheck_bool_indexer\u001b[0m\u001b[1;33m(\u001b[0m\u001b[0mself\u001b[0m\u001b[1;33m.\u001b[0m\u001b[0mindex\u001b[0m\u001b[1;33m,\u001b[0m \u001b[0mkey\u001b[0m\u001b[1;33m)\u001b[0m\u001b[1;33m\u001b[0m\u001b[1;33m\u001b[0m\u001b[0m\n\u001b[0;32m    909\u001b[0m \u001b[1;33m\u001b[0m\u001b[0m\n\u001b[1;32m--> 910\u001b[1;33m         \u001b[1;32mreturn\u001b[0m \u001b[0mself\u001b[0m\u001b[1;33m.\u001b[0m\u001b[0m_get_with\u001b[0m\u001b[1;33m(\u001b[0m\u001b[0mkey\u001b[0m\u001b[1;33m)\u001b[0m\u001b[1;33m\u001b[0m\u001b[1;33m\u001b[0m\u001b[0m\n\u001b[0m\u001b[0;32m    911\u001b[0m \u001b[1;33m\u001b[0m\u001b[0m\n\u001b[0;32m    912\u001b[0m     \u001b[1;32mdef\u001b[0m \u001b[0m_get_with\u001b[0m\u001b[1;33m(\u001b[0m\u001b[0mself\u001b[0m\u001b[1;33m,\u001b[0m \u001b[0mkey\u001b[0m\u001b[1;33m)\u001b[0m\u001b[1;33m:\u001b[0m\u001b[1;33m\u001b[0m\u001b[1;33m\u001b[0m\u001b[0m\n",
      "\u001b[1;32mC:\\Program Files (x86)\\Anaconda\\lib\\site-packages\\pandas\\core\\series.py\u001b[0m in \u001b[0;36m_get_with\u001b[1;34m(self, key)\u001b[0m\n\u001b[0;32m    941\u001b[0m         \u001b[1;32mif\u001b[0m \u001b[0mkey_type\u001b[0m \u001b[1;33m==\u001b[0m \u001b[1;34m\"integer\"\u001b[0m\u001b[1;33m:\u001b[0m\u001b[1;33m\u001b[0m\u001b[1;33m\u001b[0m\u001b[0m\n\u001b[0;32m    942\u001b[0m             \u001b[1;32mif\u001b[0m \u001b[0mself\u001b[0m\u001b[1;33m.\u001b[0m\u001b[0mindex\u001b[0m\u001b[1;33m.\u001b[0m\u001b[0mis_integer\u001b[0m\u001b[1;33m(\u001b[0m\u001b[1;33m)\u001b[0m \u001b[1;32mor\u001b[0m \u001b[0mself\u001b[0m\u001b[1;33m.\u001b[0m\u001b[0mindex\u001b[0m\u001b[1;33m.\u001b[0m\u001b[0mis_floating\u001b[0m\u001b[1;33m(\u001b[0m\u001b[1;33m)\u001b[0m\u001b[1;33m:\u001b[0m\u001b[1;33m\u001b[0m\u001b[1;33m\u001b[0m\u001b[0m\n\u001b[1;32m--> 943\u001b[1;33m                 \u001b[1;32mreturn\u001b[0m \u001b[0mself\u001b[0m\u001b[1;33m.\u001b[0m\u001b[0mloc\u001b[0m\u001b[1;33m[\u001b[0m\u001b[0mkey\u001b[0m\u001b[1;33m]\u001b[0m\u001b[1;33m\u001b[0m\u001b[1;33m\u001b[0m\u001b[0m\n\u001b[0m\u001b[0;32m    944\u001b[0m             \u001b[1;32melse\u001b[0m\u001b[1;33m:\u001b[0m\u001b[1;33m\u001b[0m\u001b[1;33m\u001b[0m\u001b[0m\n\u001b[0;32m    945\u001b[0m                 \u001b[1;32mreturn\u001b[0m \u001b[0mself\u001b[0m\u001b[1;33m.\u001b[0m\u001b[0m_get_values\u001b[0m\u001b[1;33m(\u001b[0m\u001b[0mkey\u001b[0m\u001b[1;33m)\u001b[0m\u001b[1;33m\u001b[0m\u001b[1;33m\u001b[0m\u001b[0m\n",
      "\u001b[1;32mC:\\Program Files (x86)\\Anaconda\\lib\\site-packages\\pandas\\core\\indexing.py\u001b[0m in \u001b[0;36m__getitem__\u001b[1;34m(self, key)\u001b[0m\n\u001b[0;32m   1765\u001b[0m \u001b[1;33m\u001b[0m\u001b[0m\n\u001b[0;32m   1766\u001b[0m             \u001b[0mmaybe_callable\u001b[0m \u001b[1;33m=\u001b[0m \u001b[0mcom\u001b[0m\u001b[1;33m.\u001b[0m\u001b[0mapply_if_callable\u001b[0m\u001b[1;33m(\u001b[0m\u001b[0mkey\u001b[0m\u001b[1;33m,\u001b[0m \u001b[0mself\u001b[0m\u001b[1;33m.\u001b[0m\u001b[0mobj\u001b[0m\u001b[1;33m)\u001b[0m\u001b[1;33m\u001b[0m\u001b[1;33m\u001b[0m\u001b[0m\n\u001b[1;32m-> 1767\u001b[1;33m             \u001b[1;32mreturn\u001b[0m \u001b[0mself\u001b[0m\u001b[1;33m.\u001b[0m\u001b[0m_getitem_axis\u001b[0m\u001b[1;33m(\u001b[0m\u001b[0mmaybe_callable\u001b[0m\u001b[1;33m,\u001b[0m \u001b[0maxis\u001b[0m\u001b[1;33m=\u001b[0m\u001b[0maxis\u001b[0m\u001b[1;33m)\u001b[0m\u001b[1;33m\u001b[0m\u001b[1;33m\u001b[0m\u001b[0m\n\u001b[0m\u001b[0;32m   1768\u001b[0m \u001b[1;33m\u001b[0m\u001b[0m\n\u001b[0;32m   1769\u001b[0m     \u001b[1;32mdef\u001b[0m \u001b[0m_is_scalar_access\u001b[0m\u001b[1;33m(\u001b[0m\u001b[0mself\u001b[0m\u001b[1;33m,\u001b[0m \u001b[0mkey\u001b[0m\u001b[1;33m:\u001b[0m \u001b[0mTuple\u001b[0m\u001b[1;33m)\u001b[0m\u001b[1;33m:\u001b[0m\u001b[1;33m\u001b[0m\u001b[1;33m\u001b[0m\u001b[0m\n",
      "\u001b[1;32mC:\\Program Files (x86)\\Anaconda\\lib\\site-packages\\pandas\\core\\indexing.py\u001b[0m in \u001b[0;36m_getitem_axis\u001b[1;34m(self, key, axis)\u001b[0m\n\u001b[0;32m   1949\u001b[0m \u001b[1;33m\u001b[0m\u001b[0m\n\u001b[0;32m   1950\u001b[0m                 \u001b[1;32mif\u001b[0m \u001b[0mhasattr\u001b[0m\u001b[1;33m(\u001b[0m\u001b[0mkey\u001b[0m\u001b[1;33m,\u001b[0m \u001b[1;34m\"ndim\"\u001b[0m\u001b[1;33m)\u001b[0m \u001b[1;32mand\u001b[0m \u001b[0mkey\u001b[0m\u001b[1;33m.\u001b[0m\u001b[0mndim\u001b[0m \u001b[1;33m>\u001b[0m \u001b[1;36m1\u001b[0m\u001b[1;33m:\u001b[0m\u001b[1;33m\u001b[0m\u001b[1;33m\u001b[0m\u001b[0m\n\u001b[1;32m-> 1951\u001b[1;33m                     \u001b[1;32mraise\u001b[0m \u001b[0mValueError\u001b[0m\u001b[1;33m(\u001b[0m\u001b[1;34m\"Cannot index with multidimensional key\"\u001b[0m\u001b[1;33m)\u001b[0m\u001b[1;33m\u001b[0m\u001b[1;33m\u001b[0m\u001b[0m\n\u001b[0m\u001b[0;32m   1952\u001b[0m \u001b[1;33m\u001b[0m\u001b[0m\n\u001b[0;32m   1953\u001b[0m                 \u001b[1;32mreturn\u001b[0m \u001b[0mself\u001b[0m\u001b[1;33m.\u001b[0m\u001b[0m_getitem_iterable\u001b[0m\u001b[1;33m(\u001b[0m\u001b[0mkey\u001b[0m\u001b[1;33m,\u001b[0m \u001b[0maxis\u001b[0m\u001b[1;33m=\u001b[0m\u001b[0maxis\u001b[0m\u001b[1;33m)\u001b[0m\u001b[1;33m\u001b[0m\u001b[1;33m\u001b[0m\u001b[0m\n",
      "\u001b[1;31mValueError\u001b[0m: Cannot index with multidimensional key"
     ]
    }
   ],
   "source": [
    "from ema_workbench.em_framework.salib_samplers import get_SALib_problem\n",
    "\n",
    "problem = get_SALib_problem(dike_model.uncertainties)\n",
    "Si = sobol.analyze(problem, outcomes_df['A.1_Expected Number of Deaths'],\n",
    "                   calc_second_order=True, print_to_console=False)"
   ]
  },
  {
   "cell_type": "code",
   "execution_count": 68,
   "metadata": {},
   "outputs": [
    {
     "data": {
      "text/plain": [
       "40000"
      ]
     },
     "execution_count": 68,
     "metadata": {},
     "output_type": "execute_result"
    }
   ],
   "source": [
    "len(outcomes_df['A.1_Expected Number of Deaths'])"
   ]
  },
  {
   "cell_type": "code",
   "execution_count": 71,
   "metadata": {},
   "outputs": [
    {
     "data": {
      "text/html": [
       "<div>\n",
       "<style scoped>\n",
       "    .dataframe tbody tr th:only-of-type {\n",
       "        vertical-align: middle;\n",
       "    }\n",
       "\n",
       "    .dataframe tbody tr th {\n",
       "        vertical-align: top;\n",
       "    }\n",
       "\n",
       "    .dataframe thead th {\n",
       "        text-align: right;\n",
       "    }\n",
       "</style>\n",
       "<table border=\"1\" class=\"dataframe\">\n",
       "  <thead>\n",
       "    <tr style=\"text-align: right;\">\n",
       "      <th></th>\n",
       "      <th>A.0_ID flood wave shape</th>\n",
       "      <th>A.1_Bmax</th>\n",
       "      <th>A.1_Brate</th>\n",
       "      <th>A.1_pfail</th>\n",
       "      <th>A.2_Bmax</th>\n",
       "      <th>A.2_Brate</th>\n",
       "      <th>A.2_pfail</th>\n",
       "      <th>A.3_Bmax</th>\n",
       "      <th>A.3_Brate</th>\n",
       "      <th>A.3_pfail</th>\n",
       "      <th>...</th>\n",
       "      <th>A.3_DikeIncrease 1</th>\n",
       "      <th>A.3_DikeIncrease 2</th>\n",
       "      <th>A.4_DikeIncrease 0</th>\n",
       "      <th>A.4_DikeIncrease 1</th>\n",
       "      <th>A.4_DikeIncrease 2</th>\n",
       "      <th>A.5_DikeIncrease 0</th>\n",
       "      <th>A.5_DikeIncrease 1</th>\n",
       "      <th>A.5_DikeIncrease 2</th>\n",
       "      <th>policy</th>\n",
       "      <th>model</th>\n",
       "    </tr>\n",
       "  </thead>\n",
       "  <tbody>\n",
       "    <tr>\n",
       "      <th>0</th>\n",
       "      <td>29</td>\n",
       "      <td>60.93750</td>\n",
       "      <td>1.5</td>\n",
       "      <td>0.676758</td>\n",
       "      <td>119.68750</td>\n",
       "      <td>10.0</td>\n",
       "      <td>0.045898</td>\n",
       "      <td>317.81250</td>\n",
       "      <td>1.5</td>\n",
       "      <td>0.069336</td>\n",
       "      <td>...</td>\n",
       "      <td>0</td>\n",
       "      <td>0</td>\n",
       "      <td>8</td>\n",
       "      <td>0</td>\n",
       "      <td>0</td>\n",
       "      <td>2</td>\n",
       "      <td>0</td>\n",
       "      <td>0</td>\n",
       "      <td>final</td>\n",
       "      <td>dikesnet</td>\n",
       "    </tr>\n",
       "    <tr>\n",
       "      <th>1</th>\n",
       "      <td>96</td>\n",
       "      <td>60.93750</td>\n",
       "      <td>1.5</td>\n",
       "      <td>0.676758</td>\n",
       "      <td>119.68750</td>\n",
       "      <td>10.0</td>\n",
       "      <td>0.045898</td>\n",
       "      <td>317.81250</td>\n",
       "      <td>1.5</td>\n",
       "      <td>0.069336</td>\n",
       "      <td>...</td>\n",
       "      <td>0</td>\n",
       "      <td>0</td>\n",
       "      <td>8</td>\n",
       "      <td>0</td>\n",
       "      <td>0</td>\n",
       "      <td>2</td>\n",
       "      <td>0</td>\n",
       "      <td>0</td>\n",
       "      <td>final</td>\n",
       "      <td>dikesnet</td>\n",
       "    </tr>\n",
       "    <tr>\n",
       "      <th>2</th>\n",
       "      <td>29</td>\n",
       "      <td>197.18750</td>\n",
       "      <td>1.5</td>\n",
       "      <td>0.676758</td>\n",
       "      <td>119.68750</td>\n",
       "      <td>10.0</td>\n",
       "      <td>0.045898</td>\n",
       "      <td>317.81250</td>\n",
       "      <td>1.5</td>\n",
       "      <td>0.069336</td>\n",
       "      <td>...</td>\n",
       "      <td>0</td>\n",
       "      <td>0</td>\n",
       "      <td>8</td>\n",
       "      <td>0</td>\n",
       "      <td>0</td>\n",
       "      <td>2</td>\n",
       "      <td>0</td>\n",
       "      <td>0</td>\n",
       "      <td>final</td>\n",
       "      <td>dikesnet</td>\n",
       "    </tr>\n",
       "    <tr>\n",
       "      <th>3</th>\n",
       "      <td>29</td>\n",
       "      <td>60.93750</td>\n",
       "      <td>1.5</td>\n",
       "      <td>0.676758</td>\n",
       "      <td>119.68750</td>\n",
       "      <td>10.0</td>\n",
       "      <td>0.045898</td>\n",
       "      <td>317.81250</td>\n",
       "      <td>1.5</td>\n",
       "      <td>0.069336</td>\n",
       "      <td>...</td>\n",
       "      <td>0</td>\n",
       "      <td>0</td>\n",
       "      <td>8</td>\n",
       "      <td>0</td>\n",
       "      <td>0</td>\n",
       "      <td>2</td>\n",
       "      <td>0</td>\n",
       "      <td>0</td>\n",
       "      <td>final</td>\n",
       "      <td>dikesnet</td>\n",
       "    </tr>\n",
       "    <tr>\n",
       "      <th>4</th>\n",
       "      <td>29</td>\n",
       "      <td>60.93750</td>\n",
       "      <td>1.5</td>\n",
       "      <td>0.950195</td>\n",
       "      <td>119.68750</td>\n",
       "      <td>10.0</td>\n",
       "      <td>0.045898</td>\n",
       "      <td>317.81250</td>\n",
       "      <td>1.5</td>\n",
       "      <td>0.069336</td>\n",
       "      <td>...</td>\n",
       "      <td>0</td>\n",
       "      <td>0</td>\n",
       "      <td>8</td>\n",
       "      <td>0</td>\n",
       "      <td>0</td>\n",
       "      <td>2</td>\n",
       "      <td>0</td>\n",
       "      <td>0</td>\n",
       "      <td>final</td>\n",
       "      <td>dikesnet</td>\n",
       "    </tr>\n",
       "    <tr>\n",
       "      <th>...</th>\n",
       "      <td>...</td>\n",
       "      <td>...</td>\n",
       "      <td>...</td>\n",
       "      <td>...</td>\n",
       "      <td>...</td>\n",
       "      <td>...</td>\n",
       "      <td>...</td>\n",
       "      <td>...</td>\n",
       "      <td>...</td>\n",
       "      <td>...</td>\n",
       "      <td>...</td>\n",
       "      <td>...</td>\n",
       "      <td>...</td>\n",
       "      <td>...</td>\n",
       "      <td>...</td>\n",
       "      <td>...</td>\n",
       "      <td>...</td>\n",
       "      <td>...</td>\n",
       "      <td>...</td>\n",
       "      <td>...</td>\n",
       "      <td>...</td>\n",
       "    </tr>\n",
       "    <tr>\n",
       "      <th>39995</th>\n",
       "      <td>69</td>\n",
       "      <td>259.53125</td>\n",
       "      <td>1.0</td>\n",
       "      <td>0.922363</td>\n",
       "      <td>328.28125</td>\n",
       "      <td>1.5</td>\n",
       "      <td>0.272949</td>\n",
       "      <td>116.09375</td>\n",
       "      <td>1.5</td>\n",
       "      <td>0.608887</td>\n",
       "      <td>...</td>\n",
       "      <td>0</td>\n",
       "      <td>0</td>\n",
       "      <td>8</td>\n",
       "      <td>0</td>\n",
       "      <td>0</td>\n",
       "      <td>2</td>\n",
       "      <td>0</td>\n",
       "      <td>0</td>\n",
       "      <td>final</td>\n",
       "      <td>dikesnet</td>\n",
       "    </tr>\n",
       "    <tr>\n",
       "      <th>39996</th>\n",
       "      <td>69</td>\n",
       "      <td>259.53125</td>\n",
       "      <td>1.0</td>\n",
       "      <td>0.922363</td>\n",
       "      <td>328.28125</td>\n",
       "      <td>1.5</td>\n",
       "      <td>0.272949</td>\n",
       "      <td>116.09375</td>\n",
       "      <td>1.5</td>\n",
       "      <td>0.608887</td>\n",
       "      <td>...</td>\n",
       "      <td>0</td>\n",
       "      <td>0</td>\n",
       "      <td>8</td>\n",
       "      <td>0</td>\n",
       "      <td>0</td>\n",
       "      <td>2</td>\n",
       "      <td>0</td>\n",
       "      <td>0</td>\n",
       "      <td>final</td>\n",
       "      <td>dikesnet</td>\n",
       "    </tr>\n",
       "    <tr>\n",
       "      <th>39997</th>\n",
       "      <td>69</td>\n",
       "      <td>259.53125</td>\n",
       "      <td>1.0</td>\n",
       "      <td>0.922363</td>\n",
       "      <td>328.28125</td>\n",
       "      <td>1.5</td>\n",
       "      <td>0.272949</td>\n",
       "      <td>116.09375</td>\n",
       "      <td>1.5</td>\n",
       "      <td>0.608887</td>\n",
       "      <td>...</td>\n",
       "      <td>0</td>\n",
       "      <td>0</td>\n",
       "      <td>8</td>\n",
       "      <td>0</td>\n",
       "      <td>0</td>\n",
       "      <td>2</td>\n",
       "      <td>0</td>\n",
       "      <td>0</td>\n",
       "      <td>final</td>\n",
       "      <td>dikesnet</td>\n",
       "    </tr>\n",
       "    <tr>\n",
       "      <th>39998</th>\n",
       "      <td>69</td>\n",
       "      <td>259.53125</td>\n",
       "      <td>1.0</td>\n",
       "      <td>0.922363</td>\n",
       "      <td>328.28125</td>\n",
       "      <td>1.5</td>\n",
       "      <td>0.272949</td>\n",
       "      <td>116.09375</td>\n",
       "      <td>1.5</td>\n",
       "      <td>0.608887</td>\n",
       "      <td>...</td>\n",
       "      <td>0</td>\n",
       "      <td>0</td>\n",
       "      <td>8</td>\n",
       "      <td>0</td>\n",
       "      <td>0</td>\n",
       "      <td>2</td>\n",
       "      <td>0</td>\n",
       "      <td>0</td>\n",
       "      <td>final</td>\n",
       "      <td>dikesnet</td>\n",
       "    </tr>\n",
       "    <tr>\n",
       "      <th>39999</th>\n",
       "      <td>69</td>\n",
       "      <td>259.53125</td>\n",
       "      <td>1.0</td>\n",
       "      <td>0.922363</td>\n",
       "      <td>328.28125</td>\n",
       "      <td>1.5</td>\n",
       "      <td>0.272949</td>\n",
       "      <td>116.09375</td>\n",
       "      <td>1.5</td>\n",
       "      <td>0.608887</td>\n",
       "      <td>...</td>\n",
       "      <td>0</td>\n",
       "      <td>0</td>\n",
       "      <td>8</td>\n",
       "      <td>0</td>\n",
       "      <td>0</td>\n",
       "      <td>2</td>\n",
       "      <td>0</td>\n",
       "      <td>0</td>\n",
       "      <td>final</td>\n",
       "      <td>dikesnet</td>\n",
       "    </tr>\n",
       "  </tbody>\n",
       "</table>\n",
       "<p>40000 rows × 52 columns</p>\n",
       "</div>"
      ],
      "text/plain": [
       "       A.0_ID flood wave shape   A.1_Bmax  A.1_Brate  A.1_pfail   A.2_Bmax  \\\n",
       "0                           29   60.93750        1.5   0.676758  119.68750   \n",
       "1                           96   60.93750        1.5   0.676758  119.68750   \n",
       "2                           29  197.18750        1.5   0.676758  119.68750   \n",
       "3                           29   60.93750        1.5   0.676758  119.68750   \n",
       "4                           29   60.93750        1.5   0.950195  119.68750   \n",
       "...                        ...        ...        ...        ...        ...   \n",
       "39995                       69  259.53125        1.0   0.922363  328.28125   \n",
       "39996                       69  259.53125        1.0   0.922363  328.28125   \n",
       "39997                       69  259.53125        1.0   0.922363  328.28125   \n",
       "39998                       69  259.53125        1.0   0.922363  328.28125   \n",
       "39999                       69  259.53125        1.0   0.922363  328.28125   \n",
       "\n",
       "       A.2_Brate  A.2_pfail   A.3_Bmax  A.3_Brate  A.3_pfail  ...  \\\n",
       "0           10.0   0.045898  317.81250        1.5   0.069336  ...   \n",
       "1           10.0   0.045898  317.81250        1.5   0.069336  ...   \n",
       "2           10.0   0.045898  317.81250        1.5   0.069336  ...   \n",
       "3           10.0   0.045898  317.81250        1.5   0.069336  ...   \n",
       "4           10.0   0.045898  317.81250        1.5   0.069336  ...   \n",
       "...          ...        ...        ...        ...        ...  ...   \n",
       "39995        1.5   0.272949  116.09375        1.5   0.608887  ...   \n",
       "39996        1.5   0.272949  116.09375        1.5   0.608887  ...   \n",
       "39997        1.5   0.272949  116.09375        1.5   0.608887  ...   \n",
       "39998        1.5   0.272949  116.09375        1.5   0.608887  ...   \n",
       "39999        1.5   0.272949  116.09375        1.5   0.608887  ...   \n",
       "\n",
       "       A.3_DikeIncrease 1  A.3_DikeIncrease 2  A.4_DikeIncrease 0  \\\n",
       "0                       0                   0                   8   \n",
       "1                       0                   0                   8   \n",
       "2                       0                   0                   8   \n",
       "3                       0                   0                   8   \n",
       "4                       0                   0                   8   \n",
       "...                   ...                 ...                 ...   \n",
       "39995                   0                   0                   8   \n",
       "39996                   0                   0                   8   \n",
       "39997                   0                   0                   8   \n",
       "39998                   0                   0                   8   \n",
       "39999                   0                   0                   8   \n",
       "\n",
       "       A.4_DikeIncrease 1  A.4_DikeIncrease 2  A.5_DikeIncrease 0  \\\n",
       "0                       0                   0                   2   \n",
       "1                       0                   0                   2   \n",
       "2                       0                   0                   2   \n",
       "3                       0                   0                   2   \n",
       "4                       0                   0                   2   \n",
       "...                   ...                 ...                 ...   \n",
       "39995                   0                   0                   2   \n",
       "39996                   0                   0                   2   \n",
       "39997                   0                   0                   2   \n",
       "39998                   0                   0                   2   \n",
       "39999                   0                   0                   2   \n",
       "\n",
       "       A.5_DikeIncrease 1  A.5_DikeIncrease 2  policy     model  \n",
       "0                       0                   0   final  dikesnet  \n",
       "1                       0                   0   final  dikesnet  \n",
       "2                       0                   0   final  dikesnet  \n",
       "3                       0                   0   final  dikesnet  \n",
       "4                       0                   0   final  dikesnet  \n",
       "...                   ...                 ...     ...       ...  \n",
       "39995                   0                   0   final  dikesnet  \n",
       "39996                   0                   0   final  dikesnet  \n",
       "39997                   0                   0   final  dikesnet  \n",
       "39998                   0                   0   final  dikesnet  \n",
       "39999                   0                   0   final  dikesnet  \n",
       "\n",
       "[40000 rows x 52 columns]"
      ]
     },
     "execution_count": 71,
     "metadata": {},
     "output_type": "execute_result"
    }
   ],
   "source": [
    "experiments"
   ]
  },
  {
   "cell_type": "code",
   "execution_count": null,
   "metadata": {},
   "outputs": [],
   "source": []
  }
 ],
 "metadata": {
  "kernelspec": {
   "display_name": "Python 3",
   "language": "python",
   "name": "python3"
  },
  "language_info": {
   "codemirror_mode": {
    "name": "ipython",
    "version": 3
   },
   "file_extension": ".py",
   "mimetype": "text/x-python",
   "name": "python",
   "nbconvert_exporter": "python",
   "pygments_lexer": "ipython3",
   "version": "3.7.6"
  }
 },
 "nbformat": 4,
 "nbformat_minor": 4
}
